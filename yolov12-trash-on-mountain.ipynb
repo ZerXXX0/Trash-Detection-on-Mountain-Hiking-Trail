{
 "cells": [
  {
   "cell_type": "code",
   "execution_count": 1,
   "id": "3371ab13",
   "metadata": {
    "execution": {
     "iopub.execute_input": "2025-07-25T14:52:13.699045Z",
     "iopub.status.busy": "2025-07-25T14:52:13.698815Z",
     "iopub.status.idle": "2025-07-25T14:53:55.446585Z",
     "shell.execute_reply": "2025-07-25T14:53:55.445631Z"
    },
    "papermill": {
     "duration": 101.753249,
     "end_time": "2025-07-25T14:53:55.449261",
     "exception": false,
     "start_time": "2025-07-25T14:52:13.696012",
     "status": "completed"
    },
    "tags": []
   },
   "outputs": [
    {
     "name": "stdout",
     "output_type": "stream",
     "text": [
      "Collecting roboflow\r\n",
      "  Downloading roboflow-1.2.2-py3-none-any.whl.metadata (9.7 kB)\r\n",
      "Requirement already satisfied: certifi in /usr/local/lib/python3.11/dist-packages (from roboflow) (2025.6.15)\r\n",
      "Collecting idna==3.7 (from roboflow)\r\n",
      "  Downloading idna-3.7-py3-none-any.whl.metadata (9.9 kB)\r\n",
      "Requirement already satisfied: cycler in /usr/local/lib/python3.11/dist-packages (from roboflow) (0.12.1)\r\n",
      "Requirement already satisfied: kiwisolver>=1.3.1 in /usr/local/lib/python3.11/dist-packages (from roboflow) (1.4.8)\r\n",
      "Requirement already satisfied: matplotlib in /usr/local/lib/python3.11/dist-packages (from roboflow) (3.7.2)\r\n",
      "Requirement already satisfied: numpy>=1.18.5 in /usr/local/lib/python3.11/dist-packages (from roboflow) (1.26.4)\r\n",
      "Collecting opencv-python-headless==4.10.0.84 (from roboflow)\r\n",
      "  Downloading opencv_python_headless-4.10.0.84-cp37-abi3-manylinux_2_17_x86_64.manylinux2014_x86_64.whl.metadata (20 kB)\r\n",
      "Requirement already satisfied: Pillow>=7.1.2 in /usr/local/lib/python3.11/dist-packages (from roboflow) (11.2.1)\r\n",
      "Collecting pillow-heif<2 (from roboflow)\r\n",
      "  Downloading pillow_heif-1.0.0-cp311-cp311-manylinux_2_17_x86_64.manylinux2014_x86_64.whl.metadata (9.6 kB)\r\n",
      "Collecting pillow-avif-plugin<2 (from roboflow)\r\n",
      "  Downloading pillow_avif_plugin-1.5.2-cp311-cp311-manylinux_2_28_x86_64.whl.metadata (2.1 kB)\r\n",
      "Requirement already satisfied: python-dateutil in /usr/local/lib/python3.11/dist-packages (from roboflow) (2.9.0.post0)\r\n",
      "Collecting python-dotenv (from roboflow)\r\n",
      "  Downloading python_dotenv-1.1.1-py3-none-any.whl.metadata (24 kB)\r\n",
      "Requirement already satisfied: requests in /usr/local/lib/python3.11/dist-packages (from roboflow) (2.32.4)\r\n",
      "Requirement already satisfied: six in /usr/local/lib/python3.11/dist-packages (from roboflow) (1.17.0)\r\n",
      "Requirement already satisfied: urllib3>=1.26.6 in /usr/local/lib/python3.11/dist-packages (from roboflow) (2.5.0)\r\n",
      "Requirement already satisfied: tqdm>=4.41.0 in /usr/local/lib/python3.11/dist-packages (from roboflow) (4.67.1)\r\n",
      "Requirement already satisfied: PyYAML>=5.3.1 in /usr/local/lib/python3.11/dist-packages (from roboflow) (6.0.2)\r\n",
      "Requirement already satisfied: requests-toolbelt in /usr/local/lib/python3.11/dist-packages (from roboflow) (1.0.0)\r\n",
      "Collecting filetype (from roboflow)\r\n",
      "  Downloading filetype-1.2.0-py2.py3-none-any.whl.metadata (6.5 kB)\r\n",
      "Requirement already satisfied: mkl_fft in /usr/local/lib/python3.11/dist-packages (from numpy>=1.18.5->roboflow) (1.3.8)\r\n",
      "Requirement already satisfied: mkl_random in /usr/local/lib/python3.11/dist-packages (from numpy>=1.18.5->roboflow) (1.2.4)\r\n",
      "Requirement already satisfied: mkl_umath in /usr/local/lib/python3.11/dist-packages (from numpy>=1.18.5->roboflow) (0.1.1)\r\n",
      "Requirement already satisfied: mkl in /usr/local/lib/python3.11/dist-packages (from numpy>=1.18.5->roboflow) (2025.2.0)\r\n",
      "Requirement already satisfied: tbb4py in /usr/local/lib/python3.11/dist-packages (from numpy>=1.18.5->roboflow) (2022.2.0)\r\n",
      "Requirement already satisfied: mkl-service in /usr/local/lib/python3.11/dist-packages (from numpy>=1.18.5->roboflow) (2.4.1)\r\n",
      "Requirement already satisfied: contourpy>=1.0.1 in /usr/local/lib/python3.11/dist-packages (from matplotlib->roboflow) (1.3.2)\r\n",
      "Requirement already satisfied: fonttools>=4.22.0 in /usr/local/lib/python3.11/dist-packages (from matplotlib->roboflow) (4.58.4)\r\n",
      "Requirement already satisfied: packaging>=20.0 in /usr/local/lib/python3.11/dist-packages (from matplotlib->roboflow) (25.0)\r\n",
      "Requirement already satisfied: pyparsing<3.1,>=2.3.1 in /usr/local/lib/python3.11/dist-packages (from matplotlib->roboflow) (3.0.9)\r\n",
      "Requirement already satisfied: charset_normalizer<4,>=2 in /usr/local/lib/python3.11/dist-packages (from requests->roboflow) (3.4.2)\r\n",
      "Requirement already satisfied: intel-openmp<2026,>=2024 in /usr/local/lib/python3.11/dist-packages (from mkl->numpy>=1.18.5->roboflow) (2024.2.0)\r\n",
      "Requirement already satisfied: tbb==2022.* in /usr/local/lib/python3.11/dist-packages (from mkl->numpy>=1.18.5->roboflow) (2022.2.0)\r\n",
      "Requirement already satisfied: tcmlib==1.* in /usr/local/lib/python3.11/dist-packages (from tbb==2022.*->mkl->numpy>=1.18.5->roboflow) (1.4.0)\r\n",
      "Requirement already satisfied: intel-cmplr-lib-rt in /usr/local/lib/python3.11/dist-packages (from mkl_umath->numpy>=1.18.5->roboflow) (2024.2.0)\r\n",
      "Requirement already satisfied: intel-cmplr-lib-ur==2024.2.0 in /usr/local/lib/python3.11/dist-packages (from intel-openmp<2026,>=2024->mkl->numpy>=1.18.5->roboflow) (2024.2.0)\r\n",
      "Downloading roboflow-1.2.2-py3-none-any.whl (86 kB)\r\n",
      "\u001b[2K   \u001b[90m━━━━━━━━━━━━━━━━━━━━━━━━━━━━━━━━━━━━━━━━\u001b[0m \u001b[32m86.9/86.9 kB\u001b[0m \u001b[31m3.2 MB/s\u001b[0m eta \u001b[36m0:00:00\u001b[0m\r\n",
      "\u001b[?25hDownloading idna-3.7-py3-none-any.whl (66 kB)\r\n",
      "\u001b[2K   \u001b[90m━━━━━━━━━━━━━━━━━━━━━━━━━━━━━━━━━━━━━━━━\u001b[0m \u001b[32m66.8/66.8 kB\u001b[0m \u001b[31m2.2 MB/s\u001b[0m eta \u001b[36m0:00:00\u001b[0m\r\n",
      "\u001b[?25hDownloading opencv_python_headless-4.10.0.84-cp37-abi3-manylinux_2_17_x86_64.manylinux2014_x86_64.whl (49.9 MB)\r\n",
      "\u001b[2K   \u001b[90m━━━━━━━━━━━━━━━━━━━━━━━━━━━━━━━━━━━━━━━━\u001b[0m \u001b[32m49.9/49.9 MB\u001b[0m \u001b[31m36.1 MB/s\u001b[0m eta \u001b[36m0:00:00\u001b[0m\r\n",
      "\u001b[?25hDownloading pillow_avif_plugin-1.5.2-cp311-cp311-manylinux_2_28_x86_64.whl (4.2 MB)\r\n",
      "\u001b[2K   \u001b[90m━━━━━━━━━━━━━━━━━━━━━━━━━━━━━━━━━━━━━━━━\u001b[0m \u001b[32m4.2/4.2 MB\u001b[0m \u001b[31m88.6 MB/s\u001b[0m eta \u001b[36m0:00:00\u001b[0m\r\n",
      "\u001b[?25hDownloading pillow_heif-1.0.0-cp311-cp311-manylinux_2_17_x86_64.manylinux2014_x86_64.whl (4.9 MB)\r\n",
      "\u001b[2K   \u001b[90m━━━━━━━━━━━━━━━━━━━━━━━━━━━━━━━━━━━━━━━━\u001b[0m \u001b[32m4.9/4.9 MB\u001b[0m \u001b[31m92.0 MB/s\u001b[0m eta \u001b[36m0:00:00\u001b[0m\r\n",
      "\u001b[?25hDownloading filetype-1.2.0-py2.py3-none-any.whl (19 kB)\r\n",
      "Downloading python_dotenv-1.1.1-py3-none-any.whl (20 kB)\r\n",
      "Installing collected packages: pillow-avif-plugin, filetype, python-dotenv, pillow-heif, idna, opencv-python-headless, roboflow\r\n",
      "  Attempting uninstall: idna\r\n",
      "    Found existing installation: idna 3.10\r\n",
      "    Uninstalling idna-3.10:\r\n",
      "      Successfully uninstalled idna-3.10\r\n",
      "  Attempting uninstall: opencv-python-headless\r\n",
      "    Found existing installation: opencv-python-headless 4.11.0.86\r\n",
      "    Uninstalling opencv-python-headless-4.11.0.86:\r\n",
      "      Successfully uninstalled opencv-python-headless-4.11.0.86\r\n",
      "\u001b[31mERROR: pip's dependency resolver does not currently take into account all the packages that are installed. This behaviour is the source of the following dependency conflicts.\r\n",
      "bigframes 2.8.0 requires google-cloud-bigquery-storage<3.0.0,>=2.30.0, which is not installed.\r\n",
      "datasets 3.6.0 requires fsspec[http]<=2025.3.0,>=2023.1.0, but you have fsspec 2025.5.1 which is incompatible.\r\n",
      "google-colab 1.0.0 requires google-auth==2.38.0, but you have google-auth 2.40.3 which is incompatible.\r\n",
      "google-colab 1.0.0 requires notebook==6.5.7, but you have notebook 6.5.4 which is incompatible.\r\n",
      "google-colab 1.0.0 requires pandas==2.2.2, but you have pandas 2.2.3 which is incompatible.\r\n",
      "google-colab 1.0.0 requires requests==2.32.3, but you have requests 2.32.4 which is incompatible.\r\n",
      "google-colab 1.0.0 requires tornado==6.4.2, but you have tornado 6.5.1 which is incompatible.\r\n",
      "pandas-gbq 0.29.1 requires google-api-core<3.0.0,>=2.10.2, but you have google-api-core 1.34.1 which is incompatible.\r\n",
      "gcsfs 2025.3.2 requires fsspec==2025.3.2, but you have fsspec 2025.5.1 which is incompatible.\r\n",
      "langchain-core 0.3.66 requires packaging<25,>=23.2, but you have packaging 25.0 which is incompatible.\r\n",
      "google-cloud-storage 2.19.0 requires google-api-core<3.0.0dev,>=2.15.0, but you have google-api-core 1.34.1 which is incompatible.\r\n",
      "dataproc-spark-connect 0.7.5 requires google-api-core>=2.19, but you have google-api-core 1.34.1 which is incompatible.\r\n",
      "bigframes 2.8.0 requires google-cloud-bigquery[bqstorage,pandas]>=3.31.0, but you have google-cloud-bigquery 3.25.0 which is incompatible.\r\n",
      "bigframes 2.8.0 requires rich<14,>=12.4.4, but you have rich 14.0.0 which is incompatible.\r\n",
      "jupyter-kernel-gateway 2.5.2 requires jupyter-client<8.0,>=5.2.0, but you have jupyter-client 8.6.3 which is incompatible.\u001b[0m\u001b[31m\r\n",
      "\u001b[0mSuccessfully installed filetype-1.2.0 idna-3.7 opencv-python-headless-4.10.0.84 pillow-avif-plugin-1.5.2 pillow-heif-1.0.0 python-dotenv-1.1.1 roboflow-1.2.2\r\n",
      "Collecting ultralytics\r\n",
      "  Downloading ultralytics-8.3.169-py3-none-any.whl.metadata (37 kB)\r\n",
      "Requirement already satisfied: numpy>=1.23.0 in /usr/local/lib/python3.11/dist-packages (from ultralytics) (1.26.4)\r\n",
      "Requirement already satisfied: matplotlib>=3.3.0 in /usr/local/lib/python3.11/dist-packages (from ultralytics) (3.7.2)\r\n",
      "Requirement already satisfied: opencv-python>=4.6.0 in /usr/local/lib/python3.11/dist-packages (from ultralytics) (4.11.0.86)\r\n",
      "Requirement already satisfied: pillow>=7.1.2 in /usr/local/lib/python3.11/dist-packages (from ultralytics) (11.2.1)\r\n",
      "Requirement already satisfied: pyyaml>=5.3.1 in /usr/local/lib/python3.11/dist-packages (from ultralytics) (6.0.2)\r\n",
      "Requirement already satisfied: requests>=2.23.0 in /usr/local/lib/python3.11/dist-packages (from ultralytics) (2.32.4)\r\n",
      "Requirement already satisfied: scipy>=1.4.1 in /usr/local/lib/python3.11/dist-packages (from ultralytics) (1.15.3)\r\n",
      "Requirement already satisfied: torch>=1.8.0 in /usr/local/lib/python3.11/dist-packages (from ultralytics) (2.6.0+cu124)\r\n",
      "Requirement already satisfied: torchvision>=0.9.0 in /usr/local/lib/python3.11/dist-packages (from ultralytics) (0.21.0+cu124)\r\n",
      "Requirement already satisfied: tqdm>=4.64.0 in /usr/local/lib/python3.11/dist-packages (from ultralytics) (4.67.1)\r\n",
      "Requirement already satisfied: psutil in /usr/local/lib/python3.11/dist-packages (from ultralytics) (7.0.0)\r\n",
      "Requirement already satisfied: py-cpuinfo in /usr/local/lib/python3.11/dist-packages (from ultralytics) (9.0.0)\r\n",
      "Requirement already satisfied: pandas>=1.1.4 in /usr/local/lib/python3.11/dist-packages (from ultralytics) (2.2.3)\r\n",
      "Collecting ultralytics-thop>=2.0.0 (from ultralytics)\r\n",
      "  Downloading ultralytics_thop-2.0.14-py3-none-any.whl.metadata (9.4 kB)\r\n",
      "Requirement already satisfied: contourpy>=1.0.1 in /usr/local/lib/python3.11/dist-packages (from matplotlib>=3.3.0->ultralytics) (1.3.2)\r\n",
      "Requirement already satisfied: cycler>=0.10 in /usr/local/lib/python3.11/dist-packages (from matplotlib>=3.3.0->ultralytics) (0.12.1)\r\n",
      "Requirement already satisfied: fonttools>=4.22.0 in /usr/local/lib/python3.11/dist-packages (from matplotlib>=3.3.0->ultralytics) (4.58.4)\r\n",
      "Requirement already satisfied: kiwisolver>=1.0.1 in /usr/local/lib/python3.11/dist-packages (from matplotlib>=3.3.0->ultralytics) (1.4.8)\r\n",
      "Requirement already satisfied: packaging>=20.0 in /usr/local/lib/python3.11/dist-packages (from matplotlib>=3.3.0->ultralytics) (25.0)\r\n",
      "Requirement already satisfied: pyparsing<3.1,>=2.3.1 in /usr/local/lib/python3.11/dist-packages (from matplotlib>=3.3.0->ultralytics) (3.0.9)\r\n",
      "Requirement already satisfied: python-dateutil>=2.7 in /usr/local/lib/python3.11/dist-packages (from matplotlib>=3.3.0->ultralytics) (2.9.0.post0)\r\n",
      "Requirement already satisfied: mkl_fft in /usr/local/lib/python3.11/dist-packages (from numpy>=1.23.0->ultralytics) (1.3.8)\r\n",
      "Requirement already satisfied: mkl_random in /usr/local/lib/python3.11/dist-packages (from numpy>=1.23.0->ultralytics) (1.2.4)\r\n",
      "Requirement already satisfied: mkl_umath in /usr/local/lib/python3.11/dist-packages (from numpy>=1.23.0->ultralytics) (0.1.1)\r\n",
      "Requirement already satisfied: mkl in /usr/local/lib/python3.11/dist-packages (from numpy>=1.23.0->ultralytics) (2025.2.0)\r\n",
      "Requirement already satisfied: tbb4py in /usr/local/lib/python3.11/dist-packages (from numpy>=1.23.0->ultralytics) (2022.2.0)\r\n",
      "Requirement already satisfied: mkl-service in /usr/local/lib/python3.11/dist-packages (from numpy>=1.23.0->ultralytics) (2.4.1)\r\n",
      "Requirement already satisfied: pytz>=2020.1 in /usr/local/lib/python3.11/dist-packages (from pandas>=1.1.4->ultralytics) (2025.2)\r\n",
      "Requirement already satisfied: tzdata>=2022.7 in /usr/local/lib/python3.11/dist-packages (from pandas>=1.1.4->ultralytics) (2025.2)\r\n",
      "Requirement already satisfied: charset_normalizer<4,>=2 in /usr/local/lib/python3.11/dist-packages (from requests>=2.23.0->ultralytics) (3.4.2)\r\n",
      "Requirement already satisfied: idna<4,>=2.5 in /usr/local/lib/python3.11/dist-packages (from requests>=2.23.0->ultralytics) (3.7)\r\n",
      "Requirement already satisfied: urllib3<3,>=1.21.1 in /usr/local/lib/python3.11/dist-packages (from requests>=2.23.0->ultralytics) (2.5.0)\r\n",
      "Requirement already satisfied: certifi>=2017.4.17 in /usr/local/lib/python3.11/dist-packages (from requests>=2.23.0->ultralytics) (2025.6.15)\r\n",
      "Requirement already satisfied: filelock in /usr/local/lib/python3.11/dist-packages (from torch>=1.8.0->ultralytics) (3.18.0)\r\n",
      "Requirement already satisfied: typing-extensions>=4.10.0 in /usr/local/lib/python3.11/dist-packages (from torch>=1.8.0->ultralytics) (4.14.0)\r\n",
      "Requirement already satisfied: networkx in /usr/local/lib/python3.11/dist-packages (from torch>=1.8.0->ultralytics) (3.5)\r\n",
      "Requirement already satisfied: jinja2 in /usr/local/lib/python3.11/dist-packages (from torch>=1.8.0->ultralytics) (3.1.6)\r\n",
      "Requirement already satisfied: fsspec in /usr/local/lib/python3.11/dist-packages (from torch>=1.8.0->ultralytics) (2025.5.1)\r\n",
      "Collecting nvidia-cuda-nvrtc-cu12==12.4.127 (from torch>=1.8.0->ultralytics)\r\n",
      "  Downloading nvidia_cuda_nvrtc_cu12-12.4.127-py3-none-manylinux2014_x86_64.whl.metadata (1.5 kB)\r\n",
      "Collecting nvidia-cuda-runtime-cu12==12.4.127 (from torch>=1.8.0->ultralytics)\r\n",
      "  Downloading nvidia_cuda_runtime_cu12-12.4.127-py3-none-manylinux2014_x86_64.whl.metadata (1.5 kB)\r\n",
      "Collecting nvidia-cuda-cupti-cu12==12.4.127 (from torch>=1.8.0->ultralytics)\r\n",
      "  Downloading nvidia_cuda_cupti_cu12-12.4.127-py3-none-manylinux2014_x86_64.whl.metadata (1.6 kB)\r\n",
      "Collecting nvidia-cudnn-cu12==9.1.0.70 (from torch>=1.8.0->ultralytics)\r\n",
      "  Downloading nvidia_cudnn_cu12-9.1.0.70-py3-none-manylinux2014_x86_64.whl.metadata (1.6 kB)\r\n",
      "Collecting nvidia-cublas-cu12==12.4.5.8 (from torch>=1.8.0->ultralytics)\r\n",
      "  Downloading nvidia_cublas_cu12-12.4.5.8-py3-none-manylinux2014_x86_64.whl.metadata (1.5 kB)\r\n",
      "Collecting nvidia-cufft-cu12==11.2.1.3 (from torch>=1.8.0->ultralytics)\r\n",
      "  Downloading nvidia_cufft_cu12-11.2.1.3-py3-none-manylinux2014_x86_64.whl.metadata (1.5 kB)\r\n",
      "Collecting nvidia-curand-cu12==10.3.5.147 (from torch>=1.8.0->ultralytics)\r\n",
      "  Downloading nvidia_curand_cu12-10.3.5.147-py3-none-manylinux2014_x86_64.whl.metadata (1.5 kB)\r\n",
      "Collecting nvidia-cusolver-cu12==11.6.1.9 (from torch>=1.8.0->ultralytics)\r\n",
      "  Downloading nvidia_cusolver_cu12-11.6.1.9-py3-none-manylinux2014_x86_64.whl.metadata (1.6 kB)\r\n",
      "Collecting nvidia-cusparse-cu12==12.3.1.170 (from torch>=1.8.0->ultralytics)\r\n",
      "  Downloading nvidia_cusparse_cu12-12.3.1.170-py3-none-manylinux2014_x86_64.whl.metadata (1.6 kB)\r\n",
      "Requirement already satisfied: nvidia-cusparselt-cu12==0.6.2 in /usr/local/lib/python3.11/dist-packages (from torch>=1.8.0->ultralytics) (0.6.2)\r\n",
      "Requirement already satisfied: nvidia-nccl-cu12==2.21.5 in /usr/local/lib/python3.11/dist-packages (from torch>=1.8.0->ultralytics) (2.21.5)\r\n",
      "Requirement already satisfied: nvidia-nvtx-cu12==12.4.127 in /usr/local/lib/python3.11/dist-packages (from torch>=1.8.0->ultralytics) (12.4.127)\r\n",
      "Collecting nvidia-nvjitlink-cu12==12.4.127 (from torch>=1.8.0->ultralytics)\r\n",
      "  Downloading nvidia_nvjitlink_cu12-12.4.127-py3-none-manylinux2014_x86_64.whl.metadata (1.5 kB)\r\n",
      "Requirement already satisfied: triton==3.2.0 in /usr/local/lib/python3.11/dist-packages (from torch>=1.8.0->ultralytics) (3.2.0)\r\n",
      "Requirement already satisfied: sympy==1.13.1 in /usr/local/lib/python3.11/dist-packages (from torch>=1.8.0->ultralytics) (1.13.1)\r\n",
      "Requirement already satisfied: mpmath<1.4,>=1.1.0 in /usr/local/lib/python3.11/dist-packages (from sympy==1.13.1->torch>=1.8.0->ultralytics) (1.3.0)\r\n",
      "Requirement already satisfied: six>=1.5 in /usr/local/lib/python3.11/dist-packages (from python-dateutil>=2.7->matplotlib>=3.3.0->ultralytics) (1.17.0)\r\n",
      "Requirement already satisfied: MarkupSafe>=2.0 in /usr/local/lib/python3.11/dist-packages (from jinja2->torch>=1.8.0->ultralytics) (3.0.2)\r\n",
      "Requirement already satisfied: intel-openmp<2026,>=2024 in /usr/local/lib/python3.11/dist-packages (from mkl->numpy>=1.23.0->ultralytics) (2024.2.0)\r\n",
      "Requirement already satisfied: tbb==2022.* in /usr/local/lib/python3.11/dist-packages (from mkl->numpy>=1.23.0->ultralytics) (2022.2.0)\r\n",
      "Requirement already satisfied: tcmlib==1.* in /usr/local/lib/python3.11/dist-packages (from tbb==2022.*->mkl->numpy>=1.23.0->ultralytics) (1.4.0)\r\n",
      "Requirement already satisfied: intel-cmplr-lib-rt in /usr/local/lib/python3.11/dist-packages (from mkl_umath->numpy>=1.23.0->ultralytics) (2024.2.0)\r\n",
      "Requirement already satisfied: intel-cmplr-lib-ur==2024.2.0 in /usr/local/lib/python3.11/dist-packages (from intel-openmp<2026,>=2024->mkl->numpy>=1.23.0->ultralytics) (2024.2.0)\r\n",
      "Downloading ultralytics-8.3.169-py3-none-any.whl (1.0 MB)\r\n",
      "\u001b[2K   \u001b[90m━━━━━━━━━━━━━━━━━━━━━━━━━━━━━━━━━━━━━━━━\u001b[0m \u001b[32m1.0/1.0 MB\u001b[0m \u001b[31m17.8 MB/s\u001b[0m eta \u001b[36m0:00:00\u001b[0m\r\n",
      "\u001b[?25hDownloading nvidia_cublas_cu12-12.4.5.8-py3-none-manylinux2014_x86_64.whl (363.4 MB)\r\n",
      "\u001b[2K   \u001b[90m━━━━━━━━━━━━━━━━━━━━━━━━━━━━━━━━━━━━━━━━\u001b[0m \u001b[32m363.4/363.4 MB\u001b[0m \u001b[31m4.7 MB/s\u001b[0m eta \u001b[36m0:00:00\u001b[0m\r\n",
      "\u001b[?25hDownloading nvidia_cuda_cupti_cu12-12.4.127-py3-none-manylinux2014_x86_64.whl (13.8 MB)\r\n",
      "\u001b[2K   \u001b[90m━━━━━━━━━━━━━━━━━━━━━━━━━━━━━━━━━━━━━━━━\u001b[0m \u001b[32m13.8/13.8 MB\u001b[0m \u001b[31m91.6 MB/s\u001b[0m eta \u001b[36m0:00:00\u001b[0m\r\n",
      "\u001b[?25hDownloading nvidia_cuda_nvrtc_cu12-12.4.127-py3-none-manylinux2014_x86_64.whl (24.6 MB)\r\n",
      "\u001b[2K   \u001b[90m━━━━━━━━━━━━━━━━━━━━━━━━━━━━━━━━━━━━━━━━\u001b[0m \u001b[32m24.6/24.6 MB\u001b[0m \u001b[31m76.4 MB/s\u001b[0m eta \u001b[36m0:00:00\u001b[0m\r\n",
      "\u001b[?25hDownloading nvidia_cuda_runtime_cu12-12.4.127-py3-none-manylinux2014_x86_64.whl (883 kB)\r\n",
      "\u001b[2K   \u001b[90m━━━━━━━━━━━━━━━━━━━━━━━━━━━━━━━━━━━━━━━━\u001b[0m \u001b[32m883.7/883.7 kB\u001b[0m \u001b[31m30.0 MB/s\u001b[0m eta \u001b[36m0:00:00\u001b[0m\r\n",
      "\u001b[?25hDownloading nvidia_cudnn_cu12-9.1.0.70-py3-none-manylinux2014_x86_64.whl (664.8 MB)\r\n",
      "\u001b[2K   \u001b[90m━━━━━━━━━━━━━━━━━━━━━━━━━━━━━━━━━━━━━━━━\u001b[0m \u001b[32m664.8/664.8 MB\u001b[0m \u001b[31m2.4 MB/s\u001b[0m eta \u001b[36m0:00:00\u001b[0m\r\n",
      "\u001b[?25hDownloading nvidia_cufft_cu12-11.2.1.3-py3-none-manylinux2014_x86_64.whl (211.5 MB)\r\n",
      "\u001b[2K   \u001b[90m━━━━━━━━━━━━━━━━━━━━━━━━━━━━━━━━━━━━━━━━\u001b[0m \u001b[32m211.5/211.5 MB\u001b[0m \u001b[31m1.8 MB/s\u001b[0m eta \u001b[36m0:00:00\u001b[0m\r\n",
      "\u001b[?25hDownloading nvidia_curand_cu12-10.3.5.147-py3-none-manylinux2014_x86_64.whl (56.3 MB)\r\n",
      "\u001b[2K   \u001b[90m━━━━━━━━━━━━━━━━━━━━━━━━━━━━━━━━━━━━━━━━\u001b[0m \u001b[32m56.3/56.3 MB\u001b[0m \u001b[31m30.6 MB/s\u001b[0m eta \u001b[36m0:00:00\u001b[0m\r\n",
      "\u001b[?25hDownloading nvidia_cusolver_cu12-11.6.1.9-py3-none-manylinux2014_x86_64.whl (127.9 MB)\r\n",
      "\u001b[2K   \u001b[90m━━━━━━━━━━━━━━━━━━━━━━━━━━━━━━━━━━━━━━━━\u001b[0m \u001b[32m127.9/127.9 MB\u001b[0m \u001b[31m13.4 MB/s\u001b[0m eta \u001b[36m0:00:00\u001b[0m\r\n",
      "\u001b[?25hDownloading nvidia_cusparse_cu12-12.3.1.170-py3-none-manylinux2014_x86_64.whl (207.5 MB)\r\n",
      "\u001b[2K   \u001b[90m━━━━━━━━━━━━━━━━━━━━━━━━━━━━━━━━━━━━━━━━\u001b[0m \u001b[32m207.5/207.5 MB\u001b[0m \u001b[31m8.2 MB/s\u001b[0m eta \u001b[36m0:00:00\u001b[0m\r\n",
      "\u001b[?25hDownloading nvidia_nvjitlink_cu12-12.4.127-py3-none-manylinux2014_x86_64.whl (21.1 MB)\r\n",
      "\u001b[2K   \u001b[90m━━━━━━━━━━━━━━━━━━━━━━━━━━━━━━━━━━━━━━━━\u001b[0m \u001b[32m21.1/21.1 MB\u001b[0m \u001b[31m75.2 MB/s\u001b[0m eta \u001b[36m0:00:00\u001b[0m\r\n",
      "\u001b[?25hDownloading ultralytics_thop-2.0.14-py3-none-any.whl (26 kB)\r\n",
      "Installing collected packages: nvidia-nvjitlink-cu12, nvidia-curand-cu12, nvidia-cufft-cu12, nvidia-cuda-runtime-cu12, nvidia-cuda-nvrtc-cu12, nvidia-cuda-cupti-cu12, nvidia-cublas-cu12, nvidia-cusparse-cu12, nvidia-cudnn-cu12, nvidia-cusolver-cu12, ultralytics-thop, ultralytics\r\n",
      "  Attempting uninstall: nvidia-nvjitlink-cu12\r\n",
      "    Found existing installation: nvidia-nvjitlink-cu12 12.5.82\r\n",
      "    Uninstalling nvidia-nvjitlink-cu12-12.5.82:\r\n",
      "      Successfully uninstalled nvidia-nvjitlink-cu12-12.5.82\r\n",
      "  Attempting uninstall: nvidia-curand-cu12\r\n",
      "    Found existing installation: nvidia-curand-cu12 10.3.6.82\r\n",
      "    Uninstalling nvidia-curand-cu12-10.3.6.82:\r\n",
      "      Successfully uninstalled nvidia-curand-cu12-10.3.6.82\r\n",
      "  Attempting uninstall: nvidia-cufft-cu12\r\n",
      "    Found existing installation: nvidia-cufft-cu12 11.2.3.61\r\n",
      "    Uninstalling nvidia-cufft-cu12-11.2.3.61:\r\n",
      "      Successfully uninstalled nvidia-cufft-cu12-11.2.3.61\r\n",
      "  Attempting uninstall: nvidia-cuda-runtime-cu12\r\n",
      "    Found existing installation: nvidia-cuda-runtime-cu12 12.5.82\r\n",
      "    Uninstalling nvidia-cuda-runtime-cu12-12.5.82:\r\n",
      "      Successfully uninstalled nvidia-cuda-runtime-cu12-12.5.82\r\n",
      "  Attempting uninstall: nvidia-cuda-nvrtc-cu12\r\n",
      "    Found existing installation: nvidia-cuda-nvrtc-cu12 12.5.82\r\n",
      "    Uninstalling nvidia-cuda-nvrtc-cu12-12.5.82:\r\n",
      "      Successfully uninstalled nvidia-cuda-nvrtc-cu12-12.5.82\r\n",
      "  Attempting uninstall: nvidia-cuda-cupti-cu12\r\n",
      "    Found existing installation: nvidia-cuda-cupti-cu12 12.5.82\r\n",
      "    Uninstalling nvidia-cuda-cupti-cu12-12.5.82:\r\n",
      "      Successfully uninstalled nvidia-cuda-cupti-cu12-12.5.82\r\n",
      "  Attempting uninstall: nvidia-cublas-cu12\r\n",
      "    Found existing installation: nvidia-cublas-cu12 12.5.3.2\r\n",
      "    Uninstalling nvidia-cublas-cu12-12.5.3.2:\r\n",
      "      Successfully uninstalled nvidia-cublas-cu12-12.5.3.2\r\n",
      "  Attempting uninstall: nvidia-cusparse-cu12\r\n",
      "    Found existing installation: nvidia-cusparse-cu12 12.5.1.3\r\n",
      "    Uninstalling nvidia-cusparse-cu12-12.5.1.3:\r\n",
      "      Successfully uninstalled nvidia-cusparse-cu12-12.5.1.3\r\n",
      "  Attempting uninstall: nvidia-cudnn-cu12\r\n",
      "    Found existing installation: nvidia-cudnn-cu12 9.3.0.75\r\n",
      "    Uninstalling nvidia-cudnn-cu12-9.3.0.75:\r\n",
      "      Successfully uninstalled nvidia-cudnn-cu12-9.3.0.75\r\n",
      "  Attempting uninstall: nvidia-cusolver-cu12\r\n",
      "    Found existing installation: nvidia-cusolver-cu12 11.6.3.83\r\n",
      "    Uninstalling nvidia-cusolver-cu12-11.6.3.83:\r\n",
      "      Successfully uninstalled nvidia-cusolver-cu12-11.6.3.83\r\n",
      "Successfully installed nvidia-cublas-cu12-12.4.5.8 nvidia-cuda-cupti-cu12-12.4.127 nvidia-cuda-nvrtc-cu12-12.4.127 nvidia-cuda-runtime-cu12-12.4.127 nvidia-cudnn-cu12-9.1.0.70 nvidia-cufft-cu12-11.2.1.3 nvidia-curand-cu12-10.3.5.147 nvidia-cusolver-cu12-11.6.1.9 nvidia-cusparse-cu12-12.3.1.170 nvidia-nvjitlink-cu12-12.4.127 ultralytics-8.3.169 ultralytics-thop-2.0.14\r\n",
      "loading Roboflow workspace...\n",
      "loading Roboflow project...\n"
     ]
    },
    {
     "name": "stderr",
     "output_type": "stream",
     "text": [
      "Downloading Dataset Version Zip in Combined-Trash-2 to yolov12:: 100%|██████████| 235009/235009 [00:02<00:00, 86714.91it/s]"
     ]
    },
    {
     "name": "stdout",
     "output_type": "stream",
     "text": [
      "\n"
     ]
    },
    {
     "name": "stderr",
     "output_type": "stream",
     "text": [
      "\n",
      "Extracting Dataset Version Zip to Combined-Trash-2 in yolov12:: 100%|██████████| 5028/5028 [00:00<00:00, 5525.82it/s]\n"
     ]
    }
   ],
   "source": [
    "!pip install roboflow\n",
    "!pip install ultralytics\n",
    "\n",
    "from roboflow import Roboflow\n",
    "rf = Roboflow(api_key=\"9G0PSgYsI3azRVBOlE3p\")\n",
    "project = rf.workspace(\"dhamzyy\").project(\"combined-trash-gj8ad\")\n",
    "version = project.version(2)\n",
    "dataset = version.download(\"yolov12\")"
   ]
  },
  {
   "cell_type": "code",
   "execution_count": 2,
   "id": "1716d2b8",
   "metadata": {
    "collapsed": true,
    "execution": {
     "iopub.execute_input": "2025-07-25T14:53:55.545010Z",
     "iopub.status.busy": "2025-07-25T14:53:55.544240Z",
     "iopub.status.idle": "2025-07-25T16:44:50.771436Z",
     "shell.execute_reply": "2025-07-25T16:44:50.770222Z"
    },
    "jupyter": {
     "outputs_hidden": true
    },
    "papermill": {
     "duration": 6655.256353,
     "end_time": "2025-07-25T16:44:50.774454",
     "exception": false,
     "start_time": "2025-07-25T14:53:55.518101",
     "status": "completed"
    },
    "tags": []
   },
   "outputs": [
    {
     "name": "stdout",
     "output_type": "stream",
     "text": [
      "Creating new Ultralytics Settings v0.0.6 file ✅ \n",
      "View Ultralytics Settings with 'yolo settings' or at '/root/.config/Ultralytics/settings.json'\n",
      "Update Settings with 'yolo settings key=value', i.e. 'yolo settings runs_dir=path/to/dir'. For help see https://docs.ultralytics.com/quickstart/#ultralytics-settings.\n",
      "Downloading https://github.com/ultralytics/assets/releases/download/v8.3.0/yolo12m.pt to 'yolo12m.pt'...\n"
     ]
    },
    {
     "name": "stderr",
     "output_type": "stream",
     "text": [
      "100%|██████████| 39.0M/39.0M [00:00<00:00, 147MB/s]\n"
     ]
    },
    {
     "name": "stdout",
     "output_type": "stream",
     "text": [
      "Ultralytics 8.3.169 🚀 Python-3.11.13 torch-2.6.0+cu124 CUDA:0 (Tesla T4, 15095MiB)\n",
      "\u001b[34m\u001b[1mengine/trainer: \u001b[0magnostic_nms=False, amp=True, augment=False, auto_augment=randaugment, batch=32, bgr=0.0, box=7.5, cache=False, cfg=None, classes=None, close_mosaic=10, cls=0.5, conf=None, copy_paste=0.0, copy_paste_mode=flip, cos_lr=False, cutmix=0.0, data=/kaggle/working/Combined-Trash-2/data.yaml, degrees=0.0, deterministic=True, device=None, dfl=1.5, dnn=False, dropout=0.0, dynamic=False, embed=None, epochs=100, erasing=0.4, exist_ok=False, fliplr=0.5, flipud=0.0, format=torchscript, fraction=1.0, freeze=None, half=False, hsv_h=0.015, hsv_s=0.7, hsv_v=0.4, imgsz=504, int8=False, iou=0.7, keras=False, kobj=1.0, line_width=None, lr0=0.01, lrf=0.01, mask_ratio=4, max_det=300, mixup=0.0, mode=train, model=yolo12m.pt, momentum=0.937, mosaic=1.0, multi_scale=False, name=train, nbs=64, nms=False, opset=None, optimize=False, optimizer=auto, overlap_mask=True, patience=100, perspective=0.0, plots=True, pose=12.0, pretrained=True, profile=False, project=None, rect=False, resume=False, retina_masks=False, save=True, save_conf=False, save_crop=False, save_dir=runs/detect/train, save_frames=False, save_json=False, save_period=-1, save_txt=False, scale=0.5, seed=0, shear=0.0, show=False, show_boxes=True, show_conf=True, show_labels=True, simplify=True, single_cls=False, source=None, split=val, stream_buffer=False, task=detect, time=None, tracker=botsort.yaml, translate=0.1, val=True, verbose=True, vid_stride=1, visualize=False, warmup_bias_lr=0.1, warmup_epochs=3.0, warmup_momentum=0.8, weight_decay=0.0005, workers=8, workspace=None\n",
      "Downloading https://ultralytics.com/assets/Arial.ttf to '/root/.config/Ultralytics/Arial.ttf'...\n"
     ]
    },
    {
     "name": "stderr",
     "output_type": "stream",
     "text": [
      "100%|██████████| 755k/755k [00:00<00:00, 16.7MB/s]\n"
     ]
    },
    {
     "name": "stdout",
     "output_type": "stream",
     "text": [
      "Overriding model.yaml nc=80 with nc=1\n",
      "\n",
      "                   from  n    params  module                                       arguments                     \n",
      "  0                  -1  1      1856  ultralytics.nn.modules.conv.Conv             [3, 64, 3, 2]                 \n",
      "  1                  -1  1     73984  ultralytics.nn.modules.conv.Conv             [64, 128, 3, 2]               \n",
      "  2                  -1  1    111872  ultralytics.nn.modules.block.C3k2            [128, 256, 1, True, 0.25]     \n",
      "  3                  -1  1    590336  ultralytics.nn.modules.conv.Conv             [256, 256, 3, 2]              \n",
      "  4                  -1  1    444928  ultralytics.nn.modules.block.C3k2            [256, 512, 1, True, 0.25]     \n",
      "  5                  -1  1   2360320  ultralytics.nn.modules.conv.Conv             [512, 512, 3, 2]              \n",
      "  6                  -1  2   2689536  ultralytics.nn.modules.block.A2C2f           [512, 512, 2, True, 4]        \n",
      "  7                  -1  1   2360320  ultralytics.nn.modules.conv.Conv             [512, 512, 3, 2]              \n",
      "  8                  -1  2   2689536  ultralytics.nn.modules.block.A2C2f           [512, 512, 2, True, 1]        \n",
      "  9                  -1  1         0  torch.nn.modules.upsampling.Upsample         [None, 2, 'nearest']          \n",
      " 10             [-1, 6]  1         0  ultralytics.nn.modules.conv.Concat           [1]                           \n",
      " 11                  -1  1   1248768  ultralytics.nn.modules.block.A2C2f           [1024, 512, 1, False, -1]     \n",
      " 12                  -1  1         0  torch.nn.modules.upsampling.Upsample         [None, 2, 'nearest']          \n",
      " 13             [-1, 4]  1         0  ultralytics.nn.modules.conv.Concat           [1]                           \n",
      " 14                  -1  1    378624  ultralytics.nn.modules.block.A2C2f           [1024, 256, 1, False, -1]     \n",
      " 15                  -1  1    590336  ultralytics.nn.modules.conv.Conv             [256, 256, 3, 2]              \n",
      " 16            [-1, 11]  1         0  ultralytics.nn.modules.conv.Concat           [1]                           \n",
      " 17                  -1  1   1183232  ultralytics.nn.modules.block.A2C2f           [768, 512, 1, False, -1]      \n",
      " 18                  -1  1   2360320  ultralytics.nn.modules.conv.Conv             [512, 512, 3, 2]              \n",
      " 19             [-1, 8]  1         0  ultralytics.nn.modules.conv.Concat           [1]                           \n",
      " 20                  -1  1   1642496  ultralytics.nn.modules.block.C3k2            [1024, 512, 1, True]          \n",
      " 21        [14, 17, 20]  1   1411795  ultralytics.nn.modules.head.Detect           [1, [256, 512, 512]]          \n",
      "YOLOv12m summary: 292 layers, 20,138,259 parameters, 20,138,243 gradients, 67.7 GFLOPs\n",
      "\n",
      "Transferred 745/751 items from pretrained weights\n",
      "Freezing layer 'model.21.dfl.conv.weight'\n",
      "\u001b[34m\u001b[1mAMP: \u001b[0mrunning Automatic Mixed Precision (AMP) checks...\n",
      "Downloading https://github.com/ultralytics/assets/releases/download/v8.3.0/yolo11n.pt to 'yolo11n.pt'...\n"
     ]
    },
    {
     "name": "stderr",
     "output_type": "stream",
     "text": [
      "100%|██████████| 5.35M/5.35M [00:00<00:00, 68.4MB/s]\n"
     ]
    },
    {
     "name": "stdout",
     "output_type": "stream",
     "text": [
      "\u001b[34m\u001b[1mAMP: \u001b[0mchecks passed ✅\n",
      "WARNING ⚠️ imgsz=[504] must be multiple of max stride 32, updating to [512]\n",
      "\u001b[34m\u001b[1mtrain: \u001b[0mFast image access ✅ (ping: 0.0±0.0 ms, read: 1515.1±586.1 MB/s, size: 89.3 KB)\n"
     ]
    },
    {
     "name": "stderr",
     "output_type": "stream",
     "text": [
      "\u001b[34m\u001b[1mtrain: \u001b[0mScanning /kaggle/working/Combined-Trash-2/train/labels... 1757 images, 26 backgrounds, 0 corrupt: 100%|██████████| 1757/1757 [00:01<00:00, 1092.69it/s]\n"
     ]
    },
    {
     "name": "stdout",
     "output_type": "stream",
     "text": [
      "\u001b[34m\u001b[1mtrain: \u001b[0mNew cache created: /kaggle/working/Combined-Trash-2/train/labels.cache\n",
      "\u001b[34m\u001b[1malbumentations: \u001b[0mBlur(p=0.01, blur_limit=(3, 7)), MedianBlur(p=0.01, blur_limit=(3, 7)), ToGray(p=0.01, method='weighted_average', num_output_channels=3), CLAHE(p=0.01, clip_limit=(1.0, 4.0), tile_grid_size=(8, 8))\n",
      "\u001b[34m\u001b[1mval: \u001b[0mFast image access ✅ (ping: 0.0±0.0 ms, read: 573.1±276.2 MB/s, size: 98.7 KB)\n"
     ]
    },
    {
     "name": "stderr",
     "output_type": "stream",
     "text": [
      "\u001b[34m\u001b[1mval: \u001b[0mScanning /kaggle/working/Combined-Trash-2/valid/labels... 501 images, 10 backgrounds, 0 corrupt: 100%|██████████| 501/501 [00:00<00:00, 983.29it/s]\n"
     ]
    },
    {
     "name": "stdout",
     "output_type": "stream",
     "text": [
      "\u001b[34m\u001b[1mval: \u001b[0mNew cache created: /kaggle/working/Combined-Trash-2/valid/labels.cache\n",
      "Plotting labels to runs/detect/train/labels.jpg... \n",
      "\u001b[34m\u001b[1moptimizer:\u001b[0m 'optimizer=auto' found, ignoring 'lr0=0.01' and 'momentum=0.937' and determining best 'optimizer', 'lr0' and 'momentum' automatically... \n",
      "\u001b[34m\u001b[1moptimizer:\u001b[0m AdamW(lr=0.002, momentum=0.9) with parameter groups 123 weight(decay=0.0), 130 weight(decay=0.0005), 129 bias(decay=0.0)\n",
      "Image sizes 512 train, 512 val\n",
      "Using 2 dataloader workers\n",
      "Logging results to \u001b[1mruns/detect/train\u001b[0m\n",
      "Starting training for 100 epochs...\n",
      "\n",
      "      Epoch    GPU_mem   box_loss   cls_loss   dfl_loss  Instances       Size\n"
     ]
    },
    {
     "name": "stderr",
     "output_type": "stream",
     "text": [
      "      1/100      12.5G      1.715      2.183      1.185        130        512: 100%|██████████| 55/55 [00:49<00:00,  1.11it/s]\n",
      "                 Class     Images  Instances      Box(P          R      mAP50  mAP50-95): 100%|██████████| 8/8 [00:05<00:00,  1.38it/s]"
     ]
    },
    {
     "name": "stdout",
     "output_type": "stream",
     "text": [
      "                   all        501       2144          0          0          0          0\n"
     ]
    },
    {
     "name": "stderr",
     "output_type": "stream",
     "text": [
      "\n"
     ]
    },
    {
     "name": "stdout",
     "output_type": "stream",
     "text": [
      "\n",
      "      Epoch    GPU_mem   box_loss   cls_loss   dfl_loss  Instances       Size\n"
     ]
    },
    {
     "name": "stderr",
     "output_type": "stream",
     "text": [
      "      2/100      12.7G      2.076      1.891      1.404        108        512: 100%|██████████| 55/55 [00:51<00:00,  1.08it/s]\n",
      "                 Class     Images  Instances      Box(P          R      mAP50  mAP50-95): 100%|██████████| 8/8 [00:06<00:00,  1.24it/s]"
     ]
    },
    {
     "name": "stdout",
     "output_type": "stream",
     "text": [
      "                   all        501       2144          0          0          0          0\n"
     ]
    },
    {
     "name": "stderr",
     "output_type": "stream",
     "text": [
      "\n"
     ]
    },
    {
     "name": "stdout",
     "output_type": "stream",
     "text": [
      "\n",
      "      Epoch    GPU_mem   box_loss   cls_loss   dfl_loss  Instances       Size\n"
     ]
    },
    {
     "name": "stderr",
     "output_type": "stream",
     "text": [
      "      3/100      12.6G      2.006      1.875      1.363        163        512: 100%|██████████| 55/55 [00:55<00:00,  1.01s/it]\n",
      "                 Class     Images  Instances      Box(P          R      mAP50  mAP50-95): 100%|██████████| 8/8 [00:09<00:00,  1.14s/it]"
     ]
    },
    {
     "name": "stdout",
     "output_type": "stream",
     "text": [
      "                   all        501       2144     0.0102      0.486    0.00741    0.00293\n"
     ]
    },
    {
     "name": "stderr",
     "output_type": "stream",
     "text": [
      "\n"
     ]
    },
    {
     "name": "stdout",
     "output_type": "stream",
     "text": [
      "\n",
      "      Epoch    GPU_mem   box_loss   cls_loss   dfl_loss  Instances       Size\n"
     ]
    },
    {
     "name": "stderr",
     "output_type": "stream",
     "text": [
      "      4/100      12.7G      1.974      1.786      1.356        147        512: 100%|██████████| 55/55 [00:57<00:00,  1.05s/it]\n",
      "                 Class     Images  Instances      Box(P          R      mAP50  mAP50-95): 100%|██████████| 8/8 [00:07<00:00,  1.02it/s]"
     ]
    },
    {
     "name": "stdout",
     "output_type": "stream",
     "text": [
      "                   all        501       2144      0.272      0.364      0.178     0.0707\n"
     ]
    },
    {
     "name": "stderr",
     "output_type": "stream",
     "text": [
      "\n"
     ]
    },
    {
     "name": "stdout",
     "output_type": "stream",
     "text": [
      "\n",
      "      Epoch    GPU_mem   box_loss   cls_loss   dfl_loss  Instances       Size\n"
     ]
    },
    {
     "name": "stderr",
     "output_type": "stream",
     "text": [
      "      5/100      12.6G      1.984      1.785      1.362        171        512: 100%|██████████| 55/55 [00:57<00:00,  1.05s/it]\n",
      "                 Class     Images  Instances      Box(P          R      mAP50  mAP50-95): 100%|██████████| 8/8 [00:07<00:00,  1.02it/s]"
     ]
    },
    {
     "name": "stdout",
     "output_type": "stream",
     "text": [
      "                   all        501       2144     0.0265      0.281     0.0159    0.00725\n"
     ]
    },
    {
     "name": "stderr",
     "output_type": "stream",
     "text": [
      "\n"
     ]
    },
    {
     "name": "stdout",
     "output_type": "stream",
     "text": [
      "\n",
      "      Epoch    GPU_mem   box_loss   cls_loss   dfl_loss  Instances       Size\n"
     ]
    },
    {
     "name": "stderr",
     "output_type": "stream",
     "text": [
      "      6/100      12.6G      1.881      1.697      1.328        133        512: 100%|██████████| 55/55 [00:57<00:00,  1.04s/it]\n",
      "                 Class     Images  Instances      Box(P          R      mAP50  mAP50-95): 100%|██████████| 8/8 [00:07<00:00,  1.01it/s]"
     ]
    },
    {
     "name": "stdout",
     "output_type": "stream",
     "text": [
      "                   all        501       2144      0.407      0.352      0.261      0.124\n"
     ]
    },
    {
     "name": "stderr",
     "output_type": "stream",
     "text": [
      "\n"
     ]
    },
    {
     "name": "stdout",
     "output_type": "stream",
     "text": [
      "\n",
      "      Epoch    GPU_mem   box_loss   cls_loss   dfl_loss  Instances       Size\n"
     ]
    },
    {
     "name": "stderr",
     "output_type": "stream",
     "text": [
      "      7/100      12.7G      1.849      1.598      1.255        150        512: 100%|██████████| 55/55 [00:57<00:00,  1.04s/it]\n",
      "                 Class     Images  Instances      Box(P          R      mAP50  mAP50-95): 100%|██████████| 8/8 [00:07<00:00,  1.03it/s]"
     ]
    },
    {
     "name": "stdout",
     "output_type": "stream",
     "text": [
      "                   all        501       2144      0.138      0.188      0.054     0.0266\n"
     ]
    },
    {
     "name": "stderr",
     "output_type": "stream",
     "text": [
      "\n"
     ]
    },
    {
     "name": "stdout",
     "output_type": "stream",
     "text": [
      "\n",
      "      Epoch    GPU_mem   box_loss   cls_loss   dfl_loss  Instances       Size\n"
     ]
    },
    {
     "name": "stderr",
     "output_type": "stream",
     "text": [
      "      8/100      12.7G      1.805      1.566      1.277        126        512: 100%|██████████| 55/55 [00:57<00:00,  1.04s/it]\n",
      "                 Class     Images  Instances      Box(P          R      mAP50  mAP50-95): 100%|██████████| 8/8 [00:07<00:00,  1.02it/s]"
     ]
    },
    {
     "name": "stdout",
     "output_type": "stream",
     "text": [
      "                   all        501       2144      0.536      0.448       0.41      0.198\n"
     ]
    },
    {
     "name": "stderr",
     "output_type": "stream",
     "text": [
      "\n"
     ]
    },
    {
     "name": "stdout",
     "output_type": "stream",
     "text": [
      "\n",
      "      Epoch    GPU_mem   box_loss   cls_loss   dfl_loss  Instances       Size\n"
     ]
    },
    {
     "name": "stderr",
     "output_type": "stream",
     "text": [
      "      9/100      12.6G      1.775      1.536       1.23        145        512: 100%|██████████| 55/55 [00:57<00:00,  1.04s/it]\n",
      "                 Class     Images  Instances      Box(P          R      mAP50  mAP50-95): 100%|██████████| 8/8 [00:07<00:00,  1.03it/s]"
     ]
    },
    {
     "name": "stdout",
     "output_type": "stream",
     "text": [
      "                   all        501       2144      0.526      0.473      0.451       0.22\n"
     ]
    },
    {
     "name": "stderr",
     "output_type": "stream",
     "text": [
      "\n"
     ]
    },
    {
     "name": "stdout",
     "output_type": "stream",
     "text": [
      "\n",
      "      Epoch    GPU_mem   box_loss   cls_loss   dfl_loss  Instances       Size\n"
     ]
    },
    {
     "name": "stderr",
     "output_type": "stream",
     "text": [
      "     10/100      12.6G      1.744      1.495      1.218        191        512: 100%|██████████| 55/55 [00:57<00:00,  1.04s/it]\n",
      "                 Class     Images  Instances      Box(P          R      mAP50  mAP50-95): 100%|██████████| 8/8 [00:07<00:00,  1.04it/s]"
     ]
    },
    {
     "name": "stdout",
     "output_type": "stream",
     "text": [
      "                   all        501       2144       0.58      0.421      0.436        0.2\n"
     ]
    },
    {
     "name": "stderr",
     "output_type": "stream",
     "text": [
      "\n"
     ]
    },
    {
     "name": "stdout",
     "output_type": "stream",
     "text": [
      "\n",
      "      Epoch    GPU_mem   box_loss   cls_loss   dfl_loss  Instances       Size\n"
     ]
    },
    {
     "name": "stderr",
     "output_type": "stream",
     "text": [
      "     11/100      12.7G      1.736      1.481      1.229        152        512: 100%|██████████| 55/55 [00:57<00:00,  1.04s/it]\n",
      "                 Class     Images  Instances      Box(P          R      mAP50  mAP50-95): 100%|██████████| 8/8 [00:07<00:00,  1.04it/s]"
     ]
    },
    {
     "name": "stdout",
     "output_type": "stream",
     "text": [
      "                   all        501       2144       0.55       0.47      0.466      0.232\n"
     ]
    },
    {
     "name": "stderr",
     "output_type": "stream",
     "text": [
      "\n"
     ]
    },
    {
     "name": "stdout",
     "output_type": "stream",
     "text": [
      "\n",
      "      Epoch    GPU_mem   box_loss   cls_loss   dfl_loss  Instances       Size\n"
     ]
    },
    {
     "name": "stderr",
     "output_type": "stream",
     "text": [
      "     12/100      12.6G      1.716      1.484      1.207        141        512: 100%|██████████| 55/55 [00:57<00:00,  1.04s/it]\n",
      "                 Class     Images  Instances      Box(P          R      mAP50  mAP50-95): 100%|██████████| 8/8 [00:07<00:00,  1.03it/s]"
     ]
    },
    {
     "name": "stdout",
     "output_type": "stream",
     "text": [
      "                   all        501       2144      0.626      0.393       0.41      0.199\n"
     ]
    },
    {
     "name": "stderr",
     "output_type": "stream",
     "text": [
      "\n"
     ]
    },
    {
     "name": "stdout",
     "output_type": "stream",
     "text": [
      "\n",
      "      Epoch    GPU_mem   box_loss   cls_loss   dfl_loss  Instances       Size\n"
     ]
    },
    {
     "name": "stderr",
     "output_type": "stream",
     "text": [
      "     13/100      12.7G       1.67      1.459      1.216        170        512: 100%|██████████| 55/55 [00:57<00:00,  1.04s/it]\n",
      "                 Class     Images  Instances      Box(P          R      mAP50  mAP50-95): 100%|██████████| 8/8 [00:07<00:00,  1.05it/s]"
     ]
    },
    {
     "name": "stdout",
     "output_type": "stream",
     "text": [
      "                   all        501       2144      0.536      0.455      0.443      0.223\n"
     ]
    },
    {
     "name": "stderr",
     "output_type": "stream",
     "text": [
      "\n"
     ]
    },
    {
     "name": "stdout",
     "output_type": "stream",
     "text": [
      "\n",
      "      Epoch    GPU_mem   box_loss   cls_loss   dfl_loss  Instances       Size\n"
     ]
    },
    {
     "name": "stderr",
     "output_type": "stream",
     "text": [
      "     14/100      12.6G      1.679      1.428      1.205        161        512: 100%|██████████| 55/55 [00:57<00:00,  1.04s/it]\n",
      "                 Class     Images  Instances      Box(P          R      mAP50  mAP50-95): 100%|██████████| 8/8 [00:07<00:00,  1.03it/s]"
     ]
    },
    {
     "name": "stdout",
     "output_type": "stream",
     "text": [
      "                   all        501       2144      0.582      0.452      0.446      0.218\n"
     ]
    },
    {
     "name": "stderr",
     "output_type": "stream",
     "text": [
      "\n"
     ]
    },
    {
     "name": "stdout",
     "output_type": "stream",
     "text": [
      "\n",
      "      Epoch    GPU_mem   box_loss   cls_loss   dfl_loss  Instances       Size\n"
     ]
    },
    {
     "name": "stderr",
     "output_type": "stream",
     "text": [
      "     15/100      12.7G      1.663      1.444      1.195        183        512: 100%|██████████| 55/55 [00:57<00:00,  1.04s/it]\n",
      "                 Class     Images  Instances      Box(P          R      mAP50  mAP50-95): 100%|██████████| 8/8 [00:07<00:00,  1.04it/s]"
     ]
    },
    {
     "name": "stdout",
     "output_type": "stream",
     "text": [
      "                   all        501       2144      0.677      0.461      0.514      0.258\n"
     ]
    },
    {
     "name": "stderr",
     "output_type": "stream",
     "text": [
      "\n"
     ]
    },
    {
     "name": "stdout",
     "output_type": "stream",
     "text": [
      "\n",
      "      Epoch    GPU_mem   box_loss   cls_loss   dfl_loss  Instances       Size\n"
     ]
    },
    {
     "name": "stderr",
     "output_type": "stream",
     "text": [
      "     16/100      12.6G      1.659       1.42       1.21        161        512: 100%|██████████| 55/55 [00:57<00:00,  1.04s/it]\n",
      "                 Class     Images  Instances      Box(P          R      mAP50  mAP50-95): 100%|██████████| 8/8 [00:07<00:00,  1.04it/s]"
     ]
    },
    {
     "name": "stdout",
     "output_type": "stream",
     "text": [
      "                   all        501       2144      0.527      0.478      0.438      0.209\n"
     ]
    },
    {
     "name": "stderr",
     "output_type": "stream",
     "text": [
      "\n"
     ]
    },
    {
     "name": "stdout",
     "output_type": "stream",
     "text": [
      "\n",
      "      Epoch    GPU_mem   box_loss   cls_loss   dfl_loss  Instances       Size\n"
     ]
    },
    {
     "name": "stderr",
     "output_type": "stream",
     "text": [
      "     17/100      12.6G      1.638      1.407      1.178        167        512: 100%|██████████| 55/55 [00:57<00:00,  1.04s/it]\n",
      "                 Class     Images  Instances      Box(P          R      mAP50  mAP50-95): 100%|██████████| 8/8 [00:07<00:00,  1.05it/s]"
     ]
    },
    {
     "name": "stdout",
     "output_type": "stream",
     "text": [
      "                   all        501       2144      0.719      0.483      0.531      0.273\n"
     ]
    },
    {
     "name": "stderr",
     "output_type": "stream",
     "text": [
      "\n"
     ]
    },
    {
     "name": "stdout",
     "output_type": "stream",
     "text": [
      "\n",
      "      Epoch    GPU_mem   box_loss   cls_loss   dfl_loss  Instances       Size\n"
     ]
    },
    {
     "name": "stderr",
     "output_type": "stream",
     "text": [
      "     18/100      12.7G        1.6      1.362      1.171        130        512: 100%|██████████| 55/55 [00:57<00:00,  1.04s/it]\n",
      "                 Class     Images  Instances      Box(P          R      mAP50  mAP50-95): 100%|██████████| 8/8 [00:07<00:00,  1.04it/s]"
     ]
    },
    {
     "name": "stdout",
     "output_type": "stream",
     "text": [
      "                   all        501       2144      0.641      0.478      0.506       0.26\n"
     ]
    },
    {
     "name": "stderr",
     "output_type": "stream",
     "text": [
      "\n"
     ]
    },
    {
     "name": "stdout",
     "output_type": "stream",
     "text": [
      "\n",
      "      Epoch    GPU_mem   box_loss   cls_loss   dfl_loss  Instances       Size\n"
     ]
    },
    {
     "name": "stderr",
     "output_type": "stream",
     "text": [
      "     19/100      12.7G      1.594      1.332      1.165        148        512: 100%|██████████| 55/55 [00:57<00:00,  1.04s/it]\n",
      "                 Class     Images  Instances      Box(P          R      mAP50  mAP50-95): 100%|██████████| 8/8 [00:07<00:00,  1.04it/s]"
     ]
    },
    {
     "name": "stdout",
     "output_type": "stream",
     "text": [
      "                   all        501       2144      0.666      0.454      0.509      0.268\n"
     ]
    },
    {
     "name": "stderr",
     "output_type": "stream",
     "text": [
      "\n"
     ]
    },
    {
     "name": "stdout",
     "output_type": "stream",
     "text": [
      "\n",
      "      Epoch    GPU_mem   box_loss   cls_loss   dfl_loss  Instances       Size\n"
     ]
    },
    {
     "name": "stderr",
     "output_type": "stream",
     "text": [
      "     20/100      12.7G      1.587      1.314      1.162        201        512: 100%|██████████| 55/55 [00:57<00:00,  1.04s/it]\n",
      "                 Class     Images  Instances      Box(P          R      mAP50  mAP50-95): 100%|██████████| 8/8 [00:07<00:00,  1.03it/s]"
     ]
    },
    {
     "name": "stdout",
     "output_type": "stream",
     "text": [
      "                   all        501       2144      0.698      0.501      0.537      0.269\n"
     ]
    },
    {
     "name": "stderr",
     "output_type": "stream",
     "text": [
      "\n"
     ]
    },
    {
     "name": "stdout",
     "output_type": "stream",
     "text": [
      "\n",
      "      Epoch    GPU_mem   box_loss   cls_loss   dfl_loss  Instances       Size\n"
     ]
    },
    {
     "name": "stderr",
     "output_type": "stream",
     "text": [
      "     21/100      12.7G      1.569      1.311      1.157        180        512: 100%|██████████| 55/55 [00:57<00:00,  1.04s/it]\n",
      "                 Class     Images  Instances      Box(P          R      mAP50  mAP50-95): 100%|██████████| 8/8 [00:07<00:00,  1.05it/s]"
     ]
    },
    {
     "name": "stdout",
     "output_type": "stream",
     "text": [
      "                   all        501       2144      0.701      0.481      0.526       0.28\n"
     ]
    },
    {
     "name": "stderr",
     "output_type": "stream",
     "text": [
      "\n"
     ]
    },
    {
     "name": "stdout",
     "output_type": "stream",
     "text": [
      "\n",
      "      Epoch    GPU_mem   box_loss   cls_loss   dfl_loss  Instances       Size\n"
     ]
    },
    {
     "name": "stderr",
     "output_type": "stream",
     "text": [
      "     22/100      12.8G      1.592       1.32      1.165        185        512: 100%|██████████| 55/55 [00:57<00:00,  1.04s/it]\n",
      "                 Class     Images  Instances      Box(P          R      mAP50  mAP50-95): 100%|██████████| 8/8 [00:07<00:00,  1.04it/s]"
     ]
    },
    {
     "name": "stdout",
     "output_type": "stream",
     "text": [
      "                   all        501       2144      0.652      0.486      0.514      0.252\n"
     ]
    },
    {
     "name": "stderr",
     "output_type": "stream",
     "text": [
      "\n"
     ]
    },
    {
     "name": "stdout",
     "output_type": "stream",
     "text": [
      "\n",
      "      Epoch    GPU_mem   box_loss   cls_loss   dfl_loss  Instances       Size\n"
     ]
    },
    {
     "name": "stderr",
     "output_type": "stream",
     "text": [
      "     23/100      12.7G      1.588      1.315      1.155        165        512: 100%|██████████| 55/55 [00:57<00:00,  1.04s/it]\n",
      "                 Class     Images  Instances      Box(P          R      mAP50  mAP50-95): 100%|██████████| 8/8 [00:07<00:00,  1.05it/s]"
     ]
    },
    {
     "name": "stdout",
     "output_type": "stream",
     "text": [
      "                   all        501       2144      0.718      0.484      0.538      0.282\n"
     ]
    },
    {
     "name": "stderr",
     "output_type": "stream",
     "text": [
      "\n"
     ]
    },
    {
     "name": "stdout",
     "output_type": "stream",
     "text": [
      "\n",
      "      Epoch    GPU_mem   box_loss   cls_loss   dfl_loss  Instances       Size\n"
     ]
    },
    {
     "name": "stderr",
     "output_type": "stream",
     "text": [
      "     24/100      12.6G      1.554      1.271      1.141        175        512: 100%|██████████| 55/55 [00:57<00:00,  1.04s/it]\n",
      "                 Class     Images  Instances      Box(P          R      mAP50  mAP50-95): 100%|██████████| 8/8 [00:07<00:00,  1.05it/s]"
     ]
    },
    {
     "name": "stdout",
     "output_type": "stream",
     "text": [
      "                   all        501       2144      0.685      0.492      0.524      0.291\n"
     ]
    },
    {
     "name": "stderr",
     "output_type": "stream",
     "text": [
      "\n"
     ]
    },
    {
     "name": "stdout",
     "output_type": "stream",
     "text": [
      "\n",
      "      Epoch    GPU_mem   box_loss   cls_loss   dfl_loss  Instances       Size\n"
     ]
    },
    {
     "name": "stderr",
     "output_type": "stream",
     "text": [
      "     25/100      12.7G      1.538      1.267      1.138        144        512: 100%|██████████| 55/55 [00:57<00:00,  1.04s/it]\n",
      "                 Class     Images  Instances      Box(P          R      mAP50  mAP50-95): 100%|██████████| 8/8 [00:07<00:00,  1.04it/s]"
     ]
    },
    {
     "name": "stdout",
     "output_type": "stream",
     "text": [
      "                   all        501       2144      0.686      0.501      0.553      0.278\n"
     ]
    },
    {
     "name": "stderr",
     "output_type": "stream",
     "text": [
      "\n"
     ]
    },
    {
     "name": "stdout",
     "output_type": "stream",
     "text": [
      "\n",
      "      Epoch    GPU_mem   box_loss   cls_loss   dfl_loss  Instances       Size\n"
     ]
    },
    {
     "name": "stderr",
     "output_type": "stream",
     "text": [
      "     26/100      12.6G      1.557      1.298      1.151        154        512: 100%|██████████| 55/55 [00:57<00:00,  1.04s/it]\n",
      "                 Class     Images  Instances      Box(P          R      mAP50  mAP50-95): 100%|██████████| 8/8 [00:07<00:00,  1.04it/s]"
     ]
    },
    {
     "name": "stdout",
     "output_type": "stream",
     "text": [
      "                   all        501       2144      0.599      0.504      0.525      0.267\n"
     ]
    },
    {
     "name": "stderr",
     "output_type": "stream",
     "text": [
      "\n"
     ]
    },
    {
     "name": "stdout",
     "output_type": "stream",
     "text": [
      "\n",
      "      Epoch    GPU_mem   box_loss   cls_loss   dfl_loss  Instances       Size\n"
     ]
    },
    {
     "name": "stderr",
     "output_type": "stream",
     "text": [
      "     27/100      12.7G      1.517      1.221      1.115        143        512: 100%|██████████| 55/55 [00:57<00:00,  1.04s/it]\n",
      "                 Class     Images  Instances      Box(P          R      mAP50  mAP50-95): 100%|██████████| 8/8 [00:07<00:00,  1.04it/s]"
     ]
    },
    {
     "name": "stdout",
     "output_type": "stream",
     "text": [
      "                   all        501       2144      0.731      0.479      0.543      0.276\n"
     ]
    },
    {
     "name": "stderr",
     "output_type": "stream",
     "text": [
      "\n"
     ]
    },
    {
     "name": "stdout",
     "output_type": "stream",
     "text": [
      "\n",
      "      Epoch    GPU_mem   box_loss   cls_loss   dfl_loss  Instances       Size\n"
     ]
    },
    {
     "name": "stderr",
     "output_type": "stream",
     "text": [
      "     28/100      12.7G      1.525      1.241      1.138        177        512: 100%|██████████| 55/55 [00:57<00:00,  1.05s/it]\n",
      "                 Class     Images  Instances      Box(P          R      mAP50  mAP50-95): 100%|██████████| 8/8 [00:07<00:00,  1.04it/s]"
     ]
    },
    {
     "name": "stdout",
     "output_type": "stream",
     "text": [
      "                   all        501       2144      0.633      0.478       0.51      0.262\n"
     ]
    },
    {
     "name": "stderr",
     "output_type": "stream",
     "text": [
      "\n"
     ]
    },
    {
     "name": "stdout",
     "output_type": "stream",
     "text": [
      "\n",
      "      Epoch    GPU_mem   box_loss   cls_loss   dfl_loss  Instances       Size\n"
     ]
    },
    {
     "name": "stderr",
     "output_type": "stream",
     "text": [
      "     29/100      12.7G      1.484       1.23      1.122        160        512: 100%|██████████| 55/55 [00:57<00:00,  1.04s/it]\n",
      "                 Class     Images  Instances      Box(P          R      mAP50  mAP50-95): 100%|██████████| 8/8 [00:07<00:00,  1.05it/s]"
     ]
    },
    {
     "name": "stdout",
     "output_type": "stream",
     "text": [
      "                   all        501       2144      0.664      0.499      0.549      0.279\n"
     ]
    },
    {
     "name": "stderr",
     "output_type": "stream",
     "text": [
      "\n"
     ]
    },
    {
     "name": "stdout",
     "output_type": "stream",
     "text": [
      "\n",
      "      Epoch    GPU_mem   box_loss   cls_loss   dfl_loss  Instances       Size\n"
     ]
    },
    {
     "name": "stderr",
     "output_type": "stream",
     "text": [
      "     30/100      12.6G      1.484      1.217      1.115        142        512: 100%|██████████| 55/55 [00:57<00:00,  1.04s/it]\n",
      "                 Class     Images  Instances      Box(P          R      mAP50  mAP50-95): 100%|██████████| 8/8 [00:07<00:00,  1.04it/s]"
     ]
    },
    {
     "name": "stdout",
     "output_type": "stream",
     "text": [
      "                   all        501       2144      0.556      0.521      0.485      0.248\n"
     ]
    },
    {
     "name": "stderr",
     "output_type": "stream",
     "text": [
      "\n"
     ]
    },
    {
     "name": "stdout",
     "output_type": "stream",
     "text": [
      "\n",
      "      Epoch    GPU_mem   box_loss   cls_loss   dfl_loss  Instances       Size\n"
     ]
    },
    {
     "name": "stderr",
     "output_type": "stream",
     "text": [
      "     31/100      12.6G      1.489      1.202      1.124        149        512: 100%|██████████| 55/55 [00:57<00:00,  1.04s/it]\n",
      "                 Class     Images  Instances      Box(P          R      mAP50  mAP50-95): 100%|██████████| 8/8 [00:07<00:00,  1.05it/s]"
     ]
    },
    {
     "name": "stdout",
     "output_type": "stream",
     "text": [
      "                   all        501       2144      0.665      0.441      0.496      0.264\n"
     ]
    },
    {
     "name": "stderr",
     "output_type": "stream",
     "text": [
      "\n"
     ]
    },
    {
     "name": "stdout",
     "output_type": "stream",
     "text": [
      "\n",
      "      Epoch    GPU_mem   box_loss   cls_loss   dfl_loss  Instances       Size\n"
     ]
    },
    {
     "name": "stderr",
     "output_type": "stream",
     "text": [
      "     32/100      12.7G      1.493      1.151       1.11        152        512: 100%|██████████| 55/55 [00:57<00:00,  1.04s/it]\n",
      "                 Class     Images  Instances      Box(P          R      mAP50  mAP50-95): 100%|██████████| 8/8 [00:07<00:00,  1.04it/s]"
     ]
    },
    {
     "name": "stdout",
     "output_type": "stream",
     "text": [
      "                   all        501       2144      0.692      0.521      0.574      0.307\n"
     ]
    },
    {
     "name": "stderr",
     "output_type": "stream",
     "text": [
      "\n"
     ]
    },
    {
     "name": "stdout",
     "output_type": "stream",
     "text": [
      "\n",
      "      Epoch    GPU_mem   box_loss   cls_loss   dfl_loss  Instances       Size\n"
     ]
    },
    {
     "name": "stderr",
     "output_type": "stream",
     "text": [
      "     33/100      12.7G      1.476      1.198      1.115        155        512: 100%|██████████| 55/55 [00:57<00:00,  1.04s/it]\n",
      "                 Class     Images  Instances      Box(P          R      mAP50  mAP50-95): 100%|██████████| 8/8 [00:07<00:00,  1.05it/s]"
     ]
    },
    {
     "name": "stdout",
     "output_type": "stream",
     "text": [
      "                   all        501       2144      0.627      0.497       0.51      0.245\n"
     ]
    },
    {
     "name": "stderr",
     "output_type": "stream",
     "text": [
      "\n"
     ]
    },
    {
     "name": "stdout",
     "output_type": "stream",
     "text": [
      "\n",
      "      Epoch    GPU_mem   box_loss   cls_loss   dfl_loss  Instances       Size\n"
     ]
    },
    {
     "name": "stderr",
     "output_type": "stream",
     "text": [
      "     34/100      12.6G      1.457      1.181      1.117        120        512: 100%|██████████| 55/55 [00:57<00:00,  1.04s/it]\n",
      "                 Class     Images  Instances      Box(P          R      mAP50  mAP50-95): 100%|██████████| 8/8 [00:07<00:00,  1.05it/s]"
     ]
    },
    {
     "name": "stdout",
     "output_type": "stream",
     "text": [
      "                   all        501       2144      0.677      0.511      0.555      0.283\n"
     ]
    },
    {
     "name": "stderr",
     "output_type": "stream",
     "text": [
      "\n"
     ]
    },
    {
     "name": "stdout",
     "output_type": "stream",
     "text": [
      "\n",
      "      Epoch    GPU_mem   box_loss   cls_loss   dfl_loss  Instances       Size\n"
     ]
    },
    {
     "name": "stderr",
     "output_type": "stream",
     "text": [
      "     35/100      12.6G      1.468      1.193      1.115        109        512: 100%|██████████| 55/55 [00:57<00:00,  1.04s/it]\n",
      "                 Class     Images  Instances      Box(P          R      mAP50  mAP50-95): 100%|██████████| 8/8 [00:07<00:00,  1.04it/s]"
     ]
    },
    {
     "name": "stdout",
     "output_type": "stream",
     "text": [
      "                   all        501       2144      0.708      0.501      0.564      0.295\n"
     ]
    },
    {
     "name": "stderr",
     "output_type": "stream",
     "text": [
      "\n"
     ]
    },
    {
     "name": "stdout",
     "output_type": "stream",
     "text": [
      "\n",
      "      Epoch    GPU_mem   box_loss   cls_loss   dfl_loss  Instances       Size\n"
     ]
    },
    {
     "name": "stderr",
     "output_type": "stream",
     "text": [
      "     36/100      12.6G      1.451      1.177       1.12        167        512: 100%|██████████| 55/55 [00:57<00:00,  1.04s/it]\n",
      "                 Class     Images  Instances      Box(P          R      mAP50  mAP50-95): 100%|██████████| 8/8 [00:07<00:00,  1.04it/s]"
     ]
    },
    {
     "name": "stdout",
     "output_type": "stream",
     "text": [
      "                   all        501       2144      0.742      0.509      0.575      0.303\n"
     ]
    },
    {
     "name": "stderr",
     "output_type": "stream",
     "text": [
      "\n"
     ]
    },
    {
     "name": "stdout",
     "output_type": "stream",
     "text": [
      "\n",
      "      Epoch    GPU_mem   box_loss   cls_loss   dfl_loss  Instances       Size\n"
     ]
    },
    {
     "name": "stderr",
     "output_type": "stream",
     "text": [
      "     37/100      12.6G      1.456      1.143      1.106        131        512: 100%|██████████| 55/55 [00:57<00:00,  1.04s/it]\n",
      "                 Class     Images  Instances      Box(P          R      mAP50  mAP50-95): 100%|██████████| 8/8 [00:07<00:00,  1.04it/s]"
     ]
    },
    {
     "name": "stdout",
     "output_type": "stream",
     "text": [
      "                   all        501       2144      0.702      0.535      0.592      0.314\n"
     ]
    },
    {
     "name": "stderr",
     "output_type": "stream",
     "text": [
      "\n"
     ]
    },
    {
     "name": "stdout",
     "output_type": "stream",
     "text": [
      "\n",
      "      Epoch    GPU_mem   box_loss   cls_loss   dfl_loss  Instances       Size\n"
     ]
    },
    {
     "name": "stderr",
     "output_type": "stream",
     "text": [
      "     38/100      12.7G      1.422      1.121      1.081        136        512: 100%|██████████| 55/55 [00:57<00:00,  1.04s/it]\n",
      "                 Class     Images  Instances      Box(P          R      mAP50  mAP50-95): 100%|██████████| 8/8 [00:07<00:00,  1.05it/s]"
     ]
    },
    {
     "name": "stdout",
     "output_type": "stream",
     "text": [
      "                   all        501       2144      0.696      0.549      0.595      0.325\n"
     ]
    },
    {
     "name": "stderr",
     "output_type": "stream",
     "text": [
      "\n"
     ]
    },
    {
     "name": "stdout",
     "output_type": "stream",
     "text": [
      "\n",
      "      Epoch    GPU_mem   box_loss   cls_loss   dfl_loss  Instances       Size\n"
     ]
    },
    {
     "name": "stderr",
     "output_type": "stream",
     "text": [
      "     39/100      12.6G      1.447      1.125      1.087        190        512: 100%|██████████| 55/55 [00:57<00:00,  1.04s/it]\n",
      "                 Class     Images  Instances      Box(P          R      mAP50  mAP50-95): 100%|██████████| 8/8 [00:07<00:00,  1.05it/s]"
     ]
    },
    {
     "name": "stdout",
     "output_type": "stream",
     "text": [
      "                   all        501       2144      0.719      0.543        0.6      0.326\n"
     ]
    },
    {
     "name": "stderr",
     "output_type": "stream",
     "text": [
      "\n"
     ]
    },
    {
     "name": "stdout",
     "output_type": "stream",
     "text": [
      "\n",
      "      Epoch    GPU_mem   box_loss   cls_loss   dfl_loss  Instances       Size\n"
     ]
    },
    {
     "name": "stderr",
     "output_type": "stream",
     "text": [
      "     40/100      12.7G      1.395      1.091      1.081        156        512: 100%|██████████| 55/55 [00:57<00:00,  1.04s/it]\n",
      "                 Class     Images  Instances      Box(P          R      mAP50  mAP50-95): 100%|██████████| 8/8 [00:07<00:00,  1.05it/s]"
     ]
    },
    {
     "name": "stdout",
     "output_type": "stream",
     "text": [
      "                   all        501       2144      0.714      0.545      0.601      0.319\n"
     ]
    },
    {
     "name": "stderr",
     "output_type": "stream",
     "text": [
      "\n"
     ]
    },
    {
     "name": "stdout",
     "output_type": "stream",
     "text": [
      "\n",
      "      Epoch    GPU_mem   box_loss   cls_loss   dfl_loss  Instances       Size\n"
     ]
    },
    {
     "name": "stderr",
     "output_type": "stream",
     "text": [
      "     41/100      12.6G      1.413      1.094      1.092        118        512: 100%|██████████| 55/55 [00:57<00:00,  1.04s/it]\n",
      "                 Class     Images  Instances      Box(P          R      mAP50  mAP50-95): 100%|██████████| 8/8 [00:07<00:00,  1.05it/s]"
     ]
    },
    {
     "name": "stdout",
     "output_type": "stream",
     "text": [
      "                   all        501       2144      0.714      0.562      0.617      0.329\n"
     ]
    },
    {
     "name": "stderr",
     "output_type": "stream",
     "text": [
      "\n"
     ]
    },
    {
     "name": "stdout",
     "output_type": "stream",
     "text": [
      "\n",
      "      Epoch    GPU_mem   box_loss   cls_loss   dfl_loss  Instances       Size\n"
     ]
    },
    {
     "name": "stderr",
     "output_type": "stream",
     "text": [
      "     42/100      12.6G      1.385      1.061      1.065        172        512: 100%|██████████| 55/55 [00:57<00:00,  1.04s/it]\n",
      "                 Class     Images  Instances      Box(P          R      mAP50  mAP50-95): 100%|██████████| 8/8 [00:07<00:00,  1.05it/s]"
     ]
    },
    {
     "name": "stdout",
     "output_type": "stream",
     "text": [
      "                   all        501       2144      0.708      0.515      0.575      0.317\n"
     ]
    },
    {
     "name": "stderr",
     "output_type": "stream",
     "text": [
      "\n"
     ]
    },
    {
     "name": "stdout",
     "output_type": "stream",
     "text": [
      "\n",
      "      Epoch    GPU_mem   box_loss   cls_loss   dfl_loss  Instances       Size\n"
     ]
    },
    {
     "name": "stderr",
     "output_type": "stream",
     "text": [
      "     43/100      12.6G      1.403      1.084      1.073        168        512: 100%|██████████| 55/55 [00:57<00:00,  1.04s/it]\n",
      "                 Class     Images  Instances      Box(P          R      mAP50  mAP50-95): 100%|██████████| 8/8 [00:07<00:00,  1.05it/s]"
     ]
    },
    {
     "name": "stdout",
     "output_type": "stream",
     "text": [
      "                   all        501       2144      0.742      0.484      0.561      0.299\n"
     ]
    },
    {
     "name": "stderr",
     "output_type": "stream",
     "text": [
      "\n"
     ]
    },
    {
     "name": "stdout",
     "output_type": "stream",
     "text": [
      "\n",
      "      Epoch    GPU_mem   box_loss   cls_loss   dfl_loss  Instances       Size\n"
     ]
    },
    {
     "name": "stderr",
     "output_type": "stream",
     "text": [
      "     44/100      12.6G      1.398       1.09      1.079        148        512: 100%|██████████| 55/55 [00:57<00:00,  1.05s/it]\n",
      "                 Class     Images  Instances      Box(P          R      mAP50  mAP50-95): 100%|██████████| 8/8 [00:07<00:00,  1.05it/s]"
     ]
    },
    {
     "name": "stdout",
     "output_type": "stream",
     "text": [
      "                   all        501       2144      0.744       0.54      0.608      0.324\n"
     ]
    },
    {
     "name": "stderr",
     "output_type": "stream",
     "text": [
      "\n"
     ]
    },
    {
     "name": "stdout",
     "output_type": "stream",
     "text": [
      "\n",
      "      Epoch    GPU_mem   box_loss   cls_loss   dfl_loss  Instances       Size\n"
     ]
    },
    {
     "name": "stderr",
     "output_type": "stream",
     "text": [
      "     45/100      12.6G      1.389      1.071      1.077        162        512: 100%|██████████| 55/55 [00:57<00:00,  1.04s/it]\n",
      "                 Class     Images  Instances      Box(P          R      mAP50  mAP50-95): 100%|██████████| 8/8 [00:07<00:00,  1.05it/s]"
     ]
    },
    {
     "name": "stdout",
     "output_type": "stream",
     "text": [
      "                   all        501       2144       0.73      0.534      0.608      0.328\n"
     ]
    },
    {
     "name": "stderr",
     "output_type": "stream",
     "text": [
      "\n"
     ]
    },
    {
     "name": "stdout",
     "output_type": "stream",
     "text": [
      "\n",
      "      Epoch    GPU_mem   box_loss   cls_loss   dfl_loss  Instances       Size\n"
     ]
    },
    {
     "name": "stderr",
     "output_type": "stream",
     "text": [
      "     46/100      12.6G      1.391       1.09      1.085        137        512: 100%|██████████| 55/55 [00:57<00:00,  1.04s/it]\n",
      "                 Class     Images  Instances      Box(P          R      mAP50  mAP50-95): 100%|██████████| 8/8 [00:07<00:00,  1.04it/s]"
     ]
    },
    {
     "name": "stdout",
     "output_type": "stream",
     "text": [
      "                   all        501       2144      0.722       0.51      0.581      0.327\n"
     ]
    },
    {
     "name": "stderr",
     "output_type": "stream",
     "text": [
      "\n"
     ]
    },
    {
     "name": "stdout",
     "output_type": "stream",
     "text": [
      "\n",
      "      Epoch    GPU_mem   box_loss   cls_loss   dfl_loss  Instances       Size\n"
     ]
    },
    {
     "name": "stderr",
     "output_type": "stream",
     "text": [
      "     47/100      12.6G      1.379      1.056      1.077        237        512: 100%|██████████| 55/55 [00:57<00:00,  1.04s/it]\n",
      "                 Class     Images  Instances      Box(P          R      mAP50  mAP50-95): 100%|██████████| 8/8 [00:07<00:00,  1.05it/s]"
     ]
    },
    {
     "name": "stdout",
     "output_type": "stream",
     "text": [
      "                   all        501       2144       0.71      0.548      0.603      0.342\n"
     ]
    },
    {
     "name": "stderr",
     "output_type": "stream",
     "text": [
      "\n"
     ]
    },
    {
     "name": "stdout",
     "output_type": "stream",
     "text": [
      "\n",
      "      Epoch    GPU_mem   box_loss   cls_loss   dfl_loss  Instances       Size\n"
     ]
    },
    {
     "name": "stderr",
     "output_type": "stream",
     "text": [
      "     48/100      12.6G      1.372      1.067      1.064        142        512: 100%|██████████| 55/55 [00:57<00:00,  1.04s/it]\n",
      "                 Class     Images  Instances      Box(P          R      mAP50  mAP50-95): 100%|██████████| 8/8 [00:07<00:00,  1.04it/s]"
     ]
    },
    {
     "name": "stdout",
     "output_type": "stream",
     "text": [
      "                   all        501       2144      0.722      0.537      0.601      0.316\n"
     ]
    },
    {
     "name": "stderr",
     "output_type": "stream",
     "text": [
      "\n"
     ]
    },
    {
     "name": "stdout",
     "output_type": "stream",
     "text": [
      "\n",
      "      Epoch    GPU_mem   box_loss   cls_loss   dfl_loss  Instances       Size\n"
     ]
    },
    {
     "name": "stderr",
     "output_type": "stream",
     "text": [
      "     49/100      12.7G      1.384      1.058      1.069        142        512: 100%|██████████| 55/55 [00:57<00:00,  1.05s/it]\n",
      "                 Class     Images  Instances      Box(P          R      mAP50  mAP50-95): 100%|██████████| 8/8 [00:07<00:00,  1.05it/s]"
     ]
    },
    {
     "name": "stdout",
     "output_type": "stream",
     "text": [
      "                   all        501       2144      0.738      0.519      0.598      0.321\n"
     ]
    },
    {
     "name": "stderr",
     "output_type": "stream",
     "text": [
      "\n"
     ]
    },
    {
     "name": "stdout",
     "output_type": "stream",
     "text": [
      "\n",
      "      Epoch    GPU_mem   box_loss   cls_loss   dfl_loss  Instances       Size\n"
     ]
    },
    {
     "name": "stderr",
     "output_type": "stream",
     "text": [
      "     50/100      12.6G      1.379      1.053      1.069        184        512: 100%|██████████| 55/55 [00:57<00:00,  1.04s/it]\n",
      "                 Class     Images  Instances      Box(P          R      mAP50  mAP50-95): 100%|██████████| 8/8 [00:07<00:00,  1.04it/s]"
     ]
    },
    {
     "name": "stdout",
     "output_type": "stream",
     "text": [
      "                   all        501       2144      0.695      0.545      0.602      0.336\n"
     ]
    },
    {
     "name": "stderr",
     "output_type": "stream",
     "text": [
      "\n"
     ]
    },
    {
     "name": "stdout",
     "output_type": "stream",
     "text": [
      "\n",
      "      Epoch    GPU_mem   box_loss   cls_loss   dfl_loss  Instances       Size\n"
     ]
    },
    {
     "name": "stderr",
     "output_type": "stream",
     "text": [
      "     51/100      12.7G      1.389      1.065      1.078        206        512: 100%|██████████| 55/55 [00:57<00:00,  1.04s/it]\n",
      "                 Class     Images  Instances      Box(P          R      mAP50  mAP50-95): 100%|██████████| 8/8 [00:07<00:00,  1.04it/s]"
     ]
    },
    {
     "name": "stdout",
     "output_type": "stream",
     "text": [
      "                   all        501       2144      0.711      0.558       0.61      0.332\n"
     ]
    },
    {
     "name": "stderr",
     "output_type": "stream",
     "text": [
      "\n"
     ]
    },
    {
     "name": "stdout",
     "output_type": "stream",
     "text": [
      "\n",
      "      Epoch    GPU_mem   box_loss   cls_loss   dfl_loss  Instances       Size\n"
     ]
    },
    {
     "name": "stderr",
     "output_type": "stream",
     "text": [
      "     52/100      12.6G      1.385      1.036      1.064        138        512: 100%|██████████| 55/55 [00:57<00:00,  1.04s/it]\n",
      "                 Class     Images  Instances      Box(P          R      mAP50  mAP50-95): 100%|██████████| 8/8 [00:07<00:00,  1.05it/s]"
     ]
    },
    {
     "name": "stdout",
     "output_type": "stream",
     "text": [
      "                   all        501       2144      0.703      0.555      0.612      0.336\n"
     ]
    },
    {
     "name": "stderr",
     "output_type": "stream",
     "text": [
      "\n"
     ]
    },
    {
     "name": "stdout",
     "output_type": "stream",
     "text": [
      "\n",
      "      Epoch    GPU_mem   box_loss   cls_loss   dfl_loss  Instances       Size\n"
     ]
    },
    {
     "name": "stderr",
     "output_type": "stream",
     "text": [
      "     53/100      12.8G      1.341      1.004      1.054        159        512: 100%|██████████| 55/55 [00:57<00:00,  1.04s/it]\n",
      "                 Class     Images  Instances      Box(P          R      mAP50  mAP50-95): 100%|██████████| 8/8 [00:07<00:00,  1.04it/s]"
     ]
    },
    {
     "name": "stdout",
     "output_type": "stream",
     "text": [
      "                   all        501       2144      0.689      0.574      0.618      0.327\n"
     ]
    },
    {
     "name": "stderr",
     "output_type": "stream",
     "text": [
      "\n"
     ]
    },
    {
     "name": "stdout",
     "output_type": "stream",
     "text": [
      "\n",
      "      Epoch    GPU_mem   box_loss   cls_loss   dfl_loss  Instances       Size\n"
     ]
    },
    {
     "name": "stderr",
     "output_type": "stream",
     "text": [
      "     54/100      12.6G      1.346      1.029      1.061        156        512: 100%|██████████| 55/55 [00:57<00:00,  1.04s/it]\n",
      "                 Class     Images  Instances      Box(P          R      mAP50  mAP50-95): 100%|██████████| 8/8 [00:07<00:00,  1.03it/s]"
     ]
    },
    {
     "name": "stdout",
     "output_type": "stream",
     "text": [
      "                   all        501       2144       0.72      0.574      0.617      0.343\n"
     ]
    },
    {
     "name": "stderr",
     "output_type": "stream",
     "text": [
      "\n"
     ]
    },
    {
     "name": "stdout",
     "output_type": "stream",
     "text": [
      "\n",
      "      Epoch    GPU_mem   box_loss   cls_loss   dfl_loss  Instances       Size\n"
     ]
    },
    {
     "name": "stderr",
     "output_type": "stream",
     "text": [
      "     55/100      12.7G      1.351      1.011      1.043        135        512: 100%|██████████| 55/55 [00:57<00:00,  1.05s/it]\n",
      "                 Class     Images  Instances      Box(P          R      mAP50  mAP50-95): 100%|██████████| 8/8 [00:07<00:00,  1.04it/s]"
     ]
    },
    {
     "name": "stdout",
     "output_type": "stream",
     "text": [
      "                   all        501       2144      0.753      0.561      0.627      0.345\n"
     ]
    },
    {
     "name": "stderr",
     "output_type": "stream",
     "text": [
      "\n"
     ]
    },
    {
     "name": "stdout",
     "output_type": "stream",
     "text": [
      "\n",
      "      Epoch    GPU_mem   box_loss   cls_loss   dfl_loss  Instances       Size\n"
     ]
    },
    {
     "name": "stderr",
     "output_type": "stream",
     "text": [
      "     56/100      12.6G      1.359       1.03      1.051        145        512: 100%|██████████| 55/55 [00:57<00:00,  1.04s/it]\n",
      "                 Class     Images  Instances      Box(P          R      mAP50  mAP50-95): 100%|██████████| 8/8 [00:07<00:00,  1.04it/s]"
     ]
    },
    {
     "name": "stdout",
     "output_type": "stream",
     "text": [
      "                   all        501       2144      0.752      0.566       0.63      0.355\n"
     ]
    },
    {
     "name": "stderr",
     "output_type": "stream",
     "text": [
      "\n"
     ]
    },
    {
     "name": "stdout",
     "output_type": "stream",
     "text": [
      "\n",
      "      Epoch    GPU_mem   box_loss   cls_loss   dfl_loss  Instances       Size\n"
     ]
    },
    {
     "name": "stderr",
     "output_type": "stream",
     "text": [
      "     57/100      12.6G      1.343     0.9948      1.053        117        512: 100%|██████████| 55/55 [00:57<00:00,  1.04s/it]\n",
      "                 Class     Images  Instances      Box(P          R      mAP50  mAP50-95): 100%|██████████| 8/8 [00:07<00:00,  1.05it/s]"
     ]
    },
    {
     "name": "stdout",
     "output_type": "stream",
     "text": [
      "                   all        501       2144      0.735       0.56      0.623      0.326\n"
     ]
    },
    {
     "name": "stderr",
     "output_type": "stream",
     "text": [
      "\n"
     ]
    },
    {
     "name": "stdout",
     "output_type": "stream",
     "text": [
      "\n",
      "      Epoch    GPU_mem   box_loss   cls_loss   dfl_loss  Instances       Size\n"
     ]
    },
    {
     "name": "stderr",
     "output_type": "stream",
     "text": [
      "     58/100      12.6G      1.348      1.017      1.041        110        512: 100%|██████████| 55/55 [00:57<00:00,  1.04s/it]\n",
      "                 Class     Images  Instances      Box(P          R      mAP50  mAP50-95): 100%|██████████| 8/8 [00:07<00:00,  1.05it/s]"
     ]
    },
    {
     "name": "stdout",
     "output_type": "stream",
     "text": [
      "                   all        501       2144      0.707      0.576      0.618       0.34\n"
     ]
    },
    {
     "name": "stderr",
     "output_type": "stream",
     "text": [
      "\n"
     ]
    },
    {
     "name": "stdout",
     "output_type": "stream",
     "text": [
      "\n",
      "      Epoch    GPU_mem   box_loss   cls_loss   dfl_loss  Instances       Size\n"
     ]
    },
    {
     "name": "stderr",
     "output_type": "stream",
     "text": [
      "     59/100      12.8G      1.341     0.9575      1.035        130        512: 100%|██████████| 55/55 [00:57<00:00,  1.04s/it]\n",
      "                 Class     Images  Instances      Box(P          R      mAP50  mAP50-95): 100%|██████████| 8/8 [00:07<00:00,  1.05it/s]"
     ]
    },
    {
     "name": "stdout",
     "output_type": "stream",
     "text": [
      "                   all        501       2144      0.773      0.558       0.64      0.354\n"
     ]
    },
    {
     "name": "stderr",
     "output_type": "stream",
     "text": [
      "\n"
     ]
    },
    {
     "name": "stdout",
     "output_type": "stream",
     "text": [
      "\n",
      "      Epoch    GPU_mem   box_loss   cls_loss   dfl_loss  Instances       Size\n"
     ]
    },
    {
     "name": "stderr",
     "output_type": "stream",
     "text": [
      "     60/100      12.7G      1.353     0.9649       1.04        260        512: 100%|██████████| 55/55 [00:57<00:00,  1.05s/it]\n",
      "                 Class     Images  Instances      Box(P          R      mAP50  mAP50-95): 100%|██████████| 8/8 [00:07<00:00,  1.05it/s]"
     ]
    },
    {
     "name": "stdout",
     "output_type": "stream",
     "text": [
      "                   all        501       2144      0.757      0.562      0.629       0.35\n"
     ]
    },
    {
     "name": "stderr",
     "output_type": "stream",
     "text": [
      "\n"
     ]
    },
    {
     "name": "stdout",
     "output_type": "stream",
     "text": [
      "\n",
      "      Epoch    GPU_mem   box_loss   cls_loss   dfl_loss  Instances       Size\n"
     ]
    },
    {
     "name": "stderr",
     "output_type": "stream",
     "text": [
      "     61/100      12.6G      1.321     0.9737      1.027        152        512: 100%|██████████| 55/55 [00:57<00:00,  1.04s/it]\n",
      "                 Class     Images  Instances      Box(P          R      mAP50  mAP50-95): 100%|██████████| 8/8 [00:07<00:00,  1.04it/s]"
     ]
    },
    {
     "name": "stdout",
     "output_type": "stream",
     "text": [
      "                   all        501       2144       0.73       0.57      0.622      0.336\n"
     ]
    },
    {
     "name": "stderr",
     "output_type": "stream",
     "text": [
      "\n"
     ]
    },
    {
     "name": "stdout",
     "output_type": "stream",
     "text": [
      "\n",
      "      Epoch    GPU_mem   box_loss   cls_loss   dfl_loss  Instances       Size\n"
     ]
    },
    {
     "name": "stderr",
     "output_type": "stream",
     "text": [
      "     62/100      12.6G      1.321     0.9439      1.025        140        512: 100%|██████████| 55/55 [00:57<00:00,  1.05s/it]\n",
      "                 Class     Images  Instances      Box(P          R      mAP50  mAP50-95): 100%|██████████| 8/8 [00:07<00:00,  1.05it/s]"
     ]
    },
    {
     "name": "stdout",
     "output_type": "stream",
     "text": [
      "                   all        501       2144      0.736      0.588      0.638      0.359\n"
     ]
    },
    {
     "name": "stderr",
     "output_type": "stream",
     "text": [
      "\n"
     ]
    },
    {
     "name": "stdout",
     "output_type": "stream",
     "text": [
      "\n",
      "      Epoch    GPU_mem   box_loss   cls_loss   dfl_loss  Instances       Size\n"
     ]
    },
    {
     "name": "stderr",
     "output_type": "stream",
     "text": [
      "     63/100      12.7G      1.287      0.921      1.019        145        512: 100%|██████████| 55/55 [00:57<00:00,  1.04s/it]\n",
      "                 Class     Images  Instances      Box(P          R      mAP50  mAP50-95): 100%|██████████| 8/8 [00:07<00:00,  1.05it/s]"
     ]
    },
    {
     "name": "stdout",
     "output_type": "stream",
     "text": [
      "                   all        501       2144      0.744       0.59      0.637      0.355\n"
     ]
    },
    {
     "name": "stderr",
     "output_type": "stream",
     "text": [
      "\n"
     ]
    },
    {
     "name": "stdout",
     "output_type": "stream",
     "text": [
      "\n",
      "      Epoch    GPU_mem   box_loss   cls_loss   dfl_loss  Instances       Size\n"
     ]
    },
    {
     "name": "stderr",
     "output_type": "stream",
     "text": [
      "     64/100      12.7G      1.312     0.9483      1.025        177        512: 100%|██████████| 55/55 [00:57<00:00,  1.04s/it]\n",
      "                 Class     Images  Instances      Box(P          R      mAP50  mAP50-95): 100%|██████████| 8/8 [00:07<00:00,  1.05it/s]"
     ]
    },
    {
     "name": "stdout",
     "output_type": "stream",
     "text": [
      "                   all        501       2144      0.737      0.576      0.626      0.349\n"
     ]
    },
    {
     "name": "stderr",
     "output_type": "stream",
     "text": [
      "\n"
     ]
    },
    {
     "name": "stdout",
     "output_type": "stream",
     "text": [
      "\n",
      "      Epoch    GPU_mem   box_loss   cls_loss   dfl_loss  Instances       Size\n"
     ]
    },
    {
     "name": "stderr",
     "output_type": "stream",
     "text": [
      "     65/100      12.6G       1.33     0.9733      1.034        128        512: 100%|██████████| 55/55 [00:57<00:00,  1.04s/it]\n",
      "                 Class     Images  Instances      Box(P          R      mAP50  mAP50-95): 100%|██████████| 8/8 [00:07<00:00,  1.04it/s]"
     ]
    },
    {
     "name": "stdout",
     "output_type": "stream",
     "text": [
      "                   all        501       2144      0.744       0.57      0.635      0.357\n"
     ]
    },
    {
     "name": "stderr",
     "output_type": "stream",
     "text": [
      "\n"
     ]
    },
    {
     "name": "stdout",
     "output_type": "stream",
     "text": [
      "\n",
      "      Epoch    GPU_mem   box_loss   cls_loss   dfl_loss  Instances       Size\n"
     ]
    },
    {
     "name": "stderr",
     "output_type": "stream",
     "text": [
      "     66/100      12.6G      1.316      0.961      1.035        155        512: 100%|██████████| 55/55 [00:57<00:00,  1.04s/it]\n",
      "                 Class     Images  Instances      Box(P          R      mAP50  mAP50-95): 100%|██████████| 8/8 [00:07<00:00,  1.05it/s]"
     ]
    },
    {
     "name": "stdout",
     "output_type": "stream",
     "text": [
      "                   all        501       2144      0.783      0.553      0.632      0.357\n"
     ]
    },
    {
     "name": "stderr",
     "output_type": "stream",
     "text": [
      "\n"
     ]
    },
    {
     "name": "stdout",
     "output_type": "stream",
     "text": [
      "\n",
      "      Epoch    GPU_mem   box_loss   cls_loss   dfl_loss  Instances       Size\n"
     ]
    },
    {
     "name": "stderr",
     "output_type": "stream",
     "text": [
      "     67/100      12.7G      1.292     0.9261       1.02        155        512: 100%|██████████| 55/55 [00:57<00:00,  1.04s/it]\n",
      "                 Class     Images  Instances      Box(P          R      mAP50  mAP50-95): 100%|██████████| 8/8 [00:07<00:00,  1.05it/s]"
     ]
    },
    {
     "name": "stdout",
     "output_type": "stream",
     "text": [
      "                   all        501       2144      0.772      0.564      0.639      0.349\n"
     ]
    },
    {
     "name": "stderr",
     "output_type": "stream",
     "text": [
      "\n"
     ]
    },
    {
     "name": "stdout",
     "output_type": "stream",
     "text": [
      "\n",
      "      Epoch    GPU_mem   box_loss   cls_loss   dfl_loss  Instances       Size\n"
     ]
    },
    {
     "name": "stderr",
     "output_type": "stream",
     "text": [
      "     68/100      12.7G      1.301      0.937      1.013        163        512: 100%|██████████| 55/55 [00:57<00:00,  1.04s/it]\n",
      "                 Class     Images  Instances      Box(P          R      mAP50  mAP50-95): 100%|██████████| 8/8 [00:07<00:00,  1.04it/s]"
     ]
    },
    {
     "name": "stdout",
     "output_type": "stream",
     "text": [
      "                   all        501       2144      0.776      0.581      0.644       0.36\n"
     ]
    },
    {
     "name": "stderr",
     "output_type": "stream",
     "text": [
      "\n"
     ]
    },
    {
     "name": "stdout",
     "output_type": "stream",
     "text": [
      "\n",
      "      Epoch    GPU_mem   box_loss   cls_loss   dfl_loss  Instances       Size\n"
     ]
    },
    {
     "name": "stderr",
     "output_type": "stream",
     "text": [
      "     69/100      12.6G      1.291     0.9214      1.008        146        512: 100%|██████████| 55/55 [00:57<00:00,  1.04s/it]\n",
      "                 Class     Images  Instances      Box(P          R      mAP50  mAP50-95): 100%|██████████| 8/8 [00:07<00:00,  1.04it/s]"
     ]
    },
    {
     "name": "stdout",
     "output_type": "stream",
     "text": [
      "                   all        501       2144      0.725      0.608      0.643      0.359\n"
     ]
    },
    {
     "name": "stderr",
     "output_type": "stream",
     "text": [
      "\n"
     ]
    },
    {
     "name": "stdout",
     "output_type": "stream",
     "text": [
      "\n",
      "      Epoch    GPU_mem   box_loss   cls_loss   dfl_loss  Instances       Size\n"
     ]
    },
    {
     "name": "stderr",
     "output_type": "stream",
     "text": [
      "     70/100      12.6G      1.279     0.9192      1.005        135        512: 100%|██████████| 55/55 [00:57<00:00,  1.05s/it]\n",
      "                 Class     Images  Instances      Box(P          R      mAP50  mAP50-95): 100%|██████████| 8/8 [00:07<00:00,  1.04it/s]"
     ]
    },
    {
     "name": "stdout",
     "output_type": "stream",
     "text": [
      "                   all        501       2144      0.751      0.594      0.645      0.363\n"
     ]
    },
    {
     "name": "stderr",
     "output_type": "stream",
     "text": [
      "\n"
     ]
    },
    {
     "name": "stdout",
     "output_type": "stream",
     "text": [
      "\n",
      "      Epoch    GPU_mem   box_loss   cls_loss   dfl_loss  Instances       Size\n"
     ]
    },
    {
     "name": "stderr",
     "output_type": "stream",
     "text": [
      "     71/100      12.6G      1.273     0.9115       1.01        121        512: 100%|██████████| 55/55 [00:57<00:00,  1.04s/it]\n",
      "                 Class     Images  Instances      Box(P          R      mAP50  mAP50-95): 100%|██████████| 8/8 [00:07<00:00,  1.04it/s]"
     ]
    },
    {
     "name": "stdout",
     "output_type": "stream",
     "text": [
      "                   all        501       2144      0.748      0.598      0.654      0.372\n"
     ]
    },
    {
     "name": "stderr",
     "output_type": "stream",
     "text": [
      "\n"
     ]
    },
    {
     "name": "stdout",
     "output_type": "stream",
     "text": [
      "\n",
      "      Epoch    GPU_mem   box_loss   cls_loss   dfl_loss  Instances       Size\n"
     ]
    },
    {
     "name": "stderr",
     "output_type": "stream",
     "text": [
      "     72/100      12.6G      1.289     0.8999      1.008        141        512: 100%|██████████| 55/55 [00:57<00:00,  1.04s/it]\n",
      "                 Class     Images  Instances      Box(P          R      mAP50  mAP50-95): 100%|██████████| 8/8 [00:07<00:00,  1.04it/s]"
     ]
    },
    {
     "name": "stdout",
     "output_type": "stream",
     "text": [
      "                   all        501       2144       0.74      0.606      0.653      0.364\n"
     ]
    },
    {
     "name": "stderr",
     "output_type": "stream",
     "text": [
      "\n"
     ]
    },
    {
     "name": "stdout",
     "output_type": "stream",
     "text": [
      "\n",
      "      Epoch    GPU_mem   box_loss   cls_loss   dfl_loss  Instances       Size\n"
     ]
    },
    {
     "name": "stderr",
     "output_type": "stream",
     "text": [
      "     73/100      12.6G      1.262     0.8906      1.001        176        512: 100%|██████████| 55/55 [00:57<00:00,  1.05s/it]\n",
      "                 Class     Images  Instances      Box(P          R      mAP50  mAP50-95): 100%|██████████| 8/8 [00:07<00:00,  1.05it/s]"
     ]
    },
    {
     "name": "stdout",
     "output_type": "stream",
     "text": [
      "                   all        501       2144      0.771      0.574       0.65      0.362\n"
     ]
    },
    {
     "name": "stderr",
     "output_type": "stream",
     "text": [
      "\n"
     ]
    },
    {
     "name": "stdout",
     "output_type": "stream",
     "text": [
      "\n",
      "      Epoch    GPU_mem   box_loss   cls_loss   dfl_loss  Instances       Size\n"
     ]
    },
    {
     "name": "stderr",
     "output_type": "stream",
     "text": [
      "     74/100      12.6G      1.246     0.8778       1.01        117        512: 100%|██████████| 55/55 [00:57<00:00,  1.04s/it]\n",
      "                 Class     Images  Instances      Box(P          R      mAP50  mAP50-95): 100%|██████████| 8/8 [00:07<00:00,  1.05it/s]"
     ]
    },
    {
     "name": "stdout",
     "output_type": "stream",
     "text": [
      "                   all        501       2144      0.763      0.593      0.657      0.369\n"
     ]
    },
    {
     "name": "stderr",
     "output_type": "stream",
     "text": [
      "\n"
     ]
    },
    {
     "name": "stdout",
     "output_type": "stream",
     "text": [
      "\n",
      "      Epoch    GPU_mem   box_loss   cls_loss   dfl_loss  Instances       Size\n"
     ]
    },
    {
     "name": "stderr",
     "output_type": "stream",
     "text": [
      "     75/100      12.7G      1.271     0.8861      1.006        119        512: 100%|██████████| 55/55 [00:57<00:00,  1.05s/it]\n",
      "                 Class     Images  Instances      Box(P          R      mAP50  mAP50-95): 100%|██████████| 8/8 [00:07<00:00,  1.05it/s]"
     ]
    },
    {
     "name": "stdout",
     "output_type": "stream",
     "text": [
      "                   all        501       2144      0.774      0.606      0.666      0.371\n"
     ]
    },
    {
     "name": "stderr",
     "output_type": "stream",
     "text": [
      "\n"
     ]
    },
    {
     "name": "stdout",
     "output_type": "stream",
     "text": [
      "\n",
      "      Epoch    GPU_mem   box_loss   cls_loss   dfl_loss  Instances       Size\n"
     ]
    },
    {
     "name": "stderr",
     "output_type": "stream",
     "text": [
      "     76/100      12.6G      1.263     0.8895       1.01        136        512: 100%|██████████| 55/55 [00:57<00:00,  1.05s/it]\n",
      "                 Class     Images  Instances      Box(P          R      mAP50  mAP50-95): 100%|██████████| 8/8 [00:07<00:00,  1.04it/s]"
     ]
    },
    {
     "name": "stdout",
     "output_type": "stream",
     "text": [
      "                   all        501       2144      0.758        0.6      0.657      0.367\n"
     ]
    },
    {
     "name": "stderr",
     "output_type": "stream",
     "text": [
      "\n"
     ]
    },
    {
     "name": "stdout",
     "output_type": "stream",
     "text": [
      "\n",
      "      Epoch    GPU_mem   box_loss   cls_loss   dfl_loss  Instances       Size\n"
     ]
    },
    {
     "name": "stderr",
     "output_type": "stream",
     "text": [
      "     77/100      12.7G      1.245     0.8606          1        140        512: 100%|██████████| 55/55 [00:57<00:00,  1.05s/it]\n",
      "                 Class     Images  Instances      Box(P          R      mAP50  mAP50-95): 100%|██████████| 8/8 [00:07<00:00,  1.05it/s]"
     ]
    },
    {
     "name": "stdout",
     "output_type": "stream",
     "text": [
      "                   all        501       2144      0.773      0.584       0.65      0.376\n"
     ]
    },
    {
     "name": "stderr",
     "output_type": "stream",
     "text": [
      "\n"
     ]
    },
    {
     "name": "stdout",
     "output_type": "stream",
     "text": [
      "\n",
      "      Epoch    GPU_mem   box_loss   cls_loss   dfl_loss  Instances       Size\n"
     ]
    },
    {
     "name": "stderr",
     "output_type": "stream",
     "text": [
      "     78/100      12.6G      1.254     0.8662     0.9975        160        512: 100%|██████████| 55/55 [00:57<00:00,  1.05s/it]\n",
      "                 Class     Images  Instances      Box(P          R      mAP50  mAP50-95): 100%|██████████| 8/8 [00:07<00:00,  1.04it/s]"
     ]
    },
    {
     "name": "stdout",
     "output_type": "stream",
     "text": [
      "                   all        501       2144      0.784      0.585      0.657       0.37\n"
     ]
    },
    {
     "name": "stderr",
     "output_type": "stream",
     "text": [
      "\n"
     ]
    },
    {
     "name": "stdout",
     "output_type": "stream",
     "text": [
      "\n",
      "      Epoch    GPU_mem   box_loss   cls_loss   dfl_loss  Instances       Size\n"
     ]
    },
    {
     "name": "stderr",
     "output_type": "stream",
     "text": [
      "     79/100      12.8G       1.25     0.8403      1.001        134        512: 100%|██████████| 55/55 [00:57<00:00,  1.04s/it]\n",
      "                 Class     Images  Instances      Box(P          R      mAP50  mAP50-95): 100%|██████████| 8/8 [00:07<00:00,  1.05it/s]"
     ]
    },
    {
     "name": "stdout",
     "output_type": "stream",
     "text": [
      "                   all        501       2144      0.775      0.594      0.664      0.378\n"
     ]
    },
    {
     "name": "stderr",
     "output_type": "stream",
     "text": [
      "\n"
     ]
    },
    {
     "name": "stdout",
     "output_type": "stream",
     "text": [
      "\n",
      "      Epoch    GPU_mem   box_loss   cls_loss   dfl_loss  Instances       Size\n"
     ]
    },
    {
     "name": "stderr",
     "output_type": "stream",
     "text": [
      "     80/100      12.6G       1.23     0.8552     0.9999        192        512: 100%|██████████| 55/55 [00:57<00:00,  1.04s/it]\n",
      "                 Class     Images  Instances      Box(P          R      mAP50  mAP50-95): 100%|██████████| 8/8 [00:07<00:00,  1.04it/s]"
     ]
    },
    {
     "name": "stdout",
     "output_type": "stream",
     "text": [
      "                   all        501       2144        0.8      0.602      0.672      0.379\n"
     ]
    },
    {
     "name": "stderr",
     "output_type": "stream",
     "text": [
      "\n"
     ]
    },
    {
     "name": "stdout",
     "output_type": "stream",
     "text": [
      "\n",
      "      Epoch    GPU_mem   box_loss   cls_loss   dfl_loss  Instances       Size\n"
     ]
    },
    {
     "name": "stderr",
     "output_type": "stream",
     "text": [
      "     81/100      12.7G      1.229     0.8339     0.9799        124        512: 100%|██████████| 55/55 [00:57<00:00,  1.04s/it]\n",
      "                 Class     Images  Instances      Box(P          R      mAP50  mAP50-95): 100%|██████████| 8/8 [00:07<00:00,  1.05it/s]"
     ]
    },
    {
     "name": "stdout",
     "output_type": "stream",
     "text": [
      "                   all        501       2144      0.776      0.597       0.67      0.378\n"
     ]
    },
    {
     "name": "stderr",
     "output_type": "stream",
     "text": [
      "\n"
     ]
    },
    {
     "name": "stdout",
     "output_type": "stream",
     "text": [
      "\n",
      "      Epoch    GPU_mem   box_loss   cls_loss   dfl_loss  Instances       Size\n"
     ]
    },
    {
     "name": "stderr",
     "output_type": "stream",
     "text": [
      "     82/100      12.7G      1.218     0.8457     0.9992        166        512: 100%|██████████| 55/55 [00:57<00:00,  1.04s/it]\n",
      "                 Class     Images  Instances      Box(P          R      mAP50  mAP50-95): 100%|██████████| 8/8 [00:07<00:00,  1.05it/s]"
     ]
    },
    {
     "name": "stdout",
     "output_type": "stream",
     "text": [
      "                   all        501       2144      0.777      0.611      0.671      0.378\n"
     ]
    },
    {
     "name": "stderr",
     "output_type": "stream",
     "text": [
      "\n"
     ]
    },
    {
     "name": "stdout",
     "output_type": "stream",
     "text": [
      "\n",
      "      Epoch    GPU_mem   box_loss   cls_loss   dfl_loss  Instances       Size\n"
     ]
    },
    {
     "name": "stderr",
     "output_type": "stream",
     "text": [
      "     83/100      12.6G      1.225     0.8265     0.9818        129        512: 100%|██████████| 55/55 [00:57<00:00,  1.04s/it]\n",
      "                 Class     Images  Instances      Box(P          R      mAP50  mAP50-95): 100%|██████████| 8/8 [00:07<00:00,  1.04it/s]"
     ]
    },
    {
     "name": "stdout",
     "output_type": "stream",
     "text": [
      "                   all        501       2144       0.79      0.598      0.669      0.379\n"
     ]
    },
    {
     "name": "stderr",
     "output_type": "stream",
     "text": [
      "\n"
     ]
    },
    {
     "name": "stdout",
     "output_type": "stream",
     "text": [
      "\n",
      "      Epoch    GPU_mem   box_loss   cls_loss   dfl_loss  Instances       Size\n"
     ]
    },
    {
     "name": "stderr",
     "output_type": "stream",
     "text": [
      "     84/100      12.6G      1.244     0.8255     0.9849        115        512: 100%|██████████| 55/55 [00:57<00:00,  1.04s/it]\n",
      "                 Class     Images  Instances      Box(P          R      mAP50  mAP50-95): 100%|██████████| 8/8 [00:07<00:00,  1.05it/s]"
     ]
    },
    {
     "name": "stdout",
     "output_type": "stream",
     "text": [
      "                   all        501       2144      0.756      0.611      0.665      0.376\n"
     ]
    },
    {
     "name": "stderr",
     "output_type": "stream",
     "text": [
      "\n"
     ]
    },
    {
     "name": "stdout",
     "output_type": "stream",
     "text": [
      "\n",
      "      Epoch    GPU_mem   box_loss   cls_loss   dfl_loss  Instances       Size\n"
     ]
    },
    {
     "name": "stderr",
     "output_type": "stream",
     "text": [
      "     85/100      12.7G        1.2     0.8122      0.983        121        512: 100%|██████████| 55/55 [00:57<00:00,  1.04s/it]\n",
      "                 Class     Images  Instances      Box(P          R      mAP50  mAP50-95): 100%|██████████| 8/8 [00:07<00:00,  1.05it/s]"
     ]
    },
    {
     "name": "stdout",
     "output_type": "stream",
     "text": [
      "                   all        501       2144      0.793      0.597       0.67      0.379\n"
     ]
    },
    {
     "name": "stderr",
     "output_type": "stream",
     "text": [
      "\n"
     ]
    },
    {
     "name": "stdout",
     "output_type": "stream",
     "text": [
      "\n",
      "      Epoch    GPU_mem   box_loss   cls_loss   dfl_loss  Instances       Size\n"
     ]
    },
    {
     "name": "stderr",
     "output_type": "stream",
     "text": [
      "     86/100      12.7G      1.231     0.8243     0.9902        134        512: 100%|██████████| 55/55 [00:57<00:00,  1.04s/it]\n",
      "                 Class     Images  Instances      Box(P          R      mAP50  mAP50-95): 100%|██████████| 8/8 [00:07<00:00,  1.04it/s]"
     ]
    },
    {
     "name": "stdout",
     "output_type": "stream",
     "text": [
      "                   all        501       2144       0.79      0.601      0.672      0.382\n"
     ]
    },
    {
     "name": "stderr",
     "output_type": "stream",
     "text": [
      "\n"
     ]
    },
    {
     "name": "stdout",
     "output_type": "stream",
     "text": [
      "\n",
      "      Epoch    GPU_mem   box_loss   cls_loss   dfl_loss  Instances       Size\n"
     ]
    },
    {
     "name": "stderr",
     "output_type": "stream",
     "text": [
      "     87/100      12.6G      1.222     0.8239     0.9865        195        512: 100%|██████████| 55/55 [00:57<00:00,  1.05s/it]\n",
      "                 Class     Images  Instances      Box(P          R      mAP50  mAP50-95): 100%|██████████| 8/8 [00:07<00:00,  1.05it/s]"
     ]
    },
    {
     "name": "stdout",
     "output_type": "stream",
     "text": [
      "                   all        501       2144      0.784      0.596      0.669      0.383\n"
     ]
    },
    {
     "name": "stderr",
     "output_type": "stream",
     "text": [
      "\n"
     ]
    },
    {
     "name": "stdout",
     "output_type": "stream",
     "text": [
      "\n",
      "      Epoch    GPU_mem   box_loss   cls_loss   dfl_loss  Instances       Size\n"
     ]
    },
    {
     "name": "stderr",
     "output_type": "stream",
     "text": [
      "     88/100      12.6G      1.207      0.791     0.9807        132        512: 100%|██████████| 55/55 [00:57<00:00,  1.04s/it]\n",
      "                 Class     Images  Instances      Box(P          R      mAP50  mAP50-95): 100%|██████████| 8/8 [00:07<00:00,  1.05it/s]"
     ]
    },
    {
     "name": "stdout",
     "output_type": "stream",
     "text": [
      "                   all        501       2144      0.793      0.605      0.678       0.39\n"
     ]
    },
    {
     "name": "stderr",
     "output_type": "stream",
     "text": [
      "\n"
     ]
    },
    {
     "name": "stdout",
     "output_type": "stream",
     "text": [
      "\n",
      "      Epoch    GPU_mem   box_loss   cls_loss   dfl_loss  Instances       Size\n"
     ]
    },
    {
     "name": "stderr",
     "output_type": "stream",
     "text": [
      "     89/100      12.6G      1.192     0.7852     0.9722        161        512: 100%|██████████| 55/55 [00:57<00:00,  1.04s/it]\n",
      "                 Class     Images  Instances      Box(P          R      mAP50  mAP50-95): 100%|██████████| 8/8 [00:07<00:00,  1.05it/s]"
     ]
    },
    {
     "name": "stdout",
     "output_type": "stream",
     "text": [
      "                   all        501       2144      0.767      0.614      0.674      0.384\n"
     ]
    },
    {
     "name": "stderr",
     "output_type": "stream",
     "text": [
      "\n"
     ]
    },
    {
     "name": "stdout",
     "output_type": "stream",
     "text": [
      "\n",
      "      Epoch    GPU_mem   box_loss   cls_loss   dfl_loss  Instances       Size\n"
     ]
    },
    {
     "name": "stderr",
     "output_type": "stream",
     "text": [
      "     90/100      12.7G       1.18     0.7882     0.9747        211        512: 100%|██████████| 55/55 [00:57<00:00,  1.04s/it]\n",
      "                 Class     Images  Instances      Box(P          R      mAP50  mAP50-95): 100%|██████████| 8/8 [00:07<00:00,  1.06it/s]"
     ]
    },
    {
     "name": "stdout",
     "output_type": "stream",
     "text": [
      "                   all        501       2144      0.803       0.61       0.68      0.383\n"
     ]
    },
    {
     "name": "stderr",
     "output_type": "stream",
     "text": [
      "\n"
     ]
    },
    {
     "name": "stdout",
     "output_type": "stream",
     "text": [
      "Closing dataloader mosaic\n",
      "\u001b[34m\u001b[1malbumentations: \u001b[0mBlur(p=0.01, blur_limit=(3, 7)), MedianBlur(p=0.01, blur_limit=(3, 7)), ToGray(p=0.01, method='weighted_average', num_output_channels=3), CLAHE(p=0.01, clip_limit=(1.0, 4.0), tile_grid_size=(8, 8))\n",
      "\n",
      "      Epoch    GPU_mem   box_loss   cls_loss   dfl_loss  Instances       Size\n"
     ]
    },
    {
     "name": "stderr",
     "output_type": "stream",
     "text": [
      "     91/100      12.6G      1.232     0.8079      0.986        123        512: 100%|██████████| 55/55 [00:57<00:00,  1.05s/it]\n",
      "                 Class     Images  Instances      Box(P          R      mAP50  mAP50-95): 100%|██████████| 8/8 [00:07<00:00,  1.04it/s]"
     ]
    },
    {
     "name": "stdout",
     "output_type": "stream",
     "text": [
      "                   all        501       2144      0.781      0.606      0.671      0.381\n"
     ]
    },
    {
     "name": "stderr",
     "output_type": "stream",
     "text": [
      "\n"
     ]
    },
    {
     "name": "stdout",
     "output_type": "stream",
     "text": [
      "\n",
      "      Epoch    GPU_mem   box_loss   cls_loss   dfl_loss  Instances       Size\n"
     ]
    },
    {
     "name": "stderr",
     "output_type": "stream",
     "text": [
      "     92/100      12.6G      1.209     0.7744      0.972        118        512: 100%|██████████| 55/55 [00:57<00:00,  1.04s/it]\n",
      "                 Class     Images  Instances      Box(P          R      mAP50  mAP50-95): 100%|██████████| 8/8 [00:07<00:00,  1.05it/s]"
     ]
    },
    {
     "name": "stdout",
     "output_type": "stream",
     "text": [
      "                   all        501       2144      0.789      0.605      0.674      0.386\n"
     ]
    },
    {
     "name": "stderr",
     "output_type": "stream",
     "text": [
      "\n"
     ]
    },
    {
     "name": "stdout",
     "output_type": "stream",
     "text": [
      "\n",
      "      Epoch    GPU_mem   box_loss   cls_loss   dfl_loss  Instances       Size\n"
     ]
    },
    {
     "name": "stderr",
     "output_type": "stream",
     "text": [
      "     93/100      12.6G      1.206     0.7743     0.9756        130        512: 100%|██████████| 55/55 [00:57<00:00,  1.04s/it]\n",
      "                 Class     Images  Instances      Box(P          R      mAP50  mAP50-95): 100%|██████████| 8/8 [00:07<00:00,  1.05it/s]"
     ]
    },
    {
     "name": "stdout",
     "output_type": "stream",
     "text": [
      "                   all        501       2144      0.791      0.614      0.675      0.382\n"
     ]
    },
    {
     "name": "stderr",
     "output_type": "stream",
     "text": [
      "\n"
     ]
    },
    {
     "name": "stdout",
     "output_type": "stream",
     "text": [
      "\n",
      "      Epoch    GPU_mem   box_loss   cls_loss   dfl_loss  Instances       Size\n"
     ]
    },
    {
     "name": "stderr",
     "output_type": "stream",
     "text": [
      "     94/100      12.6G      1.194     0.7563     0.9705         90        512: 100%|██████████| 55/55 [00:57<00:00,  1.04s/it]\n",
      "                 Class     Images  Instances      Box(P          R      mAP50  mAP50-95): 100%|██████████| 8/8 [00:07<00:00,  1.05it/s]"
     ]
    },
    {
     "name": "stdout",
     "output_type": "stream",
     "text": [
      "                   all        501       2144      0.793      0.618      0.681       0.39\n"
     ]
    },
    {
     "name": "stderr",
     "output_type": "stream",
     "text": [
      "\n"
     ]
    },
    {
     "name": "stdout",
     "output_type": "stream",
     "text": [
      "\n",
      "      Epoch    GPU_mem   box_loss   cls_loss   dfl_loss  Instances       Size\n"
     ]
    },
    {
     "name": "stderr",
     "output_type": "stream",
     "text": [
      "     95/100      12.7G      1.203      0.764     0.9702        104        512: 100%|██████████| 55/55 [00:57<00:00,  1.04s/it]\n",
      "                 Class     Images  Instances      Box(P          R      mAP50  mAP50-95): 100%|██████████| 8/8 [00:07<00:00,  1.05it/s]"
     ]
    },
    {
     "name": "stdout",
     "output_type": "stream",
     "text": [
      "                   all        501       2144      0.786      0.618      0.679      0.387\n"
     ]
    },
    {
     "name": "stderr",
     "output_type": "stream",
     "text": [
      "\n"
     ]
    },
    {
     "name": "stdout",
     "output_type": "stream",
     "text": [
      "\n",
      "      Epoch    GPU_mem   box_loss   cls_loss   dfl_loss  Instances       Size\n"
     ]
    },
    {
     "name": "stderr",
     "output_type": "stream",
     "text": [
      "     96/100      12.6G      1.183     0.7578     0.9639        126        512: 100%|██████████| 55/55 [00:56<00:00,  1.03s/it]\n",
      "                 Class     Images  Instances      Box(P          R      mAP50  mAP50-95): 100%|██████████| 8/8 [00:07<00:00,  1.05it/s]"
     ]
    },
    {
     "name": "stdout",
     "output_type": "stream",
     "text": [
      "                   all        501       2144      0.794      0.609      0.684      0.388\n"
     ]
    },
    {
     "name": "stderr",
     "output_type": "stream",
     "text": [
      "\n"
     ]
    },
    {
     "name": "stdout",
     "output_type": "stream",
     "text": [
      "\n",
      "      Epoch    GPU_mem   box_loss   cls_loss   dfl_loss  Instances       Size\n"
     ]
    },
    {
     "name": "stderr",
     "output_type": "stream",
     "text": [
      "     97/100      12.6G      1.185     0.7426     0.9655        106        512: 100%|██████████| 55/55 [00:57<00:00,  1.04s/it]\n",
      "                 Class     Images  Instances      Box(P          R      mAP50  mAP50-95): 100%|██████████| 8/8 [00:07<00:00,  1.04it/s]"
     ]
    },
    {
     "name": "stdout",
     "output_type": "stream",
     "text": [
      "                   all        501       2144      0.789      0.618      0.683      0.392\n"
     ]
    },
    {
     "name": "stderr",
     "output_type": "stream",
     "text": [
      "\n"
     ]
    },
    {
     "name": "stdout",
     "output_type": "stream",
     "text": [
      "\n",
      "      Epoch    GPU_mem   box_loss   cls_loss   dfl_loss  Instances       Size\n"
     ]
    },
    {
     "name": "stderr",
     "output_type": "stream",
     "text": [
      "     98/100      12.6G      1.199     0.7588      0.968        100        512: 100%|██████████| 55/55 [00:56<00:00,  1.04s/it]\n",
      "                 Class     Images  Instances      Box(P          R      mAP50  mAP50-95): 100%|██████████| 8/8 [00:07<00:00,  1.05it/s]"
     ]
    },
    {
     "name": "stdout",
     "output_type": "stream",
     "text": [
      "                   all        501       2144      0.792       0.62      0.684      0.394\n"
     ]
    },
    {
     "name": "stderr",
     "output_type": "stream",
     "text": [
      "\n"
     ]
    },
    {
     "name": "stdout",
     "output_type": "stream",
     "text": [
      "\n",
      "      Epoch    GPU_mem   box_loss   cls_loss   dfl_loss  Instances       Size\n"
     ]
    },
    {
     "name": "stderr",
     "output_type": "stream",
     "text": [
      "     99/100      12.6G       1.17     0.7242      0.965         90        512: 100%|██████████| 55/55 [00:57<00:00,  1.04s/it]\n",
      "                 Class     Images  Instances      Box(P          R      mAP50  mAP50-95): 100%|██████████| 8/8 [00:07<00:00,  1.05it/s]"
     ]
    },
    {
     "name": "stdout",
     "output_type": "stream",
     "text": [
      "                   all        501       2144      0.808      0.619      0.688      0.399\n"
     ]
    },
    {
     "name": "stderr",
     "output_type": "stream",
     "text": [
      "\n"
     ]
    },
    {
     "name": "stdout",
     "output_type": "stream",
     "text": [
      "\n",
      "      Epoch    GPU_mem   box_loss   cls_loss   dfl_loss  Instances       Size\n"
     ]
    },
    {
     "name": "stderr",
     "output_type": "stream",
     "text": [
      "    100/100      12.6G       1.17     0.7336     0.9704         99        512: 100%|██████████| 55/55 [00:56<00:00,  1.04s/it]\n",
      "                 Class     Images  Instances      Box(P          R      mAP50  mAP50-95): 100%|██████████| 8/8 [00:07<00:00,  1.05it/s]"
     ]
    },
    {
     "name": "stdout",
     "output_type": "stream",
     "text": [
      "                   all        501       2144      0.793       0.62      0.686      0.396\n"
     ]
    },
    {
     "name": "stderr",
     "output_type": "stream",
     "text": [
      "\n"
     ]
    },
    {
     "name": "stdout",
     "output_type": "stream",
     "text": [
      "\n",
      "100 epochs completed in 1.836 hours.\n",
      "Optimizer stripped from runs/detect/train/weights/last.pt, 40.8MB\n",
      "Optimizer stripped from runs/detect/train/weights/best.pt, 40.8MB\n",
      "\n",
      "Validating runs/detect/train/weights/best.pt...\n",
      "Ultralytics 8.3.169 🚀 Python-3.11.13 torch-2.6.0+cu124 CUDA:0 (Tesla T4, 15095MiB)\n",
      "YOLOv12m summary (fused): 169 layers, 20,105,683 parameters, 0 gradients, 67.1 GFLOPs\n"
     ]
    },
    {
     "name": "stderr",
     "output_type": "stream",
     "text": [
      "                 Class     Images  Instances      Box(P          R      mAP50  mAP50-95): 100%|██████████| 8/8 [00:08<00:00,  1.09s/it]\n",
      "invalid value encountered in less\n",
      "invalid value encountered in less\n"
     ]
    },
    {
     "name": "stdout",
     "output_type": "stream",
     "text": [
      "                   all        501       2144      0.808      0.619      0.688      0.399\n",
      "Speed: 0.1ms preprocess, 12.1ms inference, 0.0ms loss, 1.4ms postprocess per image\n",
      "Results saved to \u001b[1mruns/detect/train\u001b[0m\n"
     ]
    },
    {
     "data": {
      "text/plain": [
       "ultralytics.utils.metrics.DetMetrics object with attributes:\n",
       "\n",
       "ap_class_index: array([0])\n",
       "box: ultralytics.utils.metrics.Metric object\n",
       "confusion_matrix: <ultralytics.utils.metrics.ConfusionMatrix object at 0x7908edf46790>\n",
       "curves: ['Precision-Recall(B)', 'F1-Confidence(B)', 'Precision-Confidence(B)', 'Recall-Confidence(B)']\n",
       "curves_results: [[array([          0,    0.001001,    0.002002,    0.003003,    0.004004,    0.005005,    0.006006,    0.007007,    0.008008,    0.009009,     0.01001,    0.011011,    0.012012,    0.013013,    0.014014,    0.015015,    0.016016,    0.017017,    0.018018,    0.019019,     0.02002,    0.021021,    0.022022,    0.023023,\n",
       "          0.024024,    0.025025,    0.026026,    0.027027,    0.028028,    0.029029,     0.03003,    0.031031,    0.032032,    0.033033,    0.034034,    0.035035,    0.036036,    0.037037,    0.038038,    0.039039,     0.04004,    0.041041,    0.042042,    0.043043,    0.044044,    0.045045,    0.046046,    0.047047,\n",
       "          0.048048,    0.049049,     0.05005,    0.051051,    0.052052,    0.053053,    0.054054,    0.055055,    0.056056,    0.057057,    0.058058,    0.059059,     0.06006,    0.061061,    0.062062,    0.063063,    0.064064,    0.065065,    0.066066,    0.067067,    0.068068,    0.069069,     0.07007,    0.071071,\n",
       "          0.072072,    0.073073,    0.074074,    0.075075,    0.076076,    0.077077,    0.078078,    0.079079,     0.08008,    0.081081,    0.082082,    0.083083,    0.084084,    0.085085,    0.086086,    0.087087,    0.088088,    0.089089,     0.09009,    0.091091,    0.092092,    0.093093,    0.094094,    0.095095,\n",
       "          0.096096,    0.097097,    0.098098,    0.099099,      0.1001,      0.1011,      0.1021,      0.1031,      0.1041,     0.10511,     0.10611,     0.10711,     0.10811,     0.10911,     0.11011,     0.11111,     0.11211,     0.11311,     0.11411,     0.11512,     0.11612,     0.11712,     0.11812,     0.11912,\n",
       "           0.12012,     0.12112,     0.12212,     0.12312,     0.12412,     0.12513,     0.12613,     0.12713,     0.12813,     0.12913,     0.13013,     0.13113,     0.13213,     0.13313,     0.13413,     0.13514,     0.13614,     0.13714,     0.13814,     0.13914,     0.14014,     0.14114,     0.14214,     0.14314,\n",
       "           0.14414,     0.14515,     0.14615,     0.14715,     0.14815,     0.14915,     0.15015,     0.15115,     0.15215,     0.15315,     0.15415,     0.15516,     0.15616,     0.15716,     0.15816,     0.15916,     0.16016,     0.16116,     0.16216,     0.16316,     0.16416,     0.16517,     0.16617,     0.16717,\n",
       "           0.16817,     0.16917,     0.17017,     0.17117,     0.17217,     0.17317,     0.17417,     0.17518,     0.17618,     0.17718,     0.17818,     0.17918,     0.18018,     0.18118,     0.18218,     0.18318,     0.18418,     0.18519,     0.18619,     0.18719,     0.18819,     0.18919,     0.19019,     0.19119,\n",
       "           0.19219,     0.19319,     0.19419,      0.1952,      0.1962,      0.1972,      0.1982,      0.1992,      0.2002,      0.2012,      0.2022,      0.2032,      0.2042,     0.20521,     0.20621,     0.20721,     0.20821,     0.20921,     0.21021,     0.21121,     0.21221,     0.21321,     0.21421,     0.21522,\n",
       "           0.21622,     0.21722,     0.21822,     0.21922,     0.22022,     0.22122,     0.22222,     0.22322,     0.22422,     0.22523,     0.22623,     0.22723,     0.22823,     0.22923,     0.23023,     0.23123,     0.23223,     0.23323,     0.23423,     0.23524,     0.23624,     0.23724,     0.23824,     0.23924,\n",
       "           0.24024,     0.24124,     0.24224,     0.24324,     0.24424,     0.24525,     0.24625,     0.24725,     0.24825,     0.24925,     0.25025,     0.25125,     0.25225,     0.25325,     0.25425,     0.25526,     0.25626,     0.25726,     0.25826,     0.25926,     0.26026,     0.26126,     0.26226,     0.26326,\n",
       "           0.26426,     0.26527,     0.26627,     0.26727,     0.26827,     0.26927,     0.27027,     0.27127,     0.27227,     0.27327,     0.27427,     0.27528,     0.27628,     0.27728,     0.27828,     0.27928,     0.28028,     0.28128,     0.28228,     0.28328,     0.28428,     0.28529,     0.28629,     0.28729,\n",
       "           0.28829,     0.28929,     0.29029,     0.29129,     0.29229,     0.29329,     0.29429,      0.2953,      0.2963,      0.2973,      0.2983,      0.2993,      0.3003,      0.3013,      0.3023,      0.3033,      0.3043,     0.30531,     0.30631,     0.30731,     0.30831,     0.30931,     0.31031,     0.31131,\n",
       "           0.31231,     0.31331,     0.31431,     0.31532,     0.31632,     0.31732,     0.31832,     0.31932,     0.32032,     0.32132,     0.32232,     0.32332,     0.32432,     0.32533,     0.32633,     0.32733,     0.32833,     0.32933,     0.33033,     0.33133,     0.33233,     0.33333,     0.33433,     0.33534,\n",
       "           0.33634,     0.33734,     0.33834,     0.33934,     0.34034,     0.34134,     0.34234,     0.34334,     0.34434,     0.34535,     0.34635,     0.34735,     0.34835,     0.34935,     0.35035,     0.35135,     0.35235,     0.35335,     0.35435,     0.35536,     0.35636,     0.35736,     0.35836,     0.35936,\n",
       "           0.36036,     0.36136,     0.36236,     0.36336,     0.36436,     0.36537,     0.36637,     0.36737,     0.36837,     0.36937,     0.37037,     0.37137,     0.37237,     0.37337,     0.37437,     0.37538,     0.37638,     0.37738,     0.37838,     0.37938,     0.38038,     0.38138,     0.38238,     0.38338,\n",
       "           0.38438,     0.38539,     0.38639,     0.38739,     0.38839,     0.38939,     0.39039,     0.39139,     0.39239,     0.39339,     0.39439,      0.3954,      0.3964,      0.3974,      0.3984,      0.3994,      0.4004,      0.4014,      0.4024,      0.4034,      0.4044,     0.40541,     0.40641,     0.40741,\n",
       "           0.40841,     0.40941,     0.41041,     0.41141,     0.41241,     0.41341,     0.41441,     0.41542,     0.41642,     0.41742,     0.41842,     0.41942,     0.42042,     0.42142,     0.42242,     0.42342,     0.42442,     0.42543,     0.42643,     0.42743,     0.42843,     0.42943,     0.43043,     0.43143,\n",
       "           0.43243,     0.43343,     0.43443,     0.43544,     0.43644,     0.43744,     0.43844,     0.43944,     0.44044,     0.44144,     0.44244,     0.44344,     0.44444,     0.44545,     0.44645,     0.44745,     0.44845,     0.44945,     0.45045,     0.45145,     0.45245,     0.45345,     0.45445,     0.45546,\n",
       "           0.45646,     0.45746,     0.45846,     0.45946,     0.46046,     0.46146,     0.46246,     0.46346,     0.46446,     0.46547,     0.46647,     0.46747,     0.46847,     0.46947,     0.47047,     0.47147,     0.47247,     0.47347,     0.47447,     0.47548,     0.47648,     0.47748,     0.47848,     0.47948,\n",
       "           0.48048,     0.48148,     0.48248,     0.48348,     0.48448,     0.48549,     0.48649,     0.48749,     0.48849,     0.48949,     0.49049,     0.49149,     0.49249,     0.49349,     0.49449,      0.4955,      0.4965,      0.4975,      0.4985,      0.4995,      0.5005,      0.5015,      0.5025,      0.5035,\n",
       "            0.5045,     0.50551,     0.50651,     0.50751,     0.50851,     0.50951,     0.51051,     0.51151,     0.51251,     0.51351,     0.51451,     0.51552,     0.51652,     0.51752,     0.51852,     0.51952,     0.52052,     0.52152,     0.52252,     0.52352,     0.52452,     0.52553,     0.52653,     0.52753,\n",
       "           0.52853,     0.52953,     0.53053,     0.53153,     0.53253,     0.53353,     0.53453,     0.53554,     0.53654,     0.53754,     0.53854,     0.53954,     0.54054,     0.54154,     0.54254,     0.54354,     0.54454,     0.54555,     0.54655,     0.54755,     0.54855,     0.54955,     0.55055,     0.55155,\n",
       "           0.55255,     0.55355,     0.55455,     0.55556,     0.55656,     0.55756,     0.55856,     0.55956,     0.56056,     0.56156,     0.56256,     0.56356,     0.56456,     0.56557,     0.56657,     0.56757,     0.56857,     0.56957,     0.57057,     0.57157,     0.57257,     0.57357,     0.57457,     0.57558,\n",
       "           0.57658,     0.57758,     0.57858,     0.57958,     0.58058,     0.58158,     0.58258,     0.58358,     0.58458,     0.58559,     0.58659,     0.58759,     0.58859,     0.58959,     0.59059,     0.59159,     0.59259,     0.59359,     0.59459,      0.5956,      0.5966,      0.5976,      0.5986,      0.5996,\n",
       "            0.6006,      0.6016,      0.6026,      0.6036,      0.6046,     0.60561,     0.60661,     0.60761,     0.60861,     0.60961,     0.61061,     0.61161,     0.61261,     0.61361,     0.61461,     0.61562,     0.61662,     0.61762,     0.61862,     0.61962,     0.62062,     0.62162,     0.62262,     0.62362,\n",
       "           0.62462,     0.62563,     0.62663,     0.62763,     0.62863,     0.62963,     0.63063,     0.63163,     0.63263,     0.63363,     0.63463,     0.63564,     0.63664,     0.63764,     0.63864,     0.63964,     0.64064,     0.64164,     0.64264,     0.64364,     0.64464,     0.64565,     0.64665,     0.64765,\n",
       "           0.64865,     0.64965,     0.65065,     0.65165,     0.65265,     0.65365,     0.65465,     0.65566,     0.65666,     0.65766,     0.65866,     0.65966,     0.66066,     0.66166,     0.66266,     0.66366,     0.66466,     0.66567,     0.66667,     0.66767,     0.66867,     0.66967,     0.67067,     0.67167,\n",
       "           0.67267,     0.67367,     0.67467,     0.67568,     0.67668,     0.67768,     0.67868,     0.67968,     0.68068,     0.68168,     0.68268,     0.68368,     0.68468,     0.68569,     0.68669,     0.68769,     0.68869,     0.68969,     0.69069,     0.69169,     0.69269,     0.69369,     0.69469,      0.6957,\n",
       "            0.6967,      0.6977,      0.6987,      0.6997,      0.7007,      0.7017,      0.7027,      0.7037,      0.7047,     0.70571,     0.70671,     0.70771,     0.70871,     0.70971,     0.71071,     0.71171,     0.71271,     0.71371,     0.71471,     0.71572,     0.71672,     0.71772,     0.71872,     0.71972,\n",
       "           0.72072,     0.72172,     0.72272,     0.72372,     0.72472,     0.72573,     0.72673,     0.72773,     0.72873,     0.72973,     0.73073,     0.73173,     0.73273,     0.73373,     0.73473,     0.73574,     0.73674,     0.73774,     0.73874,     0.73974,     0.74074,     0.74174,     0.74274,     0.74374,\n",
       "           0.74474,     0.74575,     0.74675,     0.74775,     0.74875,     0.74975,     0.75075,     0.75175,     0.75275,     0.75375,     0.75475,     0.75576,     0.75676,     0.75776,     0.75876,     0.75976,     0.76076,     0.76176,     0.76276,     0.76376,     0.76476,     0.76577,     0.76677,     0.76777,\n",
       "           0.76877,     0.76977,     0.77077,     0.77177,     0.77277,     0.77377,     0.77477,     0.77578,     0.77678,     0.77778,     0.77878,     0.77978,     0.78078,     0.78178,     0.78278,     0.78378,     0.78478,     0.78579,     0.78679,     0.78779,     0.78879,     0.78979,     0.79079,     0.79179,\n",
       "           0.79279,     0.79379,     0.79479,      0.7958,      0.7968,      0.7978,      0.7988,      0.7998,      0.8008,      0.8018,      0.8028,      0.8038,      0.8048,     0.80581,     0.80681,     0.80781,     0.80881,     0.80981,     0.81081,     0.81181,     0.81281,     0.81381,     0.81481,     0.81582,\n",
       "           0.81682,     0.81782,     0.81882,     0.81982,     0.82082,     0.82182,     0.82282,     0.82382,     0.82482,     0.82583,     0.82683,     0.82783,     0.82883,     0.82983,     0.83083,     0.83183,     0.83283,     0.83383,     0.83483,     0.83584,     0.83684,     0.83784,     0.83884,     0.83984,\n",
       "           0.84084,     0.84184,     0.84284,     0.84384,     0.84484,     0.84585,     0.84685,     0.84785,     0.84885,     0.84985,     0.85085,     0.85185,     0.85285,     0.85385,     0.85485,     0.85586,     0.85686,     0.85786,     0.85886,     0.85986,     0.86086,     0.86186,     0.86286,     0.86386,\n",
       "           0.86486,     0.86587,     0.86687,     0.86787,     0.86887,     0.86987,     0.87087,     0.87187,     0.87287,     0.87387,     0.87487,     0.87588,     0.87688,     0.87788,     0.87888,     0.87988,     0.88088,     0.88188,     0.88288,     0.88388,     0.88488,     0.88589,     0.88689,     0.88789,\n",
       "           0.88889,     0.88989,     0.89089,     0.89189,     0.89289,     0.89389,     0.89489,      0.8959,      0.8969,      0.8979,      0.8989,      0.8999,      0.9009,      0.9019,      0.9029,      0.9039,      0.9049,     0.90591,     0.90691,     0.90791,     0.90891,     0.90991,     0.91091,     0.91191,\n",
       "           0.91291,     0.91391,     0.91491,     0.91592,     0.91692,     0.91792,     0.91892,     0.91992,     0.92092,     0.92192,     0.92292,     0.92392,     0.92492,     0.92593,     0.92693,     0.92793,     0.92893,     0.92993,     0.93093,     0.93193,     0.93293,     0.93393,     0.93493,     0.93594,\n",
       "           0.93694,     0.93794,     0.93894,     0.93994,     0.94094,     0.94194,     0.94294,     0.94394,     0.94494,     0.94595,     0.94695,     0.94795,     0.94895,     0.94995,     0.95095,     0.95195,     0.95295,     0.95395,     0.95495,     0.95596,     0.95696,     0.95796,     0.95896,     0.95996,\n",
       "           0.96096,     0.96196,     0.96296,     0.96396,     0.96496,     0.96597,     0.96697,     0.96797,     0.96897,     0.96997,     0.97097,     0.97197,     0.97297,     0.97397,     0.97497,     0.97598,     0.97698,     0.97798,     0.97898,     0.97998,     0.98098,     0.98198,     0.98298,     0.98398,\n",
       "           0.98498,     0.98599,     0.98699,     0.98799,     0.98899,     0.98999,     0.99099,     0.99199,     0.99299,     0.99399,     0.99499,       0.996,       0.997,       0.998,       0.999,           1]), array([[          1,           1,           1,           1,           1,           1,           1,           1,           1,           1,           1,           1,           1,           1,           1,           1,           1,     0.98744,     0.98744,     0.98744,     0.98744,     0.98744,     0.98744,\n",
       "            0.98744,     0.98744,     0.98744,     0.98744,     0.98744,     0.98744,     0.98744,     0.98744,     0.98744,     0.98744,     0.98744,     0.98744,     0.98744,     0.98744,     0.98744,     0.98744,     0.98744,     0.98744,     0.98744,     0.98744,     0.98744,     0.98744,     0.98744,\n",
       "            0.98744,     0.98744,     0.98744,     0.98744,     0.98744,     0.98744,     0.98744,     0.98744,     0.98744,     0.98744,     0.98744,     0.98744,     0.98744,     0.98744,     0.98744,     0.98744,     0.98744,     0.98744,     0.98744,     0.98744,     0.98744,     0.98744,     0.98744,\n",
       "            0.98744,     0.98744,     0.98744,     0.98744,     0.98744,     0.98744,     0.98744,     0.98744,     0.98744,     0.98744,     0.98744,     0.98744,     0.98744,     0.98744,     0.98744,     0.98744,     0.98744,     0.98744,     0.98744,     0.98744,     0.98744,     0.98744,     0.98744,\n",
       "            0.98744,     0.98744,     0.98744,     0.98744,     0.98744,     0.98744,     0.98744,     0.98744,     0.98744,     0.98744,     0.98744,     0.98744,     0.98744,     0.98744,     0.98744,     0.98744,     0.98744,     0.98744,     0.98744,     0.98744,     0.98744,     0.98744,     0.98744,\n",
       "            0.98744,     0.98744,     0.98744,     0.98744,     0.98744,     0.98744,     0.98744,     0.98744,     0.98744,     0.98744,     0.98744,     0.98744,     0.98744,     0.98744,     0.98744,     0.98744,     0.98744,     0.98744,     0.98744,     0.98744,     0.98744,     0.98744,     0.98744,\n",
       "            0.98744,     0.98744,     0.98744,     0.98744,     0.98744,     0.98744,     0.98744,     0.98744,     0.98744,     0.98744,     0.98744,     0.98744,     0.98744,     0.98744,     0.98744,     0.98744,     0.98744,     0.98744,     0.98744,     0.98744,     0.98744,     0.98744,     0.98744,\n",
       "            0.98744,     0.98744,     0.98744,     0.98744,     0.98744,     0.98744,     0.98744,     0.98744,     0.98744,     0.98744,     0.98744,     0.98744,     0.98744,     0.98744,     0.98744,     0.98744,     0.98744,     0.98744,     0.98744,     0.98744,     0.98744,     0.98744,     0.98744,\n",
       "            0.98558,     0.98558,     0.98558,     0.98558,     0.98558,     0.98558,     0.98558,     0.98558,     0.98368,     0.98368,     0.98368,     0.98368,     0.98368,     0.98165,     0.98165,     0.98165,     0.98084,     0.98084,     0.98084,     0.98084,     0.98084,     0.98084,     0.98084,\n",
       "            0.98084,     0.98084,     0.98084,     0.98084,     0.98084,     0.98084,     0.98084,     0.98084,     0.98084,     0.98084,     0.98084,     0.98084,     0.98084,     0.98084,     0.98084,     0.98084,     0.98084,     0.98084,     0.98084,     0.98084,     0.98084,     0.98084,     0.98084,\n",
       "            0.98084,     0.98084,     0.98084,     0.98084,     0.98084,     0.98084,     0.98084,     0.98084,     0.98084,     0.97996,     0.97996,     0.97996,     0.97996,     0.97996,     0.97996,     0.97996,     0.97996,     0.97996,     0.97996,     0.97996,     0.97996,     0.97872,     0.97872,\n",
       "            0.97872,     0.97872,     0.97872,     0.97872,     0.97872,     0.97844,     0.97844,     0.97844,     0.97844,     0.97844,     0.97844,     0.97844,     0.97844,     0.97844,     0.97844,     0.97844,     0.97844,     0.97844,     0.97844,     0.97844,     0.97844,     0.97844,     0.97793,\n",
       "            0.97793,     0.97793,     0.97793,     0.97793,     0.97793,     0.97793,     0.97793,     0.97793,     0.97793,     0.97793,     0.97793,     0.97793,     0.97793,     0.97793,     0.97793,     0.97793,     0.97793,     0.97793,     0.97793,     0.97793,     0.97793,     0.97793,     0.97793,\n",
       "            0.97793,     0.97793,     0.97793,     0.97793,     0.97793,     0.97793,     0.97793,     0.97793,     0.97793,     0.97793,     0.97793,     0.97793,     0.97793,     0.97793,     0.97793,     0.97793,     0.97793,     0.97793,     0.97793,     0.97793,     0.97793,     0.97793,     0.97793,\n",
       "            0.97793,     0.97793,     0.97793,     0.97793,     0.97793,     0.97793,     0.97793,     0.97793,     0.97793,     0.97668,     0.97548,     0.97548,     0.97456,     0.97456,     0.97456,     0.97456,     0.97456,     0.97456,     0.97351,     0.97351,     0.97351,     0.97233,     0.97109,\n",
       "             0.9699,     0.96903,     0.96903,     0.96903,     0.96903,     0.96658,     0.96324,     0.96324,     0.96324,     0.96324,     0.96217,     0.96154,     0.96154,     0.96154,     0.96154,     0.96154,     0.96154,     0.96053,     0.96053,     0.96053,     0.96053,     0.96053,     0.96053,\n",
       "            0.96053,     0.96053,     0.96053,     0.96053,     0.96053,     0.96053,     0.96053,     0.95967,     0.95967,     0.95887,     0.95887,     0.95887,     0.95887,     0.95683,     0.95683,     0.95587,     0.95526,     0.95526,     0.95526,     0.95526,     0.95526,     0.95526,     0.95526,\n",
       "            0.95526,     0.95526,     0.95526,     0.95526,     0.95526,     0.95526,     0.95526,     0.95439,     0.95439,     0.95369,     0.95369,     0.95369,     0.95369,     0.95299,     0.95299,     0.95299,     0.95299,     0.95299,     0.95299,     0.95299,     0.95299,     0.95299,     0.95299,\n",
       "            0.95299,     0.95299,     0.95213,     0.95213,     0.95203,     0.95203,     0.95203,     0.95203,     0.95203,     0.95203,     0.95203,     0.95203,     0.95026,     0.95026,     0.94943,     0.94856,      0.9478,      0.9478,     0.94705,     0.94705,     0.94705,     0.94705,     0.94705,\n",
       "            0.94705,     0.94705,     0.94705,     0.94705,     0.94705,     0.94538,     0.94538,      0.9445,     0.94434,     0.94434,     0.94434,     0.94434,     0.94434,     0.94434,     0.94407,     0.94407,     0.94407,     0.94407,     0.94407,     0.94407,     0.94343,     0.94343,      0.9424,\n",
       "             0.9424,      0.9424,      0.9424,      0.9424,      0.9424,      0.9424,     0.93996,     0.93826,     0.93767,     0.93767,     0.93767,     0.93767,     0.93767,     0.93767,     0.93767,     0.93767,     0.93767,     0.93687,     0.93613,       0.931,       0.931,       0.931,       0.931,\n",
       "              0.931,       0.931,      0.9287,     0.92838,     0.92838,     0.92838,     0.92838,       0.927,       0.927,     0.92638,     0.92328,     0.92281,     0.92281,     0.92228,     0.92228,     0.92162,     0.92089,     0.92031,     0.91935,     0.91935,     0.91935,     0.91935,     0.91787,\n",
       "            0.91667,     0.91667,     0.91548,     0.91548,     0.91479,     0.91348,     0.91301,     0.91301,     0.91247,     0.91179,     0.91044,     0.90991,     0.90931,     0.90894,     0.90894,      0.9085,      0.9085,     0.90638,     0.90507,      0.9048,      0.9048,     0.90461,     0.90461,\n",
       "            0.90461,     0.90461,     0.90261,     0.90229,     0.90229,     0.90196,     0.90196,         0.9,     0.89953,     0.89953,      0.8976,     0.89706,     0.89591,     0.89332,     0.89288,     0.89237,     0.89177,      0.8899,     0.88772,     0.88772,     0.88689,     0.88689,     0.88689,\n",
       "            0.88631,     0.88401,     0.88401,     0.87821,     0.87821,     0.87821,     0.87701,     0.87527,     0.87482,     0.87265,     0.87211,     0.86978,     0.86819,     0.86705,     0.86671,     0.86619,     0.86464,     0.85935,     0.85844,     0.85734,     0.85694,     0.85535,     0.85477,\n",
       "            0.85477,     0.85428,     0.85282,     0.85234,     0.85147,     0.85109,     0.84888,     0.84861,     0.84787,     0.84787,     0.84693,      0.8427,     0.84168,      0.8413,      0.8413,      0.8413,      0.8405,     0.83979,     0.83979,     0.83979,     0.83979,     0.83879,     0.83713,\n",
       "            0.83713,     0.83561,     0.83258,     0.83194,     0.83194,     0.83173,     0.83141,     0.83003,     0.82824,      0.8273,     0.82617,     0.82587,     0.82235,     0.82206,     0.82085,     0.81892,     0.81672,     0.81454,     0.81415,     0.81288,     0.81112,      0.8079,      0.8052,\n",
       "            0.80398,     0.80132,     0.79407,     0.79081,     0.79081,     0.78642,     0.78576,     0.78261,     0.78261,     0.77562,     0.77562,     0.77499,     0.77348,      0.7711,     0.76875,     0.76513,     0.76254,     0.75565,     0.75509,     0.75246,     0.74986,     0.74932,     0.74837,\n",
       "            0.74329,     0.74223,     0.74171,     0.73804,     0.73676,     0.73407,     0.73218,     0.73194,     0.72652,      0.7238,     0.72259,     0.71969,     0.71487,     0.71119,     0.71005,     0.70821,     0.70498,     0.70387,     0.70277,     0.69975,     0.69936,     0.69727,     0.69197,\n",
       "            0.69194,     0.69108,      0.6884,     0.68607,     0.68051,     0.67367,     0.67178,      0.6696,     0.66621,     0.66286,     0.66256,     0.65674,      0.6534,      0.6534,     0.65312,     0.65038,     0.64953,     0.64755,     0.64264,     0.63398,      0.6325,     0.63228,     0.62669,\n",
       "            0.62201,     0.61663,     0.60186,      0.5992,     0.59767,     0.59561,     0.59373,     0.59294,     0.58669,     0.57842,     0.57498,     0.57465,     0.56358,     0.56348,     0.56234,     0.55499,     0.55328,      0.5504,     0.53843,     0.53497,     0.53064,     0.52748,     0.52561,\n",
       "            0.52467,     0.51495,     0.51082,     0.50693,     0.49903,     0.49407,     0.47831,     0.47467,     0.46895,     0.46449,      0.4562,     0.45109,      0.4488,     0.43535,     0.43289,       0.426,     0.42562,     0.42135,     0.41751,     0.41364,     0.40184,     0.40153,     0.39589,\n",
       "            0.38471,     0.38166,     0.37813,     0.37201,     0.36748,     0.36192,     0.35662,     0.35444,     0.34226,     0.33777,     0.33452,     0.33333,     0.32405,     0.32179,     0.31755,      0.3162,      0.3137,     0.30174,     0.30017,     0.29694,     0.29344,     0.28971,     0.28766,\n",
       "            0.28559,     0.27864,     0.27733,      0.2728,     0.26166,     0.25281,     0.24781,     0.24266,     0.24135,     0.23648,     0.23309,     0.22753,     0.22164,     0.22149,     0.21855,     0.21539,     0.21377,     0.20711,     0.19744,     0.19587,     0.19274,     0.18742,      0.1784,\n",
       "            0.17501,     0.16497,     0.16008,     0.15746,     0.15259,     0.14969,     0.14897,     0.14536,     0.13865,      0.1343,     0.12832,     0.12357,     0.11902,     0.10893,     0.10644,     0.10393,    0.098347,    0.096267,    0.095553,    0.090142,    0.088448,    0.087843,     0.08526,\n",
       "           0.084922,    0.081882,     0.07835,    0.074066,    0.072849,    0.072092,    0.070683,     0.06639,     0.06553,    0.062703,    0.062364,    0.062026,    0.061687,    0.061348,    0.061009,     0.06067,    0.060331,    0.059992,    0.059653,    0.059314,    0.058975,    0.058636,    0.058297,\n",
       "           0.057958,    0.057619,     0.05728,    0.056941,    0.056603,    0.056264,    0.055925,    0.055586,    0.055247,    0.054908,    0.054569,     0.05423,    0.053891,    0.053552,    0.053213,    0.052874,    0.052535,    0.052196,    0.051857,    0.051518,     0.05118,    0.050841,    0.050502,\n",
       "           0.050163,    0.049824,    0.049485,    0.049146,    0.048807,    0.048468,    0.048129,     0.04779,    0.047451,    0.047112,    0.046773,    0.046434,    0.046095,    0.045757,    0.045418,    0.045079,     0.04474,    0.044401,    0.044062,    0.043723,    0.043384,    0.043045,    0.042706,\n",
       "           0.042367,    0.042028,    0.041689,     0.04135,    0.041011,    0.040672,    0.040334,    0.039995,    0.039656,    0.039317,    0.038978,    0.038639,      0.0383,    0.037961,    0.037622,    0.037283,    0.036944,    0.036605,    0.036266,    0.035927,    0.035588,    0.035249,    0.034911,\n",
       "           0.034572,    0.034233,    0.033894,    0.033555,    0.033216,    0.032877,    0.032538,    0.032199,     0.03186,    0.031521,    0.031182,    0.030843,    0.030504,    0.030165,    0.029826,    0.029488,    0.029149,     0.02881,    0.028471,    0.028132,    0.027793,    0.027454,    0.027115,\n",
       "           0.026776,    0.026437,    0.026098,    0.025759,     0.02542,    0.025081,    0.024742,    0.024403,    0.024065,    0.023726,    0.023387,    0.023048,    0.022709,     0.02237,    0.022031,    0.021692,    0.021353,    0.021014,    0.020675,    0.020336,    0.019997,    0.019658,    0.019319,\n",
       "            0.01898,    0.018642,    0.018303,    0.017964,    0.017625,    0.017286,    0.016947,    0.016608,    0.016269,     0.01593,    0.015591,    0.015252,    0.014913,    0.014574,    0.014235,    0.013896,    0.013557,    0.013219,     0.01288,    0.012541,    0.012202,    0.011863,    0.011524,\n",
       "           0.011185,    0.010846,    0.010507,    0.010168,   0.0098292,   0.0094902,   0.0091513,   0.0088124,   0.0084734,   0.0081345,   0.0077956,   0.0074566,   0.0071177,   0.0067787,   0.0064398,   0.0061009,   0.0057619,    0.005423,   0.0050841,   0.0047451,   0.0044062,   0.0040672,   0.0037283,\n",
       "          0.0033894,   0.0030504,   0.0027115,   0.0023726,   0.0020336,   0.0016947,   0.0013557,   0.0010168,  0.00067787,  0.00033894,           0]]), 'Recall', 'Precision'], [array([          0,    0.001001,    0.002002,    0.003003,    0.004004,    0.005005,    0.006006,    0.007007,    0.008008,    0.009009,     0.01001,    0.011011,    0.012012,    0.013013,    0.014014,    0.015015,    0.016016,    0.017017,    0.018018,    0.019019,     0.02002,    0.021021,    0.022022,    0.023023,\n",
       "          0.024024,    0.025025,    0.026026,    0.027027,    0.028028,    0.029029,     0.03003,    0.031031,    0.032032,    0.033033,    0.034034,    0.035035,    0.036036,    0.037037,    0.038038,    0.039039,     0.04004,    0.041041,    0.042042,    0.043043,    0.044044,    0.045045,    0.046046,    0.047047,\n",
       "          0.048048,    0.049049,     0.05005,    0.051051,    0.052052,    0.053053,    0.054054,    0.055055,    0.056056,    0.057057,    0.058058,    0.059059,     0.06006,    0.061061,    0.062062,    0.063063,    0.064064,    0.065065,    0.066066,    0.067067,    0.068068,    0.069069,     0.07007,    0.071071,\n",
       "          0.072072,    0.073073,    0.074074,    0.075075,    0.076076,    0.077077,    0.078078,    0.079079,     0.08008,    0.081081,    0.082082,    0.083083,    0.084084,    0.085085,    0.086086,    0.087087,    0.088088,    0.089089,     0.09009,    0.091091,    0.092092,    0.093093,    0.094094,    0.095095,\n",
       "          0.096096,    0.097097,    0.098098,    0.099099,      0.1001,      0.1011,      0.1021,      0.1031,      0.1041,     0.10511,     0.10611,     0.10711,     0.10811,     0.10911,     0.11011,     0.11111,     0.11211,     0.11311,     0.11411,     0.11512,     0.11612,     0.11712,     0.11812,     0.11912,\n",
       "           0.12012,     0.12112,     0.12212,     0.12312,     0.12412,     0.12513,     0.12613,     0.12713,     0.12813,     0.12913,     0.13013,     0.13113,     0.13213,     0.13313,     0.13413,     0.13514,     0.13614,     0.13714,     0.13814,     0.13914,     0.14014,     0.14114,     0.14214,     0.14314,\n",
       "           0.14414,     0.14515,     0.14615,     0.14715,     0.14815,     0.14915,     0.15015,     0.15115,     0.15215,     0.15315,     0.15415,     0.15516,     0.15616,     0.15716,     0.15816,     0.15916,     0.16016,     0.16116,     0.16216,     0.16316,     0.16416,     0.16517,     0.16617,     0.16717,\n",
       "           0.16817,     0.16917,     0.17017,     0.17117,     0.17217,     0.17317,     0.17417,     0.17518,     0.17618,     0.17718,     0.17818,     0.17918,     0.18018,     0.18118,     0.18218,     0.18318,     0.18418,     0.18519,     0.18619,     0.18719,     0.18819,     0.18919,     0.19019,     0.19119,\n",
       "           0.19219,     0.19319,     0.19419,      0.1952,      0.1962,      0.1972,      0.1982,      0.1992,      0.2002,      0.2012,      0.2022,      0.2032,      0.2042,     0.20521,     0.20621,     0.20721,     0.20821,     0.20921,     0.21021,     0.21121,     0.21221,     0.21321,     0.21421,     0.21522,\n",
       "           0.21622,     0.21722,     0.21822,     0.21922,     0.22022,     0.22122,     0.22222,     0.22322,     0.22422,     0.22523,     0.22623,     0.22723,     0.22823,     0.22923,     0.23023,     0.23123,     0.23223,     0.23323,     0.23423,     0.23524,     0.23624,     0.23724,     0.23824,     0.23924,\n",
       "           0.24024,     0.24124,     0.24224,     0.24324,     0.24424,     0.24525,     0.24625,     0.24725,     0.24825,     0.24925,     0.25025,     0.25125,     0.25225,     0.25325,     0.25425,     0.25526,     0.25626,     0.25726,     0.25826,     0.25926,     0.26026,     0.26126,     0.26226,     0.26326,\n",
       "           0.26426,     0.26527,     0.26627,     0.26727,     0.26827,     0.26927,     0.27027,     0.27127,     0.27227,     0.27327,     0.27427,     0.27528,     0.27628,     0.27728,     0.27828,     0.27928,     0.28028,     0.28128,     0.28228,     0.28328,     0.28428,     0.28529,     0.28629,     0.28729,\n",
       "           0.28829,     0.28929,     0.29029,     0.29129,     0.29229,     0.29329,     0.29429,      0.2953,      0.2963,      0.2973,      0.2983,      0.2993,      0.3003,      0.3013,      0.3023,      0.3033,      0.3043,     0.30531,     0.30631,     0.30731,     0.30831,     0.30931,     0.31031,     0.31131,\n",
       "           0.31231,     0.31331,     0.31431,     0.31532,     0.31632,     0.31732,     0.31832,     0.31932,     0.32032,     0.32132,     0.32232,     0.32332,     0.32432,     0.32533,     0.32633,     0.32733,     0.32833,     0.32933,     0.33033,     0.33133,     0.33233,     0.33333,     0.33433,     0.33534,\n",
       "           0.33634,     0.33734,     0.33834,     0.33934,     0.34034,     0.34134,     0.34234,     0.34334,     0.34434,     0.34535,     0.34635,     0.34735,     0.34835,     0.34935,     0.35035,     0.35135,     0.35235,     0.35335,     0.35435,     0.35536,     0.35636,     0.35736,     0.35836,     0.35936,\n",
       "           0.36036,     0.36136,     0.36236,     0.36336,     0.36436,     0.36537,     0.36637,     0.36737,     0.36837,     0.36937,     0.37037,     0.37137,     0.37237,     0.37337,     0.37437,     0.37538,     0.37638,     0.37738,     0.37838,     0.37938,     0.38038,     0.38138,     0.38238,     0.38338,\n",
       "           0.38438,     0.38539,     0.38639,     0.38739,     0.38839,     0.38939,     0.39039,     0.39139,     0.39239,     0.39339,     0.39439,      0.3954,      0.3964,      0.3974,      0.3984,      0.3994,      0.4004,      0.4014,      0.4024,      0.4034,      0.4044,     0.40541,     0.40641,     0.40741,\n",
       "           0.40841,     0.40941,     0.41041,     0.41141,     0.41241,     0.41341,     0.41441,     0.41542,     0.41642,     0.41742,     0.41842,     0.41942,     0.42042,     0.42142,     0.42242,     0.42342,     0.42442,     0.42543,     0.42643,     0.42743,     0.42843,     0.42943,     0.43043,     0.43143,\n",
       "           0.43243,     0.43343,     0.43443,     0.43544,     0.43644,     0.43744,     0.43844,     0.43944,     0.44044,     0.44144,     0.44244,     0.44344,     0.44444,     0.44545,     0.44645,     0.44745,     0.44845,     0.44945,     0.45045,     0.45145,     0.45245,     0.45345,     0.45445,     0.45546,\n",
       "           0.45646,     0.45746,     0.45846,     0.45946,     0.46046,     0.46146,     0.46246,     0.46346,     0.46446,     0.46547,     0.46647,     0.46747,     0.46847,     0.46947,     0.47047,     0.47147,     0.47247,     0.47347,     0.47447,     0.47548,     0.47648,     0.47748,     0.47848,     0.47948,\n",
       "           0.48048,     0.48148,     0.48248,     0.48348,     0.48448,     0.48549,     0.48649,     0.48749,     0.48849,     0.48949,     0.49049,     0.49149,     0.49249,     0.49349,     0.49449,      0.4955,      0.4965,      0.4975,      0.4985,      0.4995,      0.5005,      0.5015,      0.5025,      0.5035,\n",
       "            0.5045,     0.50551,     0.50651,     0.50751,     0.50851,     0.50951,     0.51051,     0.51151,     0.51251,     0.51351,     0.51451,     0.51552,     0.51652,     0.51752,     0.51852,     0.51952,     0.52052,     0.52152,     0.52252,     0.52352,     0.52452,     0.52553,     0.52653,     0.52753,\n",
       "           0.52853,     0.52953,     0.53053,     0.53153,     0.53253,     0.53353,     0.53453,     0.53554,     0.53654,     0.53754,     0.53854,     0.53954,     0.54054,     0.54154,     0.54254,     0.54354,     0.54454,     0.54555,     0.54655,     0.54755,     0.54855,     0.54955,     0.55055,     0.55155,\n",
       "           0.55255,     0.55355,     0.55455,     0.55556,     0.55656,     0.55756,     0.55856,     0.55956,     0.56056,     0.56156,     0.56256,     0.56356,     0.56456,     0.56557,     0.56657,     0.56757,     0.56857,     0.56957,     0.57057,     0.57157,     0.57257,     0.57357,     0.57457,     0.57558,\n",
       "           0.57658,     0.57758,     0.57858,     0.57958,     0.58058,     0.58158,     0.58258,     0.58358,     0.58458,     0.58559,     0.58659,     0.58759,     0.58859,     0.58959,     0.59059,     0.59159,     0.59259,     0.59359,     0.59459,      0.5956,      0.5966,      0.5976,      0.5986,      0.5996,\n",
       "            0.6006,      0.6016,      0.6026,      0.6036,      0.6046,     0.60561,     0.60661,     0.60761,     0.60861,     0.60961,     0.61061,     0.61161,     0.61261,     0.61361,     0.61461,     0.61562,     0.61662,     0.61762,     0.61862,     0.61962,     0.62062,     0.62162,     0.62262,     0.62362,\n",
       "           0.62462,     0.62563,     0.62663,     0.62763,     0.62863,     0.62963,     0.63063,     0.63163,     0.63263,     0.63363,     0.63463,     0.63564,     0.63664,     0.63764,     0.63864,     0.63964,     0.64064,     0.64164,     0.64264,     0.64364,     0.64464,     0.64565,     0.64665,     0.64765,\n",
       "           0.64865,     0.64965,     0.65065,     0.65165,     0.65265,     0.65365,     0.65465,     0.65566,     0.65666,     0.65766,     0.65866,     0.65966,     0.66066,     0.66166,     0.66266,     0.66366,     0.66466,     0.66567,     0.66667,     0.66767,     0.66867,     0.66967,     0.67067,     0.67167,\n",
       "           0.67267,     0.67367,     0.67467,     0.67568,     0.67668,     0.67768,     0.67868,     0.67968,     0.68068,     0.68168,     0.68268,     0.68368,     0.68468,     0.68569,     0.68669,     0.68769,     0.68869,     0.68969,     0.69069,     0.69169,     0.69269,     0.69369,     0.69469,      0.6957,\n",
       "            0.6967,      0.6977,      0.6987,      0.6997,      0.7007,      0.7017,      0.7027,      0.7037,      0.7047,     0.70571,     0.70671,     0.70771,     0.70871,     0.70971,     0.71071,     0.71171,     0.71271,     0.71371,     0.71471,     0.71572,     0.71672,     0.71772,     0.71872,     0.71972,\n",
       "           0.72072,     0.72172,     0.72272,     0.72372,     0.72472,     0.72573,     0.72673,     0.72773,     0.72873,     0.72973,     0.73073,     0.73173,     0.73273,     0.73373,     0.73473,     0.73574,     0.73674,     0.73774,     0.73874,     0.73974,     0.74074,     0.74174,     0.74274,     0.74374,\n",
       "           0.74474,     0.74575,     0.74675,     0.74775,     0.74875,     0.74975,     0.75075,     0.75175,     0.75275,     0.75375,     0.75475,     0.75576,     0.75676,     0.75776,     0.75876,     0.75976,     0.76076,     0.76176,     0.76276,     0.76376,     0.76476,     0.76577,     0.76677,     0.76777,\n",
       "           0.76877,     0.76977,     0.77077,     0.77177,     0.77277,     0.77377,     0.77477,     0.77578,     0.77678,     0.77778,     0.77878,     0.77978,     0.78078,     0.78178,     0.78278,     0.78378,     0.78478,     0.78579,     0.78679,     0.78779,     0.78879,     0.78979,     0.79079,     0.79179,\n",
       "           0.79279,     0.79379,     0.79479,      0.7958,      0.7968,      0.7978,      0.7988,      0.7998,      0.8008,      0.8018,      0.8028,      0.8038,      0.8048,     0.80581,     0.80681,     0.80781,     0.80881,     0.80981,     0.81081,     0.81181,     0.81281,     0.81381,     0.81481,     0.81582,\n",
       "           0.81682,     0.81782,     0.81882,     0.81982,     0.82082,     0.82182,     0.82282,     0.82382,     0.82482,     0.82583,     0.82683,     0.82783,     0.82883,     0.82983,     0.83083,     0.83183,     0.83283,     0.83383,     0.83483,     0.83584,     0.83684,     0.83784,     0.83884,     0.83984,\n",
       "           0.84084,     0.84184,     0.84284,     0.84384,     0.84484,     0.84585,     0.84685,     0.84785,     0.84885,     0.84985,     0.85085,     0.85185,     0.85285,     0.85385,     0.85485,     0.85586,     0.85686,     0.85786,     0.85886,     0.85986,     0.86086,     0.86186,     0.86286,     0.86386,\n",
       "           0.86486,     0.86587,     0.86687,     0.86787,     0.86887,     0.86987,     0.87087,     0.87187,     0.87287,     0.87387,     0.87487,     0.87588,     0.87688,     0.87788,     0.87888,     0.87988,     0.88088,     0.88188,     0.88288,     0.88388,     0.88488,     0.88589,     0.88689,     0.88789,\n",
       "           0.88889,     0.88989,     0.89089,     0.89189,     0.89289,     0.89389,     0.89489,      0.8959,      0.8969,      0.8979,      0.8989,      0.8999,      0.9009,      0.9019,      0.9029,      0.9039,      0.9049,     0.90591,     0.90691,     0.90791,     0.90891,     0.90991,     0.91091,     0.91191,\n",
       "           0.91291,     0.91391,     0.91491,     0.91592,     0.91692,     0.91792,     0.91892,     0.91992,     0.92092,     0.92192,     0.92292,     0.92392,     0.92492,     0.92593,     0.92693,     0.92793,     0.92893,     0.92993,     0.93093,     0.93193,     0.93293,     0.93393,     0.93493,     0.93594,\n",
       "           0.93694,     0.93794,     0.93894,     0.93994,     0.94094,     0.94194,     0.94294,     0.94394,     0.94494,     0.94595,     0.94695,     0.94795,     0.94895,     0.94995,     0.95095,     0.95195,     0.95295,     0.95395,     0.95495,     0.95596,     0.95696,     0.95796,     0.95896,     0.95996,\n",
       "           0.96096,     0.96196,     0.96296,     0.96396,     0.96496,     0.96597,     0.96697,     0.96797,     0.96897,     0.96997,     0.97097,     0.97197,     0.97297,     0.97397,     0.97497,     0.97598,     0.97698,     0.97798,     0.97898,     0.97998,     0.98098,     0.98198,     0.98298,     0.98398,\n",
       "           0.98498,     0.98599,     0.98699,     0.98799,     0.98899,     0.98999,     0.99099,     0.99199,     0.99299,     0.99399,     0.99499,       0.996,       0.997,       0.998,       0.999,           1]), array([[     0.1167,      0.1167,     0.16191,     0.20398,     0.23676,     0.26491,     0.28951,     0.30933,     0.32873,     0.34291,     0.35796,     0.37074,     0.38294,     0.39459,     0.40567,     0.41509,     0.42327,     0.43102,     0.43924,     0.44664,     0.45333,     0.46107,     0.46454,\n",
       "            0.47038,     0.47802,      0.4835,     0.48926,     0.49434,     0.49845,     0.50293,      0.5077,     0.51194,     0.51484,     0.51922,     0.52228,     0.52626,     0.52928,     0.53241,     0.53487,     0.53774,     0.54129,     0.54402,     0.54766,     0.55171,     0.55395,     0.55607,\n",
       "            0.55869,     0.56008,     0.56298,     0.56596,     0.56781,     0.56957,     0.57239,     0.57405,     0.57514,     0.57691,     0.57982,     0.58089,     0.58435,     0.58546,     0.58675,     0.58869,     0.59008,     0.59198,     0.59372,     0.59586,     0.59768,     0.59839,     0.59969,\n",
       "            0.60124,     0.60395,     0.60517,     0.60571,     0.60568,     0.60756,     0.60837,     0.60939,     0.61074,     0.61177,     0.61259,     0.61408,     0.61517,     0.61657,     0.61752,     0.61925,     0.62042,     0.62134,     0.62247,     0.62353,     0.62463,     0.62588,     0.62556,\n",
       "            0.62712,     0.62867,     0.62974,     0.63096,     0.63168,     0.63271,     0.63386,     0.63489,     0.63663,     0.63768,     0.63783,     0.63841,     0.63986,     0.64023,     0.64102,     0.64107,     0.64164,     0.64236,     0.64304,     0.64423,     0.64443,     0.64548,     0.64641,\n",
       "            0.64775,     0.64914,     0.65012,     0.65097,     0.65155,     0.65204,     0.65251,       0.653,     0.65451,     0.65483,     0.65617,     0.65648,     0.65744,      0.6591,     0.65884,     0.65902,     0.65929,     0.66054,     0.66089,     0.66163,     0.66213,     0.66308,     0.66337,\n",
       "            0.66384,     0.66462,     0.66497,     0.66557,     0.66559,     0.66603,     0.66605,     0.66621,     0.66683,     0.66709,     0.66647,     0.66623,     0.66659,     0.66717,     0.66748,     0.66769,     0.66808,     0.66884,     0.66882,     0.66975,     0.66989,      0.6695,     0.66951,\n",
       "            0.66972,     0.67003,     0.67089,     0.67089,     0.67118,     0.67178,     0.67207,      0.6722,     0.67234,     0.67275,     0.67261,     0.67306,     0.67347,     0.67455,     0.67595,     0.67591,     0.67636,     0.67667,     0.67705,     0.67785,     0.67804,     0.67842,     0.67886,\n",
       "            0.67896,      0.6797,     0.67981,     0.67933,     0.67942,     0.67892,     0.67922,     0.67965,     0.68057,     0.68117,     0.68128,     0.68136,     0.68153,     0.68208,     0.68158,     0.68201,     0.68197,     0.68282,     0.68303,     0.68322,     0.68296,     0.68334,     0.68332,\n",
       "            0.68325,     0.68359,     0.68335,     0.68367,     0.68408,     0.68449,     0.68461,      0.6846,     0.68423,     0.68455,     0.68532,     0.68573,     0.68591,     0.68623,     0.68624,      0.6859,     0.68603,     0.68697,     0.68687,     0.68747,      0.6876,     0.68783,     0.68858,\n",
       "            0.68918,      0.6896,      0.6894,     0.68912,     0.68938,     0.68914,     0.68971,     0.69001,      0.6901,     0.68987,     0.69007,      0.6905,     0.69069,     0.69043,     0.69055,     0.69102,     0.69054,     0.69095,     0.69037,     0.69039,     0.69069,     0.69093,     0.69168,\n",
       "            0.69179,     0.69132,     0.69144,     0.69167,     0.69179,     0.69183,     0.69207,     0.69198,     0.69206,     0.69259,     0.69245,     0.69225,      0.6932,     0.69355,     0.69363,      0.6939,     0.69412,     0.69436,      0.6946,     0.69435,     0.69444,     0.69445,     0.69471,\n",
       "             0.6948,     0.69512,     0.69523,     0.69582,     0.69591,     0.69595,     0.69657,     0.69664,     0.69672,     0.69646,     0.69665,     0.69653,     0.69641,     0.69548,     0.69583,     0.69595,     0.69614,     0.69652,     0.69729,     0.69758,     0.69757,     0.69766,     0.69785,\n",
       "            0.69726,     0.69742,     0.69749,     0.69755,     0.69791,     0.69752,     0.69747,     0.69796,     0.69837,     0.69863,     0.69833,      0.6984,     0.69864,     0.69891,     0.69911,     0.69931,     0.69941,     0.69957,      0.6998,     0.69999,      0.7006,     0.70071,     0.70086,\n",
       "            0.70071,     0.70057,     0.70065,     0.70131,     0.70091,     0.70102,     0.70118,     0.70092,     0.70103,     0.70119,     0.70124,     0.70115,     0.70134,     0.70209,     0.70165,     0.70211,     0.70191,     0.70188,     0.70179,     0.70164,     0.70126,     0.70142,     0.70174,\n",
       "            0.70138,     0.70154,     0.70164,     0.70143,     0.70179,     0.70208,      0.7019,     0.70124,     0.70081,     0.70138,     0.70178,       0.702,     0.70183,     0.70139,     0.70086,     0.70035,     0.70063,      0.7003,     0.69998,     0.70038,     0.69989,     0.69988,     0.70012,\n",
       "            0.69999,     0.69963,     0.69878,     0.69888,     0.69783,     0.69762,      0.6977,     0.69768,     0.69806,     0.69806,     0.69817,     0.69856,     0.69785,     0.69741,     0.69746,      0.6971,     0.69602,     0.69561,      0.6952,     0.69503,     0.69488,     0.69401,     0.69373,\n",
       "            0.69353,      0.6934,     0.69328,      0.6924,       0.692,     0.69197,     0.69203,     0.69151,     0.69189,     0.69194,     0.69216,     0.69202,     0.69158,     0.69121,     0.69116,     0.69049,     0.68994,     0.69004,     0.69016,     0.69055,     0.69058,     0.68973,     0.68955,\n",
       "            0.68952,     0.68939,     0.68938,     0.68919,     0.68865,     0.68868,     0.68865,     0.68793,     0.68731,      0.6864,     0.68673,     0.68643,     0.68653,     0.68624,     0.68634,     0.68615,     0.68575,     0.68598,      0.6856,     0.68523,     0.68523,     0.68548,     0.68608,\n",
       "            0.68641,     0.68622,     0.68609,     0.68606,     0.68616,     0.68603,     0.68584,     0.68598,     0.68568,     0.68549,     0.68493,     0.68455,     0.68463,     0.68474,     0.68401,     0.68384,     0.68418,     0.68417,     0.68393,     0.68413,     0.68408,     0.68396,     0.68285,\n",
       "            0.68325,     0.68314,     0.68207,     0.68214,     0.68221,     0.68231,     0.68241,     0.68257,     0.68086,     0.68062,     0.68042,     0.68053,     0.68035,     0.68055,     0.68095,     0.68088,     0.68098,     0.68117,     0.68123,     0.68128,     0.68133,     0.68138,     0.68143,\n",
       "            0.68148,     0.68153,     0.68152,     0.68037,     0.68007,     0.68014,      0.6802,     0.68028,     0.68038,      0.6807,     0.68015,     0.67947,     0.67934,     0.67921,     0.67846,     0.67868,     0.67848,     0.67781,     0.67697,     0.67684,     0.67679,     0.67703,     0.67656,\n",
       "            0.67666,     0.67684,     0.67627,     0.67532,     0.67508,     0.67514,     0.67507,     0.67517,      0.6744,     0.67428,     0.67388,     0.67372,     0.67379,     0.67386,     0.67386,     0.67346,     0.67249,     0.67268,     0.67191,     0.67171,     0.67148,     0.66972,     0.66893,\n",
       "            0.66867,     0.66892,     0.66857,     0.66837,     0.66771,     0.66731,     0.66701,     0.66687,     0.66674,     0.66648,     0.66637,     0.66627,     0.66547,     0.66518,     0.66498,     0.66466,     0.66423,     0.66358,     0.66368,     0.66385,     0.66366,     0.66406,     0.66315,\n",
       "            0.66295,     0.66238,     0.66198,     0.66117,     0.66076,     0.66022,     0.65974,     0.65923,     0.65863,     0.65883,     0.65863,     0.65808,     0.65747,     0.65666,     0.65604,     0.65543,      0.6552,     0.65499,     0.65417,     0.65376,     0.65354,     0.65332,     0.65169,\n",
       "            0.65201,     0.65166,     0.65164,        0.65,     0.64877,     0.64855,     0.64869,     0.64852,      0.6481,     0.64764,     0.64746,     0.64723,     0.64682,     0.64618,     0.64576,     0.64528,     0.64507,     0.64469,     0.64427,     0.64385,     0.64333,     0.64344,     0.64337,\n",
       "            0.64319,     0.64329,     0.64332,      0.6424,     0.64225,     0.64183,     0.64097,     0.63888,     0.63845,     0.63729,     0.63733,     0.63649,     0.63606,     0.63485,     0.63463,     0.63435,     0.63392,     0.63307,     0.63275,     0.63335,     0.63333,     0.63319,     0.63305,\n",
       "             0.6329,     0.63269,      0.6325,     0.63258,     0.63266,     0.63175,     0.63132,     0.63046,      0.6296,     0.62747,     0.62703,     0.62572,     0.62418,     0.62428,     0.62417,     0.62412,     0.62295,     0.62275,     0.62102,     0.61928,     0.61906,     0.61839,     0.61791,\n",
       "            0.61743,     0.61723,     0.61679,     0.61591,     0.61556,     0.61281,     0.61192,     0.61104,     0.60946,     0.60798,     0.60677,     0.60655,     0.60632,     0.60609,     0.60455,     0.60403,     0.60314,     0.60258,     0.60018,     0.59995,     0.59925,     0.59792,     0.59761,\n",
       "             0.5972,     0.59629,     0.59538,     0.59459,     0.59398,     0.59281,     0.59031,     0.58951,     0.58859,     0.58871,      0.5869,     0.58564,     0.58546,     0.58389,     0.58206,     0.58182,     0.58152,     0.58055,     0.58031,     0.58035,     0.57928,     0.57866,     0.57669,\n",
       "            0.57377,     0.57283,     0.57142,     0.56903,     0.56714,     0.56699,      0.5666,     0.56611,     0.56445,     0.56234,     0.55984,     0.55959,     0.55744,     0.55712,     0.55584,     0.55409,     0.55384,     0.55118,     0.55085,      0.5483,     0.54672,     0.54647,     0.54541,\n",
       "            0.54508,     0.54219,      0.5388,     0.53846,     0.53575,     0.53549,     0.53269,     0.53037,     0.52904,      0.5287,     0.52741,     0.52716,     0.52471,     0.51985,      0.5195,     0.51949,     0.51761,     0.51696,     0.51478,     0.51343,     0.51308,     0.50974,     0.50948,\n",
       "            0.50846,     0.50692,     0.50657,     0.50415,     0.50345,     0.49998,     0.49963,     0.49632,     0.49368,     0.49332,     0.49086,     0.48944,     0.48908,      0.4866,     0.48305,     0.48269,     0.48019,     0.47607,      0.4757,      0.4721,     0.46685,     0.46647,     0.46347,\n",
       "            0.46081,     0.45658,     0.45621,     0.45307,     0.44984,     0.44488,      0.4445,     0.43981,     0.43672,     0.43634,     0.43425,     0.43101,     0.43062,      0.4281,     0.42477,     0.42022,     0.41982,     0.41769,      0.4138,      0.4134,     0.40812,      0.4053,     0.39934,\n",
       "            0.39296,     0.39255,     0.38781,      0.3843,     0.37733,     0.37691,     0.36464,     0.35604,     0.35247,     0.35204,     0.34827,     0.34062,     0.33408,     0.33364,     0.32989,     0.32239,     0.31672,     0.31019,     0.30586,     0.30251,     0.30205,     0.29877,     0.29349,\n",
       "            0.28618,     0.28278,     0.28231,     0.27201,     0.26868,     0.26395,     0.25696,     0.25647,     0.25153,     0.24826,      0.2405,     0.23325,     0.22531,     0.22481,     0.21669,     0.20175,     0.20123,     0.18996,      0.1792,     0.17625,      0.1718,     0.16788,     0.16243,\n",
       "            0.16189,     0.15563,     0.15085,     0.14284,     0.13827,     0.13439,     0.12949,     0.12702,     0.12291,     0.11972,     0.11916,     0.11502,     0.10585,     0.10248,     0.09994,    0.099078,    0.095685,    0.092406,    0.092423,    0.092439,    0.088433,    0.085319,    0.084881,\n",
       "           0.084103,    0.082369,    0.078915,    0.077172,    0.074562,    0.072812,    0.070601,    0.070156,     0.06754,    0.066944,    0.064446,    0.059549,    0.058622,    0.058322,    0.058022,    0.056448,     0.05575,    0.054299,    0.053847,    0.051627,    0.051174,    0.049407,    0.046563,\n",
       "           0.045651,    0.042543,    0.042177,    0.041172,    0.039338,    0.039296,    0.038389,    0.037497,    0.037191,    0.036884,     0.03654,    0.035926,    0.034209,    0.033285,    0.032894,    0.032277,    0.030729,    0.030137,    0.029905,    0.029673,    0.029441,    0.029249,    0.029064,\n",
       "           0.028878,    0.028692,    0.028506,    0.028042,    0.027588,    0.027356,    0.027123,     0.02689,    0.026664,    0.026478,    0.026292,    0.026106,    0.025919,      0.0257,    0.025389,    0.025079,     0.02424,    0.023566,    0.023099,    0.022772,     0.02246,    0.022148,    0.021975,\n",
       "           0.021805,    0.021635,    0.021464,    0.021294,    0.020848,    0.020043,    0.019194,    0.018882,    0.018569,     0.01821,    0.017835,    0.017523,    0.017366,    0.017209,    0.017053,    0.016896,    0.016739,    0.016487,     0.01611,    0.015734,    0.015525,    0.015315,    0.015106,\n",
       "           0.014897,    0.013752,    0.013516,     0.01328,    0.013044,    0.011951,    0.011478,    0.010879,    0.010025,   0.0093936,   0.0090609,   0.0087901,   0.0085193,   0.0079682,   0.0072687,   0.0068889,    0.006509,    0.006336,   0.0061633,   0.0059905,   0.0058176,   0.0056448,    0.004979,\n",
       "          0.0042359,   0.0036781,   0.0034399,   0.0032017,   0.0029634,   0.0027018,   0.0023839,   0.0020659,   0.0018006,    0.001627,   0.0014534,   0.0012798,   0.0011062,  0.00093249,           0,           0,           0,           0,           0,           0,           0,           0,           0,\n",
       "                  0,           0,           0,           0,           0,           0,           0,           0,           0,           0,           0]]), 'Confidence', 'F1'], [array([          0,    0.001001,    0.002002,    0.003003,    0.004004,    0.005005,    0.006006,    0.007007,    0.008008,    0.009009,     0.01001,    0.011011,    0.012012,    0.013013,    0.014014,    0.015015,    0.016016,    0.017017,    0.018018,    0.019019,     0.02002,    0.021021,    0.022022,    0.023023,\n",
       "          0.024024,    0.025025,    0.026026,    0.027027,    0.028028,    0.029029,     0.03003,    0.031031,    0.032032,    0.033033,    0.034034,    0.035035,    0.036036,    0.037037,    0.038038,    0.039039,     0.04004,    0.041041,    0.042042,    0.043043,    0.044044,    0.045045,    0.046046,    0.047047,\n",
       "          0.048048,    0.049049,     0.05005,    0.051051,    0.052052,    0.053053,    0.054054,    0.055055,    0.056056,    0.057057,    0.058058,    0.059059,     0.06006,    0.061061,    0.062062,    0.063063,    0.064064,    0.065065,    0.066066,    0.067067,    0.068068,    0.069069,     0.07007,    0.071071,\n",
       "          0.072072,    0.073073,    0.074074,    0.075075,    0.076076,    0.077077,    0.078078,    0.079079,     0.08008,    0.081081,    0.082082,    0.083083,    0.084084,    0.085085,    0.086086,    0.087087,    0.088088,    0.089089,     0.09009,    0.091091,    0.092092,    0.093093,    0.094094,    0.095095,\n",
       "          0.096096,    0.097097,    0.098098,    0.099099,      0.1001,      0.1011,      0.1021,      0.1031,      0.1041,     0.10511,     0.10611,     0.10711,     0.10811,     0.10911,     0.11011,     0.11111,     0.11211,     0.11311,     0.11411,     0.11512,     0.11612,     0.11712,     0.11812,     0.11912,\n",
       "           0.12012,     0.12112,     0.12212,     0.12312,     0.12412,     0.12513,     0.12613,     0.12713,     0.12813,     0.12913,     0.13013,     0.13113,     0.13213,     0.13313,     0.13413,     0.13514,     0.13614,     0.13714,     0.13814,     0.13914,     0.14014,     0.14114,     0.14214,     0.14314,\n",
       "           0.14414,     0.14515,     0.14615,     0.14715,     0.14815,     0.14915,     0.15015,     0.15115,     0.15215,     0.15315,     0.15415,     0.15516,     0.15616,     0.15716,     0.15816,     0.15916,     0.16016,     0.16116,     0.16216,     0.16316,     0.16416,     0.16517,     0.16617,     0.16717,\n",
       "           0.16817,     0.16917,     0.17017,     0.17117,     0.17217,     0.17317,     0.17417,     0.17518,     0.17618,     0.17718,     0.17818,     0.17918,     0.18018,     0.18118,     0.18218,     0.18318,     0.18418,     0.18519,     0.18619,     0.18719,     0.18819,     0.18919,     0.19019,     0.19119,\n",
       "           0.19219,     0.19319,     0.19419,      0.1952,      0.1962,      0.1972,      0.1982,      0.1992,      0.2002,      0.2012,      0.2022,      0.2032,      0.2042,     0.20521,     0.20621,     0.20721,     0.20821,     0.20921,     0.21021,     0.21121,     0.21221,     0.21321,     0.21421,     0.21522,\n",
       "           0.21622,     0.21722,     0.21822,     0.21922,     0.22022,     0.22122,     0.22222,     0.22322,     0.22422,     0.22523,     0.22623,     0.22723,     0.22823,     0.22923,     0.23023,     0.23123,     0.23223,     0.23323,     0.23423,     0.23524,     0.23624,     0.23724,     0.23824,     0.23924,\n",
       "           0.24024,     0.24124,     0.24224,     0.24324,     0.24424,     0.24525,     0.24625,     0.24725,     0.24825,     0.24925,     0.25025,     0.25125,     0.25225,     0.25325,     0.25425,     0.25526,     0.25626,     0.25726,     0.25826,     0.25926,     0.26026,     0.26126,     0.26226,     0.26326,\n",
       "           0.26426,     0.26527,     0.26627,     0.26727,     0.26827,     0.26927,     0.27027,     0.27127,     0.27227,     0.27327,     0.27427,     0.27528,     0.27628,     0.27728,     0.27828,     0.27928,     0.28028,     0.28128,     0.28228,     0.28328,     0.28428,     0.28529,     0.28629,     0.28729,\n",
       "           0.28829,     0.28929,     0.29029,     0.29129,     0.29229,     0.29329,     0.29429,      0.2953,      0.2963,      0.2973,      0.2983,      0.2993,      0.3003,      0.3013,      0.3023,      0.3033,      0.3043,     0.30531,     0.30631,     0.30731,     0.30831,     0.30931,     0.31031,     0.31131,\n",
       "           0.31231,     0.31331,     0.31431,     0.31532,     0.31632,     0.31732,     0.31832,     0.31932,     0.32032,     0.32132,     0.32232,     0.32332,     0.32432,     0.32533,     0.32633,     0.32733,     0.32833,     0.32933,     0.33033,     0.33133,     0.33233,     0.33333,     0.33433,     0.33534,\n",
       "           0.33634,     0.33734,     0.33834,     0.33934,     0.34034,     0.34134,     0.34234,     0.34334,     0.34434,     0.34535,     0.34635,     0.34735,     0.34835,     0.34935,     0.35035,     0.35135,     0.35235,     0.35335,     0.35435,     0.35536,     0.35636,     0.35736,     0.35836,     0.35936,\n",
       "           0.36036,     0.36136,     0.36236,     0.36336,     0.36436,     0.36537,     0.36637,     0.36737,     0.36837,     0.36937,     0.37037,     0.37137,     0.37237,     0.37337,     0.37437,     0.37538,     0.37638,     0.37738,     0.37838,     0.37938,     0.38038,     0.38138,     0.38238,     0.38338,\n",
       "           0.38438,     0.38539,     0.38639,     0.38739,     0.38839,     0.38939,     0.39039,     0.39139,     0.39239,     0.39339,     0.39439,      0.3954,      0.3964,      0.3974,      0.3984,      0.3994,      0.4004,      0.4014,      0.4024,      0.4034,      0.4044,     0.40541,     0.40641,     0.40741,\n",
       "           0.40841,     0.40941,     0.41041,     0.41141,     0.41241,     0.41341,     0.41441,     0.41542,     0.41642,     0.41742,     0.41842,     0.41942,     0.42042,     0.42142,     0.42242,     0.42342,     0.42442,     0.42543,     0.42643,     0.42743,     0.42843,     0.42943,     0.43043,     0.43143,\n",
       "           0.43243,     0.43343,     0.43443,     0.43544,     0.43644,     0.43744,     0.43844,     0.43944,     0.44044,     0.44144,     0.44244,     0.44344,     0.44444,     0.44545,     0.44645,     0.44745,     0.44845,     0.44945,     0.45045,     0.45145,     0.45245,     0.45345,     0.45445,     0.45546,\n",
       "           0.45646,     0.45746,     0.45846,     0.45946,     0.46046,     0.46146,     0.46246,     0.46346,     0.46446,     0.46547,     0.46647,     0.46747,     0.46847,     0.46947,     0.47047,     0.47147,     0.47247,     0.47347,     0.47447,     0.47548,     0.47648,     0.47748,     0.47848,     0.47948,\n",
       "           0.48048,     0.48148,     0.48248,     0.48348,     0.48448,     0.48549,     0.48649,     0.48749,     0.48849,     0.48949,     0.49049,     0.49149,     0.49249,     0.49349,     0.49449,      0.4955,      0.4965,      0.4975,      0.4985,      0.4995,      0.5005,      0.5015,      0.5025,      0.5035,\n",
       "            0.5045,     0.50551,     0.50651,     0.50751,     0.50851,     0.50951,     0.51051,     0.51151,     0.51251,     0.51351,     0.51451,     0.51552,     0.51652,     0.51752,     0.51852,     0.51952,     0.52052,     0.52152,     0.52252,     0.52352,     0.52452,     0.52553,     0.52653,     0.52753,\n",
       "           0.52853,     0.52953,     0.53053,     0.53153,     0.53253,     0.53353,     0.53453,     0.53554,     0.53654,     0.53754,     0.53854,     0.53954,     0.54054,     0.54154,     0.54254,     0.54354,     0.54454,     0.54555,     0.54655,     0.54755,     0.54855,     0.54955,     0.55055,     0.55155,\n",
       "           0.55255,     0.55355,     0.55455,     0.55556,     0.55656,     0.55756,     0.55856,     0.55956,     0.56056,     0.56156,     0.56256,     0.56356,     0.56456,     0.56557,     0.56657,     0.56757,     0.56857,     0.56957,     0.57057,     0.57157,     0.57257,     0.57357,     0.57457,     0.57558,\n",
       "           0.57658,     0.57758,     0.57858,     0.57958,     0.58058,     0.58158,     0.58258,     0.58358,     0.58458,     0.58559,     0.58659,     0.58759,     0.58859,     0.58959,     0.59059,     0.59159,     0.59259,     0.59359,     0.59459,      0.5956,      0.5966,      0.5976,      0.5986,      0.5996,\n",
       "            0.6006,      0.6016,      0.6026,      0.6036,      0.6046,     0.60561,     0.60661,     0.60761,     0.60861,     0.60961,     0.61061,     0.61161,     0.61261,     0.61361,     0.61461,     0.61562,     0.61662,     0.61762,     0.61862,     0.61962,     0.62062,     0.62162,     0.62262,     0.62362,\n",
       "           0.62462,     0.62563,     0.62663,     0.62763,     0.62863,     0.62963,     0.63063,     0.63163,     0.63263,     0.63363,     0.63463,     0.63564,     0.63664,     0.63764,     0.63864,     0.63964,     0.64064,     0.64164,     0.64264,     0.64364,     0.64464,     0.64565,     0.64665,     0.64765,\n",
       "           0.64865,     0.64965,     0.65065,     0.65165,     0.65265,     0.65365,     0.65465,     0.65566,     0.65666,     0.65766,     0.65866,     0.65966,     0.66066,     0.66166,     0.66266,     0.66366,     0.66466,     0.66567,     0.66667,     0.66767,     0.66867,     0.66967,     0.67067,     0.67167,\n",
       "           0.67267,     0.67367,     0.67467,     0.67568,     0.67668,     0.67768,     0.67868,     0.67968,     0.68068,     0.68168,     0.68268,     0.68368,     0.68468,     0.68569,     0.68669,     0.68769,     0.68869,     0.68969,     0.69069,     0.69169,     0.69269,     0.69369,     0.69469,      0.6957,\n",
       "            0.6967,      0.6977,      0.6987,      0.6997,      0.7007,      0.7017,      0.7027,      0.7037,      0.7047,     0.70571,     0.70671,     0.70771,     0.70871,     0.70971,     0.71071,     0.71171,     0.71271,     0.71371,     0.71471,     0.71572,     0.71672,     0.71772,     0.71872,     0.71972,\n",
       "           0.72072,     0.72172,     0.72272,     0.72372,     0.72472,     0.72573,     0.72673,     0.72773,     0.72873,     0.72973,     0.73073,     0.73173,     0.73273,     0.73373,     0.73473,     0.73574,     0.73674,     0.73774,     0.73874,     0.73974,     0.74074,     0.74174,     0.74274,     0.74374,\n",
       "           0.74474,     0.74575,     0.74675,     0.74775,     0.74875,     0.74975,     0.75075,     0.75175,     0.75275,     0.75375,     0.75475,     0.75576,     0.75676,     0.75776,     0.75876,     0.75976,     0.76076,     0.76176,     0.76276,     0.76376,     0.76476,     0.76577,     0.76677,     0.76777,\n",
       "           0.76877,     0.76977,     0.77077,     0.77177,     0.77277,     0.77377,     0.77477,     0.77578,     0.77678,     0.77778,     0.77878,     0.77978,     0.78078,     0.78178,     0.78278,     0.78378,     0.78478,     0.78579,     0.78679,     0.78779,     0.78879,     0.78979,     0.79079,     0.79179,\n",
       "           0.79279,     0.79379,     0.79479,      0.7958,      0.7968,      0.7978,      0.7988,      0.7998,      0.8008,      0.8018,      0.8028,      0.8038,      0.8048,     0.80581,     0.80681,     0.80781,     0.80881,     0.80981,     0.81081,     0.81181,     0.81281,     0.81381,     0.81481,     0.81582,\n",
       "           0.81682,     0.81782,     0.81882,     0.81982,     0.82082,     0.82182,     0.82282,     0.82382,     0.82482,     0.82583,     0.82683,     0.82783,     0.82883,     0.82983,     0.83083,     0.83183,     0.83283,     0.83383,     0.83483,     0.83584,     0.83684,     0.83784,     0.83884,     0.83984,\n",
       "           0.84084,     0.84184,     0.84284,     0.84384,     0.84484,     0.84585,     0.84685,     0.84785,     0.84885,     0.84985,     0.85085,     0.85185,     0.85285,     0.85385,     0.85485,     0.85586,     0.85686,     0.85786,     0.85886,     0.85986,     0.86086,     0.86186,     0.86286,     0.86386,\n",
       "           0.86486,     0.86587,     0.86687,     0.86787,     0.86887,     0.86987,     0.87087,     0.87187,     0.87287,     0.87387,     0.87487,     0.87588,     0.87688,     0.87788,     0.87888,     0.87988,     0.88088,     0.88188,     0.88288,     0.88388,     0.88488,     0.88589,     0.88689,     0.88789,\n",
       "           0.88889,     0.88989,     0.89089,     0.89189,     0.89289,     0.89389,     0.89489,      0.8959,      0.8969,      0.8979,      0.8989,      0.8999,      0.9009,      0.9019,      0.9029,      0.9039,      0.9049,     0.90591,     0.90691,     0.90791,     0.90891,     0.90991,     0.91091,     0.91191,\n",
       "           0.91291,     0.91391,     0.91491,     0.91592,     0.91692,     0.91792,     0.91892,     0.91992,     0.92092,     0.92192,     0.92292,     0.92392,     0.92492,     0.92593,     0.92693,     0.92793,     0.92893,     0.92993,     0.93093,     0.93193,     0.93293,     0.93393,     0.93493,     0.93594,\n",
       "           0.93694,     0.93794,     0.93894,     0.93994,     0.94094,     0.94194,     0.94294,     0.94394,     0.94494,     0.94595,     0.94695,     0.94795,     0.94895,     0.94995,     0.95095,     0.95195,     0.95295,     0.95395,     0.95495,     0.95596,     0.95696,     0.95796,     0.95896,     0.95996,\n",
       "           0.96096,     0.96196,     0.96296,     0.96396,     0.96496,     0.96597,     0.96697,     0.96797,     0.96897,     0.96997,     0.97097,     0.97197,     0.97297,     0.97397,     0.97497,     0.97598,     0.97698,     0.97798,     0.97898,     0.97998,     0.98098,     0.98198,     0.98298,     0.98398,\n",
       "           0.98498,     0.98599,     0.98699,     0.98799,     0.98899,     0.98999,     0.99099,     0.99199,     0.99299,     0.99399,     0.99499,       0.996,       0.997,       0.998,       0.999,           1]), array([[   0.062855,    0.062855,    0.090042,     0.11698,     0.13923,     0.15932,     0.17763,     0.19295,     0.20849,     0.22034,     0.23322,     0.24451,      0.2555,     0.26604,     0.27639,     0.28554,     0.29384,     0.30181,     0.31008,     0.31793,      0.3251,     0.33322,     0.33732,\n",
       "            0.34381,     0.35204,     0.35845,     0.36515,     0.37108,     0.37609,     0.38159,      0.3875,     0.39246,     0.39601,      0.4015,     0.40575,     0.41056,      0.4144,     0.41856,     0.42208,     0.42597,     0.43078,     0.43458,     0.43941,     0.44465,     0.44793,     0.45124,\n",
       "            0.45488,     0.45692,     0.46098,     0.46518,     0.46789,     0.47047,     0.47454,     0.47703,     0.47894,     0.48162,     0.48569,      0.4872,     0.49208,     0.49409,     0.49594,     0.49893,     0.50139,     0.50414,      0.5069,     0.51026,     0.51319,     0.51423,     0.51689,\n",
       "            0.51919,     0.52324,      0.5256,     0.52691,     0.52764,     0.53049,     0.53199,     0.53382,     0.53643,     0.53829,     0.53956,     0.54215,     0.54384,     0.54604,     0.54753,     0.55026,     0.55268,     0.55443,     0.55737,     0.55909,     0.56086,     0.56348,     0.56386,\n",
       "             0.5667,     0.56924,       0.571,     0.57301,     0.57481,     0.57684,     0.57939,     0.58144,     0.58437,     0.58614,     0.58672,     0.58803,      0.5905,     0.59146,     0.59281,     0.59391,     0.59549,     0.59717,     0.59903,     0.60145,      0.6025,     0.60433,     0.60597,\n",
       "            0.60832,     0.61116,      0.6129,     0.61441,     0.61581,     0.61706,     0.61828,     0.61914,     0.62187,     0.62321,     0.62564,     0.62674,     0.62873,     0.63178,     0.63209,      0.6328,      0.6341,     0.63642,     0.63707,     0.63845,     0.63938,     0.64115,     0.64251,\n",
       "            0.64379,     0.64528,     0.64593,     0.64748,     0.64834,     0.64919,     0.65008,      0.6508,     0.65198,     0.65295,     0.65306,     0.65339,      0.6542,     0.65565,     0.65667,     0.65716,     0.65828,     0.65977,     0.66017,     0.66197,     0.66225,     0.66238,     0.66274,\n",
       "            0.66325,     0.66386,     0.66557,     0.66601,     0.66704,     0.66822,     0.66925,     0.66998,     0.67071,     0.67172,     0.67218,     0.67354,     0.67438,     0.67654,     0.67936,     0.68023,     0.68114,     0.68177,     0.68273,     0.68465,     0.68594,     0.68728,     0.68835,\n",
       "             0.6889,     0.69079,     0.69187,     0.69165,     0.69183,      0.6918,     0.69294,     0.69383,     0.69573,      0.6975,     0.69826,     0.69915,     0.70085,     0.70253,     0.70252,     0.70344,     0.70442,     0.70677,     0.70774,      0.7082,     0.70808,     0.70948,     0.70992,\n",
       "            0.71038,     0.71117,     0.71115,     0.71182,     0.71271,     0.71361,     0.71388,      0.7142,      0.7146,     0.71539,     0.71708,     0.71798,     0.71839,     0.71908,     0.71957,     0.72005,     0.72032,     0.72315,      0.7237,     0.72581,     0.72609,     0.72717,     0.72886,\n",
       "            0.73079,     0.73173,     0.73181,     0.73302,      0.7336,     0.73424,     0.73555,     0.73743,     0.73776,     0.73767,     0.73877,     0.73976,     0.74026,     0.74022,     0.74049,     0.74169,     0.74231,     0.74325,     0.74314,      0.7437,     0.74514,     0.74569,     0.74746,\n",
       "            0.74896,     0.74914,     0.74942,     0.75059,     0.75087,     0.75162,     0.75218,     0.75261,     0.75345,     0.75471,     0.75531,     0.75586,      0.7581,     0.75895,     0.75914,      0.7598,     0.76051,     0.76156,     0.76213,     0.76288,     0.76348,     0.76377,     0.76508,\n",
       "            0.76596,     0.76676,     0.76701,     0.76845,     0.76935,     0.77014,     0.77305,     0.77323,     0.77341,     0.77337,     0.77464,     0.77505,     0.77544,     0.77523,     0.77612,     0.77643,      0.7769,     0.77783,     0.77976,     0.78049,     0.78117,     0.78211,     0.78259,\n",
       "            0.78328,     0.78368,     0.78385,     0.78402,     0.78574,     0.78613,     0.78636,     0.78799,     0.78903,     0.79044,     0.79065,     0.79208,     0.79346,     0.79491,     0.79541,     0.79593,     0.79621,     0.79662,     0.79721,     0.79771,     0.80006,     0.80034,     0.80074,\n",
       "            0.80129,     0.80124,     0.80173,     0.80359,     0.80398,     0.80426,     0.80469,     0.80556,     0.80585,     0.80706,     0.80799,     0.80821,     0.80905,     0.81107,      0.8114,     0.81286,     0.81379,      0.8141,     0.81429,     0.81446,     0.81433,     0.81575,     0.81671,\n",
       "            0.81658,     0.81771,     0.81846,     0.81884,     0.82004,     0.82085,     0.82079,     0.82107,     0.82241,     0.82397,     0.82509,     0.82569,     0.82579,     0.82565,     0.82595,     0.82626,     0.82727,      0.8281,     0.82868,     0.82982,     0.82985,     0.83016,     0.83083,\n",
       "            0.83131,      0.8312,     0.83147,     0.83175,     0.83159,     0.83153,     0.83251,     0.83281,     0.83391,     0.83455,     0.83602,     0.83713,     0.83692,      0.8384,     0.83976,     0.83965,     0.83933,     0.83921,     0.83909,     0.83953,     0.84034,      0.8406,     0.84115,\n",
       "            0.84109,     0.84105,     0.84102,     0.84076,     0.84134,     0.84164,     0.84239,     0.84275,      0.8439,     0.84469,     0.84567,     0.84719,     0.84768,     0.84758,     0.84854,     0.84841,     0.84883,     0.84912,     0.84949,     0.85066,     0.85106,     0.85135,      0.8513,\n",
       "            0.85155,     0.85179,     0.85214,     0.85227,     0.85265,     0.85305,     0.85372,     0.85459,     0.85442,     0.85422,     0.85534,     0.85533,     0.85583,      0.8558,     0.85611,     0.85682,      0.8574,     0.85842,     0.85831,     0.85895,     0.85932,     0.86078,     0.86269,\n",
       "            0.86409,     0.86404,     0.86456,     0.86477,     0.86509,     0.86511,     0.86506,     0.86559,     0.86559,     0.86611,     0.86653,     0.86643,     0.86673,     0.86819,     0.86803,     0.86857,     0.86978,     0.87093,     0.87109,     0.87174,     0.87207,     0.87231,     0.87322,\n",
       "            0.87451,     0.87477,     0.87521,     0.87543,     0.87565,     0.87713,     0.87746,     0.87801,     0.87779,     0.87773,     0.87768,     0.87818,     0.87876,     0.87942,     0.88074,     0.88168,     0.88202,     0.88266,     0.88286,     0.88303,      0.8832,     0.88336,     0.88353,\n",
       "             0.8837,     0.88387,       0.884,     0.88374,     0.88371,     0.88394,     0.88416,     0.88441,     0.88475,     0.88586,     0.88678,     0.88663,      0.8866,     0.88657,     0.88667,      0.8877,     0.88765,      0.8875,     0.88765,     0.88792,     0.88827,     0.88985,     0.88995,\n",
       "             0.8903,     0.89215,     0.89269,     0.89314,     0.89326,     0.89378,     0.89481,     0.89517,     0.89627,     0.89699,     0.89691,     0.89773,     0.89797,     0.89821,     0.89953,     0.89945,     0.89992,     0.90195,      0.9018,     0.90176,     0.90172,     0.90204,     0.90324,\n",
       "            0.90335,     0.90459,     0.90452,     0.90448,     0.90436,     0.90428,     0.90422,     0.90419,     0.90417,     0.90412,     0.90443,     0.90476,     0.90461,     0.90455,     0.90451,     0.90445,     0.90481,     0.90516,     0.90553,     0.90617,     0.90684,     0.90833,     0.90832,\n",
       "            0.90829,     0.90888,      0.9088,     0.90865,     0.90858,     0.90949,      0.9098,     0.91005,     0.91067,     0.91144,     0.91214,     0.91235,     0.91296,     0.91282,     0.91343,     0.91455,     0.91474,     0.91543,     0.91529,     0.91521,     0.91591,     0.91661,     0.91632,\n",
       "            0.91778,      0.9178,     0.91929,     0.91901,      0.9188,     0.91953,     0.92007,     0.92027,      0.9202,     0.92059,     0.92085,     0.92157,     0.92203,     0.92216,      0.9221,     0.92278,     0.92275,     0.92269,     0.92262,     0.92255,     0.92324,     0.92435,      0.9248,\n",
       "            0.92495,     0.92536,     0.92635,     0.92663,     0.92696,      0.9269,     0.92834,     0.92802,     0.92796,     0.92873,     0.93099,     0.93086,      0.9308,     0.93062,     0.93059,     0.93055,     0.93048,     0.93036,      0.9318,     0.93444,      0.9361,     0.93611,     0.93609,\n",
       "            0.93607,     0.93604,     0.93605,      0.9364,     0.93675,     0.93758,     0.93752,      0.9374,     0.93728,     0.93699,     0.93693,      0.9376,     0.93753,     0.93798,     0.93824,     0.93994,      0.9414,     0.94235,     0.94213,      0.9419,     0.94188,     0.94179,     0.94173,\n",
       "            0.94309,      0.9434,     0.94334,     0.94323,     0.94319,     0.94373,     0.94362,     0.94351,     0.94421,     0.94403,     0.94387,     0.94385,     0.94382,     0.94379,     0.94359,     0.94536,     0.94525,     0.94568,     0.94673,      0.9467,     0.94662,     0.94646,     0.94642,\n",
       "            0.94637,     0.94626,     0.94615,     0.94606,     0.94692,     0.94773,     0.94934,     0.95021,     0.95011,     0.95101,     0.95186,     0.95172,      0.9517,     0.95153,     0.95132,      0.9513,     0.95126,     0.95115,     0.95113,     0.95179,       0.952,     0.95293,     0.95271,\n",
       "            0.95239,     0.95229,     0.95213,     0.95288,     0.95268,     0.95347,     0.95365,     0.95359,     0.95341,     0.95422,     0.95501,     0.95498,     0.95475,     0.95471,     0.95458,     0.95439,     0.95436,     0.95407,     0.95403,     0.95484,     0.95576,     0.95573,     0.95671,\n",
       "            0.95668,      0.9586,     0.96051,     0.96048,     0.96022,     0.96019,     0.95992,     0.95969,     0.95956,     0.95952,     0.95939,     0.95937,     0.96147,       0.961,     0.96097,     0.96154,     0.96319,     0.96313,     0.96536,     0.96894,     0.96892,     0.96865,     0.96863,\n",
       "            0.97107,      0.9735,     0.97348,     0.97331,     0.97455,     0.97432,      0.9743,      0.9754,      0.9779,     0.97788,     0.97773,     0.97765,     0.97763,     0.97748,     0.97727,     0.97724,     0.97709,     0.97684,     0.97681,     0.97659,     0.97625,     0.97623,     0.97603,\n",
       "            0.97586,     0.97557,     0.97555,     0.97533,     0.97511,     0.97476,     0.97473,      0.9775,      0.9773,     0.97728,     0.97714,     0.97693,      0.9769,     0.97835,     0.97814,     0.97784,     0.97782,     0.97768,     0.97742,     0.97739,     0.97703,     0.97857,     0.97995,\n",
       "            0.97955,     0.97953,     0.97922,     0.97899,     0.98043,      0.9804,      0.9796,     0.97901,     0.97876,     0.97873,     0.97846,     0.97788,     0.97958,     0.97955,     0.98153,     0.98335,     0.98538,     0.98503,     0.98728,     0.98711,     0.98709,     0.98692,     0.98665,\n",
       "            0.98626,     0.98607,     0.98604,     0.98543,     0.98523,     0.98493,     0.98446,     0.98443,     0.98408,     0.98703,     0.98656,     0.98609,     0.98554,     0.98551,     0.98491,     0.98367,     0.98363,     0.98257,     0.98143,      0.9811,     0.98057,     0.98008,     0.97937,\n",
       "            0.97929,     0.97841,     0.97768,     0.97636,     0.98153,     0.98097,     0.98021,     0.97981,     0.97911,     0.97853,     0.97842,     0.97761,     0.97561,     0.97478,     0.97412,     0.97389,     0.97294,      0.9725,     0.97626,     0.98002,     0.98025,     0.97951,     0.97941,\n",
       "            0.97921,     0.97876,     0.97782,     0.97731,      0.9765,     0.97593,     0.97516,       0.975,     0.97403,     0.97379,     0.97277,     0.97053,     0.97006,      0.9699,     0.96975,     0.96891,     0.96852,     0.96768,     0.96741,     0.96602,     0.96572,     0.96451,     0.96237,\n",
       "            0.96163,     0.95888,     0.95853,     0.95754,     0.95561,     0.96638,     0.97673,     0.97618,     0.97598,     0.97578,     0.97556,     0.97514,     0.97391,     0.97319,           1,           1,           1,           1,           1,           1,           1,           1,           1,\n",
       "                  1,           1,           1,           1,           1,           1,           1,           1,           1,           1,           1,           1,           1,           1,           1,           1,           1,           1,           1,           1,           1,           1,           1,\n",
       "                  1,           1,           1,           1,           1,           1,           1,           1,           1,           1,           1,           1,           1,           1,           1,           1,           1,           1,           1,           1,           1,           1,           1,\n",
       "                  1,           1,           1,           1,           1,           1,           1,           1,           1,           1,           1,           1,           1,           1,           1,           1,           1,           1,           1,           1,           1,           1,           1,\n",
       "                  1,           1,           1,           1,           1,           1,           1,           1,           1,           1,           1,           1,           1,           1,           1,           1,           1,           1,           1,           1,           1,           1,           1,\n",
       "                  1,           1,           1,           1,           1,           1,           1,           1,           1,           1,           1]]), 'Confidence', 'Precision'], [array([          0,    0.001001,    0.002002,    0.003003,    0.004004,    0.005005,    0.006006,    0.007007,    0.008008,    0.009009,     0.01001,    0.011011,    0.012012,    0.013013,    0.014014,    0.015015,    0.016016,    0.017017,    0.018018,    0.019019,     0.02002,    0.021021,    0.022022,    0.023023,\n",
       "          0.024024,    0.025025,    0.026026,    0.027027,    0.028028,    0.029029,     0.03003,    0.031031,    0.032032,    0.033033,    0.034034,    0.035035,    0.036036,    0.037037,    0.038038,    0.039039,     0.04004,    0.041041,    0.042042,    0.043043,    0.044044,    0.045045,    0.046046,    0.047047,\n",
       "          0.048048,    0.049049,     0.05005,    0.051051,    0.052052,    0.053053,    0.054054,    0.055055,    0.056056,    0.057057,    0.058058,    0.059059,     0.06006,    0.061061,    0.062062,    0.063063,    0.064064,    0.065065,    0.066066,    0.067067,    0.068068,    0.069069,     0.07007,    0.071071,\n",
       "          0.072072,    0.073073,    0.074074,    0.075075,    0.076076,    0.077077,    0.078078,    0.079079,     0.08008,    0.081081,    0.082082,    0.083083,    0.084084,    0.085085,    0.086086,    0.087087,    0.088088,    0.089089,     0.09009,    0.091091,    0.092092,    0.093093,    0.094094,    0.095095,\n",
       "          0.096096,    0.097097,    0.098098,    0.099099,      0.1001,      0.1011,      0.1021,      0.1031,      0.1041,     0.10511,     0.10611,     0.10711,     0.10811,     0.10911,     0.11011,     0.11111,     0.11211,     0.11311,     0.11411,     0.11512,     0.11612,     0.11712,     0.11812,     0.11912,\n",
       "           0.12012,     0.12112,     0.12212,     0.12312,     0.12412,     0.12513,     0.12613,     0.12713,     0.12813,     0.12913,     0.13013,     0.13113,     0.13213,     0.13313,     0.13413,     0.13514,     0.13614,     0.13714,     0.13814,     0.13914,     0.14014,     0.14114,     0.14214,     0.14314,\n",
       "           0.14414,     0.14515,     0.14615,     0.14715,     0.14815,     0.14915,     0.15015,     0.15115,     0.15215,     0.15315,     0.15415,     0.15516,     0.15616,     0.15716,     0.15816,     0.15916,     0.16016,     0.16116,     0.16216,     0.16316,     0.16416,     0.16517,     0.16617,     0.16717,\n",
       "           0.16817,     0.16917,     0.17017,     0.17117,     0.17217,     0.17317,     0.17417,     0.17518,     0.17618,     0.17718,     0.17818,     0.17918,     0.18018,     0.18118,     0.18218,     0.18318,     0.18418,     0.18519,     0.18619,     0.18719,     0.18819,     0.18919,     0.19019,     0.19119,\n",
       "           0.19219,     0.19319,     0.19419,      0.1952,      0.1962,      0.1972,      0.1982,      0.1992,      0.2002,      0.2012,      0.2022,      0.2032,      0.2042,     0.20521,     0.20621,     0.20721,     0.20821,     0.20921,     0.21021,     0.21121,     0.21221,     0.21321,     0.21421,     0.21522,\n",
       "           0.21622,     0.21722,     0.21822,     0.21922,     0.22022,     0.22122,     0.22222,     0.22322,     0.22422,     0.22523,     0.22623,     0.22723,     0.22823,     0.22923,     0.23023,     0.23123,     0.23223,     0.23323,     0.23423,     0.23524,     0.23624,     0.23724,     0.23824,     0.23924,\n",
       "           0.24024,     0.24124,     0.24224,     0.24324,     0.24424,     0.24525,     0.24625,     0.24725,     0.24825,     0.24925,     0.25025,     0.25125,     0.25225,     0.25325,     0.25425,     0.25526,     0.25626,     0.25726,     0.25826,     0.25926,     0.26026,     0.26126,     0.26226,     0.26326,\n",
       "           0.26426,     0.26527,     0.26627,     0.26727,     0.26827,     0.26927,     0.27027,     0.27127,     0.27227,     0.27327,     0.27427,     0.27528,     0.27628,     0.27728,     0.27828,     0.27928,     0.28028,     0.28128,     0.28228,     0.28328,     0.28428,     0.28529,     0.28629,     0.28729,\n",
       "           0.28829,     0.28929,     0.29029,     0.29129,     0.29229,     0.29329,     0.29429,      0.2953,      0.2963,      0.2973,      0.2983,      0.2993,      0.3003,      0.3013,      0.3023,      0.3033,      0.3043,     0.30531,     0.30631,     0.30731,     0.30831,     0.30931,     0.31031,     0.31131,\n",
       "           0.31231,     0.31331,     0.31431,     0.31532,     0.31632,     0.31732,     0.31832,     0.31932,     0.32032,     0.32132,     0.32232,     0.32332,     0.32432,     0.32533,     0.32633,     0.32733,     0.32833,     0.32933,     0.33033,     0.33133,     0.33233,     0.33333,     0.33433,     0.33534,\n",
       "           0.33634,     0.33734,     0.33834,     0.33934,     0.34034,     0.34134,     0.34234,     0.34334,     0.34434,     0.34535,     0.34635,     0.34735,     0.34835,     0.34935,     0.35035,     0.35135,     0.35235,     0.35335,     0.35435,     0.35536,     0.35636,     0.35736,     0.35836,     0.35936,\n",
       "           0.36036,     0.36136,     0.36236,     0.36336,     0.36436,     0.36537,     0.36637,     0.36737,     0.36837,     0.36937,     0.37037,     0.37137,     0.37237,     0.37337,     0.37437,     0.37538,     0.37638,     0.37738,     0.37838,     0.37938,     0.38038,     0.38138,     0.38238,     0.38338,\n",
       "           0.38438,     0.38539,     0.38639,     0.38739,     0.38839,     0.38939,     0.39039,     0.39139,     0.39239,     0.39339,     0.39439,      0.3954,      0.3964,      0.3974,      0.3984,      0.3994,      0.4004,      0.4014,      0.4024,      0.4034,      0.4044,     0.40541,     0.40641,     0.40741,\n",
       "           0.40841,     0.40941,     0.41041,     0.41141,     0.41241,     0.41341,     0.41441,     0.41542,     0.41642,     0.41742,     0.41842,     0.41942,     0.42042,     0.42142,     0.42242,     0.42342,     0.42442,     0.42543,     0.42643,     0.42743,     0.42843,     0.42943,     0.43043,     0.43143,\n",
       "           0.43243,     0.43343,     0.43443,     0.43544,     0.43644,     0.43744,     0.43844,     0.43944,     0.44044,     0.44144,     0.44244,     0.44344,     0.44444,     0.44545,     0.44645,     0.44745,     0.44845,     0.44945,     0.45045,     0.45145,     0.45245,     0.45345,     0.45445,     0.45546,\n",
       "           0.45646,     0.45746,     0.45846,     0.45946,     0.46046,     0.46146,     0.46246,     0.46346,     0.46446,     0.46547,     0.46647,     0.46747,     0.46847,     0.46947,     0.47047,     0.47147,     0.47247,     0.47347,     0.47447,     0.47548,     0.47648,     0.47748,     0.47848,     0.47948,\n",
       "           0.48048,     0.48148,     0.48248,     0.48348,     0.48448,     0.48549,     0.48649,     0.48749,     0.48849,     0.48949,     0.49049,     0.49149,     0.49249,     0.49349,     0.49449,      0.4955,      0.4965,      0.4975,      0.4985,      0.4995,      0.5005,      0.5015,      0.5025,      0.5035,\n",
       "            0.5045,     0.50551,     0.50651,     0.50751,     0.50851,     0.50951,     0.51051,     0.51151,     0.51251,     0.51351,     0.51451,     0.51552,     0.51652,     0.51752,     0.51852,     0.51952,     0.52052,     0.52152,     0.52252,     0.52352,     0.52452,     0.52553,     0.52653,     0.52753,\n",
       "           0.52853,     0.52953,     0.53053,     0.53153,     0.53253,     0.53353,     0.53453,     0.53554,     0.53654,     0.53754,     0.53854,     0.53954,     0.54054,     0.54154,     0.54254,     0.54354,     0.54454,     0.54555,     0.54655,     0.54755,     0.54855,     0.54955,     0.55055,     0.55155,\n",
       "           0.55255,     0.55355,     0.55455,     0.55556,     0.55656,     0.55756,     0.55856,     0.55956,     0.56056,     0.56156,     0.56256,     0.56356,     0.56456,     0.56557,     0.56657,     0.56757,     0.56857,     0.56957,     0.57057,     0.57157,     0.57257,     0.57357,     0.57457,     0.57558,\n",
       "           0.57658,     0.57758,     0.57858,     0.57958,     0.58058,     0.58158,     0.58258,     0.58358,     0.58458,     0.58559,     0.58659,     0.58759,     0.58859,     0.58959,     0.59059,     0.59159,     0.59259,     0.59359,     0.59459,      0.5956,      0.5966,      0.5976,      0.5986,      0.5996,\n",
       "            0.6006,      0.6016,      0.6026,      0.6036,      0.6046,     0.60561,     0.60661,     0.60761,     0.60861,     0.60961,     0.61061,     0.61161,     0.61261,     0.61361,     0.61461,     0.61562,     0.61662,     0.61762,     0.61862,     0.61962,     0.62062,     0.62162,     0.62262,     0.62362,\n",
       "           0.62462,     0.62563,     0.62663,     0.62763,     0.62863,     0.62963,     0.63063,     0.63163,     0.63263,     0.63363,     0.63463,     0.63564,     0.63664,     0.63764,     0.63864,     0.63964,     0.64064,     0.64164,     0.64264,     0.64364,     0.64464,     0.64565,     0.64665,     0.64765,\n",
       "           0.64865,     0.64965,     0.65065,     0.65165,     0.65265,     0.65365,     0.65465,     0.65566,     0.65666,     0.65766,     0.65866,     0.65966,     0.66066,     0.66166,     0.66266,     0.66366,     0.66466,     0.66567,     0.66667,     0.66767,     0.66867,     0.66967,     0.67067,     0.67167,\n",
       "           0.67267,     0.67367,     0.67467,     0.67568,     0.67668,     0.67768,     0.67868,     0.67968,     0.68068,     0.68168,     0.68268,     0.68368,     0.68468,     0.68569,     0.68669,     0.68769,     0.68869,     0.68969,     0.69069,     0.69169,     0.69269,     0.69369,     0.69469,      0.6957,\n",
       "            0.6967,      0.6977,      0.6987,      0.6997,      0.7007,      0.7017,      0.7027,      0.7037,      0.7047,     0.70571,     0.70671,     0.70771,     0.70871,     0.70971,     0.71071,     0.71171,     0.71271,     0.71371,     0.71471,     0.71572,     0.71672,     0.71772,     0.71872,     0.71972,\n",
       "           0.72072,     0.72172,     0.72272,     0.72372,     0.72472,     0.72573,     0.72673,     0.72773,     0.72873,     0.72973,     0.73073,     0.73173,     0.73273,     0.73373,     0.73473,     0.73574,     0.73674,     0.73774,     0.73874,     0.73974,     0.74074,     0.74174,     0.74274,     0.74374,\n",
       "           0.74474,     0.74575,     0.74675,     0.74775,     0.74875,     0.74975,     0.75075,     0.75175,     0.75275,     0.75375,     0.75475,     0.75576,     0.75676,     0.75776,     0.75876,     0.75976,     0.76076,     0.76176,     0.76276,     0.76376,     0.76476,     0.76577,     0.76677,     0.76777,\n",
       "           0.76877,     0.76977,     0.77077,     0.77177,     0.77277,     0.77377,     0.77477,     0.77578,     0.77678,     0.77778,     0.77878,     0.77978,     0.78078,     0.78178,     0.78278,     0.78378,     0.78478,     0.78579,     0.78679,     0.78779,     0.78879,     0.78979,     0.79079,     0.79179,\n",
       "           0.79279,     0.79379,     0.79479,      0.7958,      0.7968,      0.7978,      0.7988,      0.7998,      0.8008,      0.8018,      0.8028,      0.8038,      0.8048,     0.80581,     0.80681,     0.80781,     0.80881,     0.80981,     0.81081,     0.81181,     0.81281,     0.81381,     0.81481,     0.81582,\n",
       "           0.81682,     0.81782,     0.81882,     0.81982,     0.82082,     0.82182,     0.82282,     0.82382,     0.82482,     0.82583,     0.82683,     0.82783,     0.82883,     0.82983,     0.83083,     0.83183,     0.83283,     0.83383,     0.83483,     0.83584,     0.83684,     0.83784,     0.83884,     0.83984,\n",
       "           0.84084,     0.84184,     0.84284,     0.84384,     0.84484,     0.84585,     0.84685,     0.84785,     0.84885,     0.84985,     0.85085,     0.85185,     0.85285,     0.85385,     0.85485,     0.85586,     0.85686,     0.85786,     0.85886,     0.85986,     0.86086,     0.86186,     0.86286,     0.86386,\n",
       "           0.86486,     0.86587,     0.86687,     0.86787,     0.86887,     0.86987,     0.87087,     0.87187,     0.87287,     0.87387,     0.87487,     0.87588,     0.87688,     0.87788,     0.87888,     0.87988,     0.88088,     0.88188,     0.88288,     0.88388,     0.88488,     0.88589,     0.88689,     0.88789,\n",
       "           0.88889,     0.88989,     0.89089,     0.89189,     0.89289,     0.89389,     0.89489,      0.8959,      0.8969,      0.8979,      0.8989,      0.8999,      0.9009,      0.9019,      0.9029,      0.9039,      0.9049,     0.90591,     0.90691,     0.90791,     0.90891,     0.90991,     0.91091,     0.91191,\n",
       "           0.91291,     0.91391,     0.91491,     0.91592,     0.91692,     0.91792,     0.91892,     0.91992,     0.92092,     0.92192,     0.92292,     0.92392,     0.92492,     0.92593,     0.92693,     0.92793,     0.92893,     0.92993,     0.93093,     0.93193,     0.93293,     0.93393,     0.93493,     0.93594,\n",
       "           0.93694,     0.93794,     0.93894,     0.93994,     0.94094,     0.94194,     0.94294,     0.94394,     0.94494,     0.94595,     0.94695,     0.94795,     0.94895,     0.94995,     0.95095,     0.95195,     0.95295,     0.95395,     0.95495,     0.95596,     0.95696,     0.95796,     0.95896,     0.95996,\n",
       "           0.96096,     0.96196,     0.96296,     0.96396,     0.96496,     0.96597,     0.96697,     0.96797,     0.96897,     0.96997,     0.97097,     0.97197,     0.97297,     0.97397,     0.97497,     0.97598,     0.97698,     0.97798,     0.97898,     0.97998,     0.98098,     0.98198,     0.98298,     0.98398,\n",
       "           0.98498,     0.98599,     0.98699,     0.98799,     0.98899,     0.98999,     0.99099,     0.99199,     0.99299,     0.99399,     0.99499,       0.996,       0.997,       0.998,       0.999,           1]), array([[    0.81437,     0.81437,     0.80224,     0.79571,     0.79058,     0.78545,     0.78218,     0.77938,     0.77659,     0.77285,     0.76959,     0.76632,     0.76399,     0.76353,     0.76213,     0.75979,     0.75653,     0.75373,      0.7528,     0.75047,      0.7486,     0.74813,      0.7458,\n",
       "             0.7444,      0.7444,     0.74254,     0.74114,     0.74021,     0.73881,     0.73741,     0.73601,     0.73601,     0.73554,     0.73461,     0.73274,     0.73274,     0.73228,     0.73134,     0.72994,     0.72901,     0.72808,     0.72715,     0.72668,     0.72668,     0.72575,     0.72435,\n",
       "            0.72388,     0.72341,     0.72295,     0.72248,     0.72201,     0.72155,     0.72108,     0.72062,     0.71968,     0.71922,     0.71922,     0.71922,     0.71922,     0.71828,     0.71828,     0.71782,     0.71688,     0.71688,     0.71642,     0.71595,     0.71549,     0.71549,     0.71409,\n",
       "            0.71409,     0.71409,     0.71312,     0.71222,     0.71082,     0.71082,     0.71035,     0.70989,     0.70896,     0.70849,     0.70849,     0.70802,     0.70802,     0.70802,     0.70802,     0.70802,     0.70709,     0.70662,     0.70478,     0.70476,     0.70476,     0.70382,     0.70243,\n",
       "            0.70196,     0.70196,     0.70196,     0.70196,     0.70103,     0.70056,     0.69963,     0.69916,     0.69916,     0.69916,     0.69869,     0.69823,     0.69823,     0.69776,     0.69776,     0.69636,     0.69555,     0.69496,     0.69402,     0.69356,     0.69263,     0.69263,     0.69263,\n",
       "            0.69263,     0.69216,     0.69216,     0.69216,      0.6917,     0.69123,     0.69076,     0.69076,     0.69076,     0.68983,     0.68983,     0.68918,      0.6889,      0.6889,     0.68797,      0.6875,     0.68657,     0.68657,     0.68657,     0.68657,     0.68657,     0.68657,     0.68563,\n",
       "            0.68517,     0.68517,     0.68517,      0.6847,     0.68377,     0.68377,     0.68284,     0.68237,     0.68237,     0.68185,     0.68043,     0.67957,     0.67945,      0.6791,     0.67864,     0.67856,     0.67817,     0.67817,     0.67771,     0.67771,     0.67771,     0.67677,     0.67642,\n",
       "            0.67631,     0.67631,     0.67631,     0.67584,     0.67537,     0.67537,     0.67491,     0.67444,     0.67397,     0.67378,     0.67304,     0.67257,     0.67257,     0.67257,     0.67257,     0.67164,     0.67164,     0.67164,     0.67147,     0.67118,     0.67031,     0.66978,     0.66962,\n",
       "            0.66931,     0.66896,     0.66817,     0.66744,     0.66744,     0.66651,     0.66604,     0.66604,     0.66604,     0.66558,     0.66511,     0.66446,     0.66325,     0.66278,     0.66185,     0.66185,     0.66091,     0.66045,     0.65998,     0.65995,     0.65957,     0.65905,     0.65864,\n",
       "            0.65812,     0.65807,     0.65765,     0.65765,     0.65765,     0.65765,     0.65765,     0.65736,     0.65634,     0.65625,     0.65625,     0.65625,     0.65625,     0.65625,     0.65585,     0.65485,     0.65485,     0.65424,      0.6536,     0.65299,     0.65299,     0.65252,     0.65252,\n",
       "            0.65205,     0.65205,     0.65163,     0.65019,     0.65019,     0.64925,     0.64925,     0.64832,     0.64822,      0.6479,     0.64739,     0.64739,     0.64735,     0.64692,     0.64692,     0.64684,     0.64552,     0.64552,     0.64459,     0.64421,     0.64366,     0.64366,     0.64366,\n",
       "            0.64272,     0.64179,     0.64179,     0.64132,     0.64132,     0.64086,     0.64086,     0.64039,     0.63993,     0.63993,     0.63925,     0.63853,     0.63853,     0.63853,     0.63853,     0.63853,     0.63838,     0.63806,     0.63806,     0.63713,     0.63686,     0.63666,     0.63619,\n",
       "            0.63573,     0.63573,     0.63573,     0.63573,     0.63526,     0.63479,     0.63386,     0.63386,     0.63386,     0.63347,     0.63293,     0.63246,       0.632,     0.63061,      0.6306,      0.6306,      0.6306,      0.6306,      0.6306,      0.6306,     0.63013,     0.62966,     0.62966,\n",
       "            0.62826,     0.62826,     0.62826,     0.62826,     0.62775,     0.62687,     0.62663,      0.6264,      0.6264,     0.62593,     0.62532,     0.62453,     0.62407,      0.6236,      0.6236,      0.6236,      0.6236,      0.6236,      0.6236,      0.6236,     0.62313,     0.62313,     0.62313,\n",
       "            0.62256,     0.62237,      0.6222,     0.62212,     0.62127,     0.62127,     0.62127,     0.62034,     0.62034,     0.61987,      0.6194,     0.61913,     0.61894,     0.61894,     0.61805,     0.61792,     0.61707,     0.61685,      0.6166,     0.61627,     0.61576,     0.61521,     0.61515,\n",
       "            0.61466,     0.61427,       0.614,     0.61348,     0.61334,     0.61334,      0.6131,     0.61194,     0.61054,     0.61054,     0.61054,     0.61054,     0.61022,     0.60963,     0.60868,     0.60774,     0.60761,     0.60667,     0.60588,     0.60588,     0.60511,     0.60494,     0.60494,\n",
       "             0.6045,     0.60402,     0.60261,     0.60261,     0.60113,     0.60086,     0.60046,     0.60028,     0.60028,     0.59994,     0.59935,     0.59935,     0.59841,     0.59701,      0.5964,     0.59593,     0.59452,     0.59398,     0.59344,     0.59296,     0.59235,     0.59095,     0.59028,\n",
       "            0.59001,     0.58985,     0.58969,     0.58855,     0.58769,      0.5875,     0.58722,     0.58629,     0.58629,     0.58597,     0.58582,     0.58489,     0.58403,     0.58355,     0.58302,     0.58213,     0.58116,     0.58116,     0.58116,     0.58116,     0.58102,     0.57969,     0.57945,\n",
       "            0.57929,     0.57899,     0.57882,      0.5785,     0.57756,     0.57743,     0.57707,     0.57566,     0.57488,     0.57369,     0.57364,     0.57323,     0.57315,     0.57276,     0.57276,     0.57218,     0.57136,     0.57123,     0.57075,     0.56996,     0.56979,      0.5695,      0.5695,\n",
       "            0.56934,      0.5691,     0.56869,     0.56856,     0.56856,     0.56837,     0.56814,      0.5681,     0.56768,     0.56721,     0.56626,     0.56578,     0.56576,     0.56529,     0.56437,      0.5639,     0.56386,     0.56336,     0.56297,     0.56297,     0.56276,      0.5625,     0.56063,\n",
       "            0.56063,     0.56038,     0.55877,     0.55877,     0.55877,      0.5583,      0.5583,      0.5583,      0.5561,      0.5558,     0.55556,      0.5555,     0.55504,     0.55504,     0.55504,     0.55457,     0.55457,     0.55457,     0.55457,     0.55457,     0.55457,     0.55457,     0.55457,\n",
       "            0.55457,     0.55457,     0.55451,      0.5531,     0.55271,     0.55271,     0.55271,     0.55271,     0.55271,     0.55271,     0.55162,     0.55078,     0.55062,     0.55046,     0.54944,     0.54933,     0.54909,     0.54827,     0.54711,     0.54685,     0.54664,     0.54636,     0.54571,\n",
       "            0.54571,     0.54524,     0.54431,     0.54291,     0.54255,     0.54244,     0.54198,     0.54198,     0.54058,     0.54016,     0.53969,     0.53918,     0.53918,     0.53918,     0.53871,     0.53823,     0.53682,     0.53634,     0.53542,     0.53518,     0.53491,     0.53256,     0.53115,\n",
       "            0.53078,     0.53066,     0.53025,     0.53001,     0.52923,     0.52875,     0.52839,     0.52823,     0.52807,     0.52777,     0.52752,     0.52728,     0.52633,     0.52599,     0.52575,     0.52537,     0.52472,     0.52379,     0.52379,     0.52379,     0.52332,     0.52332,      0.5222,\n",
       "            0.52197,     0.52106,     0.52059,     0.51964,     0.51916,     0.51819,     0.51751,     0.51679,     0.51586,     0.51586,     0.51539,     0.51465,     0.51371,     0.51276,     0.51182,     0.51073,     0.51039,     0.50992,     0.50897,     0.50849,     0.50802,     0.50754,     0.50566,\n",
       "             0.5056,     0.50517,     0.50469,     0.50282,      0.5014,     0.50093,     0.50093,     0.50067,     0.50019,     0.49953,     0.49924,     0.49876,     0.49813,     0.49733,     0.49686,     0.49609,     0.49585,     0.49542,     0.49494,     0.49447,     0.49366,     0.49347,     0.49326,\n",
       "              0.493,       0.493,     0.49276,      0.4916,     0.49134,     0.49086,     0.48945,     0.48711,     0.48663,     0.48507,     0.48451,     0.48356,     0.48309,     0.48174,      0.4815,     0.48118,     0.48071,     0.47976,     0.47901,     0.47901,     0.47854,     0.47839,     0.47823,\n",
       "            0.47807,     0.47783,     0.47761,     0.47761,     0.47761,     0.47637,     0.47589,     0.47495,       0.474,     0.47166,     0.47118,     0.46954,     0.46782,     0.46782,     0.46763,     0.46716,     0.46549,     0.46503,     0.46316,     0.46128,     0.46104,     0.46032,      0.4598,\n",
       "            0.45896,     0.45866,     0.45818,     0.45723,     0.45687,     0.45371,     0.45277,     0.45182,     0.44995,     0.44838,     0.44709,     0.44685,     0.44661,     0.44638,     0.44475,      0.4438,     0.44286,     0.44216,     0.43935,     0.43911,     0.43838,     0.43699,     0.43667,\n",
       "            0.43624,      0.4353,     0.43436,     0.43353,      0.4327,     0.43129,     0.42832,      0.4273,     0.42636,     0.42631,     0.42423,     0.42295,     0.42276,     0.42117,      0.4193,     0.41906,     0.41876,     0.41777,     0.41753,     0.41744,      0.4163,     0.41548,     0.41349,\n",
       "            0.41056,     0.40961,      0.4082,     0.40562,     0.40375,     0.40345,     0.40302,     0.40255,      0.4009,     0.39863,     0.39598,     0.39575,     0.39364,     0.39332,     0.39207,     0.39036,     0.39012,     0.38753,     0.38721,     0.38456,     0.38287,     0.38263,     0.38143,\n",
       "            0.38111,       0.378,     0.37441,     0.37409,     0.37152,     0.37128,     0.36863,     0.36644,     0.36519,     0.36487,     0.36367,     0.36343,     0.36081,     0.35629,     0.35597,     0.35588,      0.3539,     0.35329,     0.35097,     0.34925,     0.34893,     0.34588,     0.34564,\n",
       "             0.3444,     0.34268,     0.34236,     0.34018,     0.33939,     0.33627,     0.33596,     0.33284,     0.33019,     0.32987,     0.32768,     0.32643,     0.32611,     0.32393,     0.32081,     0.32049,     0.31831,     0.31473,     0.31441,     0.31129,     0.30677,     0.30645,     0.30389,\n",
       "            0.30162,     0.29804,     0.29772,     0.29507,     0.29236,     0.28821,     0.28789,     0.28374,     0.28119,     0.28087,     0.27915,      0.2765,     0.27618,       0.274,     0.27129,     0.26761,     0.26729,     0.26557,     0.26246,     0.26214,     0.25793,     0.25558,     0.25076,\n",
       "            0.24578,     0.24546,     0.24178,     0.23907,     0.23362,      0.2333,     0.22401,     0.21759,     0.21493,     0.21462,     0.21184,     0.20623,     0.20138,     0.20106,     0.19826,      0.1928,     0.18868,     0.18408,     0.18096,     0.17862,     0.17831,     0.17603,     0.17238,\n",
       "            0.16738,     0.16506,     0.16474,     0.15778,     0.15555,     0.15239,     0.14776,     0.14744,      0.1442,     0.14199,     0.13694,     0.13227,     0.12719,     0.12687,     0.12174,      0.1124,     0.11208,     0.10514,    0.098603,    0.096822,    0.094148,    0.091805,    0.088559,\n",
       "            0.08824,     0.08454,     0.08173,    0.077054,    0.074372,    0.072133,    0.069323,    0.067912,    0.065569,    0.063761,    0.063442,    0.061103,     0.05596,    0.054083,    0.052672,    0.052194,    0.050317,    0.048507,    0.048507,    0.048507,    0.046305,    0.044602,    0.044363,\n",
       "           0.043938,    0.042994,    0.041116,    0.040172,    0.038761,    0.037817,    0.036626,    0.036387,    0.034983,    0.034664,    0.033327,    0.030717,    0.030224,    0.030065,    0.029906,    0.029071,    0.028701,    0.027933,    0.027694,    0.026522,    0.026283,    0.025353,    0.023859,\n",
       "           0.023381,    0.021754,    0.021563,    0.021038,    0.020082,    0.020056,    0.019579,    0.019116,    0.018956,    0.018797,    0.018619,      0.0183,     0.01741,    0.016932,    0.016722,    0.016403,    0.015604,    0.015299,    0.015179,     0.01506,     0.01494,    0.014842,    0.014746,\n",
       "            0.01465,    0.014555,    0.014459,     0.01422,    0.013987,    0.013867,    0.013748,    0.013628,    0.013512,    0.013417,    0.013321,    0.013225,     0.01313,    0.013017,    0.012858,    0.012699,    0.012269,    0.011923,    0.011684,    0.011517,    0.011358,    0.011198,    0.011109,\n",
       "           0.011022,    0.010936,    0.010849,    0.010762,    0.010534,    0.010123,   0.0096901,   0.0095308,   0.0093714,   0.0091888,   0.0089975,   0.0088388,   0.0087591,   0.0086794,   0.0085997,     0.00852,   0.0084403,   0.0083119,   0.0081206,   0.0079294,    0.007823,   0.0077168,   0.0076105,\n",
       "          0.0075043,   0.0069236,    0.006804,   0.0066845,    0.006565,   0.0060113,   0.0057722,   0.0054693,   0.0050377,    0.004719,   0.0045511,   0.0044145,   0.0042779,       0.004,   0.0036476,   0.0034563,   0.0032651,   0.0031781,   0.0030912,   0.0030042,   0.0029173,   0.0028304,   0.0024957,\n",
       "          0.0021225,   0.0018424,   0.0017229,   0.0016034,   0.0014839,   0.0013527,   0.0011934,    0.001034,  0.00090109,  0.00081416,  0.00072724,  0.00064031,  0.00055339,  0.00046646,           0,           0,           0,           0,           0,           0,           0,           0,           0,\n",
       "                  0,           0,           0,           0,           0,           0,           0,           0,           0,           0,           0]]), 'Confidence', 'Recall']]\n",
       "fitness: 0.4275788518619587\n",
       "keys: ['metrics/precision(B)', 'metrics/recall(B)', 'metrics/mAP50(B)', 'metrics/mAP50-95(B)']\n",
       "maps: array([    0.39868])\n",
       "names: {0: 'trash'}\n",
       "nt_per_class: array([2144])\n",
       "nt_per_image: array([491])\n",
       "results_dict: {'metrics/precision(B)': 0.8082094301814141, 'metrics/recall(B)': 0.619130907960199, 'metrics/mAP50(B)': 0.6876755818408282, 'metrics/mAP50-95(B)': 0.3986792151976399, 'fitness': 0.4275788518619587}\n",
       "save_dir: PosixPath('runs/detect/train')\n",
       "speed: {'preprocess': 0.1211883333350621, 'inference': 12.1097140159698, 'loss': 0.0002663433086766049, 'postprocess': 1.3795985149647707}\n",
       "stats: {'tp': [], 'conf': [], 'pred_cls': [], 'target_cls': [], 'target_img': []}\n",
       "task: 'detect'"
      ]
     },
     "execution_count": 2,
     "metadata": {},
     "output_type": "execute_result"
    }
   ],
   "source": [
    "from ultralytics import YOLO\n",
    "\n",
    "modelm = YOLO('yolo12m.pt')  # Load pretrained model (change if using a custom model)\n",
    "\n",
    "# Train the model\n",
    "modelm.train(data=dataset.location + \"/data.yaml\", \n",
    "            epochs=100, imgsz=504, batch=32)"
   ]
  },
  {
   "cell_type": "code",
   "execution_count": 3,
   "id": "92f995b5",
   "metadata": {
    "execution": {
     "iopub.execute_input": "2025-07-25T16:44:51.905986Z",
     "iopub.status.busy": "2025-07-25T16:44:51.905693Z",
     "iopub.status.idle": "2025-07-25T16:45:03.160624Z",
     "shell.execute_reply": "2025-07-25T16:45:03.159813Z"
    },
    "papermill": {
     "duration": 11.849274,
     "end_time": "2025-07-25T16:45:03.161778",
     "exception": false,
     "start_time": "2025-07-25T16:44:51.312504",
     "status": "completed"
    },
    "tags": []
   },
   "outputs": [
    {
     "name": "stdout",
     "output_type": "stream",
     "text": [
      "Ultralytics 8.3.169 🚀 Python-3.11.13 torch-2.6.0+cu124 CUDA:0 (Tesla T4, 15095MiB)\n",
      "YOLOv12m summary (fused): 169 layers, 20,105,683 parameters, 0 gradients, 67.1 GFLOPs\n",
      "\u001b[34m\u001b[1mval: \u001b[0mFast image access ✅ (ping: 0.0±0.0 ms, read: 1234.3±427.8 MB/s, size: 94.3 KB)\n"
     ]
    },
    {
     "name": "stderr",
     "output_type": "stream",
     "text": [
      "\u001b[34m\u001b[1mval: \u001b[0mScanning /kaggle/working/Combined-Trash-2/test/labels... 250 images, 1 backgrounds, 0 corrupt: 100%|██████████| 250/250 [00:00<00:00, 1133.93it/s]"
     ]
    },
    {
     "name": "stdout",
     "output_type": "stream",
     "text": [
      "\u001b[34m\u001b[1mval: \u001b[0mNew cache created: /kaggle/working/Combined-Trash-2/test/labels.cache\n"
     ]
    },
    {
     "name": "stderr",
     "output_type": "stream",
     "text": [
      "\n",
      "                 Class     Images  Instances      Box(P          R      mAP50  mAP50-95): 100%|██████████| 8/8 [00:08<00:00,  1.00s/it]\n",
      "invalid value encountered in less\n",
      "invalid value encountered in less\n"
     ]
    },
    {
     "name": "stdout",
     "output_type": "stream",
     "text": [
      "                   all        250        989      0.852      0.647      0.738      0.441\n",
      "Speed: 1.6ms preprocess, 25.2ms inference, 0.0ms loss, 1.0ms postprocess per image\n",
      "Results saved to \u001b[1mruns/detect/train2\u001b[0m\n",
      "MAP 50-95 0.44110031812387956\n",
      "MAP 50 0.738195340677248\n",
      "MAP 75 0.45820804666137716\n",
      "MAP each category [     0.4411]\n",
      "Mean Precision 0.8521101133315053\n",
      "Mean Recall 0.646672144344277\n",
      " [     0.4411]\n"
     ]
    }
   ],
   "source": [
    "# Validate the model — dataset and parameters inferred automatically\n",
    "metrics = modelm.val(data=dataset.location+\"/data.yaml\", split='test')\n",
    "\n",
    "# Accessing metrics\n",
    "print(\"MAP 50-95\", metrics.box.map)  # map50-95\n",
    "print(\"MAP 50\", metrics.box.map50)  # map50\n",
    "print(\"MAP 75\",metrics.box.map75)  # map75\n",
    "print(\"MAP each category\",metrics.box.maps)  # a list contains map50-95 of each category\n",
    "print(\"Mean Precision\",metrics.box.mp) \n",
    "print(\"Mean Recall\",metrics.box.mr)\n",
    "print(\"\",metrics.box.ap)"
   ]
  },
  {
   "cell_type": "code",
   "execution_count": 4,
   "id": "15c96078",
   "metadata": {
    "collapsed": true,
    "execution": {
     "iopub.execute_input": "2025-07-25T16:45:04.297469Z",
     "iopub.status.busy": "2025-07-25T16:45:04.296812Z",
     "iopub.status.idle": "2025-07-25T19:30:24.167673Z",
     "shell.execute_reply": "2025-07-25T19:30:24.166716Z"
    },
    "jupyter": {
     "outputs_hidden": true
    },
    "papermill": {
     "duration": 9920.466596,
     "end_time": "2025-07-25T19:30:24.171403",
     "exception": false,
     "start_time": "2025-07-25T16:45:03.704807",
     "status": "completed"
    },
    "tags": []
   },
   "outputs": [
    {
     "name": "stdout",
     "output_type": "stream",
     "text": [
      "Downloading https://github.com/ultralytics/assets/releases/download/v8.3.0/yolo12l.pt to 'yolo12l.pt'...\n"
     ]
    },
    {
     "name": "stderr",
     "output_type": "stream",
     "text": [
      "100%|██████████| 51.2M/51.2M [00:00<00:00, 147MB/s]\n"
     ]
    },
    {
     "name": "stdout",
     "output_type": "stream",
     "text": [
      "Ultralytics 8.3.169 🚀 Python-3.11.13 torch-2.6.0+cu124 CUDA:0 (Tesla T4, 15095MiB)\n",
      "\u001b[34m\u001b[1mengine/trainer: \u001b[0magnostic_nms=False, amp=True, augment=False, auto_augment=randaugment, batch=8, bgr=0.0, box=7.5, cache=False, cfg=None, classes=None, close_mosaic=10, cls=0.5, conf=None, copy_paste=0.0, copy_paste_mode=flip, cos_lr=False, cutmix=0.0, data=/kaggle/working/Combined-Trash-2/data.yaml, degrees=0.0, deterministic=True, device=None, dfl=1.5, dnn=False, dropout=0.0, dynamic=False, embed=None, epochs=100, erasing=0.4, exist_ok=False, fliplr=0.5, flipud=0.0, format=torchscript, fraction=1.0, freeze=None, half=False, hsv_h=0.015, hsv_s=0.7, hsv_v=0.4, imgsz=504, int8=False, iou=0.7, keras=False, kobj=1.0, line_width=None, lr0=0.01, lrf=0.01, mask_ratio=4, max_det=300, mixup=0.0, mode=train, model=yolo12l.pt, momentum=0.937, mosaic=1.0, multi_scale=False, name=train3, nbs=64, nms=False, opset=None, optimize=False, optimizer=auto, overlap_mask=True, patience=100, perspective=0.0, plots=True, pose=12.0, pretrained=True, profile=False, project=None, rect=False, resume=False, retina_masks=False, save=True, save_conf=False, save_crop=False, save_dir=runs/detect/train3, save_frames=False, save_json=False, save_period=-1, save_txt=False, scale=0.5, seed=0, shear=0.0, show=False, show_boxes=True, show_conf=True, show_labels=True, simplify=True, single_cls=False, source=None, split=val, stream_buffer=False, task=detect, time=None, tracker=botsort.yaml, translate=0.1, val=True, verbose=True, vid_stride=1, visualize=False, warmup_bias_lr=0.1, warmup_epochs=3.0, warmup_momentum=0.8, weight_decay=0.0005, workers=8, workspace=None\n",
      "Overriding model.yaml nc=80 with nc=1\n",
      "\n",
      "                   from  n    params  module                                       arguments                     \n",
      "  0                  -1  1      1856  ultralytics.nn.modules.conv.Conv             [3, 64, 3, 2]                 \n",
      "  1                  -1  1     73984  ultralytics.nn.modules.conv.Conv             [64, 128, 3, 2]               \n",
      "  2                  -1  2    173824  ultralytics.nn.modules.block.C3k2            [128, 256, 2, True, 0.25]     \n",
      "  3                  -1  1    590336  ultralytics.nn.modules.conv.Conv             [256, 256, 3, 2]              \n",
      "  4                  -1  2    691712  ultralytics.nn.modules.block.C3k2            [256, 512, 2, True, 0.25]     \n",
      "  5                  -1  1   2360320  ultralytics.nn.modules.conv.Conv             [512, 512, 3, 2]              \n",
      "  6                  -1  4   4272944  ultralytics.nn.modules.block.A2C2f           [512, 512, 4, True, 4, True, 1.2]\n",
      "  7                  -1  1   2360320  ultralytics.nn.modules.conv.Conv             [512, 512, 3, 2]              \n",
      "  8                  -1  4   4272944  ultralytics.nn.modules.block.A2C2f           [512, 512, 4, True, 1, True, 1.2]\n",
      "  9                  -1  1         0  torch.nn.modules.upsampling.Upsample         [None, 2, 'nearest']          \n",
      " 10             [-1, 6]  1         0  ultralytics.nn.modules.conv.Concat           [1]                           \n",
      " 11                  -1  2   2102784  ultralytics.nn.modules.block.A2C2f           [1024, 512, 2, False, -1, True, 1.2]\n",
      " 12                  -1  1         0  torch.nn.modules.upsampling.Upsample         [None, 2, 'nearest']          \n",
      " 13             [-1, 4]  1         0  ultralytics.nn.modules.conv.Concat           [1]                           \n",
      " 14                  -1  2    592640  ultralytics.nn.modules.block.A2C2f           [1024, 256, 2, False, -1, True, 1.2]\n",
      " 15                  -1  1    590336  ultralytics.nn.modules.conv.Conv             [256, 256, 3, 2]              \n",
      " 16            [-1, 11]  1         0  ultralytics.nn.modules.conv.Concat           [1]                           \n",
      " 17                  -1  2   2037248  ultralytics.nn.modules.block.A2C2f           [768, 512, 2, False, -1, True, 1.2]\n",
      " 18                  -1  1   2360320  ultralytics.nn.modules.conv.Conv             [512, 512, 3, 2]              \n",
      " 19             [-1, 8]  1         0  ultralytics.nn.modules.conv.Concat           [1]                           \n",
      " 20                  -1  2   2496512  ultralytics.nn.modules.block.C3k2            [1024, 512, 2, True]          \n",
      " 21        [14, 17, 20]  1   1411795  ultralytics.nn.modules.head.Detect           [1, [256, 512, 512]]          \n",
      "YOLOv12l summary: 488 layers, 26,389,875 parameters, 26,389,859 gradients, 89.4 GFLOPs\n",
      "\n",
      "Transferred 1239/1245 items from pretrained weights\n",
      "Freezing layer 'model.21.dfl.conv.weight'\n",
      "\u001b[34m\u001b[1mAMP: \u001b[0mrunning Automatic Mixed Precision (AMP) checks...\n",
      "\u001b[34m\u001b[1mAMP: \u001b[0mchecks passed ✅\n",
      "WARNING ⚠️ imgsz=[504] must be multiple of max stride 32, updating to [512]\n",
      "\u001b[34m\u001b[1mtrain: \u001b[0mFast image access ✅ (ping: 0.0±0.0 ms, read: 1937.4±477.0 MB/s, size: 89.3 KB)\n"
     ]
    },
    {
     "name": "stderr",
     "output_type": "stream",
     "text": [
      "\u001b[34m\u001b[1mtrain: \u001b[0mScanning /kaggle/working/Combined-Trash-2/train/labels.cache... 1757 images, 26 backgrounds, 0 corrupt: 100%|██████████| 1757/1757 [00:00<?, ?it/s]"
     ]
    },
    {
     "name": "stdout",
     "output_type": "stream",
     "text": [
      "\u001b[34m\u001b[1malbumentations: \u001b[0mBlur(p=0.01, blur_limit=(3, 7)), MedianBlur(p=0.01, blur_limit=(3, 7)), ToGray(p=0.01, method='weighted_average', num_output_channels=3), CLAHE(p=0.01, clip_limit=(1.0, 4.0), tile_grid_size=(8, 8))\n"
     ]
    },
    {
     "name": "stderr",
     "output_type": "stream",
     "text": [
      "\n"
     ]
    },
    {
     "name": "stdout",
     "output_type": "stream",
     "text": [
      "\u001b[34m\u001b[1mval: \u001b[0mFast image access ✅ (ping: 0.0±0.0 ms, read: 501.1±240.1 MB/s, size: 98.7 KB)\n"
     ]
    },
    {
     "name": "stderr",
     "output_type": "stream",
     "text": [
      "\u001b[34m\u001b[1mval: \u001b[0mScanning /kaggle/working/Combined-Trash-2/valid/labels.cache... 501 images, 10 backgrounds, 0 corrupt: 100%|██████████| 501/501 [00:00<?, ?it/s]\n"
     ]
    },
    {
     "name": "stdout",
     "output_type": "stream",
     "text": [
      "Plotting labels to runs/detect/train3/labels.jpg... \n",
      "\u001b[34m\u001b[1moptimizer:\u001b[0m 'optimizer=auto' found, ignoring 'lr0=0.01' and 'momentum=0.937' and determining best 'optimizer', 'lr0' and 'momentum' automatically... \n",
      "\u001b[34m\u001b[1moptimizer:\u001b[0m AdamW(lr=0.002, momentum=0.9) with parameter groups 205 weight(decay=0.0), 214 weight(decay=0.0005), 211 bias(decay=0.0)\n",
      "Image sizes 512 train, 512 val\n",
      "Using 2 dataloader workers\n",
      "Logging results to \u001b[1mruns/detect/train3\u001b[0m\n",
      "Starting training for 100 epochs...\n",
      "\n",
      "      Epoch    GPU_mem   box_loss   cls_loss   dfl_loss  Instances       Size\n"
     ]
    },
    {
     "name": "stderr",
     "output_type": "stream",
     "text": [
      "      1/100      5.29G      1.865      1.971      1.295         20        512: 100%|██████████| 220/220 [01:32<00:00,  2.37it/s]\n",
      "                 Class     Images  Instances      Box(P          R      mAP50  mAP50-95): 100%|██████████| 32/32 [00:11<00:00,  2.85it/s]\n"
     ]
    },
    {
     "name": "stdout",
     "output_type": "stream",
     "text": [
      "                   all        501       2144    0.00893      0.371    0.00592    0.00243\n",
      "\n",
      "      Epoch    GPU_mem   box_loss   cls_loss   dfl_loss  Instances       Size\n"
     ]
    },
    {
     "name": "stderr",
     "output_type": "stream",
     "text": [
      "      2/100      5.42G      2.186      2.051      1.471         30        512: 100%|██████████| 220/220 [01:27<00:00,  2.50it/s]\n",
      "                 Class     Images  Instances      Box(P          R      mAP50  mAP50-95): 100%|██████████| 32/32 [00:10<00:00,  2.97it/s]"
     ]
    },
    {
     "name": "stdout",
     "output_type": "stream",
     "text": [
      "                   all        501       2144      0.494      0.379      0.335      0.148\n"
     ]
    },
    {
     "name": "stderr",
     "output_type": "stream",
     "text": [
      "\n"
     ]
    },
    {
     "name": "stdout",
     "output_type": "stream",
     "text": [
      "\n",
      "      Epoch    GPU_mem   box_loss   cls_loss   dfl_loss  Instances       Size\n"
     ]
    },
    {
     "name": "stderr",
     "output_type": "stream",
     "text": [
      "      3/100      5.49G      2.136      1.962      1.444         49        512: 100%|██████████| 220/220 [01:27<00:00,  2.53it/s]\n",
      "                 Class     Images  Instances      Box(P          R      mAP50  mAP50-95): 100%|██████████| 32/32 [00:10<00:00,  2.97it/s]"
     ]
    },
    {
     "name": "stdout",
     "output_type": "stream",
     "text": [
      "                   all        501       2144      0.478      0.361      0.325      0.136\n"
     ]
    },
    {
     "name": "stderr",
     "output_type": "stream",
     "text": [
      "\n"
     ]
    },
    {
     "name": "stdout",
     "output_type": "stream",
     "text": [
      "\n",
      "      Epoch    GPU_mem   box_loss   cls_loss   dfl_loss  Instances       Size\n"
     ]
    },
    {
     "name": "stderr",
     "output_type": "stream",
     "text": [
      "      4/100      5.63G      2.038      1.878      1.403         25        512: 100%|██████████| 220/220 [01:26<00:00,  2.54it/s]\n",
      "                 Class     Images  Instances      Box(P          R      mAP50  mAP50-95): 100%|██████████| 32/32 [00:10<00:00,  3.00it/s]"
     ]
    },
    {
     "name": "stdout",
     "output_type": "stream",
     "text": [
      "                   all        501       2144      0.419      0.422      0.277      0.127\n"
     ]
    },
    {
     "name": "stderr",
     "output_type": "stream",
     "text": [
      "\n"
     ]
    },
    {
     "name": "stdout",
     "output_type": "stream",
     "text": [
      "\n",
      "      Epoch    GPU_mem   box_loss   cls_loss   dfl_loss  Instances       Size\n"
     ]
    },
    {
     "name": "stderr",
     "output_type": "stream",
     "text": [
      "      5/100      5.73G      1.985       1.79      1.383         23        512: 100%|██████████| 220/220 [01:26<00:00,  2.54it/s]\n",
      "                 Class     Images  Instances      Box(P          R      mAP50  mAP50-95): 100%|██████████| 32/32 [00:10<00:00,  3.01it/s]"
     ]
    },
    {
     "name": "stdout",
     "output_type": "stream",
     "text": [
      "                   all        501       2144      0.587      0.391      0.408      0.196\n"
     ]
    },
    {
     "name": "stderr",
     "output_type": "stream",
     "text": [
      "\n"
     ]
    },
    {
     "name": "stdout",
     "output_type": "stream",
     "text": [
      "\n",
      "      Epoch    GPU_mem   box_loss   cls_loss   dfl_loss  Instances       Size\n"
     ]
    },
    {
     "name": "stderr",
     "output_type": "stream",
     "text": [
      "      6/100      5.73G      1.916      1.759      1.355         37        512: 100%|██████████| 220/220 [01:26<00:00,  2.54it/s]\n",
      "                 Class     Images  Instances      Box(P          R      mAP50  mAP50-95): 100%|██████████| 32/32 [00:10<00:00,  3.02it/s]"
     ]
    },
    {
     "name": "stdout",
     "output_type": "stream",
     "text": [
      "                   all        501       2144      0.515      0.437      0.427      0.188\n"
     ]
    },
    {
     "name": "stderr",
     "output_type": "stream",
     "text": [
      "\n"
     ]
    },
    {
     "name": "stdout",
     "output_type": "stream",
     "text": [
      "\n",
      "      Epoch    GPU_mem   box_loss   cls_loss   dfl_loss  Instances       Size\n"
     ]
    },
    {
     "name": "stderr",
     "output_type": "stream",
     "text": [
      "      7/100      5.73G      1.873      1.685      1.315         29        512: 100%|██████████| 220/220 [01:26<00:00,  2.54it/s]\n",
      "                 Class     Images  Instances      Box(P          R      mAP50  mAP50-95): 100%|██████████| 32/32 [00:10<00:00,  3.00it/s]"
     ]
    },
    {
     "name": "stdout",
     "output_type": "stream",
     "text": [
      "                   all        501       2144      0.552      0.444      0.455      0.216\n"
     ]
    },
    {
     "name": "stderr",
     "output_type": "stream",
     "text": [
      "\n"
     ]
    },
    {
     "name": "stdout",
     "output_type": "stream",
     "text": [
      "\n",
      "      Epoch    GPU_mem   box_loss   cls_loss   dfl_loss  Instances       Size\n"
     ]
    },
    {
     "name": "stderr",
     "output_type": "stream",
     "text": [
      "      8/100      5.73G       1.84      1.674      1.295         16        512: 100%|██████████| 220/220 [01:26<00:00,  2.55it/s]\n",
      "                 Class     Images  Instances      Box(P          R      mAP50  mAP50-95): 100%|██████████| 32/32 [00:10<00:00,  3.01it/s]"
     ]
    },
    {
     "name": "stdout",
     "output_type": "stream",
     "text": [
      "                   all        501       2144       0.55      0.428      0.431      0.195\n"
     ]
    },
    {
     "name": "stderr",
     "output_type": "stream",
     "text": [
      "\n"
     ]
    },
    {
     "name": "stdout",
     "output_type": "stream",
     "text": [
      "\n",
      "      Epoch    GPU_mem   box_loss   cls_loss   dfl_loss  Instances       Size\n"
     ]
    },
    {
     "name": "stderr",
     "output_type": "stream",
     "text": [
      "      9/100      5.73G      1.791      1.633      1.282         31        512: 100%|██████████| 220/220 [01:26<00:00,  2.55it/s]\n",
      "                 Class     Images  Instances      Box(P          R      mAP50  mAP50-95): 100%|██████████| 32/32 [00:10<00:00,  3.01it/s]"
     ]
    },
    {
     "name": "stdout",
     "output_type": "stream",
     "text": [
      "                   all        501       2144      0.509      0.424      0.406      0.193\n"
     ]
    },
    {
     "name": "stderr",
     "output_type": "stream",
     "text": [
      "\n"
     ]
    },
    {
     "name": "stdout",
     "output_type": "stream",
     "text": [
      "\n",
      "      Epoch    GPU_mem   box_loss   cls_loss   dfl_loss  Instances       Size\n"
     ]
    },
    {
     "name": "stderr",
     "output_type": "stream",
     "text": [
      "     10/100      5.76G      1.834      1.609      1.274         13        512: 100%|██████████| 220/220 [01:26<00:00,  2.55it/s]\n",
      "                 Class     Images  Instances      Box(P          R      mAP50  mAP50-95): 100%|██████████| 32/32 [00:10<00:00,  3.02it/s]"
     ]
    },
    {
     "name": "stdout",
     "output_type": "stream",
     "text": [
      "                   all        501       2144      0.571      0.411      0.431      0.222\n"
     ]
    },
    {
     "name": "stderr",
     "output_type": "stream",
     "text": [
      "\n"
     ]
    },
    {
     "name": "stdout",
     "output_type": "stream",
     "text": [
      "\n",
      "      Epoch    GPU_mem   box_loss   cls_loss   dfl_loss  Instances       Size\n"
     ]
    },
    {
     "name": "stderr",
     "output_type": "stream",
     "text": [
      "     11/100      5.76G      1.751      1.586      1.243         35        512: 100%|██████████| 220/220 [01:26<00:00,  2.54it/s]\n",
      "                 Class     Images  Instances      Box(P          R      mAP50  mAP50-95): 100%|██████████| 32/32 [00:10<00:00,  3.00it/s]"
     ]
    },
    {
     "name": "stdout",
     "output_type": "stream",
     "text": [
      "                   all        501       2144      0.539      0.477      0.472      0.237\n"
     ]
    },
    {
     "name": "stderr",
     "output_type": "stream",
     "text": [
      "\n"
     ]
    },
    {
     "name": "stdout",
     "output_type": "stream",
     "text": [
      "\n",
      "      Epoch    GPU_mem   box_loss   cls_loss   dfl_loss  Instances       Size\n"
     ]
    },
    {
     "name": "stderr",
     "output_type": "stream",
     "text": [
      "     12/100      5.76G      1.765      1.563      1.261         24        512: 100%|██████████| 220/220 [01:26<00:00,  2.54it/s]\n",
      "                 Class     Images  Instances      Box(P          R      mAP50  mAP50-95): 100%|██████████| 32/32 [00:10<00:00,  3.02it/s]"
     ]
    },
    {
     "name": "stdout",
     "output_type": "stream",
     "text": [
      "                   all        501       2144      0.564      0.443      0.445      0.225\n"
     ]
    },
    {
     "name": "stderr",
     "output_type": "stream",
     "text": [
      "\n"
     ]
    },
    {
     "name": "stdout",
     "output_type": "stream",
     "text": [
      "\n",
      "      Epoch    GPU_mem   box_loss   cls_loss   dfl_loss  Instances       Size\n"
     ]
    },
    {
     "name": "stderr",
     "output_type": "stream",
     "text": [
      "     13/100      5.76G      1.744      1.583      1.253         13        512: 100%|██████████| 220/220 [01:26<00:00,  2.54it/s]\n",
      "                 Class     Images  Instances      Box(P          R      mAP50  mAP50-95): 100%|██████████| 32/32 [00:10<00:00,  3.01it/s]"
     ]
    },
    {
     "name": "stdout",
     "output_type": "stream",
     "text": [
      "                   all        501       2144      0.596      0.427      0.438       0.21\n"
     ]
    },
    {
     "name": "stderr",
     "output_type": "stream",
     "text": [
      "\n"
     ]
    },
    {
     "name": "stdout",
     "output_type": "stream",
     "text": [
      "\n",
      "      Epoch    GPU_mem   box_loss   cls_loss   dfl_loss  Instances       Size\n"
     ]
    },
    {
     "name": "stderr",
     "output_type": "stream",
     "text": [
      "     14/100      5.76G      1.717      1.517      1.231         40        512: 100%|██████████| 220/220 [01:26<00:00,  2.55it/s]\n",
      "                 Class     Images  Instances      Box(P          R      mAP50  mAP50-95): 100%|██████████| 32/32 [00:10<00:00,  3.03it/s]"
     ]
    },
    {
     "name": "stdout",
     "output_type": "stream",
     "text": [
      "                   all        501       2144      0.577      0.459      0.487      0.255\n"
     ]
    },
    {
     "name": "stderr",
     "output_type": "stream",
     "text": [
      "\n"
     ]
    },
    {
     "name": "stdout",
     "output_type": "stream",
     "text": [
      "\n",
      "      Epoch    GPU_mem   box_loss   cls_loss   dfl_loss  Instances       Size\n"
     ]
    },
    {
     "name": "stderr",
     "output_type": "stream",
     "text": [
      "     15/100      5.76G      1.689      1.476      1.221         27        512: 100%|██████████| 220/220 [01:26<00:00,  2.55it/s]\n",
      "                 Class     Images  Instances      Box(P          R      mAP50  mAP50-95): 100%|██████████| 32/32 [00:10<00:00,  3.02it/s]"
     ]
    },
    {
     "name": "stdout",
     "output_type": "stream",
     "text": [
      "                   all        501       2144      0.632       0.46      0.514      0.266\n"
     ]
    },
    {
     "name": "stderr",
     "output_type": "stream",
     "text": [
      "\n"
     ]
    },
    {
     "name": "stdout",
     "output_type": "stream",
     "text": [
      "\n",
      "      Epoch    GPU_mem   box_loss   cls_loss   dfl_loss  Instances       Size\n"
     ]
    },
    {
     "name": "stderr",
     "output_type": "stream",
     "text": [
      "     16/100      5.76G      1.663      1.462      1.223         18        512: 100%|██████████| 220/220 [01:26<00:00,  2.54it/s]\n",
      "                 Class     Images  Instances      Box(P          R      mAP50  mAP50-95): 100%|██████████| 32/32 [00:10<00:00,  3.02it/s]"
     ]
    },
    {
     "name": "stdout",
     "output_type": "stream",
     "text": [
      "                   all        501       2144       0.56      0.461      0.476       0.25\n"
     ]
    },
    {
     "name": "stderr",
     "output_type": "stream",
     "text": [
      "\n"
     ]
    },
    {
     "name": "stdout",
     "output_type": "stream",
     "text": [
      "\n",
      "      Epoch    GPU_mem   box_loss   cls_loss   dfl_loss  Instances       Size\n"
     ]
    },
    {
     "name": "stderr",
     "output_type": "stream",
     "text": [
      "     17/100      5.76G      1.634      1.434      1.211         34        512: 100%|██████████| 220/220 [01:26<00:00,  2.56it/s]\n",
      "                 Class     Images  Instances      Box(P          R      mAP50  mAP50-95): 100%|██████████| 32/32 [00:10<00:00,  3.01it/s]"
     ]
    },
    {
     "name": "stdout",
     "output_type": "stream",
     "text": [
      "                   all        501       2144      0.638      0.446       0.48      0.257\n"
     ]
    },
    {
     "name": "stderr",
     "output_type": "stream",
     "text": [
      "\n"
     ]
    },
    {
     "name": "stdout",
     "output_type": "stream",
     "text": [
      "\n",
      "      Epoch    GPU_mem   box_loss   cls_loss   dfl_loss  Instances       Size\n"
     ]
    },
    {
     "name": "stderr",
     "output_type": "stream",
     "text": [
      "     18/100      5.76G      1.657      1.423      1.211         26        512: 100%|██████████| 220/220 [01:26<00:00,  2.53it/s]\n",
      "                 Class     Images  Instances      Box(P          R      mAP50  mAP50-95): 100%|██████████| 32/32 [00:10<00:00,  3.00it/s]"
     ]
    },
    {
     "name": "stdout",
     "output_type": "stream",
     "text": [
      "                   all        501       2144      0.597      0.471      0.494      0.234\n"
     ]
    },
    {
     "name": "stderr",
     "output_type": "stream",
     "text": [
      "\n"
     ]
    },
    {
     "name": "stdout",
     "output_type": "stream",
     "text": [
      "\n",
      "      Epoch    GPU_mem   box_loss   cls_loss   dfl_loss  Instances       Size\n"
     ]
    },
    {
     "name": "stderr",
     "output_type": "stream",
     "text": [
      "     19/100      5.76G      1.648      1.451      1.202         12        512: 100%|██████████| 220/220 [01:26<00:00,  2.55it/s]\n",
      "                 Class     Images  Instances      Box(P          R      mAP50  mAP50-95): 100%|██████████| 32/32 [00:10<00:00,  2.99it/s]"
     ]
    },
    {
     "name": "stdout",
     "output_type": "stream",
     "text": [
      "                   all        501       2144      0.631       0.47       0.52      0.275\n"
     ]
    },
    {
     "name": "stderr",
     "output_type": "stream",
     "text": [
      "\n"
     ]
    },
    {
     "name": "stdout",
     "output_type": "stream",
     "text": [
      "\n",
      "      Epoch    GPU_mem   box_loss   cls_loss   dfl_loss  Instances       Size\n"
     ]
    },
    {
     "name": "stderr",
     "output_type": "stream",
     "text": [
      "     20/100      5.76G      1.641      1.437        1.2         16        512: 100%|██████████| 220/220 [01:26<00:00,  2.54it/s]\n",
      "                 Class     Images  Instances      Box(P          R      mAP50  mAP50-95): 100%|██████████| 32/32 [00:10<00:00,  2.99it/s]"
     ]
    },
    {
     "name": "stdout",
     "output_type": "stream",
     "text": [
      "                   all        501       2144      0.561      0.506      0.505      0.256\n"
     ]
    },
    {
     "name": "stderr",
     "output_type": "stream",
     "text": [
      "\n"
     ]
    },
    {
     "name": "stdout",
     "output_type": "stream",
     "text": [
      "\n",
      "      Epoch    GPU_mem   box_loss   cls_loss   dfl_loss  Instances       Size\n"
     ]
    },
    {
     "name": "stderr",
     "output_type": "stream",
     "text": [
      "     21/100      5.81G      1.606      1.375      1.171         33        512: 100%|██████████| 220/220 [01:26<00:00,  2.55it/s]\n",
      "                 Class     Images  Instances      Box(P          R      mAP50  mAP50-95): 100%|██████████| 32/32 [00:10<00:00,  3.01it/s]"
     ]
    },
    {
     "name": "stdout",
     "output_type": "stream",
     "text": [
      "                   all        501       2144      0.672      0.414       0.47      0.237\n"
     ]
    },
    {
     "name": "stderr",
     "output_type": "stream",
     "text": [
      "\n"
     ]
    },
    {
     "name": "stdout",
     "output_type": "stream",
     "text": [
      "\n",
      "      Epoch    GPU_mem   box_loss   cls_loss   dfl_loss  Instances       Size\n"
     ]
    },
    {
     "name": "stderr",
     "output_type": "stream",
     "text": [
      "     22/100      5.81G      1.624      1.389      1.204         22        512: 100%|██████████| 220/220 [01:26<00:00,  2.54it/s]\n",
      "                 Class     Images  Instances      Box(P          R      mAP50  mAP50-95): 100%|██████████| 32/32 [00:10<00:00,  3.00it/s]"
     ]
    },
    {
     "name": "stdout",
     "output_type": "stream",
     "text": [
      "                   all        501       2144       0.65      0.508      0.542      0.288\n"
     ]
    },
    {
     "name": "stderr",
     "output_type": "stream",
     "text": [
      "\n"
     ]
    },
    {
     "name": "stdout",
     "output_type": "stream",
     "text": [
      "\n",
      "      Epoch    GPU_mem   box_loss   cls_loss   dfl_loss  Instances       Size\n"
     ]
    },
    {
     "name": "stderr",
     "output_type": "stream",
     "text": [
      "     23/100      5.81G      1.601      1.371      1.179         30        512: 100%|██████████| 220/220 [01:26<00:00,  2.54it/s]\n",
      "                 Class     Images  Instances      Box(P          R      mAP50  mAP50-95): 100%|██████████| 32/32 [00:10<00:00,  3.00it/s]"
     ]
    },
    {
     "name": "stdout",
     "output_type": "stream",
     "text": [
      "                   all        501       2144      0.652      0.467      0.513      0.266\n"
     ]
    },
    {
     "name": "stderr",
     "output_type": "stream",
     "text": [
      "\n"
     ]
    },
    {
     "name": "stdout",
     "output_type": "stream",
     "text": [
      "\n",
      "      Epoch    GPU_mem   box_loss   cls_loss   dfl_loss  Instances       Size\n"
     ]
    },
    {
     "name": "stderr",
     "output_type": "stream",
     "text": [
      "     24/100      5.81G      1.589      1.376      1.191         16        512: 100%|██████████| 220/220 [01:26<00:00,  2.54it/s]\n",
      "                 Class     Images  Instances      Box(P          R      mAP50  mAP50-95): 100%|██████████| 32/32 [00:10<00:00,  3.01it/s]"
     ]
    },
    {
     "name": "stdout",
     "output_type": "stream",
     "text": [
      "                   all        501       2144      0.692      0.483      0.547      0.296\n"
     ]
    },
    {
     "name": "stderr",
     "output_type": "stream",
     "text": [
      "\n"
     ]
    },
    {
     "name": "stdout",
     "output_type": "stream",
     "text": [
      "\n",
      "      Epoch    GPU_mem   box_loss   cls_loss   dfl_loss  Instances       Size\n"
     ]
    },
    {
     "name": "stderr",
     "output_type": "stream",
     "text": [
      "     25/100      5.81G      1.612      1.349      1.187         13        512: 100%|██████████| 220/220 [01:26<00:00,  2.55it/s]\n",
      "                 Class     Images  Instances      Box(P          R      mAP50  mAP50-95): 100%|██████████| 32/32 [00:10<00:00,  3.02it/s]"
     ]
    },
    {
     "name": "stdout",
     "output_type": "stream",
     "text": [
      "                   all        501       2144      0.686      0.489      0.558       0.29\n"
     ]
    },
    {
     "name": "stderr",
     "output_type": "stream",
     "text": [
      "\n"
     ]
    },
    {
     "name": "stdout",
     "output_type": "stream",
     "text": [
      "\n",
      "      Epoch    GPU_mem   box_loss   cls_loss   dfl_loss  Instances       Size\n"
     ]
    },
    {
     "name": "stderr",
     "output_type": "stream",
     "text": [
      "     26/100      5.81G      1.586      1.361      1.163         16        512: 100%|██████████| 220/220 [01:26<00:00,  2.55it/s]\n",
      "                 Class     Images  Instances      Box(P          R      mAP50  mAP50-95): 100%|██████████| 32/32 [00:10<00:00,  3.02it/s]"
     ]
    },
    {
     "name": "stdout",
     "output_type": "stream",
     "text": [
      "                   all        501       2144        0.7      0.479      0.544      0.285\n"
     ]
    },
    {
     "name": "stderr",
     "output_type": "stream",
     "text": [
      "\n"
     ]
    },
    {
     "name": "stdout",
     "output_type": "stream",
     "text": [
      "\n",
      "      Epoch    GPU_mem   box_loss   cls_loss   dfl_loss  Instances       Size\n"
     ]
    },
    {
     "name": "stderr",
     "output_type": "stream",
     "text": [
      "     27/100      5.81G      1.583      1.343      1.181         21        512: 100%|██████████| 220/220 [01:26<00:00,  2.55it/s]\n",
      "                 Class     Images  Instances      Box(P          R      mAP50  mAP50-95): 100%|██████████| 32/32 [00:10<00:00,  3.01it/s]"
     ]
    },
    {
     "name": "stdout",
     "output_type": "stream",
     "text": [
      "                   all        501       2144      0.723      0.501      0.564      0.299\n"
     ]
    },
    {
     "name": "stderr",
     "output_type": "stream",
     "text": [
      "\n"
     ]
    },
    {
     "name": "stdout",
     "output_type": "stream",
     "text": [
      "\n",
      "      Epoch    GPU_mem   box_loss   cls_loss   dfl_loss  Instances       Size\n"
     ]
    },
    {
     "name": "stderr",
     "output_type": "stream",
     "text": [
      "     28/100      5.81G      1.565      1.344      1.165         17        512: 100%|██████████| 220/220 [01:26<00:00,  2.55it/s]\n",
      "                 Class     Images  Instances      Box(P          R      mAP50  mAP50-95): 100%|██████████| 32/32 [00:10<00:00,  3.01it/s]"
     ]
    },
    {
     "name": "stdout",
     "output_type": "stream",
     "text": [
      "                   all        501       2144      0.713      0.508      0.584       0.31\n"
     ]
    },
    {
     "name": "stderr",
     "output_type": "stream",
     "text": [
      "\n"
     ]
    },
    {
     "name": "stdout",
     "output_type": "stream",
     "text": [
      "\n",
      "      Epoch    GPU_mem   box_loss   cls_loss   dfl_loss  Instances       Size\n"
     ]
    },
    {
     "name": "stderr",
     "output_type": "stream",
     "text": [
      "     29/100      5.81G      1.534      1.295      1.157         37        512: 100%|██████████| 220/220 [01:26<00:00,  2.55it/s]\n",
      "                 Class     Images  Instances      Box(P          R      mAP50  mAP50-95): 100%|██████████| 32/32 [00:10<00:00,  3.02it/s]"
     ]
    },
    {
     "name": "stdout",
     "output_type": "stream",
     "text": [
      "                   all        501       2144      0.634      0.504      0.547      0.296\n"
     ]
    },
    {
     "name": "stderr",
     "output_type": "stream",
     "text": [
      "\n"
     ]
    },
    {
     "name": "stdout",
     "output_type": "stream",
     "text": [
      "\n",
      "      Epoch    GPU_mem   box_loss   cls_loss   dfl_loss  Instances       Size\n"
     ]
    },
    {
     "name": "stderr",
     "output_type": "stream",
     "text": [
      "     30/100      5.81G      1.526      1.288       1.14         21        512: 100%|██████████| 220/220 [01:26<00:00,  2.55it/s]\n",
      "                 Class     Images  Instances      Box(P          R      mAP50  mAP50-95): 100%|██████████| 32/32 [00:10<00:00,  3.02it/s]"
     ]
    },
    {
     "name": "stdout",
     "output_type": "stream",
     "text": [
      "                   all        501       2144      0.699      0.492      0.571      0.295\n"
     ]
    },
    {
     "name": "stderr",
     "output_type": "stream",
     "text": [
      "\n"
     ]
    },
    {
     "name": "stdout",
     "output_type": "stream",
     "text": [
      "\n",
      "      Epoch    GPU_mem   box_loss   cls_loss   dfl_loss  Instances       Size\n"
     ]
    },
    {
     "name": "stderr",
     "output_type": "stream",
     "text": [
      "     31/100      5.81G      1.529      1.268      1.147         38        512: 100%|██████████| 220/220 [01:26<00:00,  2.55it/s]\n",
      "                 Class     Images  Instances      Box(P          R      mAP50  mAP50-95): 100%|██████████| 32/32 [00:10<00:00,  3.03it/s]"
     ]
    },
    {
     "name": "stdout",
     "output_type": "stream",
     "text": [
      "                   all        501       2144      0.597      0.538      0.549      0.297\n"
     ]
    },
    {
     "name": "stderr",
     "output_type": "stream",
     "text": [
      "\n"
     ]
    },
    {
     "name": "stdout",
     "output_type": "stream",
     "text": [
      "\n",
      "      Epoch    GPU_mem   box_loss   cls_loss   dfl_loss  Instances       Size\n"
     ]
    },
    {
     "name": "stderr",
     "output_type": "stream",
     "text": [
      "     32/100      5.81G      1.533      1.274      1.138         13        512: 100%|██████████| 220/220 [01:26<00:00,  2.54it/s]\n",
      "                 Class     Images  Instances      Box(P          R      mAP50  mAP50-95): 100%|██████████| 32/32 [00:10<00:00,  3.01it/s]"
     ]
    },
    {
     "name": "stdout",
     "output_type": "stream",
     "text": [
      "                   all        501       2144      0.722      0.514      0.591      0.324\n"
     ]
    },
    {
     "name": "stderr",
     "output_type": "stream",
     "text": [
      "\n"
     ]
    },
    {
     "name": "stdout",
     "output_type": "stream",
     "text": [
      "\n",
      "      Epoch    GPU_mem   box_loss   cls_loss   dfl_loss  Instances       Size\n"
     ]
    },
    {
     "name": "stderr",
     "output_type": "stream",
     "text": [
      "     33/100      5.81G      1.532      1.323      1.151         28        512: 100%|██████████| 220/220 [01:26<00:00,  2.55it/s]\n",
      "                 Class     Images  Instances      Box(P          R      mAP50  mAP50-95): 100%|██████████| 32/32 [00:10<00:00,  3.02it/s]"
     ]
    },
    {
     "name": "stdout",
     "output_type": "stream",
     "text": [
      "                   all        501       2144      0.689      0.504      0.558      0.298\n"
     ]
    },
    {
     "name": "stderr",
     "output_type": "stream",
     "text": [
      "\n"
     ]
    },
    {
     "name": "stdout",
     "output_type": "stream",
     "text": [
      "\n",
      "      Epoch    GPU_mem   box_loss   cls_loss   dfl_loss  Instances       Size\n"
     ]
    },
    {
     "name": "stderr",
     "output_type": "stream",
     "text": [
      "     34/100      5.81G      1.529      1.291      1.147         32        512: 100%|██████████| 220/220 [01:26<00:00,  2.55it/s]\n",
      "                 Class     Images  Instances      Box(P          R      mAP50  mAP50-95): 100%|██████████| 32/32 [00:10<00:00,  3.01it/s]"
     ]
    },
    {
     "name": "stdout",
     "output_type": "stream",
     "text": [
      "                   all        501       2144      0.705      0.513       0.57      0.304\n"
     ]
    },
    {
     "name": "stderr",
     "output_type": "stream",
     "text": [
      "\n"
     ]
    },
    {
     "name": "stdout",
     "output_type": "stream",
     "text": [
      "\n",
      "      Epoch    GPU_mem   box_loss   cls_loss   dfl_loss  Instances       Size\n"
     ]
    },
    {
     "name": "stderr",
     "output_type": "stream",
     "text": [
      "     35/100      5.81G       1.49      1.239      1.125         30        512: 100%|██████████| 220/220 [01:26<00:00,  2.55it/s]\n",
      "                 Class     Images  Instances      Box(P          R      mAP50  mAP50-95): 100%|██████████| 32/32 [00:10<00:00,  3.03it/s]"
     ]
    },
    {
     "name": "stdout",
     "output_type": "stream",
     "text": [
      "                   all        501       2144      0.702      0.512      0.579       0.31\n"
     ]
    },
    {
     "name": "stderr",
     "output_type": "stream",
     "text": [
      "\n"
     ]
    },
    {
     "name": "stdout",
     "output_type": "stream",
     "text": [
      "\n",
      "      Epoch    GPU_mem   box_loss   cls_loss   dfl_loss  Instances       Size\n"
     ]
    },
    {
     "name": "stderr",
     "output_type": "stream",
     "text": [
      "     36/100      5.81G      1.479      1.245      1.125         32        512: 100%|██████████| 220/220 [01:26<00:00,  2.55it/s]\n",
      "                 Class     Images  Instances      Box(P          R      mAP50  mAP50-95): 100%|██████████| 32/32 [00:10<00:00,  3.01it/s]"
     ]
    },
    {
     "name": "stdout",
     "output_type": "stream",
     "text": [
      "                   all        501       2144      0.712      0.514      0.586      0.312\n"
     ]
    },
    {
     "name": "stderr",
     "output_type": "stream",
     "text": [
      "\n"
     ]
    },
    {
     "name": "stdout",
     "output_type": "stream",
     "text": [
      "\n",
      "      Epoch    GPU_mem   box_loss   cls_loss   dfl_loss  Instances       Size\n"
     ]
    },
    {
     "name": "stderr",
     "output_type": "stream",
     "text": [
      "     37/100      5.81G      1.523      1.259      1.145         10        512: 100%|██████████| 220/220 [01:26<00:00,  2.55it/s]\n",
      "                 Class     Images  Instances      Box(P          R      mAP50  mAP50-95): 100%|██████████| 32/32 [00:10<00:00,  3.02it/s]"
     ]
    },
    {
     "name": "stdout",
     "output_type": "stream",
     "text": [
      "                   all        501       2144      0.701      0.523      0.577      0.306\n"
     ]
    },
    {
     "name": "stderr",
     "output_type": "stream",
     "text": [
      "\n"
     ]
    },
    {
     "name": "stdout",
     "output_type": "stream",
     "text": [
      "\n",
      "      Epoch    GPU_mem   box_loss   cls_loss   dfl_loss  Instances       Size\n"
     ]
    },
    {
     "name": "stderr",
     "output_type": "stream",
     "text": [
      "     38/100      5.81G      1.483      1.219      1.111         39        512: 100%|██████████| 220/220 [01:26<00:00,  2.54it/s]\n",
      "                 Class     Images  Instances      Box(P          R      mAP50  mAP50-95): 100%|██████████| 32/32 [00:10<00:00,  3.01it/s]"
     ]
    },
    {
     "name": "stdout",
     "output_type": "stream",
     "text": [
      "                   all        501       2144      0.705      0.508      0.589       0.32\n"
     ]
    },
    {
     "name": "stderr",
     "output_type": "stream",
     "text": [
      "\n"
     ]
    },
    {
     "name": "stdout",
     "output_type": "stream",
     "text": [
      "\n",
      "      Epoch    GPU_mem   box_loss   cls_loss   dfl_loss  Instances       Size\n"
     ]
    },
    {
     "name": "stderr",
     "output_type": "stream",
     "text": [
      "     39/100      5.81G      1.513      1.252      1.141         36        512: 100%|██████████| 220/220 [01:26<00:00,  2.55it/s]\n",
      "                 Class     Images  Instances      Box(P          R      mAP50  mAP50-95): 100%|██████████| 32/32 [00:10<00:00,  3.02it/s]"
     ]
    },
    {
     "name": "stdout",
     "output_type": "stream",
     "text": [
      "                   all        501       2144      0.708       0.53      0.592      0.328\n"
     ]
    },
    {
     "name": "stderr",
     "output_type": "stream",
     "text": [
      "\n"
     ]
    },
    {
     "name": "stdout",
     "output_type": "stream",
     "text": [
      "\n",
      "      Epoch    GPU_mem   box_loss   cls_loss   dfl_loss  Instances       Size\n"
     ]
    },
    {
     "name": "stderr",
     "output_type": "stream",
     "text": [
      "     40/100      5.81G       1.48      1.228      1.122         18        512: 100%|██████████| 220/220 [01:26<00:00,  2.54it/s]\n",
      "                 Class     Images  Instances      Box(P          R      mAP50  mAP50-95): 100%|██████████| 32/32 [00:10<00:00,  3.01it/s]"
     ]
    },
    {
     "name": "stdout",
     "output_type": "stream",
     "text": [
      "                   all        501       2144      0.713      0.532      0.586       0.32\n"
     ]
    },
    {
     "name": "stderr",
     "output_type": "stream",
     "text": [
      "\n"
     ]
    },
    {
     "name": "stdout",
     "output_type": "stream",
     "text": [
      "\n",
      "      Epoch    GPU_mem   box_loss   cls_loss   dfl_loss  Instances       Size\n"
     ]
    },
    {
     "name": "stderr",
     "output_type": "stream",
     "text": [
      "     41/100      5.81G      1.478      1.193       1.13         29        512: 100%|██████████| 220/220 [01:26<00:00,  2.55it/s]\n",
      "                 Class     Images  Instances      Box(P          R      mAP50  mAP50-95): 100%|██████████| 32/32 [00:10<00:00,  3.00it/s]"
     ]
    },
    {
     "name": "stdout",
     "output_type": "stream",
     "text": [
      "                   all        501       2144      0.713      0.541      0.603      0.327\n"
     ]
    },
    {
     "name": "stderr",
     "output_type": "stream",
     "text": [
      "\n"
     ]
    },
    {
     "name": "stdout",
     "output_type": "stream",
     "text": [
      "\n",
      "      Epoch    GPU_mem   box_loss   cls_loss   dfl_loss  Instances       Size\n"
     ]
    },
    {
     "name": "stderr",
     "output_type": "stream",
     "text": [
      "     42/100      5.81G      1.458      1.223      1.118         28        512: 100%|██████████| 220/220 [01:26<00:00,  2.54it/s]\n",
      "                 Class     Images  Instances      Box(P          R      mAP50  mAP50-95): 100%|██████████| 32/32 [00:10<00:00,  3.00it/s]"
     ]
    },
    {
     "name": "stdout",
     "output_type": "stream",
     "text": [
      "                   all        501       2144      0.685      0.538      0.586      0.309\n"
     ]
    },
    {
     "name": "stderr",
     "output_type": "stream",
     "text": [
      "\n"
     ]
    },
    {
     "name": "stdout",
     "output_type": "stream",
     "text": [
      "\n",
      "      Epoch    GPU_mem   box_loss   cls_loss   dfl_loss  Instances       Size\n"
     ]
    },
    {
     "name": "stderr",
     "output_type": "stream",
     "text": [
      "     43/100      5.81G      1.446      1.175      1.123         19        512: 100%|██████████| 220/220 [01:26<00:00,  2.55it/s]\n",
      "                 Class     Images  Instances      Box(P          R      mAP50  mAP50-95): 100%|██████████| 32/32 [00:10<00:00,  3.01it/s]"
     ]
    },
    {
     "name": "stdout",
     "output_type": "stream",
     "text": [
      "                   all        501       2144      0.737      0.528      0.603      0.332\n"
     ]
    },
    {
     "name": "stderr",
     "output_type": "stream",
     "text": [
      "\n"
     ]
    },
    {
     "name": "stdout",
     "output_type": "stream",
     "text": [
      "\n",
      "      Epoch    GPU_mem   box_loss   cls_loss   dfl_loss  Instances       Size\n"
     ]
    },
    {
     "name": "stderr",
     "output_type": "stream",
     "text": [
      "     44/100      5.81G      1.451      1.186      1.123         16        512: 100%|██████████| 220/220 [01:26<00:00,  2.54it/s]\n",
      "                 Class     Images  Instances      Box(P          R      mAP50  mAP50-95): 100%|██████████| 32/32 [00:10<00:00,  3.00it/s]"
     ]
    },
    {
     "name": "stdout",
     "output_type": "stream",
     "text": [
      "                   all        501       2144      0.715      0.531      0.601      0.327\n"
     ]
    },
    {
     "name": "stderr",
     "output_type": "stream",
     "text": [
      "\n"
     ]
    },
    {
     "name": "stdout",
     "output_type": "stream",
     "text": [
      "\n",
      "      Epoch    GPU_mem   box_loss   cls_loss   dfl_loss  Instances       Size\n"
     ]
    },
    {
     "name": "stderr",
     "output_type": "stream",
     "text": [
      "     45/100      5.89G      1.441      1.157      1.112         48        512: 100%|██████████| 220/220 [01:26<00:00,  2.55it/s]\n",
      "                 Class     Images  Instances      Box(P          R      mAP50  mAP50-95): 100%|██████████| 32/32 [00:10<00:00,  3.01it/s]"
     ]
    },
    {
     "name": "stdout",
     "output_type": "stream",
     "text": [
      "                   all        501       2144      0.747      0.521      0.604      0.324\n"
     ]
    },
    {
     "name": "stderr",
     "output_type": "stream",
     "text": [
      "\n"
     ]
    },
    {
     "name": "stdout",
     "output_type": "stream",
     "text": [
      "\n",
      "      Epoch    GPU_mem   box_loss   cls_loss   dfl_loss  Instances       Size\n"
     ]
    },
    {
     "name": "stderr",
     "output_type": "stream",
     "text": [
      "     46/100      5.89G      1.455       1.14      1.109         10        512: 100%|██████████| 220/220 [01:26<00:00,  2.55it/s]\n",
      "                 Class     Images  Instances      Box(P          R      mAP50  mAP50-95): 100%|██████████| 32/32 [00:10<00:00,  3.01it/s]"
     ]
    },
    {
     "name": "stdout",
     "output_type": "stream",
     "text": [
      "                   all        501       2144      0.712      0.561      0.608      0.337\n"
     ]
    },
    {
     "name": "stderr",
     "output_type": "stream",
     "text": [
      "\n"
     ]
    },
    {
     "name": "stdout",
     "output_type": "stream",
     "text": [
      "\n",
      "      Epoch    GPU_mem   box_loss   cls_loss   dfl_loss  Instances       Size\n"
     ]
    },
    {
     "name": "stderr",
     "output_type": "stream",
     "text": [
      "     47/100      5.89G      1.426      1.117      1.097          8        512: 100%|██████████| 220/220 [01:26<00:00,  2.55it/s]\n",
      "                 Class     Images  Instances      Box(P          R      mAP50  mAP50-95): 100%|██████████| 32/32 [00:10<00:00,  3.01it/s]"
     ]
    },
    {
     "name": "stdout",
     "output_type": "stream",
     "text": [
      "                   all        501       2144      0.673      0.556      0.594      0.326\n"
     ]
    },
    {
     "name": "stderr",
     "output_type": "stream",
     "text": [
      "\n"
     ]
    },
    {
     "name": "stdout",
     "output_type": "stream",
     "text": [
      "\n",
      "      Epoch    GPU_mem   box_loss   cls_loss   dfl_loss  Instances       Size\n"
     ]
    },
    {
     "name": "stderr",
     "output_type": "stream",
     "text": [
      "     48/100      5.89G      1.437      1.145      1.099         20        512: 100%|██████████| 220/220 [01:26<00:00,  2.54it/s]\n",
      "                 Class     Images  Instances      Box(P          R      mAP50  mAP50-95): 100%|██████████| 32/32 [00:10<00:00,  3.02it/s]"
     ]
    },
    {
     "name": "stdout",
     "output_type": "stream",
     "text": [
      "                   all        501       2144      0.725       0.53      0.606      0.325\n"
     ]
    },
    {
     "name": "stderr",
     "output_type": "stream",
     "text": [
      "\n"
     ]
    },
    {
     "name": "stdout",
     "output_type": "stream",
     "text": [
      "\n",
      "      Epoch    GPU_mem   box_loss   cls_loss   dfl_loss  Instances       Size\n"
     ]
    },
    {
     "name": "stderr",
     "output_type": "stream",
     "text": [
      "     49/100      5.89G      1.409      1.103      1.086         17        512: 100%|██████████| 220/220 [01:26<00:00,  2.55it/s]\n",
      "                 Class     Images  Instances      Box(P          R      mAP50  mAP50-95): 100%|██████████| 32/32 [00:10<00:00,  3.01it/s]"
     ]
    },
    {
     "name": "stdout",
     "output_type": "stream",
     "text": [
      "                   all        501       2144      0.742      0.563      0.623      0.348\n"
     ]
    },
    {
     "name": "stderr",
     "output_type": "stream",
     "text": [
      "\n"
     ]
    },
    {
     "name": "stdout",
     "output_type": "stream",
     "text": [
      "\n",
      "      Epoch    GPU_mem   box_loss   cls_loss   dfl_loss  Instances       Size\n"
     ]
    },
    {
     "name": "stderr",
     "output_type": "stream",
     "text": [
      "     50/100      5.89G      1.381       1.09      1.085         23        512: 100%|██████████| 220/220 [01:26<00:00,  2.55it/s]\n",
      "                 Class     Images  Instances      Box(P          R      mAP50  mAP50-95): 100%|██████████| 32/32 [00:10<00:00,  3.01it/s]"
     ]
    },
    {
     "name": "stdout",
     "output_type": "stream",
     "text": [
      "                   all        501       2144      0.736      0.533      0.609      0.332\n"
     ]
    },
    {
     "name": "stderr",
     "output_type": "stream",
     "text": [
      "\n"
     ]
    },
    {
     "name": "stdout",
     "output_type": "stream",
     "text": [
      "\n",
      "      Epoch    GPU_mem   box_loss   cls_loss   dfl_loss  Instances       Size\n"
     ]
    },
    {
     "name": "stderr",
     "output_type": "stream",
     "text": [
      "     51/100      5.89G      1.404        1.1      1.089         14        512: 100%|██████████| 220/220 [01:26<00:00,  2.54it/s]\n",
      "                 Class     Images  Instances      Box(P          R      mAP50  mAP50-95): 100%|██████████| 32/32 [00:10<00:00,  3.00it/s]"
     ]
    },
    {
     "name": "stdout",
     "output_type": "stream",
     "text": [
      "                   all        501       2144      0.725      0.556      0.618      0.337\n"
     ]
    },
    {
     "name": "stderr",
     "output_type": "stream",
     "text": [
      "\n"
     ]
    },
    {
     "name": "stdout",
     "output_type": "stream",
     "text": [
      "\n",
      "      Epoch    GPU_mem   box_loss   cls_loss   dfl_loss  Instances       Size\n"
     ]
    },
    {
     "name": "stderr",
     "output_type": "stream",
     "text": [
      "     52/100      5.89G      1.393       1.05      1.078         28        512: 100%|██████████| 220/220 [01:26<00:00,  2.55it/s]\n",
      "                 Class     Images  Instances      Box(P          R      mAP50  mAP50-95): 100%|██████████| 32/32 [00:10<00:00,  3.01it/s]"
     ]
    },
    {
     "name": "stdout",
     "output_type": "stream",
     "text": [
      "                   all        501       2144      0.749      0.573      0.634      0.359\n"
     ]
    },
    {
     "name": "stderr",
     "output_type": "stream",
     "text": [
      "\n"
     ]
    },
    {
     "name": "stdout",
     "output_type": "stream",
     "text": [
      "\n",
      "      Epoch    GPU_mem   box_loss   cls_loss   dfl_loss  Instances       Size\n"
     ]
    },
    {
     "name": "stderr",
     "output_type": "stream",
     "text": [
      "     53/100      5.89G      1.409      1.106      1.103         22        512: 100%|██████████| 220/220 [01:26<00:00,  2.55it/s]\n",
      "                 Class     Images  Instances      Box(P          R      mAP50  mAP50-95): 100%|██████████| 32/32 [00:10<00:00,  3.01it/s]"
     ]
    },
    {
     "name": "stdout",
     "output_type": "stream",
     "text": [
      "                   all        501       2144      0.717      0.562      0.619      0.343\n"
     ]
    },
    {
     "name": "stderr",
     "output_type": "stream",
     "text": [
      "\n"
     ]
    },
    {
     "name": "stdout",
     "output_type": "stream",
     "text": [
      "\n",
      "      Epoch    GPU_mem   box_loss   cls_loss   dfl_loss  Instances       Size\n"
     ]
    },
    {
     "name": "stderr",
     "output_type": "stream",
     "text": [
      "     54/100      5.89G      1.407      1.102      1.098         23        512: 100%|██████████| 220/220 [01:26<00:00,  2.56it/s]\n",
      "                 Class     Images  Instances      Box(P          R      mAP50  mAP50-95): 100%|██████████| 32/32 [00:10<00:00,  3.03it/s]"
     ]
    },
    {
     "name": "stdout",
     "output_type": "stream",
     "text": [
      "                   all        501       2144      0.752      0.548      0.618      0.351\n"
     ]
    },
    {
     "name": "stderr",
     "output_type": "stream",
     "text": [
      "\n"
     ]
    },
    {
     "name": "stdout",
     "output_type": "stream",
     "text": [
      "\n",
      "      Epoch    GPU_mem   box_loss   cls_loss   dfl_loss  Instances       Size\n"
     ]
    },
    {
     "name": "stderr",
     "output_type": "stream",
     "text": [
      "     55/100      5.89G      1.397      1.089       1.09         18        512: 100%|██████████| 220/220 [01:25<00:00,  2.56it/s]\n",
      "                 Class     Images  Instances      Box(P          R      mAP50  mAP50-95): 100%|██████████| 32/32 [00:10<00:00,  3.02it/s]"
     ]
    },
    {
     "name": "stdout",
     "output_type": "stream",
     "text": [
      "                   all        501       2144      0.739      0.566      0.632      0.345\n"
     ]
    },
    {
     "name": "stderr",
     "output_type": "stream",
     "text": [
      "\n"
     ]
    },
    {
     "name": "stdout",
     "output_type": "stream",
     "text": [
      "\n",
      "      Epoch    GPU_mem   box_loss   cls_loss   dfl_loss  Instances       Size\n"
     ]
    },
    {
     "name": "stderr",
     "output_type": "stream",
     "text": [
      "     56/100      5.89G      1.373      1.049      1.087         25        512: 100%|██████████| 220/220 [01:26<00:00,  2.55it/s]\n",
      "                 Class     Images  Instances      Box(P          R      mAP50  mAP50-95): 100%|██████████| 32/32 [00:10<00:00,  3.02it/s]"
     ]
    },
    {
     "name": "stdout",
     "output_type": "stream",
     "text": [
      "                   all        501       2144       0.71      0.549      0.604      0.339\n"
     ]
    },
    {
     "name": "stderr",
     "output_type": "stream",
     "text": [
      "\n"
     ]
    },
    {
     "name": "stdout",
     "output_type": "stream",
     "text": [
      "\n",
      "      Epoch    GPU_mem   box_loss   cls_loss   dfl_loss  Instances       Size\n"
     ]
    },
    {
     "name": "stderr",
     "output_type": "stream",
     "text": [
      "     57/100      5.89G      1.386      1.069      1.086         24        512: 100%|██████████| 220/220 [01:26<00:00,  2.54it/s]\n",
      "                 Class     Images  Instances      Box(P          R      mAP50  mAP50-95): 100%|██████████| 32/32 [00:10<00:00,  3.02it/s]"
     ]
    },
    {
     "name": "stdout",
     "output_type": "stream",
     "text": [
      "                   all        501       2144      0.696      0.563      0.624      0.345\n"
     ]
    },
    {
     "name": "stderr",
     "output_type": "stream",
     "text": [
      "\n"
     ]
    },
    {
     "name": "stdout",
     "output_type": "stream",
     "text": [
      "\n",
      "      Epoch    GPU_mem   box_loss   cls_loss   dfl_loss  Instances       Size\n"
     ]
    },
    {
     "name": "stderr",
     "output_type": "stream",
     "text": [
      "     58/100      5.89G      1.375      1.035      1.055         21        512: 100%|██████████| 220/220 [01:26<00:00,  2.55it/s]\n",
      "                 Class     Images  Instances      Box(P          R      mAP50  mAP50-95): 100%|██████████| 32/32 [00:10<00:00,  3.03it/s]"
     ]
    },
    {
     "name": "stdout",
     "output_type": "stream",
     "text": [
      "                   all        501       2144      0.739      0.556      0.619      0.331\n"
     ]
    },
    {
     "name": "stderr",
     "output_type": "stream",
     "text": [
      "\n"
     ]
    },
    {
     "name": "stdout",
     "output_type": "stream",
     "text": [
      "\n",
      "      Epoch    GPU_mem   box_loss   cls_loss   dfl_loss  Instances       Size\n"
     ]
    },
    {
     "name": "stderr",
     "output_type": "stream",
     "text": [
      "     59/100      5.89G      1.378      1.044       1.07         38        512: 100%|██████████| 220/220 [01:26<00:00,  2.55it/s]\n",
      "                 Class     Images  Instances      Box(P          R      mAP50  mAP50-95): 100%|██████████| 32/32 [00:10<00:00,  3.01it/s]"
     ]
    },
    {
     "name": "stdout",
     "output_type": "stream",
     "text": [
      "                   all        501       2144      0.741      0.545      0.613      0.333\n"
     ]
    },
    {
     "name": "stderr",
     "output_type": "stream",
     "text": [
      "\n"
     ]
    },
    {
     "name": "stdout",
     "output_type": "stream",
     "text": [
      "\n",
      "      Epoch    GPU_mem   box_loss   cls_loss   dfl_loss  Instances       Size\n"
     ]
    },
    {
     "name": "stderr",
     "output_type": "stream",
     "text": [
      "     60/100      5.89G      1.388       1.04      1.076         26        512: 100%|██████████| 220/220 [01:26<00:00,  2.55it/s]\n",
      "                 Class     Images  Instances      Box(P          R      mAP50  mAP50-95): 100%|██████████| 32/32 [00:10<00:00,  3.04it/s]"
     ]
    },
    {
     "name": "stdout",
     "output_type": "stream",
     "text": [
      "                   all        501       2144      0.732      0.578      0.635      0.352\n"
     ]
    },
    {
     "name": "stderr",
     "output_type": "stream",
     "text": [
      "\n"
     ]
    },
    {
     "name": "stdout",
     "output_type": "stream",
     "text": [
      "\n",
      "      Epoch    GPU_mem   box_loss   cls_loss   dfl_loss  Instances       Size\n"
     ]
    },
    {
     "name": "stderr",
     "output_type": "stream",
     "text": [
      "     61/100      5.89G      1.348      1.043      1.063         24        512: 100%|██████████| 220/220 [01:26<00:00,  2.53it/s]\n",
      "                 Class     Images  Instances      Box(P          R      mAP50  mAP50-95): 100%|██████████| 32/32 [00:10<00:00,  2.97it/s]"
     ]
    },
    {
     "name": "stdout",
     "output_type": "stream",
     "text": [
      "                   all        501       2144      0.736      0.568      0.631      0.352\n"
     ]
    },
    {
     "name": "stderr",
     "output_type": "stream",
     "text": [
      "\n"
     ]
    },
    {
     "name": "stdout",
     "output_type": "stream",
     "text": [
      "\n",
      "      Epoch    GPU_mem   box_loss   cls_loss   dfl_loss  Instances       Size\n"
     ]
    },
    {
     "name": "stderr",
     "output_type": "stream",
     "text": [
      "     62/100      5.89G      1.352      1.052      1.065         29        512: 100%|██████████| 220/220 [01:27<00:00,  2.51it/s]\n",
      "                 Class     Images  Instances      Box(P          R      mAP50  mAP50-95): 100%|██████████| 32/32 [00:10<00:00,  2.98it/s]"
     ]
    },
    {
     "name": "stdout",
     "output_type": "stream",
     "text": [
      "                   all        501       2144      0.738      0.562       0.63      0.355\n"
     ]
    },
    {
     "name": "stderr",
     "output_type": "stream",
     "text": [
      "\n"
     ]
    },
    {
     "name": "stdout",
     "output_type": "stream",
     "text": [
      "\n",
      "      Epoch    GPU_mem   box_loss   cls_loss   dfl_loss  Instances       Size\n"
     ]
    },
    {
     "name": "stderr",
     "output_type": "stream",
     "text": [
      "     63/100      5.89G      1.353      1.015      1.055         19        512: 100%|██████████| 220/220 [01:27<00:00,  2.50it/s]\n",
      "                 Class     Images  Instances      Box(P          R      mAP50  mAP50-95): 100%|██████████| 32/32 [00:10<00:00,  2.98it/s]"
     ]
    },
    {
     "name": "stdout",
     "output_type": "stream",
     "text": [
      "                   all        501       2144      0.774      0.553      0.632      0.354\n"
     ]
    },
    {
     "name": "stderr",
     "output_type": "stream",
     "text": [
      "\n"
     ]
    },
    {
     "name": "stdout",
     "output_type": "stream",
     "text": [
      "\n",
      "      Epoch    GPU_mem   box_loss   cls_loss   dfl_loss  Instances       Size\n"
     ]
    },
    {
     "name": "stderr",
     "output_type": "stream",
     "text": [
      "     64/100      5.89G      1.333     0.9795      1.046         27        512: 100%|██████████| 220/220 [01:28<00:00,  2.50it/s]\n",
      "                 Class     Images  Instances      Box(P          R      mAP50  mAP50-95): 100%|██████████| 32/32 [00:10<00:00,  2.96it/s]"
     ]
    },
    {
     "name": "stdout",
     "output_type": "stream",
     "text": [
      "                   all        501       2144      0.749      0.573      0.636      0.355\n"
     ]
    },
    {
     "name": "stderr",
     "output_type": "stream",
     "text": [
      "\n"
     ]
    },
    {
     "name": "stdout",
     "output_type": "stream",
     "text": [
      "\n",
      "      Epoch    GPU_mem   box_loss   cls_loss   dfl_loss  Instances       Size\n"
     ]
    },
    {
     "name": "stderr",
     "output_type": "stream",
     "text": [
      "     65/100      5.89G      1.342      0.997       1.06         31        512: 100%|██████████| 220/220 [01:27<00:00,  2.52it/s]\n",
      "                 Class     Images  Instances      Box(P          R      mAP50  mAP50-95): 100%|██████████| 32/32 [00:10<00:00,  2.98it/s]"
     ]
    },
    {
     "name": "stdout",
     "output_type": "stream",
     "text": [
      "                   all        501       2144       0.75      0.557      0.625      0.349\n"
     ]
    },
    {
     "name": "stderr",
     "output_type": "stream",
     "text": [
      "\n"
     ]
    },
    {
     "name": "stdout",
     "output_type": "stream",
     "text": [
      "\n",
      "      Epoch    GPU_mem   box_loss   cls_loss   dfl_loss  Instances       Size\n"
     ]
    },
    {
     "name": "stderr",
     "output_type": "stream",
     "text": [
      "     66/100      5.89G      1.351      1.015      1.058         16        512: 100%|██████████| 220/220 [01:27<00:00,  2.50it/s]\n",
      "                 Class     Images  Instances      Box(P          R      mAP50  mAP50-95): 100%|██████████| 32/32 [00:10<00:00,  2.93it/s]"
     ]
    },
    {
     "name": "stdout",
     "output_type": "stream",
     "text": [
      "                   all        501       2144      0.772      0.553      0.644       0.36\n"
     ]
    },
    {
     "name": "stderr",
     "output_type": "stream",
     "text": [
      "\n"
     ]
    },
    {
     "name": "stdout",
     "output_type": "stream",
     "text": [
      "\n",
      "      Epoch    GPU_mem   box_loss   cls_loss   dfl_loss  Instances       Size\n"
     ]
    },
    {
     "name": "stderr",
     "output_type": "stream",
     "text": [
      "     67/100      5.89G      1.329      1.003      1.059         21        512: 100%|██████████| 220/220 [01:28<00:00,  2.48it/s]\n",
      "                 Class     Images  Instances      Box(P          R      mAP50  mAP50-95): 100%|██████████| 32/32 [00:10<00:00,  2.94it/s]"
     ]
    },
    {
     "name": "stdout",
     "output_type": "stream",
     "text": [
      "                   all        501       2144      0.725      0.597      0.647      0.366\n"
     ]
    },
    {
     "name": "stderr",
     "output_type": "stream",
     "text": [
      "\n"
     ]
    },
    {
     "name": "stdout",
     "output_type": "stream",
     "text": [
      "\n",
      "      Epoch    GPU_mem   box_loss   cls_loss   dfl_loss  Instances       Size\n"
     ]
    },
    {
     "name": "stderr",
     "output_type": "stream",
     "text": [
      "     68/100      5.89G      1.343     0.9957      1.052         29        512: 100%|██████████| 220/220 [01:27<00:00,  2.52it/s]\n",
      "                 Class     Images  Instances      Box(P          R      mAP50  mAP50-95): 100%|██████████| 32/32 [00:10<00:00,  3.00it/s]"
     ]
    },
    {
     "name": "stdout",
     "output_type": "stream",
     "text": [
      "                   all        501       2144      0.787      0.551      0.641      0.362\n"
     ]
    },
    {
     "name": "stderr",
     "output_type": "stream",
     "text": [
      "\n"
     ]
    },
    {
     "name": "stdout",
     "output_type": "stream",
     "text": [
      "\n",
      "      Epoch    GPU_mem   box_loss   cls_loss   dfl_loss  Instances       Size\n"
     ]
    },
    {
     "name": "stderr",
     "output_type": "stream",
     "text": [
      "     69/100      5.89G      1.311      1.001      1.048         29        512: 100%|██████████| 220/220 [01:26<00:00,  2.54it/s]\n",
      "                 Class     Images  Instances      Box(P          R      mAP50  mAP50-95): 100%|██████████| 32/32 [00:10<00:00,  3.00it/s]"
     ]
    },
    {
     "name": "stdout",
     "output_type": "stream",
     "text": [
      "                   all        501       2144      0.764      0.579      0.646      0.362\n"
     ]
    },
    {
     "name": "stderr",
     "output_type": "stream",
     "text": [
      "\n"
     ]
    },
    {
     "name": "stdout",
     "output_type": "stream",
     "text": [
      "\n",
      "      Epoch    GPU_mem   box_loss   cls_loss   dfl_loss  Instances       Size\n"
     ]
    },
    {
     "name": "stderr",
     "output_type": "stream",
     "text": [
      "     70/100      5.89G      1.314     0.9757      1.046         19        512: 100%|██████████| 220/220 [01:26<00:00,  2.53it/s]\n",
      "                 Class     Images  Instances      Box(P          R      mAP50  mAP50-95): 100%|██████████| 32/32 [00:10<00:00,  3.00it/s]"
     ]
    },
    {
     "name": "stdout",
     "output_type": "stream",
     "text": [
      "                   all        501       2144       0.73      0.593      0.642      0.361\n"
     ]
    },
    {
     "name": "stderr",
     "output_type": "stream",
     "text": [
      "\n"
     ]
    },
    {
     "name": "stdout",
     "output_type": "stream",
     "text": [
      "\n",
      "      Epoch    GPU_mem   box_loss   cls_loss   dfl_loss  Instances       Size\n"
     ]
    },
    {
     "name": "stderr",
     "output_type": "stream",
     "text": [
      "     71/100      5.89G      1.317      1.012      1.056         26        512: 100%|██████████| 220/220 [01:26<00:00,  2.53it/s]\n",
      "                 Class     Images  Instances      Box(P          R      mAP50  mAP50-95): 100%|██████████| 32/32 [00:10<00:00,  2.99it/s]"
     ]
    },
    {
     "name": "stdout",
     "output_type": "stream",
     "text": [
      "                   all        501       2144      0.757       0.58      0.647      0.364\n"
     ]
    },
    {
     "name": "stderr",
     "output_type": "stream",
     "text": [
      "\n"
     ]
    },
    {
     "name": "stdout",
     "output_type": "stream",
     "text": [
      "\n",
      "      Epoch    GPU_mem   box_loss   cls_loss   dfl_loss  Instances       Size\n"
     ]
    },
    {
     "name": "stderr",
     "output_type": "stream",
     "text": [
      "     72/100      5.89G      1.308     0.9827      1.048         29        512: 100%|██████████| 220/220 [01:26<00:00,  2.53it/s]\n",
      "                 Class     Images  Instances      Box(P          R      mAP50  mAP50-95): 100%|██████████| 32/32 [00:10<00:00,  3.00it/s]"
     ]
    },
    {
     "name": "stdout",
     "output_type": "stream",
     "text": [
      "                   all        501       2144      0.754      0.592      0.653      0.364\n"
     ]
    },
    {
     "name": "stderr",
     "output_type": "stream",
     "text": [
      "\n"
     ]
    },
    {
     "name": "stdout",
     "output_type": "stream",
     "text": [
      "\n",
      "      Epoch    GPU_mem   box_loss   cls_loss   dfl_loss  Instances       Size\n"
     ]
    },
    {
     "name": "stderr",
     "output_type": "stream",
     "text": [
      "     73/100      5.89G      1.297      0.978      1.039         28        512: 100%|██████████| 220/220 [01:26<00:00,  2.53it/s]\n",
      "                 Class     Images  Instances      Box(P          R      mAP50  mAP50-95): 100%|██████████| 32/32 [00:10<00:00,  3.00it/s]"
     ]
    },
    {
     "name": "stdout",
     "output_type": "stream",
     "text": [
      "                   all        501       2144      0.759      0.584      0.643      0.364\n"
     ]
    },
    {
     "name": "stderr",
     "output_type": "stream",
     "text": [
      "\n"
     ]
    },
    {
     "name": "stdout",
     "output_type": "stream",
     "text": [
      "\n",
      "      Epoch    GPU_mem   box_loss   cls_loss   dfl_loss  Instances       Size\n"
     ]
    },
    {
     "name": "stderr",
     "output_type": "stream",
     "text": [
      "     74/100      5.89G      1.284     0.9416      1.039         34        512: 100%|██████████| 220/220 [01:26<00:00,  2.53it/s]\n",
      "                 Class     Images  Instances      Box(P          R      mAP50  mAP50-95): 100%|██████████| 32/32 [00:10<00:00,  3.00it/s]"
     ]
    },
    {
     "name": "stdout",
     "output_type": "stream",
     "text": [
      "                   all        501       2144      0.747      0.582      0.642      0.359\n"
     ]
    },
    {
     "name": "stderr",
     "output_type": "stream",
     "text": [
      "\n"
     ]
    },
    {
     "name": "stdout",
     "output_type": "stream",
     "text": [
      "\n",
      "      Epoch    GPU_mem   box_loss   cls_loss   dfl_loss  Instances       Size\n"
     ]
    },
    {
     "name": "stderr",
     "output_type": "stream",
     "text": [
      "     75/100      5.89G      1.315     0.9669      1.041         39        512: 100%|██████████| 220/220 [01:27<00:00,  2.52it/s]\n",
      "                 Class     Images  Instances      Box(P          R      mAP50  mAP50-95): 100%|██████████| 32/32 [00:10<00:00,  2.99it/s]"
     ]
    },
    {
     "name": "stdout",
     "output_type": "stream",
     "text": [
      "                   all        501       2144      0.761      0.569      0.643      0.366\n"
     ]
    },
    {
     "name": "stderr",
     "output_type": "stream",
     "text": [
      "\n"
     ]
    },
    {
     "name": "stdout",
     "output_type": "stream",
     "text": [
      "\n",
      "      Epoch    GPU_mem   box_loss   cls_loss   dfl_loss  Instances       Size\n"
     ]
    },
    {
     "name": "stderr",
     "output_type": "stream",
     "text": [
      "     76/100      5.89G      1.274     0.9403      1.028         36        512: 100%|██████████| 220/220 [01:27<00:00,  2.52it/s]\n",
      "                 Class     Images  Instances      Box(P          R      mAP50  mAP50-95): 100%|██████████| 32/32 [00:10<00:00,  2.98it/s]"
     ]
    },
    {
     "name": "stdout",
     "output_type": "stream",
     "text": [
      "                   all        501       2144      0.767      0.588      0.653      0.363\n"
     ]
    },
    {
     "name": "stderr",
     "output_type": "stream",
     "text": [
      "\n"
     ]
    },
    {
     "name": "stdout",
     "output_type": "stream",
     "text": [
      "\n",
      "      Epoch    GPU_mem   box_loss   cls_loss   dfl_loss  Instances       Size\n"
     ]
    },
    {
     "name": "stderr",
     "output_type": "stream",
     "text": [
      "     77/100      5.89G      1.261      0.911      1.038         29        512: 100%|██████████| 220/220 [01:27<00:00,  2.53it/s]\n",
      "                 Class     Images  Instances      Box(P          R      mAP50  mAP50-95): 100%|██████████| 32/32 [00:10<00:00,  2.99it/s]"
     ]
    },
    {
     "name": "stdout",
     "output_type": "stream",
     "text": [
      "                   all        501       2144      0.748      0.597      0.654      0.375\n"
     ]
    },
    {
     "name": "stderr",
     "output_type": "stream",
     "text": [
      "\n"
     ]
    },
    {
     "name": "stdout",
     "output_type": "stream",
     "text": [
      "\n",
      "      Epoch    GPU_mem   box_loss   cls_loss   dfl_loss  Instances       Size\n"
     ]
    },
    {
     "name": "stderr",
     "output_type": "stream",
     "text": [
      "     78/100      5.89G      1.259     0.9149      1.024         22        512: 100%|██████████| 220/220 [01:28<00:00,  2.50it/s]\n",
      "                 Class     Images  Instances      Box(P          R      mAP50  mAP50-95): 100%|██████████| 32/32 [00:10<00:00,  2.97it/s]"
     ]
    },
    {
     "name": "stdout",
     "output_type": "stream",
     "text": [
      "                   all        501       2144      0.739      0.601      0.648      0.368\n"
     ]
    },
    {
     "name": "stderr",
     "output_type": "stream",
     "text": [
      "\n"
     ]
    },
    {
     "name": "stdout",
     "output_type": "stream",
     "text": [
      "\n",
      "      Epoch    GPU_mem   box_loss   cls_loss   dfl_loss  Instances       Size\n"
     ]
    },
    {
     "name": "stderr",
     "output_type": "stream",
     "text": [
      "     79/100      5.89G      1.247     0.9027      1.037         37        512: 100%|██████████| 220/220 [01:27<00:00,  2.52it/s]\n",
      "                 Class     Images  Instances      Box(P          R      mAP50  mAP50-95): 100%|██████████| 32/32 [00:10<00:00,  3.00it/s]"
     ]
    },
    {
     "name": "stdout",
     "output_type": "stream",
     "text": [
      "                   all        501       2144      0.774      0.583       0.66      0.364\n"
     ]
    },
    {
     "name": "stderr",
     "output_type": "stream",
     "text": [
      "\n"
     ]
    },
    {
     "name": "stdout",
     "output_type": "stream",
     "text": [
      "\n",
      "      Epoch    GPU_mem   box_loss   cls_loss   dfl_loss  Instances       Size\n"
     ]
    },
    {
     "name": "stderr",
     "output_type": "stream",
     "text": [
      "     80/100      5.89G      1.269     0.8869      1.024         34        512: 100%|██████████| 220/220 [01:27<00:00,  2.52it/s]\n",
      "                 Class     Images  Instances      Box(P          R      mAP50  mAP50-95): 100%|██████████| 32/32 [00:10<00:00,  2.99it/s]"
     ]
    },
    {
     "name": "stdout",
     "output_type": "stream",
     "text": [
      "                   all        501       2144       0.79      0.577      0.663      0.374\n"
     ]
    },
    {
     "name": "stderr",
     "output_type": "stream",
     "text": [
      "\n"
     ]
    },
    {
     "name": "stdout",
     "output_type": "stream",
     "text": [
      "\n",
      "      Epoch    GPU_mem   box_loss   cls_loss   dfl_loss  Instances       Size\n"
     ]
    },
    {
     "name": "stderr",
     "output_type": "stream",
     "text": [
      "     81/100      5.89G      1.237     0.9022      1.023         21        512: 100%|██████████| 220/220 [01:28<00:00,  2.49it/s]\n",
      "                 Class     Images  Instances      Box(P          R      mAP50  mAP50-95): 100%|██████████| 32/32 [00:10<00:00,  2.94it/s]"
     ]
    },
    {
     "name": "stdout",
     "output_type": "stream",
     "text": [
      "                   all        501       2144      0.781      0.583      0.655      0.375\n"
     ]
    },
    {
     "name": "stderr",
     "output_type": "stream",
     "text": [
      "\n"
     ]
    },
    {
     "name": "stdout",
     "output_type": "stream",
     "text": [
      "\n",
      "      Epoch    GPU_mem   box_loss   cls_loss   dfl_loss  Instances       Size\n"
     ]
    },
    {
     "name": "stderr",
     "output_type": "stream",
     "text": [
      "     82/100      5.89G      1.241     0.8896      1.032         21        512: 100%|██████████| 220/220 [01:29<00:00,  2.47it/s]\n",
      "                 Class     Images  Instances      Box(P          R      mAP50  mAP50-95): 100%|██████████| 32/32 [00:10<00:00,  2.94it/s]"
     ]
    },
    {
     "name": "stdout",
     "output_type": "stream",
     "text": [
      "                   all        501       2144      0.794      0.576       0.66       0.37\n"
     ]
    },
    {
     "name": "stderr",
     "output_type": "stream",
     "text": [
      "\n"
     ]
    },
    {
     "name": "stdout",
     "output_type": "stream",
     "text": [
      "\n",
      "      Epoch    GPU_mem   box_loss   cls_loss   dfl_loss  Instances       Size\n"
     ]
    },
    {
     "name": "stderr",
     "output_type": "stream",
     "text": [
      "     83/100      5.89G       1.24     0.8864      1.011         11        512: 100%|██████████| 220/220 [01:27<00:00,  2.50it/s]\n",
      "                 Class     Images  Instances      Box(P          R      mAP50  mAP50-95): 100%|██████████| 32/32 [00:10<00:00,  2.97it/s]"
     ]
    },
    {
     "name": "stdout",
     "output_type": "stream",
     "text": [
      "                   all        501       2144      0.781      0.589      0.652      0.374\n"
     ]
    },
    {
     "name": "stderr",
     "output_type": "stream",
     "text": [
      "\n"
     ]
    },
    {
     "name": "stdout",
     "output_type": "stream",
     "text": [
      "\n",
      "      Epoch    GPU_mem   box_loss   cls_loss   dfl_loss  Instances       Size\n"
     ]
    },
    {
     "name": "stderr",
     "output_type": "stream",
     "text": [
      "     84/100      5.89G      1.258     0.8973      1.026         36        512: 100%|██████████| 220/220 [01:27<00:00,  2.53it/s]\n",
      "                 Class     Images  Instances      Box(P          R      mAP50  mAP50-95): 100%|██████████| 32/32 [00:10<00:00,  3.00it/s]"
     ]
    },
    {
     "name": "stdout",
     "output_type": "stream",
     "text": [
      "                   all        501       2144      0.825      0.569      0.665      0.378\n"
     ]
    },
    {
     "name": "stderr",
     "output_type": "stream",
     "text": [
      "\n"
     ]
    },
    {
     "name": "stdout",
     "output_type": "stream",
     "text": [
      "\n",
      "      Epoch    GPU_mem   box_loss   cls_loss   dfl_loss  Instances       Size\n"
     ]
    },
    {
     "name": "stderr",
     "output_type": "stream",
     "text": [
      "     85/100      5.89G      1.257     0.8699      1.035         26        512: 100%|██████████| 220/220 [01:27<00:00,  2.52it/s]\n",
      "                 Class     Images  Instances      Box(P          R      mAP50  mAP50-95): 100%|██████████| 32/32 [00:10<00:00,  2.99it/s]"
     ]
    },
    {
     "name": "stdout",
     "output_type": "stream",
     "text": [
      "                   all        501       2144      0.809      0.583      0.665      0.379\n"
     ]
    },
    {
     "name": "stderr",
     "output_type": "stream",
     "text": [
      "\n"
     ]
    },
    {
     "name": "stdout",
     "output_type": "stream",
     "text": [
      "\n",
      "      Epoch    GPU_mem   box_loss   cls_loss   dfl_loss  Instances       Size\n"
     ]
    },
    {
     "name": "stderr",
     "output_type": "stream",
     "text": [
      "     86/100      5.89G      1.204     0.8517      1.026         19        512: 100%|██████████| 220/220 [01:27<00:00,  2.51it/s]\n",
      "                 Class     Images  Instances      Box(P          R      mAP50  mAP50-95): 100%|██████████| 32/32 [00:10<00:00,  2.98it/s]"
     ]
    },
    {
     "name": "stdout",
     "output_type": "stream",
     "text": [
      "                   all        501       2144      0.777      0.594      0.665      0.378\n"
     ]
    },
    {
     "name": "stderr",
     "output_type": "stream",
     "text": [
      "\n"
     ]
    },
    {
     "name": "stdout",
     "output_type": "stream",
     "text": [
      "\n",
      "      Epoch    GPU_mem   box_loss   cls_loss   dfl_loss  Instances       Size\n"
     ]
    },
    {
     "name": "stderr",
     "output_type": "stream",
     "text": [
      "     87/100      5.89G      1.209     0.8444      1.016         18        512: 100%|██████████| 220/220 [01:27<00:00,  2.53it/s]\n",
      "                 Class     Images  Instances      Box(P          R      mAP50  mAP50-95): 100%|██████████| 32/32 [00:10<00:00,  3.00it/s]"
     ]
    },
    {
     "name": "stdout",
     "output_type": "stream",
     "text": [
      "                   all        501       2144      0.789      0.583      0.659      0.374\n"
     ]
    },
    {
     "name": "stderr",
     "output_type": "stream",
     "text": [
      "\n"
     ]
    },
    {
     "name": "stdout",
     "output_type": "stream",
     "text": [
      "\n",
      "      Epoch    GPU_mem   box_loss   cls_loss   dfl_loss  Instances       Size\n"
     ]
    },
    {
     "name": "stderr",
     "output_type": "stream",
     "text": [
      "     88/100      5.89G      1.211     0.8492      1.008         16        512: 100%|██████████| 220/220 [01:28<00:00,  2.50it/s]\n",
      "                 Class     Images  Instances      Box(P          R      mAP50  mAP50-95): 100%|██████████| 32/32 [00:10<00:00,  2.99it/s]"
     ]
    },
    {
     "name": "stdout",
     "output_type": "stream",
     "text": [
      "                   all        501       2144      0.783      0.603       0.67      0.382\n"
     ]
    },
    {
     "name": "stderr",
     "output_type": "stream",
     "text": [
      "\n"
     ]
    },
    {
     "name": "stdout",
     "output_type": "stream",
     "text": [
      "\n",
      "      Epoch    GPU_mem   box_loss   cls_loss   dfl_loss  Instances       Size\n"
     ]
    },
    {
     "name": "stderr",
     "output_type": "stream",
     "text": [
      "     89/100      5.89G      1.207     0.8578      1.028         30        512: 100%|██████████| 220/220 [01:27<00:00,  2.51it/s]\n",
      "                 Class     Images  Instances      Box(P          R      mAP50  mAP50-95): 100%|██████████| 32/32 [00:10<00:00,  2.99it/s]"
     ]
    },
    {
     "name": "stdout",
     "output_type": "stream",
     "text": [
      "                   all        501       2144      0.807      0.579      0.671      0.383\n"
     ]
    },
    {
     "name": "stderr",
     "output_type": "stream",
     "text": [
      "\n"
     ]
    },
    {
     "name": "stdout",
     "output_type": "stream",
     "text": [
      "\n",
      "      Epoch    GPU_mem   box_loss   cls_loss   dfl_loss  Instances       Size\n"
     ]
    },
    {
     "name": "stderr",
     "output_type": "stream",
     "text": [
      "     90/100      5.89G      1.209     0.8513      1.026         10        512: 100%|██████████| 220/220 [01:28<00:00,  2.50it/s]\n",
      "                 Class     Images  Instances      Box(P          R      mAP50  mAP50-95): 100%|██████████| 32/32 [00:10<00:00,  2.98it/s]"
     ]
    },
    {
     "name": "stdout",
     "output_type": "stream",
     "text": [
      "                   all        501       2144      0.792      0.584      0.667      0.379\n"
     ]
    },
    {
     "name": "stderr",
     "output_type": "stream",
     "text": [
      "\n"
     ]
    },
    {
     "name": "stdout",
     "output_type": "stream",
     "text": [
      "Closing dataloader mosaic\n",
      "\u001b[34m\u001b[1malbumentations: \u001b[0mBlur(p=0.01, blur_limit=(3, 7)), MedianBlur(p=0.01, blur_limit=(3, 7)), ToGray(p=0.01, method='weighted_average', num_output_channels=3), CLAHE(p=0.01, clip_limit=(1.0, 4.0), tile_grid_size=(8, 8))\n",
      "\n",
      "      Epoch    GPU_mem   box_loss   cls_loss   dfl_loss  Instances       Size\n"
     ]
    },
    {
     "name": "stderr",
     "output_type": "stream",
     "text": [
      "     91/100      5.89G      1.253     0.8571      1.017         12        512: 100%|██████████| 220/220 [01:27<00:00,  2.51it/s]\n",
      "                 Class     Images  Instances      Box(P          R      mAP50  mAP50-95): 100%|██████████| 32/32 [00:10<00:00,  2.98it/s]"
     ]
    },
    {
     "name": "stdout",
     "output_type": "stream",
     "text": [
      "                   all        501       2144      0.783      0.597      0.666       0.38\n"
     ]
    },
    {
     "name": "stderr",
     "output_type": "stream",
     "text": [
      "\n"
     ]
    },
    {
     "name": "stdout",
     "output_type": "stream",
     "text": [
      "\n",
      "      Epoch    GPU_mem   box_loss   cls_loss   dfl_loss  Instances       Size\n"
     ]
    },
    {
     "name": "stderr",
     "output_type": "stream",
     "text": [
      "     92/100      5.89G      1.232     0.8277      1.012         14        512: 100%|██████████| 220/220 [01:26<00:00,  2.53it/s]\n",
      "                 Class     Images  Instances      Box(P          R      mAP50  mAP50-95): 100%|██████████| 32/32 [00:10<00:00,  2.97it/s]"
     ]
    },
    {
     "name": "stdout",
     "output_type": "stream",
     "text": [
      "                   all        501       2144      0.791      0.596      0.671      0.382\n"
     ]
    },
    {
     "name": "stderr",
     "output_type": "stream",
     "text": [
      "\n"
     ]
    },
    {
     "name": "stdout",
     "output_type": "stream",
     "text": [
      "\n",
      "      Epoch    GPU_mem   box_loss   cls_loss   dfl_loss  Instances       Size\n"
     ]
    },
    {
     "name": "stderr",
     "output_type": "stream",
     "text": [
      "     93/100      5.89G       1.25     0.8339       1.02         28        512: 100%|██████████| 220/220 [01:27<00:00,  2.53it/s]\n",
      "                 Class     Images  Instances      Box(P          R      mAP50  mAP50-95): 100%|██████████| 32/32 [00:10<00:00,  2.97it/s]"
     ]
    },
    {
     "name": "stdout",
     "output_type": "stream",
     "text": [
      "                   all        501       2144      0.797      0.603       0.68      0.386\n"
     ]
    },
    {
     "name": "stderr",
     "output_type": "stream",
     "text": [
      "\n"
     ]
    },
    {
     "name": "stdout",
     "output_type": "stream",
     "text": [
      "\n",
      "      Epoch    GPU_mem   box_loss   cls_loss   dfl_loss  Instances       Size\n"
     ]
    },
    {
     "name": "stderr",
     "output_type": "stream",
     "text": [
      "     94/100      5.89G       1.23     0.8203      1.015         18        512: 100%|██████████| 220/220 [01:26<00:00,  2.54it/s]\n",
      "                 Class     Images  Instances      Box(P          R      mAP50  mAP50-95): 100%|██████████| 32/32 [00:10<00:00,  2.97it/s]"
     ]
    },
    {
     "name": "stdout",
     "output_type": "stream",
     "text": [
      "                   all        501       2144      0.803       0.59      0.673      0.386\n"
     ]
    },
    {
     "name": "stderr",
     "output_type": "stream",
     "text": [
      "\n"
     ]
    },
    {
     "name": "stdout",
     "output_type": "stream",
     "text": [
      "\n",
      "      Epoch    GPU_mem   box_loss   cls_loss   dfl_loss  Instances       Size\n"
     ]
    },
    {
     "name": "stderr",
     "output_type": "stream",
     "text": [
      "     95/100      5.89G      1.218     0.7904      1.006         25        512: 100%|██████████| 220/220 [01:26<00:00,  2.53it/s]\n",
      "                 Class     Images  Instances      Box(P          R      mAP50  mAP50-95): 100%|██████████| 32/32 [00:10<00:00,  2.96it/s]"
     ]
    },
    {
     "name": "stdout",
     "output_type": "stream",
     "text": [
      "                   all        501       2144      0.782      0.602      0.673      0.387\n"
     ]
    },
    {
     "name": "stderr",
     "output_type": "stream",
     "text": [
      "\n"
     ]
    },
    {
     "name": "stdout",
     "output_type": "stream",
     "text": [
      "\n",
      "      Epoch    GPU_mem   box_loss   cls_loss   dfl_loss  Instances       Size\n"
     ]
    },
    {
     "name": "stderr",
     "output_type": "stream",
     "text": [
      "     96/100      5.89G      1.217     0.8162      1.007         17        512: 100%|██████████| 220/220 [01:27<00:00,  2.52it/s]\n",
      "                 Class     Images  Instances      Box(P          R      mAP50  mAP50-95): 100%|██████████| 32/32 [00:10<00:00,  2.95it/s]"
     ]
    },
    {
     "name": "stdout",
     "output_type": "stream",
     "text": [
      "                   all        501       2144      0.775      0.605      0.671      0.381\n"
     ]
    },
    {
     "name": "stderr",
     "output_type": "stream",
     "text": [
      "\n"
     ]
    },
    {
     "name": "stdout",
     "output_type": "stream",
     "text": [
      "\n",
      "      Epoch    GPU_mem   box_loss   cls_loss   dfl_loss  Instances       Size\n"
     ]
    },
    {
     "name": "stderr",
     "output_type": "stream",
     "text": [
      "     97/100      5.89G      1.217     0.8051      1.004         14        512: 100%|██████████| 220/220 [01:27<00:00,  2.53it/s]\n",
      "                 Class     Images  Instances      Box(P          R      mAP50  mAP50-95): 100%|██████████| 32/32 [00:10<00:00,  2.97it/s]"
     ]
    },
    {
     "name": "stdout",
     "output_type": "stream",
     "text": [
      "                   all        501       2144      0.781      0.599      0.669      0.384\n"
     ]
    },
    {
     "name": "stderr",
     "output_type": "stream",
     "text": [
      "\n"
     ]
    },
    {
     "name": "stdout",
     "output_type": "stream",
     "text": [
      "\n",
      "      Epoch    GPU_mem   box_loss   cls_loss   dfl_loss  Instances       Size\n"
     ]
    },
    {
     "name": "stderr",
     "output_type": "stream",
     "text": [
      "     98/100      5.89G      1.199     0.7859     0.9988         14        512: 100%|██████████| 220/220 [01:27<00:00,  2.53it/s]\n",
      "                 Class     Images  Instances      Box(P          R      mAP50  mAP50-95): 100%|██████████| 32/32 [00:10<00:00,  2.97it/s]"
     ]
    },
    {
     "name": "stdout",
     "output_type": "stream",
     "text": [
      "                   all        501       2144      0.784      0.596      0.673      0.385\n"
     ]
    },
    {
     "name": "stderr",
     "output_type": "stream",
     "text": [
      "\n"
     ]
    },
    {
     "name": "stdout",
     "output_type": "stream",
     "text": [
      "\n",
      "      Epoch    GPU_mem   box_loss   cls_loss   dfl_loss  Instances       Size\n"
     ]
    },
    {
     "name": "stderr",
     "output_type": "stream",
     "text": [
      "     99/100      5.89G      1.214     0.7941      1.011         31        512: 100%|██████████| 220/220 [01:26<00:00,  2.54it/s]\n",
      "                 Class     Images  Instances      Box(P          R      mAP50  mAP50-95): 100%|██████████| 32/32 [00:10<00:00,  2.98it/s]"
     ]
    },
    {
     "name": "stdout",
     "output_type": "stream",
     "text": [
      "                   all        501       2144      0.797      0.597      0.675      0.387\n"
     ]
    },
    {
     "name": "stderr",
     "output_type": "stream",
     "text": [
      "\n"
     ]
    },
    {
     "name": "stdout",
     "output_type": "stream",
     "text": [
      "\n",
      "      Epoch    GPU_mem   box_loss   cls_loss   dfl_loss  Instances       Size\n"
     ]
    },
    {
     "name": "stderr",
     "output_type": "stream",
     "text": [
      "    100/100      5.89G      1.202      0.778      1.004         12        512: 100%|██████████| 220/220 [01:26<00:00,  2.53it/s]\n",
      "                 Class     Images  Instances      Box(P          R      mAP50  mAP50-95): 100%|██████████| 32/32 [00:10<00:00,  2.98it/s]"
     ]
    },
    {
     "name": "stdout",
     "output_type": "stream",
     "text": [
      "                   all        501       2144      0.787      0.602      0.677      0.386\n"
     ]
    },
    {
     "name": "stderr",
     "output_type": "stream",
     "text": [
      "\n"
     ]
    },
    {
     "name": "stdout",
     "output_type": "stream",
     "text": [
      "\n",
      "100 epochs completed in 2.749 hours.\n",
      "Optimizer stripped from runs/detect/train3/weights/last.pt, 53.5MB\n",
      "Optimizer stripped from runs/detect/train3/weights/best.pt, 53.5MB\n",
      "\n",
      "Validating runs/detect/train3/weights/best.pt...\n",
      "Ultralytics 8.3.169 🚀 Python-3.11.13 torch-2.6.0+cu124 CUDA:0 (Tesla T4, 15095MiB)\n",
      "YOLOv12l summary (fused): 283 layers, 26,339,843 parameters, 0 gradients, 88.5 GFLOPs\n"
     ]
    },
    {
     "name": "stderr",
     "output_type": "stream",
     "text": [
      "                 Class     Images  Instances      Box(P          R      mAP50  mAP50-95): 100%|██████████| 32/32 [00:10<00:00,  2.92it/s]\n",
      "invalid value encountered in less\n",
      "invalid value encountered in less\n"
     ]
    },
    {
     "name": "stdout",
     "output_type": "stream",
     "text": [
      "                   all        501       2144      0.792      0.599      0.675      0.387\n",
      "Speed: 0.1ms preprocess, 16.9ms inference, 0.0ms loss, 2.2ms postprocess per image\n",
      "Results saved to \u001b[1mruns/detect/train3\u001b[0m\n"
     ]
    },
    {
     "data": {
      "text/plain": [
       "ultralytics.utils.metrics.DetMetrics object with attributes:\n",
       "\n",
       "ap_class_index: array([0])\n",
       "box: ultralytics.utils.metrics.Metric object\n",
       "confusion_matrix: <ultralytics.utils.metrics.ConfusionMatrix object at 0x79099a90a0d0>\n",
       "curves: ['Precision-Recall(B)', 'F1-Confidence(B)', 'Precision-Confidence(B)', 'Recall-Confidence(B)']\n",
       "curves_results: [[array([          0,    0.001001,    0.002002,    0.003003,    0.004004,    0.005005,    0.006006,    0.007007,    0.008008,    0.009009,     0.01001,    0.011011,    0.012012,    0.013013,    0.014014,    0.015015,    0.016016,    0.017017,    0.018018,    0.019019,     0.02002,    0.021021,    0.022022,    0.023023,\n",
       "          0.024024,    0.025025,    0.026026,    0.027027,    0.028028,    0.029029,     0.03003,    0.031031,    0.032032,    0.033033,    0.034034,    0.035035,    0.036036,    0.037037,    0.038038,    0.039039,     0.04004,    0.041041,    0.042042,    0.043043,    0.044044,    0.045045,    0.046046,    0.047047,\n",
       "          0.048048,    0.049049,     0.05005,    0.051051,    0.052052,    0.053053,    0.054054,    0.055055,    0.056056,    0.057057,    0.058058,    0.059059,     0.06006,    0.061061,    0.062062,    0.063063,    0.064064,    0.065065,    0.066066,    0.067067,    0.068068,    0.069069,     0.07007,    0.071071,\n",
       "          0.072072,    0.073073,    0.074074,    0.075075,    0.076076,    0.077077,    0.078078,    0.079079,     0.08008,    0.081081,    0.082082,    0.083083,    0.084084,    0.085085,    0.086086,    0.087087,    0.088088,    0.089089,     0.09009,    0.091091,    0.092092,    0.093093,    0.094094,    0.095095,\n",
       "          0.096096,    0.097097,    0.098098,    0.099099,      0.1001,      0.1011,      0.1021,      0.1031,      0.1041,     0.10511,     0.10611,     0.10711,     0.10811,     0.10911,     0.11011,     0.11111,     0.11211,     0.11311,     0.11411,     0.11512,     0.11612,     0.11712,     0.11812,     0.11912,\n",
       "           0.12012,     0.12112,     0.12212,     0.12312,     0.12412,     0.12513,     0.12613,     0.12713,     0.12813,     0.12913,     0.13013,     0.13113,     0.13213,     0.13313,     0.13413,     0.13514,     0.13614,     0.13714,     0.13814,     0.13914,     0.14014,     0.14114,     0.14214,     0.14314,\n",
       "           0.14414,     0.14515,     0.14615,     0.14715,     0.14815,     0.14915,     0.15015,     0.15115,     0.15215,     0.15315,     0.15415,     0.15516,     0.15616,     0.15716,     0.15816,     0.15916,     0.16016,     0.16116,     0.16216,     0.16316,     0.16416,     0.16517,     0.16617,     0.16717,\n",
       "           0.16817,     0.16917,     0.17017,     0.17117,     0.17217,     0.17317,     0.17417,     0.17518,     0.17618,     0.17718,     0.17818,     0.17918,     0.18018,     0.18118,     0.18218,     0.18318,     0.18418,     0.18519,     0.18619,     0.18719,     0.18819,     0.18919,     0.19019,     0.19119,\n",
       "           0.19219,     0.19319,     0.19419,      0.1952,      0.1962,      0.1972,      0.1982,      0.1992,      0.2002,      0.2012,      0.2022,      0.2032,      0.2042,     0.20521,     0.20621,     0.20721,     0.20821,     0.20921,     0.21021,     0.21121,     0.21221,     0.21321,     0.21421,     0.21522,\n",
       "           0.21622,     0.21722,     0.21822,     0.21922,     0.22022,     0.22122,     0.22222,     0.22322,     0.22422,     0.22523,     0.22623,     0.22723,     0.22823,     0.22923,     0.23023,     0.23123,     0.23223,     0.23323,     0.23423,     0.23524,     0.23624,     0.23724,     0.23824,     0.23924,\n",
       "           0.24024,     0.24124,     0.24224,     0.24324,     0.24424,     0.24525,     0.24625,     0.24725,     0.24825,     0.24925,     0.25025,     0.25125,     0.25225,     0.25325,     0.25425,     0.25526,     0.25626,     0.25726,     0.25826,     0.25926,     0.26026,     0.26126,     0.26226,     0.26326,\n",
       "           0.26426,     0.26527,     0.26627,     0.26727,     0.26827,     0.26927,     0.27027,     0.27127,     0.27227,     0.27327,     0.27427,     0.27528,     0.27628,     0.27728,     0.27828,     0.27928,     0.28028,     0.28128,     0.28228,     0.28328,     0.28428,     0.28529,     0.28629,     0.28729,\n",
       "           0.28829,     0.28929,     0.29029,     0.29129,     0.29229,     0.29329,     0.29429,      0.2953,      0.2963,      0.2973,      0.2983,      0.2993,      0.3003,      0.3013,      0.3023,      0.3033,      0.3043,     0.30531,     0.30631,     0.30731,     0.30831,     0.30931,     0.31031,     0.31131,\n",
       "           0.31231,     0.31331,     0.31431,     0.31532,     0.31632,     0.31732,     0.31832,     0.31932,     0.32032,     0.32132,     0.32232,     0.32332,     0.32432,     0.32533,     0.32633,     0.32733,     0.32833,     0.32933,     0.33033,     0.33133,     0.33233,     0.33333,     0.33433,     0.33534,\n",
       "           0.33634,     0.33734,     0.33834,     0.33934,     0.34034,     0.34134,     0.34234,     0.34334,     0.34434,     0.34535,     0.34635,     0.34735,     0.34835,     0.34935,     0.35035,     0.35135,     0.35235,     0.35335,     0.35435,     0.35536,     0.35636,     0.35736,     0.35836,     0.35936,\n",
       "           0.36036,     0.36136,     0.36236,     0.36336,     0.36436,     0.36537,     0.36637,     0.36737,     0.36837,     0.36937,     0.37037,     0.37137,     0.37237,     0.37337,     0.37437,     0.37538,     0.37638,     0.37738,     0.37838,     0.37938,     0.38038,     0.38138,     0.38238,     0.38338,\n",
       "           0.38438,     0.38539,     0.38639,     0.38739,     0.38839,     0.38939,     0.39039,     0.39139,     0.39239,     0.39339,     0.39439,      0.3954,      0.3964,      0.3974,      0.3984,      0.3994,      0.4004,      0.4014,      0.4024,      0.4034,      0.4044,     0.40541,     0.40641,     0.40741,\n",
       "           0.40841,     0.40941,     0.41041,     0.41141,     0.41241,     0.41341,     0.41441,     0.41542,     0.41642,     0.41742,     0.41842,     0.41942,     0.42042,     0.42142,     0.42242,     0.42342,     0.42442,     0.42543,     0.42643,     0.42743,     0.42843,     0.42943,     0.43043,     0.43143,\n",
       "           0.43243,     0.43343,     0.43443,     0.43544,     0.43644,     0.43744,     0.43844,     0.43944,     0.44044,     0.44144,     0.44244,     0.44344,     0.44444,     0.44545,     0.44645,     0.44745,     0.44845,     0.44945,     0.45045,     0.45145,     0.45245,     0.45345,     0.45445,     0.45546,\n",
       "           0.45646,     0.45746,     0.45846,     0.45946,     0.46046,     0.46146,     0.46246,     0.46346,     0.46446,     0.46547,     0.46647,     0.46747,     0.46847,     0.46947,     0.47047,     0.47147,     0.47247,     0.47347,     0.47447,     0.47548,     0.47648,     0.47748,     0.47848,     0.47948,\n",
       "           0.48048,     0.48148,     0.48248,     0.48348,     0.48448,     0.48549,     0.48649,     0.48749,     0.48849,     0.48949,     0.49049,     0.49149,     0.49249,     0.49349,     0.49449,      0.4955,      0.4965,      0.4975,      0.4985,      0.4995,      0.5005,      0.5015,      0.5025,      0.5035,\n",
       "            0.5045,     0.50551,     0.50651,     0.50751,     0.50851,     0.50951,     0.51051,     0.51151,     0.51251,     0.51351,     0.51451,     0.51552,     0.51652,     0.51752,     0.51852,     0.51952,     0.52052,     0.52152,     0.52252,     0.52352,     0.52452,     0.52553,     0.52653,     0.52753,\n",
       "           0.52853,     0.52953,     0.53053,     0.53153,     0.53253,     0.53353,     0.53453,     0.53554,     0.53654,     0.53754,     0.53854,     0.53954,     0.54054,     0.54154,     0.54254,     0.54354,     0.54454,     0.54555,     0.54655,     0.54755,     0.54855,     0.54955,     0.55055,     0.55155,\n",
       "           0.55255,     0.55355,     0.55455,     0.55556,     0.55656,     0.55756,     0.55856,     0.55956,     0.56056,     0.56156,     0.56256,     0.56356,     0.56456,     0.56557,     0.56657,     0.56757,     0.56857,     0.56957,     0.57057,     0.57157,     0.57257,     0.57357,     0.57457,     0.57558,\n",
       "           0.57658,     0.57758,     0.57858,     0.57958,     0.58058,     0.58158,     0.58258,     0.58358,     0.58458,     0.58559,     0.58659,     0.58759,     0.58859,     0.58959,     0.59059,     0.59159,     0.59259,     0.59359,     0.59459,      0.5956,      0.5966,      0.5976,      0.5986,      0.5996,\n",
       "            0.6006,      0.6016,      0.6026,      0.6036,      0.6046,     0.60561,     0.60661,     0.60761,     0.60861,     0.60961,     0.61061,     0.61161,     0.61261,     0.61361,     0.61461,     0.61562,     0.61662,     0.61762,     0.61862,     0.61962,     0.62062,     0.62162,     0.62262,     0.62362,\n",
       "           0.62462,     0.62563,     0.62663,     0.62763,     0.62863,     0.62963,     0.63063,     0.63163,     0.63263,     0.63363,     0.63463,     0.63564,     0.63664,     0.63764,     0.63864,     0.63964,     0.64064,     0.64164,     0.64264,     0.64364,     0.64464,     0.64565,     0.64665,     0.64765,\n",
       "           0.64865,     0.64965,     0.65065,     0.65165,     0.65265,     0.65365,     0.65465,     0.65566,     0.65666,     0.65766,     0.65866,     0.65966,     0.66066,     0.66166,     0.66266,     0.66366,     0.66466,     0.66567,     0.66667,     0.66767,     0.66867,     0.66967,     0.67067,     0.67167,\n",
       "           0.67267,     0.67367,     0.67467,     0.67568,     0.67668,     0.67768,     0.67868,     0.67968,     0.68068,     0.68168,     0.68268,     0.68368,     0.68468,     0.68569,     0.68669,     0.68769,     0.68869,     0.68969,     0.69069,     0.69169,     0.69269,     0.69369,     0.69469,      0.6957,\n",
       "            0.6967,      0.6977,      0.6987,      0.6997,      0.7007,      0.7017,      0.7027,      0.7037,      0.7047,     0.70571,     0.70671,     0.70771,     0.70871,     0.70971,     0.71071,     0.71171,     0.71271,     0.71371,     0.71471,     0.71572,     0.71672,     0.71772,     0.71872,     0.71972,\n",
       "           0.72072,     0.72172,     0.72272,     0.72372,     0.72472,     0.72573,     0.72673,     0.72773,     0.72873,     0.72973,     0.73073,     0.73173,     0.73273,     0.73373,     0.73473,     0.73574,     0.73674,     0.73774,     0.73874,     0.73974,     0.74074,     0.74174,     0.74274,     0.74374,\n",
       "           0.74474,     0.74575,     0.74675,     0.74775,     0.74875,     0.74975,     0.75075,     0.75175,     0.75275,     0.75375,     0.75475,     0.75576,     0.75676,     0.75776,     0.75876,     0.75976,     0.76076,     0.76176,     0.76276,     0.76376,     0.76476,     0.76577,     0.76677,     0.76777,\n",
       "           0.76877,     0.76977,     0.77077,     0.77177,     0.77277,     0.77377,     0.77477,     0.77578,     0.77678,     0.77778,     0.77878,     0.77978,     0.78078,     0.78178,     0.78278,     0.78378,     0.78478,     0.78579,     0.78679,     0.78779,     0.78879,     0.78979,     0.79079,     0.79179,\n",
       "           0.79279,     0.79379,     0.79479,      0.7958,      0.7968,      0.7978,      0.7988,      0.7998,      0.8008,      0.8018,      0.8028,      0.8038,      0.8048,     0.80581,     0.80681,     0.80781,     0.80881,     0.80981,     0.81081,     0.81181,     0.81281,     0.81381,     0.81481,     0.81582,\n",
       "           0.81682,     0.81782,     0.81882,     0.81982,     0.82082,     0.82182,     0.82282,     0.82382,     0.82482,     0.82583,     0.82683,     0.82783,     0.82883,     0.82983,     0.83083,     0.83183,     0.83283,     0.83383,     0.83483,     0.83584,     0.83684,     0.83784,     0.83884,     0.83984,\n",
       "           0.84084,     0.84184,     0.84284,     0.84384,     0.84484,     0.84585,     0.84685,     0.84785,     0.84885,     0.84985,     0.85085,     0.85185,     0.85285,     0.85385,     0.85485,     0.85586,     0.85686,     0.85786,     0.85886,     0.85986,     0.86086,     0.86186,     0.86286,     0.86386,\n",
       "           0.86486,     0.86587,     0.86687,     0.86787,     0.86887,     0.86987,     0.87087,     0.87187,     0.87287,     0.87387,     0.87487,     0.87588,     0.87688,     0.87788,     0.87888,     0.87988,     0.88088,     0.88188,     0.88288,     0.88388,     0.88488,     0.88589,     0.88689,     0.88789,\n",
       "           0.88889,     0.88989,     0.89089,     0.89189,     0.89289,     0.89389,     0.89489,      0.8959,      0.8969,      0.8979,      0.8989,      0.8999,      0.9009,      0.9019,      0.9029,      0.9039,      0.9049,     0.90591,     0.90691,     0.90791,     0.90891,     0.90991,     0.91091,     0.91191,\n",
       "           0.91291,     0.91391,     0.91491,     0.91592,     0.91692,     0.91792,     0.91892,     0.91992,     0.92092,     0.92192,     0.92292,     0.92392,     0.92492,     0.92593,     0.92693,     0.92793,     0.92893,     0.92993,     0.93093,     0.93193,     0.93293,     0.93393,     0.93493,     0.93594,\n",
       "           0.93694,     0.93794,     0.93894,     0.93994,     0.94094,     0.94194,     0.94294,     0.94394,     0.94494,     0.94595,     0.94695,     0.94795,     0.94895,     0.94995,     0.95095,     0.95195,     0.95295,     0.95395,     0.95495,     0.95596,     0.95696,     0.95796,     0.95896,     0.95996,\n",
       "           0.96096,     0.96196,     0.96296,     0.96396,     0.96496,     0.96597,     0.96697,     0.96797,     0.96897,     0.96997,     0.97097,     0.97197,     0.97297,     0.97397,     0.97497,     0.97598,     0.97698,     0.97798,     0.97898,     0.97998,     0.98098,     0.98198,     0.98298,     0.98398,\n",
       "           0.98498,     0.98599,     0.98699,     0.98799,     0.98899,     0.98999,     0.99099,     0.99199,     0.99299,     0.99399,     0.99499,       0.996,       0.997,       0.998,       0.999,           1]), array([[          1,           1,           1,           1,           1,           1,           1,           1,           1,           1,           1,           1,           1,           1,           1,           1,           1,           1,     0.98667,     0.98667,     0.98667,     0.98667,     0.98667,\n",
       "            0.98667,     0.98667,     0.98667,     0.98667,     0.98667,     0.98667,     0.98667,     0.98667,     0.98667,     0.98667,     0.98667,     0.98667,     0.98667,     0.98667,     0.98667,     0.98667,     0.98667,     0.98667,     0.98667,     0.98667,     0.98667,     0.98667,     0.98667,\n",
       "            0.98667,     0.98667,     0.98667,     0.98667,     0.98667,     0.98667,     0.98667,     0.98667,     0.98667,     0.98667,     0.98667,     0.98667,     0.98667,     0.98667,     0.98667,     0.98667,     0.98667,     0.98667,     0.98667,     0.98667,     0.98667,     0.98667,     0.98667,\n",
       "            0.98667,     0.98667,     0.98667,     0.98667,     0.98667,     0.98667,     0.98667,     0.98667,     0.98667,     0.98667,     0.98667,     0.98667,     0.98667,     0.98667,     0.98667,     0.98667,     0.98667,     0.98667,     0.98667,     0.98667,     0.98667,     0.98667,     0.98667,\n",
       "            0.98667,     0.98667,     0.98667,     0.98667,     0.98667,     0.98667,     0.98667,     0.98667,     0.98667,     0.98667,     0.98667,     0.98667,     0.98667,     0.98667,     0.98667,     0.98667,     0.98667,     0.98667,     0.98667,     0.98667,     0.98667,     0.98667,     0.98667,\n",
       "            0.98667,     0.98667,     0.98667,     0.98667,     0.98667,     0.98667,     0.98667,     0.98667,     0.98667,     0.98667,     0.98667,     0.98667,     0.98667,     0.98667,     0.98667,     0.98667,     0.98667,     0.98667,     0.98667,     0.98667,     0.98667,     0.98667,     0.98667,\n",
       "              0.985,       0.985,       0.985,       0.985,       0.985,       0.985,       0.985,       0.985,       0.985,       0.985,       0.985,       0.985,       0.985,       0.985,       0.985,       0.985,       0.985,       0.985,       0.985,       0.985,       0.985,       0.985,       0.985,\n",
       "              0.985,       0.985,       0.985,       0.985,       0.985,       0.985,       0.985,       0.985,       0.985,       0.985,       0.985,       0.985,       0.985,       0.985,       0.985,       0.985,       0.985,       0.985,       0.985,       0.985,       0.985,       0.985,       0.985,\n",
       "            0.98309,     0.98309,     0.98309,     0.98309,     0.98309,     0.98309,      0.9821,      0.9821,      0.9821,      0.9821,      0.9821,      0.9821,      0.9821,      0.9821,      0.9821,      0.9821,      0.9821,      0.9821,      0.9821,      0.9821,      0.9821,     0.97821,     0.97821,\n",
       "            0.97821,     0.97821,     0.97821,     0.97624,     0.97314,     0.97314,     0.97314,     0.97314,     0.97314,     0.97314,     0.97314,     0.97314,     0.97314,     0.97246,     0.97246,     0.97246,     0.97246,     0.97246,     0.97246,     0.97246,     0.97246,     0.97246,     0.97246,\n",
       "            0.97246,     0.97246,     0.97246,     0.97246,     0.97246,     0.97246,     0.97246,     0.97246,     0.97246,     0.97246,     0.97246,     0.97246,     0.97246,     0.97246,     0.97246,     0.97246,     0.97246,     0.97246,     0.97246,     0.97246,     0.97246,     0.97246,     0.97246,\n",
       "            0.97246,     0.97246,     0.97246,     0.97246,     0.97246,     0.97246,     0.97246,     0.97246,     0.97246,     0.97246,     0.97246,     0.97214,     0.97214,     0.97214,     0.97214,     0.97214,     0.97214,     0.97214,     0.97214,     0.97214,     0.97214,     0.97214,     0.97214,\n",
       "            0.97214,     0.97214,     0.97214,     0.97214,     0.97214,     0.97214,     0.97214,     0.97214,     0.97214,     0.97214,     0.97214,     0.97214,     0.97214,     0.97214,     0.97214,     0.97214,     0.97214,     0.97081,     0.97081,     0.96856,     0.96856,     0.96856,     0.96856,\n",
       "            0.96856,     0.96856,     0.96856,      0.9675,      0.9675,      0.9675,      0.9675,     0.96738,     0.96738,     0.96738,     0.96738,     0.96738,     0.96738,     0.96738,     0.96738,     0.96738,     0.96738,     0.96738,     0.96738,     0.96629,     0.96629,     0.96629,     0.96552,\n",
       "            0.96552,     0.96552,     0.96552,     0.96552,     0.96552,     0.96296,      0.9619,      0.9619,     0.96149,     0.96149,     0.96149,     0.96149,     0.96149,     0.96149,     0.96149,     0.96149,     0.96094,     0.96094,     0.96094,     0.96094,     0.96094,     0.96094,      0.9599,\n",
       "             0.9599,     0.95903,     0.95903,     0.95903,     0.95785,     0.95674,     0.95614,     0.95614,     0.95614,     0.95614,     0.95614,     0.95511,     0.95415,     0.95415,     0.95314,     0.95314,      0.9511,      0.9511,     0.95042,     0.95042,     0.95042,     0.95042,     0.94712,\n",
       "            0.94624,     0.94624,      0.9455,      0.9455,     0.94458,     0.94458,     0.94172,     0.94172,     0.94172,      0.9409,      0.9409,     0.94023,     0.94023,     0.94023,     0.94005,     0.94005,     0.94005,     0.94005,     0.94005,     0.94005,     0.93708,     0.93638,     0.93638,\n",
       "            0.93605,     0.93605,     0.93605,     0.93605,     0.93605,     0.93435,     0.93435,     0.93145,     0.93111,     0.93111,     0.93111,     0.93111,     0.93111,     0.93056,     0.93056,     0.92994,     0.92994,     0.92994,     0.92925,     0.92925,     0.92835,     0.92835,     0.92835,\n",
       "            0.92835,     0.92835,     0.92835,     0.92703,     0.92703,     0.92703,     0.92703,     0.92536,     0.92495,     0.92495,     0.92495,     0.92424,     0.92424,     0.92354,     0.92277,     0.92208,     0.92208,     0.92095,     0.92095,     0.92095,     0.92095,     0.91981,     0.91981,\n",
       "            0.91981,     0.91981,     0.91981,     0.91981,     0.91981,     0.91981,     0.91981,     0.91923,     0.91923,      0.9185,     0.91691,     0.91635,     0.91635,     0.91572,     0.91525,     0.91525,     0.91513,     0.91513,     0.91513,     0.91513,     0.91513,     0.91513,     0.91513,\n",
       "            0.91513,     0.91513,     0.91513,     0.91476,     0.91476,     0.91476,     0.91416,     0.91328,     0.91328,     0.91328,     0.91328,     0.91328,     0.91219,     0.91219,     0.91219,     0.91014,     0.91014,     0.90981,     0.90981,     0.90981,     0.90861,     0.90861,     0.90789,\n",
       "            0.90734,      0.9069,      0.9069,      0.9069,      0.9069,      0.9069,      0.9069,      0.9069,     0.90636,     0.90334,     0.90204,     0.90144,     0.90017,     0.89899,     0.89899,     0.89832,     0.89774,     0.89733,     0.89675,     0.89618,     0.89587,     0.89587,     0.89587,\n",
       "             0.8953,     0.89491,     0.89426,     0.89315,     0.89315,      0.8926,      0.8906,     0.89032,     0.89032,     0.88978,       0.888,       0.888,     0.88465,     0.88413,     0.88389,     0.88389,     0.88337,     0.88286,     0.88106,     0.88047,     0.87975,     0.87975,     0.87975,\n",
       "            0.87858,     0.87741,     0.87634,     0.87586,     0.87529,     0.87386,     0.87386,     0.87339,     0.87236,     0.87236,     0.87068,     0.87022,     0.86846,     0.86672,     0.86627,     0.86337,     0.86283,      0.8607,      0.8607,     0.85975,      0.8587,     0.85849,     0.85849,\n",
       "            0.85725,     0.85725,     0.85725,     0.85509,     0.85469,     0.85368,     0.85359,     0.85359,     0.85127,     0.84848,     0.84821,     0.84783,     0.84626,     0.84353,     0.84316,     0.84174,      0.8386,     0.83756,     0.83561,     0.83526,     0.83435,     0.83424,     0.83424,\n",
       "            0.83053,     0.83043,     0.83043,     0.82844,     0.82372,     0.82341,     0.82134,     0.82134,     0.82134,     0.82134,     0.81889,     0.81848,     0.81765,     0.81589,     0.81455,      0.8127,     0.81034,     0.80711,      0.8057,     0.80442,     0.80214,      0.8005,     0.79567,\n",
       "            0.79567,     0.79236,     0.78777,     0.78768,     0.78745,      0.7845,     0.78321,     0.78206,     0.78138,     0.77745,     0.77494,     0.77259,     0.77104,     0.76995,     0.76708,      0.7669,     0.76641,     0.76566,      0.7643,     0.76149,     0.75872,     0.75783,     0.75454,\n",
       "            0.75226,     0.75211,        0.75,     0.74986,     0.74638,     0.74501,     0.74283,     0.74121,     0.74094,     0.73613,     0.73521,     0.73366,     0.73341,     0.73172,     0.73005,     0.72761,     0.72611,     0.72196,     0.71945,     0.71712,     0.71406,     0.71104,     0.70878,\n",
       "            0.70742,     0.70555,     0.70513,     0.70258,     0.70146,     0.69755,     0.69472,     0.68901,     0.68796,     0.68692,     0.68655,     0.68552,     0.68498,     0.68098,      0.6777,     0.67381,     0.67316,     0.67188,     0.66902,     0.66839,     0.66434,      0.6605,     0.65777,\n",
       "            0.65628,     0.64858,     0.64395,     0.64111,     0.63564,     0.63417,     0.63322,     0.62344,     0.62109,     0.61509,     0.61334,     0.59754,     0.59754,     0.59519,      0.5888,     0.58772,      0.5871,     0.58579,     0.58396,     0.58244,     0.57911,     0.57831,     0.57773,\n",
       "            0.57159,     0.57126,     0.56331,      0.5613,      0.5568,     0.55465,     0.55395,     0.55219,     0.54908,     0.54582,     0.54476,     0.53923,     0.53516,     0.53265,     0.52832,     0.52388,     0.52258,      0.5144,     0.51213,     0.51091,     0.50631,     0.50197,     0.49338,\n",
       "            0.49039,     0.48713,     0.48545,     0.48046,     0.47914,     0.47813,     0.47318,     0.46834,     0.46044,     0.45777,     0.45327,     0.45188,     0.44971,     0.43669,     0.42418,     0.42369,      0.4189,     0.41367,     0.40732,     0.40427,     0.39899,     0.39718,     0.39166,\n",
       "            0.37932,     0.37883,      0.3742,     0.36702,     0.36621,     0.36524,     0.36227,     0.35619,     0.35045,      0.3489,     0.33762,     0.33493,     0.33209,     0.32877,     0.32239,     0.30716,     0.30401,     0.30011,     0.29584,     0.29276,     0.28894,     0.28665,     0.28554,\n",
       "            0.28232,     0.27647,     0.26857,     0.26567,     0.26453,     0.25099,     0.24611,     0.24534,     0.24328,     0.23216,     0.22959,     0.22311,     0.22014,     0.21797,     0.21005,     0.20415,     0.19966,     0.19472,     0.19096,     0.18928,     0.17938,     0.17566,     0.16841,\n",
       "            0.16772,     0.16544,     0.16245,     0.15883,     0.15591,     0.14862,     0.14365,     0.13614,     0.13413,      0.1319,     0.13111,     0.12491,     0.11908,     0.11461,     0.10826,     0.10733,      0.1045,     0.10356,     0.10037,       0.097,      0.0928,    0.089712,    0.083245,\n",
       "           0.079602,    0.077384,    0.076102,    0.072673,    0.069192,    0.068871,    0.067481,    0.065903,     0.06208,    0.059377,    0.059056,    0.058735,    0.058414,    0.058093,    0.057772,    0.057451,     0.05713,    0.056809,    0.056488,    0.056167,    0.055846,    0.055525,    0.055204,\n",
       "           0.054883,    0.054562,    0.054242,    0.053921,      0.0536,    0.053279,    0.052958,    0.052637,    0.052316,    0.051995,    0.051674,    0.051353,    0.051032,    0.050711,     0.05039,    0.050069,    0.049748,    0.049427,    0.049106,    0.048785,    0.048464,    0.048143,    0.047822,\n",
       "           0.047501,     0.04718,     0.04686,    0.046539,    0.046218,    0.045897,    0.045576,    0.045255,    0.044934,    0.044613,    0.044292,    0.043971,     0.04365,    0.043329,    0.043008,    0.042687,    0.042366,    0.042045,    0.041724,    0.041403,    0.041082,    0.040761,     0.04044,\n",
       "           0.040119,    0.039799,    0.039478,    0.039157,    0.038836,    0.038515,    0.038194,    0.037873,    0.037552,    0.037231,     0.03691,    0.036589,    0.036268,    0.035947,    0.035626,    0.035305,    0.034984,    0.034663,    0.034342,    0.034021,      0.0337,    0.033379,    0.033058,\n",
       "           0.032737,    0.032417,    0.032096,    0.031775,    0.031454,    0.031133,    0.030812,    0.030491,     0.03017,    0.029849,    0.029528,    0.029207,    0.028886,    0.028565,    0.028244,    0.027923,    0.027602,    0.027281,     0.02696,    0.026639,    0.026318,    0.025997,    0.025676,\n",
       "           0.025355,    0.025035,    0.024714,    0.024393,    0.024072,    0.023751,     0.02343,    0.023109,    0.022788,    0.022467,    0.022146,    0.021825,    0.021504,    0.021183,    0.020862,    0.020541,     0.02022,    0.019899,    0.019578,    0.019257,    0.018936,    0.018615,    0.018294,\n",
       "           0.017974,    0.017653,    0.017332,    0.017011,     0.01669,    0.016369,    0.016048,    0.015727,    0.015406,    0.015085,    0.014764,    0.014443,    0.014122,    0.013801,     0.01348,    0.013159,    0.012838,    0.012517,    0.012196,    0.011875,    0.011554,    0.011233,    0.010912,\n",
       "           0.010592,    0.010271,   0.0099496,   0.0096287,   0.0093077,   0.0089868,   0.0086658,   0.0083448,   0.0080239,   0.0077029,    0.007382,    0.007061,   0.0067401,   0.0064191,   0.0060982,   0.0057772,   0.0054562,   0.0051353,   0.0048143,   0.0044934,   0.0041724,   0.0038515,   0.0035305,\n",
       "          0.0032096,   0.0028886,   0.0025676,   0.0022467,   0.0019257,   0.0016048,   0.0012838,  0.00096287,  0.00064191,  0.00032096,           0]]), 'Recall', 'Precision'], [array([          0,    0.001001,    0.002002,    0.003003,    0.004004,    0.005005,    0.006006,    0.007007,    0.008008,    0.009009,     0.01001,    0.011011,    0.012012,    0.013013,    0.014014,    0.015015,    0.016016,    0.017017,    0.018018,    0.019019,     0.02002,    0.021021,    0.022022,    0.023023,\n",
       "          0.024024,    0.025025,    0.026026,    0.027027,    0.028028,    0.029029,     0.03003,    0.031031,    0.032032,    0.033033,    0.034034,    0.035035,    0.036036,    0.037037,    0.038038,    0.039039,     0.04004,    0.041041,    0.042042,    0.043043,    0.044044,    0.045045,    0.046046,    0.047047,\n",
       "          0.048048,    0.049049,     0.05005,    0.051051,    0.052052,    0.053053,    0.054054,    0.055055,    0.056056,    0.057057,    0.058058,    0.059059,     0.06006,    0.061061,    0.062062,    0.063063,    0.064064,    0.065065,    0.066066,    0.067067,    0.068068,    0.069069,     0.07007,    0.071071,\n",
       "          0.072072,    0.073073,    0.074074,    0.075075,    0.076076,    0.077077,    0.078078,    0.079079,     0.08008,    0.081081,    0.082082,    0.083083,    0.084084,    0.085085,    0.086086,    0.087087,    0.088088,    0.089089,     0.09009,    0.091091,    0.092092,    0.093093,    0.094094,    0.095095,\n",
       "          0.096096,    0.097097,    0.098098,    0.099099,      0.1001,      0.1011,      0.1021,      0.1031,      0.1041,     0.10511,     0.10611,     0.10711,     0.10811,     0.10911,     0.11011,     0.11111,     0.11211,     0.11311,     0.11411,     0.11512,     0.11612,     0.11712,     0.11812,     0.11912,\n",
       "           0.12012,     0.12112,     0.12212,     0.12312,     0.12412,     0.12513,     0.12613,     0.12713,     0.12813,     0.12913,     0.13013,     0.13113,     0.13213,     0.13313,     0.13413,     0.13514,     0.13614,     0.13714,     0.13814,     0.13914,     0.14014,     0.14114,     0.14214,     0.14314,\n",
       "           0.14414,     0.14515,     0.14615,     0.14715,     0.14815,     0.14915,     0.15015,     0.15115,     0.15215,     0.15315,     0.15415,     0.15516,     0.15616,     0.15716,     0.15816,     0.15916,     0.16016,     0.16116,     0.16216,     0.16316,     0.16416,     0.16517,     0.16617,     0.16717,\n",
       "           0.16817,     0.16917,     0.17017,     0.17117,     0.17217,     0.17317,     0.17417,     0.17518,     0.17618,     0.17718,     0.17818,     0.17918,     0.18018,     0.18118,     0.18218,     0.18318,     0.18418,     0.18519,     0.18619,     0.18719,     0.18819,     0.18919,     0.19019,     0.19119,\n",
       "           0.19219,     0.19319,     0.19419,      0.1952,      0.1962,      0.1972,      0.1982,      0.1992,      0.2002,      0.2012,      0.2022,      0.2032,      0.2042,     0.20521,     0.20621,     0.20721,     0.20821,     0.20921,     0.21021,     0.21121,     0.21221,     0.21321,     0.21421,     0.21522,\n",
       "           0.21622,     0.21722,     0.21822,     0.21922,     0.22022,     0.22122,     0.22222,     0.22322,     0.22422,     0.22523,     0.22623,     0.22723,     0.22823,     0.22923,     0.23023,     0.23123,     0.23223,     0.23323,     0.23423,     0.23524,     0.23624,     0.23724,     0.23824,     0.23924,\n",
       "           0.24024,     0.24124,     0.24224,     0.24324,     0.24424,     0.24525,     0.24625,     0.24725,     0.24825,     0.24925,     0.25025,     0.25125,     0.25225,     0.25325,     0.25425,     0.25526,     0.25626,     0.25726,     0.25826,     0.25926,     0.26026,     0.26126,     0.26226,     0.26326,\n",
       "           0.26426,     0.26527,     0.26627,     0.26727,     0.26827,     0.26927,     0.27027,     0.27127,     0.27227,     0.27327,     0.27427,     0.27528,     0.27628,     0.27728,     0.27828,     0.27928,     0.28028,     0.28128,     0.28228,     0.28328,     0.28428,     0.28529,     0.28629,     0.28729,\n",
       "           0.28829,     0.28929,     0.29029,     0.29129,     0.29229,     0.29329,     0.29429,      0.2953,      0.2963,      0.2973,      0.2983,      0.2993,      0.3003,      0.3013,      0.3023,      0.3033,      0.3043,     0.30531,     0.30631,     0.30731,     0.30831,     0.30931,     0.31031,     0.31131,\n",
       "           0.31231,     0.31331,     0.31431,     0.31532,     0.31632,     0.31732,     0.31832,     0.31932,     0.32032,     0.32132,     0.32232,     0.32332,     0.32432,     0.32533,     0.32633,     0.32733,     0.32833,     0.32933,     0.33033,     0.33133,     0.33233,     0.33333,     0.33433,     0.33534,\n",
       "           0.33634,     0.33734,     0.33834,     0.33934,     0.34034,     0.34134,     0.34234,     0.34334,     0.34434,     0.34535,     0.34635,     0.34735,     0.34835,     0.34935,     0.35035,     0.35135,     0.35235,     0.35335,     0.35435,     0.35536,     0.35636,     0.35736,     0.35836,     0.35936,\n",
       "           0.36036,     0.36136,     0.36236,     0.36336,     0.36436,     0.36537,     0.36637,     0.36737,     0.36837,     0.36937,     0.37037,     0.37137,     0.37237,     0.37337,     0.37437,     0.37538,     0.37638,     0.37738,     0.37838,     0.37938,     0.38038,     0.38138,     0.38238,     0.38338,\n",
       "           0.38438,     0.38539,     0.38639,     0.38739,     0.38839,     0.38939,     0.39039,     0.39139,     0.39239,     0.39339,     0.39439,      0.3954,      0.3964,      0.3974,      0.3984,      0.3994,      0.4004,      0.4014,      0.4024,      0.4034,      0.4044,     0.40541,     0.40641,     0.40741,\n",
       "           0.40841,     0.40941,     0.41041,     0.41141,     0.41241,     0.41341,     0.41441,     0.41542,     0.41642,     0.41742,     0.41842,     0.41942,     0.42042,     0.42142,     0.42242,     0.42342,     0.42442,     0.42543,     0.42643,     0.42743,     0.42843,     0.42943,     0.43043,     0.43143,\n",
       "           0.43243,     0.43343,     0.43443,     0.43544,     0.43644,     0.43744,     0.43844,     0.43944,     0.44044,     0.44144,     0.44244,     0.44344,     0.44444,     0.44545,     0.44645,     0.44745,     0.44845,     0.44945,     0.45045,     0.45145,     0.45245,     0.45345,     0.45445,     0.45546,\n",
       "           0.45646,     0.45746,     0.45846,     0.45946,     0.46046,     0.46146,     0.46246,     0.46346,     0.46446,     0.46547,     0.46647,     0.46747,     0.46847,     0.46947,     0.47047,     0.47147,     0.47247,     0.47347,     0.47447,     0.47548,     0.47648,     0.47748,     0.47848,     0.47948,\n",
       "           0.48048,     0.48148,     0.48248,     0.48348,     0.48448,     0.48549,     0.48649,     0.48749,     0.48849,     0.48949,     0.49049,     0.49149,     0.49249,     0.49349,     0.49449,      0.4955,      0.4965,      0.4975,      0.4985,      0.4995,      0.5005,      0.5015,      0.5025,      0.5035,\n",
       "            0.5045,     0.50551,     0.50651,     0.50751,     0.50851,     0.50951,     0.51051,     0.51151,     0.51251,     0.51351,     0.51451,     0.51552,     0.51652,     0.51752,     0.51852,     0.51952,     0.52052,     0.52152,     0.52252,     0.52352,     0.52452,     0.52553,     0.52653,     0.52753,\n",
       "           0.52853,     0.52953,     0.53053,     0.53153,     0.53253,     0.53353,     0.53453,     0.53554,     0.53654,     0.53754,     0.53854,     0.53954,     0.54054,     0.54154,     0.54254,     0.54354,     0.54454,     0.54555,     0.54655,     0.54755,     0.54855,     0.54955,     0.55055,     0.55155,\n",
       "           0.55255,     0.55355,     0.55455,     0.55556,     0.55656,     0.55756,     0.55856,     0.55956,     0.56056,     0.56156,     0.56256,     0.56356,     0.56456,     0.56557,     0.56657,     0.56757,     0.56857,     0.56957,     0.57057,     0.57157,     0.57257,     0.57357,     0.57457,     0.57558,\n",
       "           0.57658,     0.57758,     0.57858,     0.57958,     0.58058,     0.58158,     0.58258,     0.58358,     0.58458,     0.58559,     0.58659,     0.58759,     0.58859,     0.58959,     0.59059,     0.59159,     0.59259,     0.59359,     0.59459,      0.5956,      0.5966,      0.5976,      0.5986,      0.5996,\n",
       "            0.6006,      0.6016,      0.6026,      0.6036,      0.6046,     0.60561,     0.60661,     0.60761,     0.60861,     0.60961,     0.61061,     0.61161,     0.61261,     0.61361,     0.61461,     0.61562,     0.61662,     0.61762,     0.61862,     0.61962,     0.62062,     0.62162,     0.62262,     0.62362,\n",
       "           0.62462,     0.62563,     0.62663,     0.62763,     0.62863,     0.62963,     0.63063,     0.63163,     0.63263,     0.63363,     0.63463,     0.63564,     0.63664,     0.63764,     0.63864,     0.63964,     0.64064,     0.64164,     0.64264,     0.64364,     0.64464,     0.64565,     0.64665,     0.64765,\n",
       "           0.64865,     0.64965,     0.65065,     0.65165,     0.65265,     0.65365,     0.65465,     0.65566,     0.65666,     0.65766,     0.65866,     0.65966,     0.66066,     0.66166,     0.66266,     0.66366,     0.66466,     0.66567,     0.66667,     0.66767,     0.66867,     0.66967,     0.67067,     0.67167,\n",
       "           0.67267,     0.67367,     0.67467,     0.67568,     0.67668,     0.67768,     0.67868,     0.67968,     0.68068,     0.68168,     0.68268,     0.68368,     0.68468,     0.68569,     0.68669,     0.68769,     0.68869,     0.68969,     0.69069,     0.69169,     0.69269,     0.69369,     0.69469,      0.6957,\n",
       "            0.6967,      0.6977,      0.6987,      0.6997,      0.7007,      0.7017,      0.7027,      0.7037,      0.7047,     0.70571,     0.70671,     0.70771,     0.70871,     0.70971,     0.71071,     0.71171,     0.71271,     0.71371,     0.71471,     0.71572,     0.71672,     0.71772,     0.71872,     0.71972,\n",
       "           0.72072,     0.72172,     0.72272,     0.72372,     0.72472,     0.72573,     0.72673,     0.72773,     0.72873,     0.72973,     0.73073,     0.73173,     0.73273,     0.73373,     0.73473,     0.73574,     0.73674,     0.73774,     0.73874,     0.73974,     0.74074,     0.74174,     0.74274,     0.74374,\n",
       "           0.74474,     0.74575,     0.74675,     0.74775,     0.74875,     0.74975,     0.75075,     0.75175,     0.75275,     0.75375,     0.75475,     0.75576,     0.75676,     0.75776,     0.75876,     0.75976,     0.76076,     0.76176,     0.76276,     0.76376,     0.76476,     0.76577,     0.76677,     0.76777,\n",
       "           0.76877,     0.76977,     0.77077,     0.77177,     0.77277,     0.77377,     0.77477,     0.77578,     0.77678,     0.77778,     0.77878,     0.77978,     0.78078,     0.78178,     0.78278,     0.78378,     0.78478,     0.78579,     0.78679,     0.78779,     0.78879,     0.78979,     0.79079,     0.79179,\n",
       "           0.79279,     0.79379,     0.79479,      0.7958,      0.7968,      0.7978,      0.7988,      0.7998,      0.8008,      0.8018,      0.8028,      0.8038,      0.8048,     0.80581,     0.80681,     0.80781,     0.80881,     0.80981,     0.81081,     0.81181,     0.81281,     0.81381,     0.81481,     0.81582,\n",
       "           0.81682,     0.81782,     0.81882,     0.81982,     0.82082,     0.82182,     0.82282,     0.82382,     0.82482,     0.82583,     0.82683,     0.82783,     0.82883,     0.82983,     0.83083,     0.83183,     0.83283,     0.83383,     0.83483,     0.83584,     0.83684,     0.83784,     0.83884,     0.83984,\n",
       "           0.84084,     0.84184,     0.84284,     0.84384,     0.84484,     0.84585,     0.84685,     0.84785,     0.84885,     0.84985,     0.85085,     0.85185,     0.85285,     0.85385,     0.85485,     0.85586,     0.85686,     0.85786,     0.85886,     0.85986,     0.86086,     0.86186,     0.86286,     0.86386,\n",
       "           0.86486,     0.86587,     0.86687,     0.86787,     0.86887,     0.86987,     0.87087,     0.87187,     0.87287,     0.87387,     0.87487,     0.87588,     0.87688,     0.87788,     0.87888,     0.87988,     0.88088,     0.88188,     0.88288,     0.88388,     0.88488,     0.88589,     0.88689,     0.88789,\n",
       "           0.88889,     0.88989,     0.89089,     0.89189,     0.89289,     0.89389,     0.89489,      0.8959,      0.8969,      0.8979,      0.8989,      0.8999,      0.9009,      0.9019,      0.9029,      0.9039,      0.9049,     0.90591,     0.90691,     0.90791,     0.90891,     0.90991,     0.91091,     0.91191,\n",
       "           0.91291,     0.91391,     0.91491,     0.91592,     0.91692,     0.91792,     0.91892,     0.91992,     0.92092,     0.92192,     0.92292,     0.92392,     0.92492,     0.92593,     0.92693,     0.92793,     0.92893,     0.92993,     0.93093,     0.93193,     0.93293,     0.93393,     0.93493,     0.93594,\n",
       "           0.93694,     0.93794,     0.93894,     0.93994,     0.94094,     0.94194,     0.94294,     0.94394,     0.94494,     0.94595,     0.94695,     0.94795,     0.94895,     0.94995,     0.95095,     0.95195,     0.95295,     0.95395,     0.95495,     0.95596,     0.95696,     0.95796,     0.95896,     0.95996,\n",
       "           0.96096,     0.96196,     0.96296,     0.96396,     0.96496,     0.96597,     0.96697,     0.96797,     0.96897,     0.96997,     0.97097,     0.97197,     0.97297,     0.97397,     0.97497,     0.97598,     0.97698,     0.97798,     0.97898,     0.97998,     0.98098,     0.98198,     0.98298,     0.98398,\n",
       "           0.98498,     0.98599,     0.98699,     0.98799,     0.98899,     0.98999,     0.99099,     0.99199,     0.99299,     0.99399,     0.99499,       0.996,       0.997,       0.998,       0.999,           1]), array([[    0.11119,     0.11119,     0.15931,     0.20158,     0.23574,     0.26259,     0.28569,     0.30628,     0.32544,     0.34066,     0.35362,      0.3668,     0.37839,     0.39004,      0.4006,     0.41136,     0.42038,     0.42815,     0.43602,     0.44445,      0.4519,     0.45862,     0.46519,\n",
       "            0.47206,     0.47768,     0.48352,     0.48867,     0.49188,     0.49719,     0.50198,     0.50624,     0.51036,     0.51401,     0.51856,     0.52162,     0.52376,     0.52756,     0.52995,     0.53262,     0.53562,     0.53926,     0.54219,     0.54527,     0.54957,     0.55244,     0.55527,\n",
       "            0.55797,      0.5605,     0.56342,     0.56714,     0.56979,     0.57167,     0.57415,     0.57519,     0.57737,     0.57863,     0.57988,     0.58146,     0.58244,     0.58342,     0.58605,     0.58787,     0.58904,     0.59105,     0.59351,     0.59465,     0.59588,     0.59825,     0.59981,\n",
       "            0.60107,     0.60215,       0.603,     0.60391,     0.60537,     0.60701,      0.6076,     0.60831,     0.60995,     0.61135,     0.61303,     0.61296,     0.61504,      0.6163,     0.61716,     0.61709,     0.61803,     0.61785,     0.62032,     0.62155,     0.62209,     0.62445,     0.62496,\n",
       "            0.62529,     0.62699,     0.62863,     0.62864,     0.62952,     0.62997,     0.63087,     0.63139,     0.63151,     0.63144,     0.63171,      0.6328,     0.63356,     0.63442,     0.63501,     0.63573,      0.6359,     0.63617,     0.63744,     0.63849,     0.63942,     0.64063,     0.64226,\n",
       "            0.64304,      0.6437,     0.64415,     0.64441,     0.64528,      0.6465,     0.64698,     0.64731,     0.64799,     0.64797,      0.6491,     0.65009,      0.6514,     0.65239,     0.65273,     0.65304,     0.65335,     0.65323,     0.65377,      0.6548,     0.65554,     0.65549,     0.65613,\n",
       "            0.65637,     0.65652,     0.65683,     0.65792,     0.65838,     0.65899,     0.65945,     0.66022,     0.66188,     0.66201,     0.66206,     0.66237,     0.66313,     0.66317,      0.6633,     0.66405,     0.66489,     0.66483,     0.66528,     0.66543,     0.66603,     0.66559,     0.66616,\n",
       "            0.66645,     0.66645,     0.66685,     0.66662,     0.66686,     0.66699,     0.66775,     0.66822,     0.66849,     0.66938,     0.66886,     0.66953,     0.66979,      0.6704,     0.67022,     0.67018,     0.67005,      0.6698,     0.66992,     0.66996,     0.67048,     0.67141,     0.67135,\n",
       "            0.67148,     0.67172,     0.67201,     0.67199,     0.67242,     0.67267,     0.67315,     0.67342,     0.67386,     0.67397,     0.67457,     0.67451,     0.67444,     0.67425,      0.6746,     0.67428,     0.67455,     0.67434,     0.67494,     0.67486,     0.67529,     0.67587,     0.67599,\n",
       "            0.67622,      0.6767,     0.67666,     0.67661,     0.67681,     0.67707,     0.67713,     0.67742,     0.67784,     0.67813,     0.67787,     0.67895,      0.6792,     0.67913,     0.67923,     0.67899,     0.67924,     0.67951,     0.67909,      0.6797,     0.67995,     0.67981,     0.67917,\n",
       "            0.67954,     0.67945,     0.67905,     0.67912,     0.67965,     0.67979,     0.68036,      0.6806,     0.68016,     0.68022,     0.68043,     0.68028,     0.68053,     0.68077,       0.681,     0.68073,     0.68069,     0.68104,      0.6813,     0.68164,     0.68142,      0.6812,     0.68097,\n",
       "            0.68102,     0.68118,     0.68116,     0.68048,      0.6806,     0.68046,     0.68106,     0.68095,     0.68222,     0.68186,     0.68163,     0.68145,     0.68134,      0.6815,     0.68192,     0.68215,       0.682,     0.68224,     0.68251,     0.68241,     0.68249,     0.68243,     0.68146,\n",
       "            0.68111,     0.68144,     0.68154,     0.68146,     0.68146,     0.68156,     0.68168,     0.68149,     0.68156,     0.68149,     0.68183,     0.68205,     0.68175,     0.68149,     0.68202,     0.68192,     0.68217,     0.68254,     0.68241,     0.68252,     0.68286,      0.6831,     0.68244,\n",
       "            0.68233,     0.68238,     0.68258,     0.68193,     0.68252,     0.68292,       0.682,      0.6816,     0.68184,     0.68227,     0.68261,     0.68272,     0.68265,     0.68243,     0.68299,     0.68357,     0.68281,     0.68277,       0.683,     0.68319,      0.6838,     0.68382,     0.68348,\n",
       "            0.68328,     0.68307,     0.68309,     0.68327,     0.68337,     0.68354,      0.6834,     0.68363,     0.68312,     0.68323,     0.68338,     0.68361,     0.68331,     0.68361,     0.68371,     0.68376,     0.68396,     0.68383,     0.68416,     0.68427,     0.68427,     0.68361,     0.68399,\n",
       "            0.68428,     0.68389,      0.6841,     0.68318,     0.68327,     0.68385,      0.6835,     0.68334,     0.68339,     0.68322,     0.68295,     0.68287,     0.68279,      0.6827,     0.68262,     0.68319,     0.68273,     0.68236,      0.6816,     0.68118,     0.68063,     0.68062,     0.68104,\n",
       "            0.68112,     0.68099,     0.68098,     0.68043,     0.68024,     0.68046,     0.68105,     0.68124,     0.68143,      0.6813,     0.68116,     0.68133,     0.68079,     0.68012,     0.68014,     0.67996,     0.68016,     0.68069,      0.6808,     0.68059,     0.67949,     0.67952,     0.67903,\n",
       "             0.6792,     0.67828,     0.67795,     0.67816,     0.67822,     0.67818,     0.67781,     0.67769,     0.67751,     0.67774,     0.67813,     0.67806,      0.6776,      0.6778,     0.67713,     0.67694,     0.67733,      0.6774,     0.67695,     0.67705,     0.67718,     0.67728,     0.67718,\n",
       "            0.67708,     0.67698,     0.67627,     0.67608,     0.67578,      0.6757,     0.67551,     0.67561,     0.67619,     0.67587,     0.67596,     0.67601,     0.67562,      0.6746,     0.67471,     0.67452,     0.67429,      0.6739,      0.6737,     0.67314,     0.67315,     0.67337,     0.67284,\n",
       "             0.6717,     0.67131,     0.67154,     0.67163,     0.67144,     0.67034,     0.67014,     0.67024,     0.66937,     0.66931,     0.66859,     0.66837,     0.66857,       0.668,      0.6678,     0.66782,     0.66763,     0.66774,     0.66785,     0.66795,     0.66773,     0.66753,     0.66744,\n",
       "            0.66704,     0.66696,     0.66716,     0.66721,      0.6672,     0.66661,     0.66641,     0.66622,     0.66505,     0.66527,     0.66464,      0.6647,     0.66404,     0.66326,     0.66303,     0.66283,      0.6629,     0.66299,     0.66299,     0.66261,      0.6628,      0.6622,     0.66142,\n",
       "             0.6614,     0.66107,     0.66099,     0.66078,     0.66047,     0.66057,     0.66016,     0.65937,     0.65819,     0.65816,     0.65816,     0.65797,     0.65804,     0.65791,     0.65778,     0.65751,      0.6573,     0.65681,     0.65629,     0.65617,     0.65627,     0.65465,     0.65451,\n",
       "            0.65438,     0.65425,     0.65378,     0.65358,     0.65347,     0.65386,     0.65406,     0.65376,     0.65353,     0.65332,     0.65273,     0.65288,     0.65308,     0.65229,     0.65008,     0.65027,     0.65005,     0.64984,     0.64968,     0.64982,     0.64962,     0.64877,     0.64859,\n",
       "            0.64838,     0.64828,     0.64831,      0.6479,     0.64748,     0.64707,     0.64689,     0.64684,     0.64628,      0.6454,     0.64508,     0.64487,     0.64456,     0.64404,     0.64384,     0.64325,     0.64266,     0.64184,     0.64183,      0.6416,     0.64097,     0.64101,     0.63992,\n",
       "            0.63977,     0.63946,     0.63904,     0.63882,     0.63895,     0.63808,      0.6376,     0.63739,     0.63713,     0.63723,     0.63691,      0.6367,     0.63655,     0.63502,     0.63481,     0.63362,     0.63257,     0.63242,     0.63228,      0.6324,     0.63135,     0.63104,      0.6303,\n",
       "            0.62996,      0.6295,     0.62928,     0.62849,     0.62856,     0.62821,     0.62839,      0.6281,     0.62773,     0.62646,       0.626,     0.62537,     0.62494,     0.62452,     0.62446,     0.62379,     0.62294,     0.62251,     0.62165,     0.62194,     0.62116,     0.62096,     0.62078,\n",
       "            0.61964,     0.61921,     0.61834,       0.618,       0.617,     0.61675,     0.61631,     0.61501,     0.61348,       0.612,     0.61178,     0.61113,     0.61091,     0.60976,     0.60778,     0.60776,     0.60688,     0.60644,     0.60633,     0.60595,     0.60507,     0.60463,     0.60428,\n",
       "            0.60392,     0.60308,     0.60278,     0.60184,     0.60141,     0.60094,     0.60044,     0.59903,      0.5988,     0.59727,     0.59505,     0.59304,      0.5908,     0.59047,     0.59056,      0.5896,      0.5893,     0.58795,     0.58727,     0.58696,     0.58562,     0.58571,     0.58572,\n",
       "            0.58481,     0.58389,     0.58317,     0.58269,     0.58242,     0.58037,     0.57964,     0.57871,     0.57862,     0.57525,     0.57508,     0.57323,      0.5723,      0.5709,     0.56911,     0.56917,     0.56884,     0.56865,     0.56755,     0.56771,     0.56755,     0.56739,     0.56664,\n",
       "            0.56554,     0.56478,     0.56384,     0.56238,      0.5619,     0.56142,     0.55984,     0.55815,      0.5567,     0.55652,     0.55396,     0.55205,     0.55126,     0.54976,     0.54879,     0.54885,     0.54831,      0.5457,     0.54521,     0.54471,     0.54126,     0.54027,     0.53887,\n",
       "            0.53827,     0.53695,     0.53645,     0.53544,     0.53556,     0.53504,     0.53369,     0.53235,     0.53064,     0.52948,     0.52911,     0.52861,     0.52827,     0.52599,     0.52574,     0.52297,      0.5213,     0.52096,     0.51991,        0.52,     0.51793,     0.51607,     0.51573,\n",
       "            0.51394,     0.51368,     0.51301,     0.51149,     0.51114,     0.50926,     0.50708,     0.50682,     0.50514,     0.50376,     0.50341,     0.50048,     0.49978,     0.49942,     0.49855,     0.49353,     0.49326,     0.49052,     0.49017,      0.4884,     0.48784,     0.48796,     0.48608,\n",
       "            0.48307,     0.48271,     0.48173,      0.4769,     0.47447,     0.47411,     0.47056,     0.47028,     0.46616,     0.46432,     0.46395,     0.46008,     0.45845,     0.45807,     0.45384,     0.45236,     0.45198,      0.4482,     0.44559,      0.4452,     0.44129,     0.43581,     0.43259,\n",
       "             0.4322,     0.43124,     0.42971,     0.42532,     0.42493,     0.42124,     0.41853,     0.41814,     0.41658,     0.41222,     0.40816,     0.40776,     0.40618,     0.40224,     0.40184,      0.3949,      0.3915,     0.39109,     0.38824,     0.38359,     0.38014,       0.373,     0.37207,\n",
       "            0.36925,     0.36601,     0.36124,     0.36082,     0.35615,     0.35314,     0.34767,     0.34723,     0.34131,      0.3366,       0.331,     0.33056,     0.32798,      0.3249,     0.31979,     0.31671,     0.31626,     0.31118,     0.30674,     0.29948,     0.29496,     0.28613,     0.28566,\n",
       "            0.28024,     0.27555,     0.26948,     0.26112,     0.26064,     0.25077,     0.24495,     0.24128,     0.23548,     0.23119,     0.23069,     0.22558,     0.21696,     0.21263,     0.20888,      0.2015,     0.20022,     0.19642,     0.18882,      0.1883,     0.18685,     0.17683,     0.17155,\n",
       "            0.16611,     0.16162,     0.15608,     0.15376,     0.15321,     0.14699,     0.14203,     0.13879,     0.13392,     0.13009,     0.12532,     0.12408,     0.12036,     0.11787,     0.11288,     0.10954,     0.10451,       0.103,    0.098871,    0.094776,    0.085411,    0.081969,     0.08109,\n",
       "           0.079522,    0.079228,    0.078934,    0.078428,    0.076685,    0.074939,    0.072325,    0.067966,    0.066234,    0.062873,     0.06051,    0.057887,    0.057437,    0.056052,    0.055149,    0.053363,    0.052574,    0.052272,     0.05197,    0.051267,    0.050157,    0.048805,     0.04805,\n",
       "           0.047595,    0.047175,     0.04681,    0.046446,    0.045851,    0.044204,     0.04329,    0.041078,    0.040967,    0.039666,    0.038748,    0.037828,    0.036211,    0.034821,    0.034505,    0.034043,    0.032563,    0.031588,    0.030478,    0.029806,    0.028337,    0.027872,    0.027343,\n",
       "           0.026723,    0.025808,    0.024572,    0.023922,    0.022719,    0.022118,    0.021806,    0.021495,    0.021138,    0.020513,    0.019038,     0.01822,    0.017844,    0.017068,    0.016358,    0.015982,    0.015654,    0.015418,    0.015183,    0.014947,    0.014697,    0.014428,    0.014159,\n",
       "           0.013891,    0.013681,    0.013471,    0.013262,    0.013052,    0.012842,    0.012633,    0.012423,    0.012213,     0.01109,    0.010918,    0.010746,    0.010574,    0.010402,     0.01023,    0.010081,   0.0099356,   0.0097899,   0.0096442,   0.0094985,   0.0093528,   0.0092006,   0.0090426,\n",
       "          0.0088847,   0.0087267,   0.0085688,   0.0084107,    0.008145,   0.0078288,   0.0075125,   0.0073553,   0.0072499,   0.0071444,   0.0070389,   0.0069334,   0.0068279,   0.0067224,   0.0066168,   0.0065113,   0.0062771,   0.0060395,   0.0058019,    0.005444,   0.0045606,    0.004402,   0.0042433,\n",
       "          0.0040846,   0.0039259,   0.0037671,   0.0036374,   0.0035183,   0.0033991,     0.00328,   0.0031609,   0.0030417,   0.0029226,   0.0028034,   0.0017709,   0.0015588,   0.0013466,   0.0011344,           0,           0,           0,           0,           0,           0,           0,           0,\n",
       "                  0,           0,           0,           0,           0,           0,           0,           0,           0,           0,           0]]), 'Confidence', 'F1'], [array([          0,    0.001001,    0.002002,    0.003003,    0.004004,    0.005005,    0.006006,    0.007007,    0.008008,    0.009009,     0.01001,    0.011011,    0.012012,    0.013013,    0.014014,    0.015015,    0.016016,    0.017017,    0.018018,    0.019019,     0.02002,    0.021021,    0.022022,    0.023023,\n",
       "          0.024024,    0.025025,    0.026026,    0.027027,    0.028028,    0.029029,     0.03003,    0.031031,    0.032032,    0.033033,    0.034034,    0.035035,    0.036036,    0.037037,    0.038038,    0.039039,     0.04004,    0.041041,    0.042042,    0.043043,    0.044044,    0.045045,    0.046046,    0.047047,\n",
       "          0.048048,    0.049049,     0.05005,    0.051051,    0.052052,    0.053053,    0.054054,    0.055055,    0.056056,    0.057057,    0.058058,    0.059059,     0.06006,    0.061061,    0.062062,    0.063063,    0.064064,    0.065065,    0.066066,    0.067067,    0.068068,    0.069069,     0.07007,    0.071071,\n",
       "          0.072072,    0.073073,    0.074074,    0.075075,    0.076076,    0.077077,    0.078078,    0.079079,     0.08008,    0.081081,    0.082082,    0.083083,    0.084084,    0.085085,    0.086086,    0.087087,    0.088088,    0.089089,     0.09009,    0.091091,    0.092092,    0.093093,    0.094094,    0.095095,\n",
       "          0.096096,    0.097097,    0.098098,    0.099099,      0.1001,      0.1011,      0.1021,      0.1031,      0.1041,     0.10511,     0.10611,     0.10711,     0.10811,     0.10911,     0.11011,     0.11111,     0.11211,     0.11311,     0.11411,     0.11512,     0.11612,     0.11712,     0.11812,     0.11912,\n",
       "           0.12012,     0.12112,     0.12212,     0.12312,     0.12412,     0.12513,     0.12613,     0.12713,     0.12813,     0.12913,     0.13013,     0.13113,     0.13213,     0.13313,     0.13413,     0.13514,     0.13614,     0.13714,     0.13814,     0.13914,     0.14014,     0.14114,     0.14214,     0.14314,\n",
       "           0.14414,     0.14515,     0.14615,     0.14715,     0.14815,     0.14915,     0.15015,     0.15115,     0.15215,     0.15315,     0.15415,     0.15516,     0.15616,     0.15716,     0.15816,     0.15916,     0.16016,     0.16116,     0.16216,     0.16316,     0.16416,     0.16517,     0.16617,     0.16717,\n",
       "           0.16817,     0.16917,     0.17017,     0.17117,     0.17217,     0.17317,     0.17417,     0.17518,     0.17618,     0.17718,     0.17818,     0.17918,     0.18018,     0.18118,     0.18218,     0.18318,     0.18418,     0.18519,     0.18619,     0.18719,     0.18819,     0.18919,     0.19019,     0.19119,\n",
       "           0.19219,     0.19319,     0.19419,      0.1952,      0.1962,      0.1972,      0.1982,      0.1992,      0.2002,      0.2012,      0.2022,      0.2032,      0.2042,     0.20521,     0.20621,     0.20721,     0.20821,     0.20921,     0.21021,     0.21121,     0.21221,     0.21321,     0.21421,     0.21522,\n",
       "           0.21622,     0.21722,     0.21822,     0.21922,     0.22022,     0.22122,     0.22222,     0.22322,     0.22422,     0.22523,     0.22623,     0.22723,     0.22823,     0.22923,     0.23023,     0.23123,     0.23223,     0.23323,     0.23423,     0.23524,     0.23624,     0.23724,     0.23824,     0.23924,\n",
       "           0.24024,     0.24124,     0.24224,     0.24324,     0.24424,     0.24525,     0.24625,     0.24725,     0.24825,     0.24925,     0.25025,     0.25125,     0.25225,     0.25325,     0.25425,     0.25526,     0.25626,     0.25726,     0.25826,     0.25926,     0.26026,     0.26126,     0.26226,     0.26326,\n",
       "           0.26426,     0.26527,     0.26627,     0.26727,     0.26827,     0.26927,     0.27027,     0.27127,     0.27227,     0.27327,     0.27427,     0.27528,     0.27628,     0.27728,     0.27828,     0.27928,     0.28028,     0.28128,     0.28228,     0.28328,     0.28428,     0.28529,     0.28629,     0.28729,\n",
       "           0.28829,     0.28929,     0.29029,     0.29129,     0.29229,     0.29329,     0.29429,      0.2953,      0.2963,      0.2973,      0.2983,      0.2993,      0.3003,      0.3013,      0.3023,      0.3033,      0.3043,     0.30531,     0.30631,     0.30731,     0.30831,     0.30931,     0.31031,     0.31131,\n",
       "           0.31231,     0.31331,     0.31431,     0.31532,     0.31632,     0.31732,     0.31832,     0.31932,     0.32032,     0.32132,     0.32232,     0.32332,     0.32432,     0.32533,     0.32633,     0.32733,     0.32833,     0.32933,     0.33033,     0.33133,     0.33233,     0.33333,     0.33433,     0.33534,\n",
       "           0.33634,     0.33734,     0.33834,     0.33934,     0.34034,     0.34134,     0.34234,     0.34334,     0.34434,     0.34535,     0.34635,     0.34735,     0.34835,     0.34935,     0.35035,     0.35135,     0.35235,     0.35335,     0.35435,     0.35536,     0.35636,     0.35736,     0.35836,     0.35936,\n",
       "           0.36036,     0.36136,     0.36236,     0.36336,     0.36436,     0.36537,     0.36637,     0.36737,     0.36837,     0.36937,     0.37037,     0.37137,     0.37237,     0.37337,     0.37437,     0.37538,     0.37638,     0.37738,     0.37838,     0.37938,     0.38038,     0.38138,     0.38238,     0.38338,\n",
       "           0.38438,     0.38539,     0.38639,     0.38739,     0.38839,     0.38939,     0.39039,     0.39139,     0.39239,     0.39339,     0.39439,      0.3954,      0.3964,      0.3974,      0.3984,      0.3994,      0.4004,      0.4014,      0.4024,      0.4034,      0.4044,     0.40541,     0.40641,     0.40741,\n",
       "           0.40841,     0.40941,     0.41041,     0.41141,     0.41241,     0.41341,     0.41441,     0.41542,     0.41642,     0.41742,     0.41842,     0.41942,     0.42042,     0.42142,     0.42242,     0.42342,     0.42442,     0.42543,     0.42643,     0.42743,     0.42843,     0.42943,     0.43043,     0.43143,\n",
       "           0.43243,     0.43343,     0.43443,     0.43544,     0.43644,     0.43744,     0.43844,     0.43944,     0.44044,     0.44144,     0.44244,     0.44344,     0.44444,     0.44545,     0.44645,     0.44745,     0.44845,     0.44945,     0.45045,     0.45145,     0.45245,     0.45345,     0.45445,     0.45546,\n",
       "           0.45646,     0.45746,     0.45846,     0.45946,     0.46046,     0.46146,     0.46246,     0.46346,     0.46446,     0.46547,     0.46647,     0.46747,     0.46847,     0.46947,     0.47047,     0.47147,     0.47247,     0.47347,     0.47447,     0.47548,     0.47648,     0.47748,     0.47848,     0.47948,\n",
       "           0.48048,     0.48148,     0.48248,     0.48348,     0.48448,     0.48549,     0.48649,     0.48749,     0.48849,     0.48949,     0.49049,     0.49149,     0.49249,     0.49349,     0.49449,      0.4955,      0.4965,      0.4975,      0.4985,      0.4995,      0.5005,      0.5015,      0.5025,      0.5035,\n",
       "            0.5045,     0.50551,     0.50651,     0.50751,     0.50851,     0.50951,     0.51051,     0.51151,     0.51251,     0.51351,     0.51451,     0.51552,     0.51652,     0.51752,     0.51852,     0.51952,     0.52052,     0.52152,     0.52252,     0.52352,     0.52452,     0.52553,     0.52653,     0.52753,\n",
       "           0.52853,     0.52953,     0.53053,     0.53153,     0.53253,     0.53353,     0.53453,     0.53554,     0.53654,     0.53754,     0.53854,     0.53954,     0.54054,     0.54154,     0.54254,     0.54354,     0.54454,     0.54555,     0.54655,     0.54755,     0.54855,     0.54955,     0.55055,     0.55155,\n",
       "           0.55255,     0.55355,     0.55455,     0.55556,     0.55656,     0.55756,     0.55856,     0.55956,     0.56056,     0.56156,     0.56256,     0.56356,     0.56456,     0.56557,     0.56657,     0.56757,     0.56857,     0.56957,     0.57057,     0.57157,     0.57257,     0.57357,     0.57457,     0.57558,\n",
       "           0.57658,     0.57758,     0.57858,     0.57958,     0.58058,     0.58158,     0.58258,     0.58358,     0.58458,     0.58559,     0.58659,     0.58759,     0.58859,     0.58959,     0.59059,     0.59159,     0.59259,     0.59359,     0.59459,      0.5956,      0.5966,      0.5976,      0.5986,      0.5996,\n",
       "            0.6006,      0.6016,      0.6026,      0.6036,      0.6046,     0.60561,     0.60661,     0.60761,     0.60861,     0.60961,     0.61061,     0.61161,     0.61261,     0.61361,     0.61461,     0.61562,     0.61662,     0.61762,     0.61862,     0.61962,     0.62062,     0.62162,     0.62262,     0.62362,\n",
       "           0.62462,     0.62563,     0.62663,     0.62763,     0.62863,     0.62963,     0.63063,     0.63163,     0.63263,     0.63363,     0.63463,     0.63564,     0.63664,     0.63764,     0.63864,     0.63964,     0.64064,     0.64164,     0.64264,     0.64364,     0.64464,     0.64565,     0.64665,     0.64765,\n",
       "           0.64865,     0.64965,     0.65065,     0.65165,     0.65265,     0.65365,     0.65465,     0.65566,     0.65666,     0.65766,     0.65866,     0.65966,     0.66066,     0.66166,     0.66266,     0.66366,     0.66466,     0.66567,     0.66667,     0.66767,     0.66867,     0.66967,     0.67067,     0.67167,\n",
       "           0.67267,     0.67367,     0.67467,     0.67568,     0.67668,     0.67768,     0.67868,     0.67968,     0.68068,     0.68168,     0.68268,     0.68368,     0.68468,     0.68569,     0.68669,     0.68769,     0.68869,     0.68969,     0.69069,     0.69169,     0.69269,     0.69369,     0.69469,      0.6957,\n",
       "            0.6967,      0.6977,      0.6987,      0.6997,      0.7007,      0.7017,      0.7027,      0.7037,      0.7047,     0.70571,     0.70671,     0.70771,     0.70871,     0.70971,     0.71071,     0.71171,     0.71271,     0.71371,     0.71471,     0.71572,     0.71672,     0.71772,     0.71872,     0.71972,\n",
       "           0.72072,     0.72172,     0.72272,     0.72372,     0.72472,     0.72573,     0.72673,     0.72773,     0.72873,     0.72973,     0.73073,     0.73173,     0.73273,     0.73373,     0.73473,     0.73574,     0.73674,     0.73774,     0.73874,     0.73974,     0.74074,     0.74174,     0.74274,     0.74374,\n",
       "           0.74474,     0.74575,     0.74675,     0.74775,     0.74875,     0.74975,     0.75075,     0.75175,     0.75275,     0.75375,     0.75475,     0.75576,     0.75676,     0.75776,     0.75876,     0.75976,     0.76076,     0.76176,     0.76276,     0.76376,     0.76476,     0.76577,     0.76677,     0.76777,\n",
       "           0.76877,     0.76977,     0.77077,     0.77177,     0.77277,     0.77377,     0.77477,     0.77578,     0.77678,     0.77778,     0.77878,     0.77978,     0.78078,     0.78178,     0.78278,     0.78378,     0.78478,     0.78579,     0.78679,     0.78779,     0.78879,     0.78979,     0.79079,     0.79179,\n",
       "           0.79279,     0.79379,     0.79479,      0.7958,      0.7968,      0.7978,      0.7988,      0.7998,      0.8008,      0.8018,      0.8028,      0.8038,      0.8048,     0.80581,     0.80681,     0.80781,     0.80881,     0.80981,     0.81081,     0.81181,     0.81281,     0.81381,     0.81481,     0.81582,\n",
       "           0.81682,     0.81782,     0.81882,     0.81982,     0.82082,     0.82182,     0.82282,     0.82382,     0.82482,     0.82583,     0.82683,     0.82783,     0.82883,     0.82983,     0.83083,     0.83183,     0.83283,     0.83383,     0.83483,     0.83584,     0.83684,     0.83784,     0.83884,     0.83984,\n",
       "           0.84084,     0.84184,     0.84284,     0.84384,     0.84484,     0.84585,     0.84685,     0.84785,     0.84885,     0.84985,     0.85085,     0.85185,     0.85285,     0.85385,     0.85485,     0.85586,     0.85686,     0.85786,     0.85886,     0.85986,     0.86086,     0.86186,     0.86286,     0.86386,\n",
       "           0.86486,     0.86587,     0.86687,     0.86787,     0.86887,     0.86987,     0.87087,     0.87187,     0.87287,     0.87387,     0.87487,     0.87588,     0.87688,     0.87788,     0.87888,     0.87988,     0.88088,     0.88188,     0.88288,     0.88388,     0.88488,     0.88589,     0.88689,     0.88789,\n",
       "           0.88889,     0.88989,     0.89089,     0.89189,     0.89289,     0.89389,     0.89489,      0.8959,      0.8969,      0.8979,      0.8989,      0.8999,      0.9009,      0.9019,      0.9029,      0.9039,      0.9049,     0.90591,     0.90691,     0.90791,     0.90891,     0.90991,     0.91091,     0.91191,\n",
       "           0.91291,     0.91391,     0.91491,     0.91592,     0.91692,     0.91792,     0.91892,     0.91992,     0.92092,     0.92192,     0.92292,     0.92392,     0.92492,     0.92593,     0.92693,     0.92793,     0.92893,     0.92993,     0.93093,     0.93193,     0.93293,     0.93393,     0.93493,     0.93594,\n",
       "           0.93694,     0.93794,     0.93894,     0.93994,     0.94094,     0.94194,     0.94294,     0.94394,     0.94494,     0.94595,     0.94695,     0.94795,     0.94895,     0.94995,     0.95095,     0.95195,     0.95295,     0.95395,     0.95495,     0.95596,     0.95696,     0.95796,     0.95896,     0.95996,\n",
       "           0.96096,     0.96196,     0.96296,     0.96396,     0.96496,     0.96597,     0.96697,     0.96797,     0.96897,     0.96997,     0.97097,     0.97197,     0.97297,     0.97397,     0.97497,     0.97598,     0.97698,     0.97798,     0.97898,     0.97998,     0.98098,     0.98198,     0.98298,     0.98398,\n",
       "           0.98498,     0.98599,     0.98699,     0.98799,     0.98899,     0.98999,     0.99099,     0.99199,     0.99299,     0.99399,     0.99499,       0.996,       0.997,       0.998,       0.999,           1]), array([[    0.05967,     0.05967,    0.088414,     0.11542,     0.13855,     0.15763,     0.17483,     0.19067,     0.20598,     0.21852,     0.22955,     0.24091,     0.25142,     0.26186,     0.27182,     0.28196,     0.29112,     0.29892,     0.30704,     0.31563,     0.32329,     0.33047,     0.33782,\n",
       "            0.34511,     0.35168,     0.35826,     0.36427,     0.36844,     0.37491,     0.38087,      0.3858,     0.39061,     0.39517,     0.40099,     0.40523,     0.40796,     0.41274,     0.41598,     0.41943,     0.42332,     0.42838,     0.43209,     0.43617,     0.44187,     0.44577,     0.44968,\n",
       "             0.4543,     0.45785,     0.46215,     0.46736,     0.47138,     0.47416,     0.47799,     0.48006,     0.48352,     0.48594,     0.48792,     0.49038,     0.49222,     0.49407,     0.49786,     0.50072,     0.50284,     0.50582,     0.50967,     0.51209,      0.5149,     0.51845,     0.52079,\n",
       "            0.52321,     0.52537,     0.52666,     0.52831,     0.53108,     0.53388,     0.53512,     0.53671,     0.53954,     0.54202,     0.54467,     0.54569,     0.54898,     0.55158,     0.55391,     0.55453,     0.55614,     0.55674,     0.56076,     0.56371,      0.5649,      0.5688,     0.56997,\n",
       "            0.57147,     0.57465,     0.57741,     0.57907,     0.58089,     0.58218,     0.58455,     0.58578,     0.58697,     0.58758,     0.58875,     0.59064,     0.59196,     0.59382,     0.59522,     0.59684,     0.59742,     0.59906,     0.60133,     0.60356,     0.60523,     0.60741,     0.61034,\n",
       "            0.61175,     0.61322,     0.61453,     0.61538,     0.61697,     0.61921,     0.62009,     0.62108,     0.62275,     0.62349,     0.62559,     0.62744,     0.63021,     0.63215,     0.63279,     0.63406,     0.63519,     0.63539,     0.63724,     0.63946,     0.64104,     0.64136,     0.64265,\n",
       "            0.64349,     0.64421,      0.6448,      0.6469,     0.64824,     0.64986,     0.65076,     0.65226,     0.65553,     0.65626,     0.65722,     0.65873,     0.66023,     0.66045,     0.66104,     0.66254,     0.66431,     0.66502,     0.66591,     0.66669,     0.66836,     0.66887,     0.67005,\n",
       "            0.67113,     0.67208,     0.67358,     0.67371,     0.67436,     0.67513,     0.67669,     0.67765,      0.6787,     0.68075,     0.68074,     0.68235,      0.6829,     0.68417,     0.68481,     0.68624,     0.68642,     0.68682,     0.68775,     0.68898,     0.69051,     0.69248,      0.6934,\n",
       "            0.69368,     0.69461,     0.69534,     0.69583,     0.69675,     0.69804,     0.69942,         0.7,     0.70204,     0.70283,     0.70413,     0.70456,     0.70555,     0.70565,     0.70761,     0.70797,     0.70857,     0.70865,     0.70998,     0.71094,     0.71191,       0.714,     0.71461,\n",
       "            0.71572,     0.71678,     0.71704,     0.71718,       0.718,     0.71879,     0.71935,     0.72018,     0.72113,     0.72192,     0.72239,     0.72485,     0.72542,     0.72607,     0.72668,     0.72797,     0.72854,     0.72978,     0.73002,     0.73205,     0.73264,     0.73364,     0.73368,\n",
       "            0.73514,     0.73525,      0.7362,     0.73701,     0.73825,     0.73858,     0.73995,      0.7412,     0.74168,     0.74271,     0.74347,     0.74365,      0.7449,     0.74547,     0.74603,     0.74604,     0.74631,     0.74745,     0.74874,     0.74981,     0.74972,     0.74997,     0.74988,\n",
       "            0.75009,     0.75048,     0.75101,     0.75216,     0.75245,      0.7528,     0.75449,     0.75469,     0.75783,     0.75769,     0.75775,     0.75788,     0.75856,     0.75955,     0.76058,     0.76115,     0.76149,     0.76209,     0.76418,     0.76465,     0.76527,     0.76615,     0.76674,\n",
       "            0.76718,     0.76801,     0.76827,     0.76978,     0.77027,     0.77053,     0.77083,     0.77111,     0.77173,     0.77248,     0.77347,     0.77403,     0.77476,      0.7756,     0.77699,     0.77749,     0.77812,      0.7791,     0.77954,     0.77981,      0.7807,     0.78134,     0.78112,\n",
       "            0.78189,     0.78332,     0.78441,      0.7845,     0.78607,     0.78741,     0.78748,      0.7876,     0.78904,       0.791,     0.79194,     0.79222,     0.79231,     0.79226,     0.79375,     0.79562,     0.79535,     0.79647,     0.79709,     0.79761,     0.80012,     0.80046,     0.80034,\n",
       "            0.80026,     0.80019,     0.80068,     0.80117,     0.80146,     0.80192,     0.80237,     0.80301,     0.80417,     0.80447,     0.80489,     0.80638,     0.80728,     0.80812,     0.80838,     0.80941,     0.80997,     0.81047,     0.81141,     0.81172,      0.8126,      0.8125,     0.81356,\n",
       "            0.81453,     0.81505,     0.81567,     0.81572,     0.81599,     0.81765,     0.81755,     0.81799,     0.81844,     0.81855,     0.81876,     0.81874,     0.81871,     0.81868,     0.81866,     0.82122,     0.82107,     0.82095,      0.8207,     0.82056,     0.82086,     0.82117,     0.82239,\n",
       "            0.82294,      0.8229,     0.82338,     0.82369,     0.82475,     0.82538,     0.82712,     0.82768,     0.82825,     0.82883,     0.82932,     0.82986,      0.8302,     0.83013,      0.8305,     0.83094,     0.83219,      0.8338,     0.83413,     0.83416,     0.83382,      0.8342,      0.8347,\n",
       "            0.83526,     0.83549,     0.83543,     0.83707,     0.83824,     0.83855,     0.83844,     0.83864,     0.83912,     0.83981,     0.84104,     0.84165,     0.84248,     0.84308,     0.84296,     0.84343,     0.84578,     0.84624,     0.84671,     0.84701,      0.8474,     0.84782,     0.84779,\n",
       "            0.84776,     0.84773,     0.84807,     0.84801,     0.84831,     0.84845,     0.84839,     0.84885,     0.85066,      0.8518,     0.85211,     0.85347,     0.85336,     0.85318,     0.85366,     0.85361,     0.85466,     0.85455,     0.85467,     0.85546,     0.85623,     0.85695,     0.85707,\n",
       "            0.85676,     0.85666,      0.8577,     0.85845,      0.8584,      0.8581,     0.85862,     0.85914,     0.85956,     0.86065,     0.86051,       0.861,     0.86165,     0.86327,     0.86321,     0.86384,     0.86438,     0.86475,     0.86511,     0.86544,     0.86615,      0.8661,     0.86667,\n",
       "            0.86657,     0.86686,     0.86753,      0.8684,      0.8696,     0.87006,     0.87061,     0.87159,     0.87209,     0.87321,     0.87322,     0.87372,     0.87369,     0.87349,     0.87343,     0.87338,     0.87368,     0.87402,     0.87526,     0.87519,     0.87586,     0.87634,     0.87615,\n",
       "             0.8774,     0.87739,     0.87856,     0.87915,     0.87913,     0.87948,     0.87964,     0.87945,     0.87916,        0.88,     0.88044,     0.88062,     0.88105,     0.88102,     0.88099,     0.88222,     0.88282,     0.88303,     0.88323,     0.88338,     0.88374,      0.8835,     0.88347,\n",
       "            0.88344,     0.88406,     0.88461,     0.88457,     0.88571,     0.88714,     0.88787,     0.88792,     0.88787,     0.88783,     0.88836,     0.88902,     0.88976,     0.88961,     0.89115,      0.8919,     0.89251,     0.89246,      0.8925,     0.89314,      0.8931,      0.8936,     0.89425,\n",
       "            0.89421,     0.89437,     0.89488,      0.8948,     0.89471,     0.89462,     0.89485,     0.89527,     0.89545,     0.89566,     0.89559,     0.89554,     0.89548,     0.89607,     0.89602,     0.89704,     0.89719,     0.89701,      0.8975,     0.89768,     0.89826,     0.89881,     0.89875,\n",
       "            0.90003,      0.9001,     0.90001,     0.90069,     0.90138,     0.90199,     0.90223,     0.90294,     0.90345,     0.90385,     0.90617,     0.90613,     0.90685,     0.90655,     0.90651,     0.90628,     0.90607,     0.90604,     0.90601,     0.90663,      0.9072,     0.90727,     0.90779,\n",
       "            0.90782,     0.90849,     0.90845,     0.90855,     0.90882,     0.90902,     0.90981,     0.90976,     0.90969,     0.90944,     0.90985,     0.91001,     0.90993,      0.9104,     0.91139,     0.91205,     0.91189,     0.91181,     0.91164,     0.91317,     0.91313,     0.91309,     0.91306,\n",
       "            0.91285,     0.91277,     0.91261,     0.91377,     0.91395,     0.91471,     0.91463,     0.91439,     0.91492,     0.91465,     0.91461,     0.91449,     0.91445,     0.91424,     0.91413,     0.91469,     0.91452,     0.91444,     0.91511,     0.91518,     0.91502,     0.91493,     0.91529,\n",
       "            0.91564,     0.91554,     0.91626,     0.91609,     0.91685,     0.91733,     0.91896,     0.91897,     0.91893,     0.91951,     0.91912,     0.91876,     0.91836,     0.92021,     0.92067,     0.92077,     0.92072,     0.92048,     0.92036,     0.92208,     0.92186,     0.92234,     0.92275,\n",
       "            0.92349,     0.92334,     0.92411,     0.92466,     0.92489,     0.92455,     0.92534,     0.92518,     0.92701,     0.92645,     0.92828,     0.92798,     0.92783,      0.9276,     0.92775,     0.92921,     0.92916,     0.92913,     0.92902,     0.92993,     0.92991,     0.92988,     0.92976,\n",
       "            0.92959,     0.93043,     0.93028,     0.93101,     0.93094,     0.93086,     0.93061,     0.93218,     0.93407,     0.93597,     0.93567,     0.93538,     0.93628,     0.93708,     0.93693,     0.94004,     0.93996,     0.93959,     0.93952,     0.93945,     0.94001,     0.93987,     0.94073,\n",
       "            0.94147,     0.94153,     0.94146,     0.94169,      0.9435,     0.94452,     0.94544,     0.94526,     0.94614,     0.94654,     0.95042,     0.95036,     0.95032,     0.95004,     0.95001,     0.95312,     0.95409,     0.95405,     0.95435,     0.95496,     0.95606,     0.95585,     0.95581,\n",
       "            0.95562,     0.95559,     0.95671,     0.95896,     0.95892,     0.95873,     0.95973,      0.9597,     0.96077,     0.96063,     0.96059,      0.9603,     0.96148,     0.96145,     0.96136,     0.96086,     0.96083,     0.96184,     0.96181,     0.96294,     0.96449,      0.9654,     0.96535,\n",
       "            0.96507,     0.96504,     0.96581,     0.96721,       0.967,     0.96697,     0.96665,     0.96663,     0.96626,      0.9675,     0.96747,     0.96778,     0.96841,     0.96838,     0.96801,     0.96788,     0.96785,     0.97198,     0.97178,     0.97175,     0.97143,     0.97099,     0.97072,\n",
       "            0.97068,      0.9706,     0.97047,      0.9701,     0.97006,     0.97136,     0.97113,      0.9711,     0.97097,     0.97226,     0.97192,     0.97189,     0.97175,     0.97142,     0.97138,     0.97077,     0.97047,     0.97043,     0.97197,     0.97156,     0.97125,     0.97059,      0.9705,\n",
       "            0.97023,     0.96992,     0.96945,      0.9694,     0.97294,     0.97266,     0.97215,     0.97211,     0.97794,     0.98196,      0.9816,     0.98157,      0.9814,     0.98119,     0.98084,       0.983,     0.98297,     0.98264,     0.98483,      0.9844,     0.98412,     0.98356,     0.98353,\n",
       "            0.98316,     0.98284,     0.98239,     0.98175,     0.98172,     0.98091,      0.9821,     0.98661,     0.98624,     0.98595,     0.98592,     0.98556,     0.98493,     0.98459,     0.98428,     0.98365,     0.98354,     0.98319,     0.98245,      0.9824,     0.98225,     0.98116,     0.98054,\n",
       "            0.97985,     0.98435,     0.98376,      0.9835,     0.98344,     0.98269,     0.98205,     0.98161,      0.9809,     0.98031,     0.97953,     0.97931,     0.97864,     0.97817,     0.97717,     0.97645,     0.97528,     0.97491,     0.97383,     0.97268,     0.96963,     0.96834,     0.96799,\n",
       "            0.96736,     0.96723,     0.96711,      0.9669,     0.96614,     0.96535,     0.96409,      0.9618,     0.97351,     0.97209,     0.97099,     0.96968,     0.96944,     0.96869,     0.96818,     0.96712,     0.96663,     0.96644,     0.96624,     0.96578,     0.96504,     0.96408,     0.96352,\n",
       "            0.96317,     0.96285,     0.96257,     0.96228,     0.96179,     0.96039,     0.95957,     0.95843,     0.97819,     0.97748,     0.97694,     0.97639,     0.97534,     0.98447,           1,           1,           1,           1,           1,           1,           1,           1,           1,\n",
       "                  1,           1,           1,           1,           1,           1,           1,           1,           1,           1,           1,           1,           1,           1,           1,           1,           1,           1,           1,           1,           1,           1,           1,\n",
       "                  1,           1,           1,           1,           1,           1,           1,           1,           1,           1,           1,           1,           1,           1,           1,           1,           1,           1,           1,           1,           1,           1,           1,\n",
       "                  1,           1,           1,           1,           1,           1,           1,           1,           1,           1,           1,           1,           1,           1,           1,           1,           1,           1,           1,           1,           1,           1,           1,\n",
       "                  1,           1,           1,           1,           1,           1,           1,           1,           1,           1,           1,           1,           1,           1,           1,           1,           1,           1,           1,           1,           1,           1,           1,\n",
       "                  1,           1,           1,           1,           1,           1,           1,           1,           1,           1,           1]]), 'Confidence', 'Precision'], [array([          0,    0.001001,    0.002002,    0.003003,    0.004004,    0.005005,    0.006006,    0.007007,    0.008008,    0.009009,     0.01001,    0.011011,    0.012012,    0.013013,    0.014014,    0.015015,    0.016016,    0.017017,    0.018018,    0.019019,     0.02002,    0.021021,    0.022022,    0.023023,\n",
       "          0.024024,    0.025025,    0.026026,    0.027027,    0.028028,    0.029029,     0.03003,    0.031031,    0.032032,    0.033033,    0.034034,    0.035035,    0.036036,    0.037037,    0.038038,    0.039039,     0.04004,    0.041041,    0.042042,    0.043043,    0.044044,    0.045045,    0.046046,    0.047047,\n",
       "          0.048048,    0.049049,     0.05005,    0.051051,    0.052052,    0.053053,    0.054054,    0.055055,    0.056056,    0.057057,    0.058058,    0.059059,     0.06006,    0.061061,    0.062062,    0.063063,    0.064064,    0.065065,    0.066066,    0.067067,    0.068068,    0.069069,     0.07007,    0.071071,\n",
       "          0.072072,    0.073073,    0.074074,    0.075075,    0.076076,    0.077077,    0.078078,    0.079079,     0.08008,    0.081081,    0.082082,    0.083083,    0.084084,    0.085085,    0.086086,    0.087087,    0.088088,    0.089089,     0.09009,    0.091091,    0.092092,    0.093093,    0.094094,    0.095095,\n",
       "          0.096096,    0.097097,    0.098098,    0.099099,      0.1001,      0.1011,      0.1021,      0.1031,      0.1041,     0.10511,     0.10611,     0.10711,     0.10811,     0.10911,     0.11011,     0.11111,     0.11211,     0.11311,     0.11411,     0.11512,     0.11612,     0.11712,     0.11812,     0.11912,\n",
       "           0.12012,     0.12112,     0.12212,     0.12312,     0.12412,     0.12513,     0.12613,     0.12713,     0.12813,     0.12913,     0.13013,     0.13113,     0.13213,     0.13313,     0.13413,     0.13514,     0.13614,     0.13714,     0.13814,     0.13914,     0.14014,     0.14114,     0.14214,     0.14314,\n",
       "           0.14414,     0.14515,     0.14615,     0.14715,     0.14815,     0.14915,     0.15015,     0.15115,     0.15215,     0.15315,     0.15415,     0.15516,     0.15616,     0.15716,     0.15816,     0.15916,     0.16016,     0.16116,     0.16216,     0.16316,     0.16416,     0.16517,     0.16617,     0.16717,\n",
       "           0.16817,     0.16917,     0.17017,     0.17117,     0.17217,     0.17317,     0.17417,     0.17518,     0.17618,     0.17718,     0.17818,     0.17918,     0.18018,     0.18118,     0.18218,     0.18318,     0.18418,     0.18519,     0.18619,     0.18719,     0.18819,     0.18919,     0.19019,     0.19119,\n",
       "           0.19219,     0.19319,     0.19419,      0.1952,      0.1962,      0.1972,      0.1982,      0.1992,      0.2002,      0.2012,      0.2022,      0.2032,      0.2042,     0.20521,     0.20621,     0.20721,     0.20821,     0.20921,     0.21021,     0.21121,     0.21221,     0.21321,     0.21421,     0.21522,\n",
       "           0.21622,     0.21722,     0.21822,     0.21922,     0.22022,     0.22122,     0.22222,     0.22322,     0.22422,     0.22523,     0.22623,     0.22723,     0.22823,     0.22923,     0.23023,     0.23123,     0.23223,     0.23323,     0.23423,     0.23524,     0.23624,     0.23724,     0.23824,     0.23924,\n",
       "           0.24024,     0.24124,     0.24224,     0.24324,     0.24424,     0.24525,     0.24625,     0.24725,     0.24825,     0.24925,     0.25025,     0.25125,     0.25225,     0.25325,     0.25425,     0.25526,     0.25626,     0.25726,     0.25826,     0.25926,     0.26026,     0.26126,     0.26226,     0.26326,\n",
       "           0.26426,     0.26527,     0.26627,     0.26727,     0.26827,     0.26927,     0.27027,     0.27127,     0.27227,     0.27327,     0.27427,     0.27528,     0.27628,     0.27728,     0.27828,     0.27928,     0.28028,     0.28128,     0.28228,     0.28328,     0.28428,     0.28529,     0.28629,     0.28729,\n",
       "           0.28829,     0.28929,     0.29029,     0.29129,     0.29229,     0.29329,     0.29429,      0.2953,      0.2963,      0.2973,      0.2983,      0.2993,      0.3003,      0.3013,      0.3023,      0.3033,      0.3043,     0.30531,     0.30631,     0.30731,     0.30831,     0.30931,     0.31031,     0.31131,\n",
       "           0.31231,     0.31331,     0.31431,     0.31532,     0.31632,     0.31732,     0.31832,     0.31932,     0.32032,     0.32132,     0.32232,     0.32332,     0.32432,     0.32533,     0.32633,     0.32733,     0.32833,     0.32933,     0.33033,     0.33133,     0.33233,     0.33333,     0.33433,     0.33534,\n",
       "           0.33634,     0.33734,     0.33834,     0.33934,     0.34034,     0.34134,     0.34234,     0.34334,     0.34434,     0.34535,     0.34635,     0.34735,     0.34835,     0.34935,     0.35035,     0.35135,     0.35235,     0.35335,     0.35435,     0.35536,     0.35636,     0.35736,     0.35836,     0.35936,\n",
       "           0.36036,     0.36136,     0.36236,     0.36336,     0.36436,     0.36537,     0.36637,     0.36737,     0.36837,     0.36937,     0.37037,     0.37137,     0.37237,     0.37337,     0.37437,     0.37538,     0.37638,     0.37738,     0.37838,     0.37938,     0.38038,     0.38138,     0.38238,     0.38338,\n",
       "           0.38438,     0.38539,     0.38639,     0.38739,     0.38839,     0.38939,     0.39039,     0.39139,     0.39239,     0.39339,     0.39439,      0.3954,      0.3964,      0.3974,      0.3984,      0.3994,      0.4004,      0.4014,      0.4024,      0.4034,      0.4044,     0.40541,     0.40641,     0.40741,\n",
       "           0.40841,     0.40941,     0.41041,     0.41141,     0.41241,     0.41341,     0.41441,     0.41542,     0.41642,     0.41742,     0.41842,     0.41942,     0.42042,     0.42142,     0.42242,     0.42342,     0.42442,     0.42543,     0.42643,     0.42743,     0.42843,     0.42943,     0.43043,     0.43143,\n",
       "           0.43243,     0.43343,     0.43443,     0.43544,     0.43644,     0.43744,     0.43844,     0.43944,     0.44044,     0.44144,     0.44244,     0.44344,     0.44444,     0.44545,     0.44645,     0.44745,     0.44845,     0.44945,     0.45045,     0.45145,     0.45245,     0.45345,     0.45445,     0.45546,\n",
       "           0.45646,     0.45746,     0.45846,     0.45946,     0.46046,     0.46146,     0.46246,     0.46346,     0.46446,     0.46547,     0.46647,     0.46747,     0.46847,     0.46947,     0.47047,     0.47147,     0.47247,     0.47347,     0.47447,     0.47548,     0.47648,     0.47748,     0.47848,     0.47948,\n",
       "           0.48048,     0.48148,     0.48248,     0.48348,     0.48448,     0.48549,     0.48649,     0.48749,     0.48849,     0.48949,     0.49049,     0.49149,     0.49249,     0.49349,     0.49449,      0.4955,      0.4965,      0.4975,      0.4985,      0.4995,      0.5005,      0.5015,      0.5025,      0.5035,\n",
       "            0.5045,     0.50551,     0.50651,     0.50751,     0.50851,     0.50951,     0.51051,     0.51151,     0.51251,     0.51351,     0.51451,     0.51552,     0.51652,     0.51752,     0.51852,     0.51952,     0.52052,     0.52152,     0.52252,     0.52352,     0.52452,     0.52553,     0.52653,     0.52753,\n",
       "           0.52853,     0.52953,     0.53053,     0.53153,     0.53253,     0.53353,     0.53453,     0.53554,     0.53654,     0.53754,     0.53854,     0.53954,     0.54054,     0.54154,     0.54254,     0.54354,     0.54454,     0.54555,     0.54655,     0.54755,     0.54855,     0.54955,     0.55055,     0.55155,\n",
       "           0.55255,     0.55355,     0.55455,     0.55556,     0.55656,     0.55756,     0.55856,     0.55956,     0.56056,     0.56156,     0.56256,     0.56356,     0.56456,     0.56557,     0.56657,     0.56757,     0.56857,     0.56957,     0.57057,     0.57157,     0.57257,     0.57357,     0.57457,     0.57558,\n",
       "           0.57658,     0.57758,     0.57858,     0.57958,     0.58058,     0.58158,     0.58258,     0.58358,     0.58458,     0.58559,     0.58659,     0.58759,     0.58859,     0.58959,     0.59059,     0.59159,     0.59259,     0.59359,     0.59459,      0.5956,      0.5966,      0.5976,      0.5986,      0.5996,\n",
       "            0.6006,      0.6016,      0.6026,      0.6036,      0.6046,     0.60561,     0.60661,     0.60761,     0.60861,     0.60961,     0.61061,     0.61161,     0.61261,     0.61361,     0.61461,     0.61562,     0.61662,     0.61762,     0.61862,     0.61962,     0.62062,     0.62162,     0.62262,     0.62362,\n",
       "           0.62462,     0.62563,     0.62663,     0.62763,     0.62863,     0.62963,     0.63063,     0.63163,     0.63263,     0.63363,     0.63463,     0.63564,     0.63664,     0.63764,     0.63864,     0.63964,     0.64064,     0.64164,     0.64264,     0.64364,     0.64464,     0.64565,     0.64665,     0.64765,\n",
       "           0.64865,     0.64965,     0.65065,     0.65165,     0.65265,     0.65365,     0.65465,     0.65566,     0.65666,     0.65766,     0.65866,     0.65966,     0.66066,     0.66166,     0.66266,     0.66366,     0.66466,     0.66567,     0.66667,     0.66767,     0.66867,     0.66967,     0.67067,     0.67167,\n",
       "           0.67267,     0.67367,     0.67467,     0.67568,     0.67668,     0.67768,     0.67868,     0.67968,     0.68068,     0.68168,     0.68268,     0.68368,     0.68468,     0.68569,     0.68669,     0.68769,     0.68869,     0.68969,     0.69069,     0.69169,     0.69269,     0.69369,     0.69469,      0.6957,\n",
       "            0.6967,      0.6977,      0.6987,      0.6997,      0.7007,      0.7017,      0.7027,      0.7037,      0.7047,     0.70571,     0.70671,     0.70771,     0.70871,     0.70971,     0.71071,     0.71171,     0.71271,     0.71371,     0.71471,     0.71572,     0.71672,     0.71772,     0.71872,     0.71972,\n",
       "           0.72072,     0.72172,     0.72272,     0.72372,     0.72472,     0.72573,     0.72673,     0.72773,     0.72873,     0.72973,     0.73073,     0.73173,     0.73273,     0.73373,     0.73473,     0.73574,     0.73674,     0.73774,     0.73874,     0.73974,     0.74074,     0.74174,     0.74274,     0.74374,\n",
       "           0.74474,     0.74575,     0.74675,     0.74775,     0.74875,     0.74975,     0.75075,     0.75175,     0.75275,     0.75375,     0.75475,     0.75576,     0.75676,     0.75776,     0.75876,     0.75976,     0.76076,     0.76176,     0.76276,     0.76376,     0.76476,     0.76577,     0.76677,     0.76777,\n",
       "           0.76877,     0.76977,     0.77077,     0.77177,     0.77277,     0.77377,     0.77477,     0.77578,     0.77678,     0.77778,     0.77878,     0.77978,     0.78078,     0.78178,     0.78278,     0.78378,     0.78478,     0.78579,     0.78679,     0.78779,     0.78879,     0.78979,     0.79079,     0.79179,\n",
       "           0.79279,     0.79379,     0.79479,      0.7958,      0.7968,      0.7978,      0.7988,      0.7998,      0.8008,      0.8018,      0.8028,      0.8038,      0.8048,     0.80581,     0.80681,     0.80781,     0.80881,     0.80981,     0.81081,     0.81181,     0.81281,     0.81381,     0.81481,     0.81582,\n",
       "           0.81682,     0.81782,     0.81882,     0.81982,     0.82082,     0.82182,     0.82282,     0.82382,     0.82482,     0.82583,     0.82683,     0.82783,     0.82883,     0.82983,     0.83083,     0.83183,     0.83283,     0.83383,     0.83483,     0.83584,     0.83684,     0.83784,     0.83884,     0.83984,\n",
       "           0.84084,     0.84184,     0.84284,     0.84384,     0.84484,     0.84585,     0.84685,     0.84785,     0.84885,     0.84985,     0.85085,     0.85185,     0.85285,     0.85385,     0.85485,     0.85586,     0.85686,     0.85786,     0.85886,     0.85986,     0.86086,     0.86186,     0.86286,     0.86386,\n",
       "           0.86486,     0.86587,     0.86687,     0.86787,     0.86887,     0.86987,     0.87087,     0.87187,     0.87287,     0.87387,     0.87487,     0.87588,     0.87688,     0.87788,     0.87888,     0.87988,     0.88088,     0.88188,     0.88288,     0.88388,     0.88488,     0.88589,     0.88689,     0.88789,\n",
       "           0.88889,     0.88989,     0.89089,     0.89189,     0.89289,     0.89389,     0.89489,      0.8959,      0.8969,      0.8979,      0.8989,      0.8999,      0.9009,      0.9019,      0.9029,      0.9039,      0.9049,     0.90591,     0.90691,     0.90791,     0.90891,     0.90991,     0.91091,     0.91191,\n",
       "           0.91291,     0.91391,     0.91491,     0.91592,     0.91692,     0.91792,     0.91892,     0.91992,     0.92092,     0.92192,     0.92292,     0.92392,     0.92492,     0.92593,     0.92693,     0.92793,     0.92893,     0.92993,     0.93093,     0.93193,     0.93293,     0.93393,     0.93493,     0.93594,\n",
       "           0.93694,     0.93794,     0.93894,     0.93994,     0.94094,     0.94194,     0.94294,     0.94394,     0.94494,     0.94595,     0.94695,     0.94795,     0.94895,     0.94995,     0.95095,     0.95195,     0.95295,     0.95395,     0.95495,     0.95596,     0.95696,     0.95796,     0.95896,     0.95996,\n",
       "           0.96096,     0.96196,     0.96296,     0.96396,     0.96496,     0.96597,     0.96697,     0.96797,     0.96897,     0.96997,     0.97097,     0.97197,     0.97297,     0.97397,     0.97497,     0.97598,     0.97698,     0.97798,     0.97898,     0.97998,     0.98098,     0.98198,     0.98298,     0.98398,\n",
       "           0.98498,     0.98599,     0.98699,     0.98799,     0.98899,     0.98999,     0.99099,     0.99199,     0.99299,     0.99399,     0.99499,       0.996,       0.997,       0.998,       0.999,           1]), array([[     0.8139,      0.8139,      0.8041,     0.79524,     0.78965,     0.78591,     0.78078,     0.77799,     0.77472,     0.77239,     0.76959,     0.76819,     0.76446,     0.76399,     0.76119,     0.76026,     0.75606,      0.7542,     0.75187,     0.75093,     0.75047,     0.74907,     0.74674,\n",
       "            0.74674,      0.7444,     0.74347,     0.74207,     0.73974,     0.73787,     0.73601,     0.73601,     0.73601,     0.73507,     0.73368,     0.73181,     0.73134,     0.73088,     0.72994,     0.72948,     0.72901,     0.72761,     0.72761,     0.72715,     0.72668,     0.72621,     0.72567,\n",
       "            0.72295,     0.72248,     0.72155,     0.72108,     0.72015,     0.71968,     0.71875,     0.71735,     0.71642,     0.71502,     0.71455,     0.71409,     0.71315,     0.71222,     0.71222,     0.71175,     0.71091,     0.71082,     0.71035,     0.70896,     0.70709,     0.70709,     0.70709,\n",
       "            0.70616,     0.70522,     0.70522,     0.70476,     0.70382,     0.70336,      0.7028,     0.70196,     0.70149,     0.70103,     0.70103,     0.69916,     0.69916,     0.69823,     0.69671,     0.69556,     0.69543,     0.69403,     0.69403,     0.69263,     0.69216,     0.69216,      0.6917,\n",
       "             0.6903,     0.68983,     0.68983,      0.6875,     0.68703,      0.6863,     0.68515,      0.6847,     0.68338,     0.68237,     0.68144,     0.68144,     0.68144,     0.68097,      0.6805,     0.68004,     0.67969,     0.67817,     0.67817,     0.67771,     0.67771,     0.67771,     0.67771,\n",
       "            0.67771,     0.67737,     0.67677,     0.67631,     0.67631,     0.67631,     0.67631,     0.67584,     0.67537,     0.67444,     0.67444,     0.67444,     0.67406,     0.67397,     0.67397,     0.67319,     0.67257,     0.67211,     0.67118,     0.67089,     0.67071,     0.67024,     0.67019,\n",
       "            0.66978,     0.66931,     0.66931,     0.66931,     0.66884,     0.66838,     0.66838,     0.66838,     0.66835,     0.66786,     0.66698,     0.66604,     0.66604,      0.6659,     0.66558,     0.66558,     0.66548,     0.66465,     0.66465,     0.66418,     0.66371,     0.66233,     0.66231,\n",
       "            0.66185,     0.66091,     0.66026,     0.65968,     0.65951,     0.65905,     0.65905,     0.65905,     0.65858,     0.65839,     0.65738,     0.65718,     0.65718,     0.65718,     0.65625,     0.65485,     0.65444,     0.65361,     0.65299,     0.65196,     0.65159,     0.65159,     0.65065,\n",
       "            0.65065,      0.6503,     0.65019,     0.64972,     0.64972,     0.64908,     0.64879,     0.64879,     0.64785,     0.64739,     0.64739,     0.64692,     0.64597,     0.64552,     0.64453,     0.64366,     0.64366,     0.64319,     0.64319,     0.64226,     0.64226,      0.6416,     0.64132,\n",
       "            0.64086,     0.64086,     0.64059,     0.64039,     0.64009,     0.63993,     0.63959,     0.63946,     0.63946,     0.63934,     0.63853,     0.63853,     0.63853,      0.6379,     0.63759,     0.63619,     0.63619,     0.63573,     0.63479,     0.63433,     0.63433,     0.63335,      0.6322,\n",
       "            0.63176,     0.63153,     0.63013,     0.62966,     0.62966,     0.62966,     0.62966,     0.62916,     0.62806,     0.62742,     0.62723,     0.62687,      0.6264,      0.6264,      0.6264,     0.62593,     0.62568,     0.62547,       0.625,     0.62483,     0.62453,     0.62398,     0.62366,\n",
       "             0.6236,      0.6236,     0.62321,     0.62127,     0.62127,      0.6208,     0.62066,     0.62034,     0.62032,     0.61983,      0.6194,     0.61903,     0.61839,       0.618,       0.618,       0.618,     0.61754,     0.61754,      0.6166,     0.61614,     0.61587,     0.61521,     0.61326,\n",
       "            0.61241,     0.61241,     0.61241,     0.61133,     0.61101,     0.61101,     0.61101,     0.61054,     0.61026,     0.60968,     0.60961,     0.60961,     0.60868,     0.60775,     0.60774,     0.60728,     0.60728,     0.60728,     0.60681,     0.60681,     0.60681,     0.60681,      0.6059,\n",
       "            0.60527,     0.60448,     0.60415,     0.60308,     0.60308,     0.60291,     0.60144,     0.60075,     0.60028,     0.59981,     0.59981,     0.59981,     0.59965,     0.59935,     0.59935,     0.59918,     0.59818,     0.59748,     0.59748,     0.59748,     0.59701,     0.59685,     0.59641,\n",
       "            0.59613,     0.59586,     0.59562,     0.59562,     0.59562,     0.59562,     0.59515,     0.59515,     0.59375,     0.59375,     0.59375,     0.59328,     0.59235,     0.59235,     0.59235,     0.59188,     0.59188,     0.59142,     0.59142,     0.59142,     0.59095,     0.59002,     0.59002,\n",
       "            0.58994,     0.58909,     0.58909,     0.58769,     0.58769,     0.58768,     0.58722,     0.58675,      0.5866,     0.58629,     0.58578,     0.58567,     0.58557,     0.58546,     0.58536,     0.58488,     0.58429,     0.58381,     0.58281,     0.58227,     0.58133,     0.58116,     0.58116,\n",
       "            0.58099,     0.58082,     0.58057,     0.57962,     0.57882,     0.57882,     0.57882,     0.57882,     0.57882,     0.57836,     0.57791,     0.57789,     0.57695,     0.57603,     0.57588,      0.5754,     0.57509,     0.57509,     0.57509,     0.57477,     0.57336,     0.57323,     0.57229,\n",
       "            0.57228,     0.57087,     0.57043,     0.56996,      0.5695,     0.56931,     0.56883,     0.56856,      0.5681,      0.5681,      0.5681,     0.56772,      0.5667,      0.5667,     0.56582,     0.56534,     0.56483,     0.56473,      0.5639,      0.5639,      0.5639,     0.56386,     0.56373,\n",
       "            0.56361,     0.56348,     0.56235,     0.56211,     0.56157,      0.5614,     0.56116,      0.5611,      0.5611,     0.56017,     0.56017,     0.55964,     0.55916,     0.55784,     0.55779,     0.55755,     0.55678,      0.5563,     0.55597,     0.55488,     0.55457,     0.55457,      0.5538,\n",
       "            0.55239,     0.55191,     0.55177,     0.55159,     0.55136,     0.54999,     0.54952,     0.54944,     0.54809,     0.54757,     0.54667,     0.54618,     0.54618,     0.54477,     0.54453,     0.54431,     0.54384,     0.54384,     0.54384,     0.54384,     0.54328,     0.54304,     0.54268,\n",
       "            0.54221,     0.54198,     0.54198,      0.5417,     0.54123,     0.54028,      0.5398,     0.53918,     0.53745,     0.53731,     0.53649,     0.53638,     0.53554,     0.53459,     0.53431,     0.53407,     0.53405,     0.53405,     0.53358,     0.53312,     0.53311,     0.53217,     0.53122,\n",
       "            0.53074,     0.53032,     0.52979,     0.52931,     0.52892,     0.52892,     0.52834,      0.5274,     0.52599,     0.52565,      0.5255,     0.52519,     0.52513,     0.52497,     0.52481,     0.52404,     0.52356,     0.52285,     0.52214,     0.52192,     0.52192,     0.51996,      0.5198,\n",
       "            0.51964,     0.51927,     0.51849,     0.51825,     0.51772,     0.51772,     0.51772,     0.51733,     0.51706,     0.51682,      0.5159,     0.51586,     0.51586,     0.51493,     0.51166,     0.51166,     0.51118,     0.51094,     0.51073,      0.5107,     0.51046,     0.50924,     0.50881,\n",
       "            0.50857,      0.5084,     0.50826,     0.50778,      0.5073,     0.50683,     0.50653,     0.50634,      0.5056,     0.50445,     0.50408,     0.50384,     0.50348,     0.50267,     0.50243,      0.5014,     0.50063,     0.49969,     0.49953,      0.4992,     0.49826,     0.49813,     0.49683,\n",
       "            0.49627,     0.49588,      0.4954,     0.49492,     0.49487,     0.49364,       0.493,     0.49254,     0.49207,     0.49207,     0.49101,     0.49077,     0.49039,     0.48866,     0.48842,     0.48709,      0.4859,     0.48574,     0.48558,     0.48554,     0.48414,     0.48375,     0.48274,\n",
       "            0.48233,      0.4816,     0.48136,     0.48041,     0.48041,     0.47994,     0.47993,     0.47961,      0.4792,     0.47779,     0.47715,     0.47637,     0.47589,     0.47528,     0.47493,     0.47399,     0.47305,     0.47257,     0.47162,     0.47155,     0.47067,     0.47044,     0.47025,\n",
       "              0.469,     0.46852,     0.46758,     0.46688,     0.46569,     0.46521,     0.46473,     0.46332,     0.46144,     0.45984,      0.4596,      0.4589,     0.45866,     0.45742,     0.45522,     0.45507,     0.45412,     0.45364,     0.45336,     0.45292,     0.45198,      0.4515,     0.45103,\n",
       "            0.45054,     0.44963,     0.44912,     0.44812,     0.44746,     0.44683,      0.4459,     0.44433,     0.44409,     0.44227,     0.43993,     0.43782,     0.43548,      0.4347,      0.4347,     0.43364,     0.43332,     0.43192,     0.43121,      0.4305,      0.4291,      0.4291,     0.42902,\n",
       "            0.42788,     0.42694,       0.426,     0.42537,     0.42504,     0.42293,     0.42198,     0.42104,     0.42056,     0.41713,     0.41657,      0.4147,     0.41375,     0.41234,     0.41045,     0.41022,     0.40988,     0.40969,     0.40858,     0.40857,     0.40841,     0.40825,     0.40749,\n",
       "            0.40639,     0.40545,      0.4045,     0.40286,     0.40238,      0.4019,     0.40033,     0.39832,     0.39651,     0.39599,     0.39345,     0.39157,     0.39063,     0.38898,     0.38804,     0.38756,     0.38704,     0.38451,     0.38403,     0.38355,     0.38004,      0.3791,     0.37757,\n",
       "            0.37687,     0.37556,     0.37509,     0.37407,      0.3739,     0.37323,     0.37177,     0.37051,     0.36872,     0.36754,      0.3666,     0.36612,     0.36581,     0.36367,     0.36343,     0.36034,     0.35862,      0.3583,     0.35728,     0.35728,     0.35517,     0.35345,     0.35314,\n",
       "            0.35148,     0.35124,     0.35047,     0.34875,     0.34843,     0.34671,     0.34457,     0.34433,     0.34265,      0.3414,     0.34108,     0.33843,     0.33764,     0.33732,     0.33654,     0.33204,      0.3318,     0.32921,     0.32889,     0.32717,     0.32649,     0.32649,     0.32482,\n",
       "            0.32216,     0.32185,      0.3209,     0.31647,     0.31436,     0.31404,     0.31097,     0.31073,     0.30718,     0.30546,     0.30514,     0.30177,     0.30031,     0.29999,      0.2964,     0.29515,     0.29483,     0.29125,     0.28906,     0.28875,     0.28549,     0.28096,     0.27831,\n",
       "            0.27799,      0.2772,     0.27595,     0.27237,     0.27205,     0.26893,     0.26675,     0.26643,     0.26518,     0.26156,     0.25832,       0.258,     0.25675,     0.25363,     0.25331,     0.24786,     0.24521,     0.24489,     0.24256,     0.23897,     0.23632,     0.23086,     0.23016,\n",
       "            0.22801,     0.22556,     0.22198,     0.22166,     0.21797,     0.21574,     0.21169,     0.21137,     0.20673,     0.20311,     0.19906,     0.19874,     0.19689,     0.19468,     0.19104,     0.18876,     0.18844,     0.18486,     0.18166,      0.1766,     0.17347,     0.16741,      0.1671,\n",
       "            0.16341,     0.16024,     0.15616,     0.15058,     0.15027,     0.14376,     0.13993,     0.13744,      0.1337,     0.13095,     0.13063,     0.12737,     0.12191,     0.11918,     0.11684,     0.11224,     0.11145,     0.10911,     0.10445,     0.10413,     0.10324,    0.097169,       0.094,\n",
       "           0.090746,    0.088038,    0.084762,    0.083397,    0.083078,    0.079435,    0.076553,    0.074675,    0.071865,    0.069669,    0.066945,    0.066235,    0.064123,    0.062712,    0.059902,    0.058024,    0.055214,     0.05437,    0.052079,    0.049815,    0.044673,    0.042796,    0.042318,\n",
       "           0.041465,    0.041306,    0.041146,    0.040872,    0.039927,    0.038983,    0.037572,    0.035228,    0.034283,    0.032487,    0.031228,    0.029834,    0.029595,    0.028861,    0.028383,    0.027439,    0.027022,    0.026862,    0.026703,    0.026332,    0.025748,    0.025036,    0.024639,\n",
       "             0.0244,     0.02418,    0.023988,    0.023797,    0.023485,    0.022623,    0.022145,    0.020989,    0.020922,    0.020244,    0.019766,    0.019288,    0.018448,    0.017724,    0.017555,    0.017316,    0.016551,    0.016047,    0.015475,    0.015128,    0.014372,    0.014133,    0.013861,\n",
       "           0.013542,    0.013073,    0.012439,    0.012106,     0.01149,    0.011183,    0.011023,    0.010864,    0.010682,    0.010363,   0.0096104,   0.0091935,   0.0090023,   0.0086075,   0.0082467,   0.0080554,   0.0078885,    0.007769,   0.0076495,     0.00753,    0.007403,   0.0072664,   0.0071298,\n",
       "          0.0069939,   0.0068876,   0.0067814,   0.0066752,   0.0065689,   0.0064627,   0.0063564,   0.0062502,   0.0061439,    0.005576,    0.005489,   0.0054021,   0.0053152,   0.0052283,   0.0051413,   0.0050661,   0.0049926,    0.004919,   0.0048455,   0.0047719,   0.0046984,   0.0046215,   0.0045419,\n",
       "          0.0044622,   0.0043825,   0.0043028,   0.0042231,   0.0040891,   0.0039298,   0.0037704,   0.0036912,   0.0036381,    0.003585,   0.0035319,   0.0034788,   0.0034256,   0.0033725,   0.0033194,   0.0032663,   0.0031484,   0.0030289,   0.0029094,   0.0027294,   0.0022855,   0.0022058,   0.0021262,\n",
       "          0.0020465,   0.0019668,   0.0018871,    0.001822,   0.0017622,   0.0017025,   0.0016427,   0.0015829,   0.0015232,   0.0014634,   0.0014037,  0.00088625,  0.00078001,  0.00067377,  0.00056752,           0,           0,           0,           0,           0,           0,           0,           0,\n",
       "                  0,           0,           0,           0,           0,           0,           0,           0,           0,           0,           0]]), 'Confidence', 'Recall']]\n",
       "fitness: 0.41566976377346604\n",
       "keys: ['metrics/precision(B)', 'metrics/recall(B)', 'metrics/mAP50(B)', 'metrics/mAP50-95(B)']\n",
       "maps: array([    0.38688])\n",
       "names: {0: 'trash'}\n",
       "nt_per_class: array([2144])\n",
       "nt_per_image: array([491])\n",
       "results_dict: {'metrics/precision(B)': 0.7922600650041848, 'metrics/recall(B)': 0.5993470149253731, 'metrics/mAP50(B)': 0.6748021792733467, 'metrics/mAP50-95(B)': 0.3868772731623682, 'fitness': 0.41566976377346604}\n",
       "save_dir: PosixPath('runs/detect/train3')\n",
       "speed: {'preprocess': 0.14614638322434514, 'inference': 16.924172105790063, 'loss': 0.0013564730799332178, 'postprocess': 2.159115620745574}\n",
       "stats: {'tp': [], 'conf': [], 'pred_cls': [], 'target_cls': [], 'target_img': []}\n",
       "task: 'detect'"
      ]
     },
     "execution_count": 4,
     "metadata": {},
     "output_type": "execute_result"
    }
   ],
   "source": [
    "from ultralytics import YOLO\n",
    "\n",
    "modell = YOLO('yolo12l.pt')  # Load pretrained model (change if using a custom model)\n",
    "\n",
    "# Train the model\n",
    "modell.train(data=dataset.location + \"/data.yaml\", \n",
    "            epochs=100, imgsz=504, batch=8)"
   ]
  },
  {
   "cell_type": "code",
   "execution_count": 5,
   "id": "35c0590f",
   "metadata": {
    "execution": {
     "iopub.execute_input": "2025-07-25T19:30:29.955168Z",
     "iopub.status.busy": "2025-07-25T19:30:29.954420Z",
     "iopub.status.idle": "2025-07-25T19:30:43.397365Z",
     "shell.execute_reply": "2025-07-25T19:30:43.396300Z"
    },
    "papermill": {
     "duration": 16.376622,
     "end_time": "2025-07-25T19:30:43.398827",
     "exception": false,
     "start_time": "2025-07-25T19:30:27.022205",
     "status": "completed"
    },
    "tags": []
   },
   "outputs": [
    {
     "name": "stdout",
     "output_type": "stream",
     "text": [
      "Ultralytics 8.3.169 🚀 Python-3.11.13 torch-2.6.0+cu124 CUDA:0 (Tesla T4, 15095MiB)\n",
      "YOLOv12l summary (fused): 283 layers, 26,339,843 parameters, 0 gradients, 88.5 GFLOPs\n",
      "\u001b[34m\u001b[1mval: \u001b[0mFast image access ✅ (ping: 0.0±0.0 ms, read: 1652.0±723.4 MB/s, size: 94.3 KB)\n"
     ]
    },
    {
     "name": "stderr",
     "output_type": "stream",
     "text": [
      "\u001b[34m\u001b[1mval: \u001b[0mScanning /kaggle/working/Combined-Trash-2/test/labels.cache... 250 images, 1 backgrounds, 0 corrupt: 100%|██████████| 250/250 [00:00<?, ?it/s]\n",
      "                 Class     Images  Instances      Box(P          R      mAP50  mAP50-95): 100%|██████████| 32/32 [00:09<00:00,  3.23it/s]\n",
      "invalid value encountered in less\n",
      "invalid value encountered in less\n"
     ]
    },
    {
     "name": "stdout",
     "output_type": "stream",
     "text": [
      "                   all        250        989      0.844      0.644      0.726      0.428\n",
      "Speed: 0.6ms preprocess, 35.0ms inference, 0.0ms loss, 0.9ms postprocess per image\n",
      "Results saved to \u001b[1mruns/detect/train32\u001b[0m\n",
      "MAP 50-95 0.4281744695086195\n",
      "MAP 50 0.7261870283715701\n",
      "MAP 75 0.452262836803653\n",
      "MAP each category [    0.42817]\n",
      "Mean Precision 0.8443379314117362\n",
      "Mean Recall 0.6440849342770475\n",
      " [    0.42817]\n"
     ]
    }
   ],
   "source": [
    "# Validate the model — dataset and parameters inferred automatically\n",
    "metrics = modell.val(data=dataset.location+\"/data.yaml\", split='test')\n",
    "\n",
    "# Accessing metrics\n",
    "print(\"MAP 50-95\", metrics.box.map)  # map50-95\n",
    "print(\"MAP 50\", metrics.box.map50)  # map50\n",
    "print(\"MAP 75\",metrics.box.map75)  # map75\n",
    "print(\"MAP each category\",metrics.box.maps)  # a list contains map50-95 of each category\n",
    "print(\"Mean Precision\",metrics.box.mp) \n",
    "print(\"Mean Recall\",metrics.box.mr)\n",
    "print(\"\",metrics.box.ap)"
   ]
  },
  {
   "cell_type": "code",
   "execution_count": null,
   "id": "c3cb7d95",
   "metadata": {
    "papermill": {
     "duration": 2.833738,
     "end_time": "2025-07-25T19:30:49.032998",
     "exception": false,
     "start_time": "2025-07-25T19:30:46.199260",
     "status": "completed"
    },
    "tags": []
   },
   "outputs": [],
   "source": []
  }
 ],
 "metadata": {
  "kaggle": {
   "accelerator": "nvidiaTeslaT4",
   "dataSources": [],
   "dockerImageVersionId": 31090,
   "isGpuEnabled": true,
   "isInternetEnabled": true,
   "language": "python",
   "sourceType": "notebook"
  },
  "kernelspec": {
   "display_name": "Python 3",
   "language": "python",
   "name": "python3"
  },
  "language_info": {
   "codemirror_mode": {
    "name": "ipython",
    "version": 3
   },
   "file_extension": ".py",
   "mimetype": "text/x-python",
   "name": "python",
   "nbconvert_exporter": "python",
   "pygments_lexer": "ipython3",
   "version": "3.11.13"
  },
  "papermill": {
   "default_parameters": {},
   "duration": 16727.428896,
   "end_time": "2025-07-25T19:30:55.003741",
   "environment_variables": {},
   "exception": null,
   "input_path": "__notebook__.ipynb",
   "output_path": "__notebook__.ipynb",
   "parameters": {},
   "start_time": "2025-07-25T14:52:07.574845",
   "version": "2.6.0"
  }
 },
 "nbformat": 4,
 "nbformat_minor": 5
}
